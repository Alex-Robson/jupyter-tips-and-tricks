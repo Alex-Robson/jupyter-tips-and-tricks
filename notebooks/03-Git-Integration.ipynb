{
 "cells": [
  {
   "cell_type": "code",
   "execution_count": 1,
   "metadata": {
    "ExecuteTime": {
     "end_time": "2019-06-06T00:00:19.240522Z",
     "start_time": "2019-06-06T00:00:16.752843Z"
    }
   },
   "outputs": [
    {
     "data": {
      "application/javascript": [
       "\n",
       "    require(['notebook/js/codecell'], function(codecell) {\n",
       "      // https://github.com/jupyter/notebook/issues/2453\n",
       "      codecell.CodeCell.options_default.highlight_modes['magic_text/x-sql'] = {'reg':[/^%read_sql/, /.*=\\s*%read_sql/,\n",
       "                                                                                      /^%%read_sql/]};\n",
       "      Jupyter.notebook.events.one('kernel_ready.Kernel', function(){\n",
       "          console.log('BBBBB');\n",
       "          Jupyter.notebook.get_cells().map(function(cell){\n",
       "              if (cell.cell_type == 'code'){ cell.auto_highlight(); } }) ;\n",
       "      });\n",
       "    });\n",
       "    "
      ]
     },
     "metadata": {},
     "output_type": "display_data"
    }
   ],
   "source": [
    "from __future__ import print_function, division\n",
    "import matplotlib as mpl\n",
    "import matplotlib.pyplot as plt\n",
    "%matplotlib inline\n",
    "\n",
    "import numpy as np\n",
    "import pandas as pd\n",
    "import textwrap\n",
    "import os\n",
    "import sys\n",
    "import warnings\n",
    "warnings.filterwarnings('ignore')\n",
    "\n",
    "# special things\n",
    "from pivottablejs import pivot_ui\n",
    "from ipywidgets import FloatSlider, interactive, IntSlider\n",
    "from scipy import interpolate\n",
    "\n",
    "# sql\n",
    "%load_ext sql_magic\n",
    "import sqlalchemy\n",
    "import sqlite3\n",
    "from sqlalchemy import create_engine\n",
    "sqlite_engine = create_engine('sqlite://')\n",
    "\n",
    "# autoreload\n",
    "%load_ext autoreload\n",
    "%autoreload 1\n",
    "# %aimport module_to_reload\n",
    "\n",
    "# ehh...\n",
    "# import bqplot.pyplot as plt\n",
    "import ipyvolume as ipv\n",
    "import altair as alt\n",
    "from vega_datasets import data\n",
    "\n",
    "import seaborn as sns\n",
    "sns.set_context('poster', font_scale=1.3)"
   ]
  },
  {
   "cell_type": "code",
   "execution_count": 6,
   "metadata": {
    "ExecuteTime": {
     "end_time": "2019-06-06T00:01:29.717678Z",
     "start_time": "2019-06-06T00:01:29.464562Z"
    }
   },
   "outputs": [],
   "source": [
    "import qgrid\n",
    "from sklearn.datasets import load_boston"
   ]
  },
  {
   "cell_type": "markdown",
   "metadata": {},
   "source": [
    "## QGrid\n",
    "\n",
    "Interactive pandas dataframes: https://github.com/quantopian/qgrid"
   ]
  },
  {
   "cell_type": "code",
   "execution_count": 49,
   "metadata": {
    "ExecuteTime": {
     "end_time": "2019-06-06T00:31:54.518875Z",
     "start_time": "2019-06-06T00:31:54.460047Z"
    }
   },
   "outputs": [
    {
     "data": {
      "text/html": [
       "<div>\n",
       "<style scoped>\n",
       "    .dataframe tbody tr th:only-of-type {\n",
       "        vertical-align: middle;\n",
       "    }\n",
       "\n",
       "    .dataframe tbody tr th {\n",
       "        vertical-align: top;\n",
       "    }\n",
       "\n",
       "    .dataframe thead th {\n",
       "        text-align: right;\n",
       "    }\n",
       "</style>\n",
       "<table border=\"1\" class=\"dataframe\">\n",
       "  <thead>\n",
       "    <tr style=\"text-align: right;\">\n",
       "      <th></th>\n",
       "      <th>MSHA_ID</th>\n",
       "      <th>Average_Employees</th>\n",
       "      <th>Company_Type</th>\n",
       "      <th>Labor_Hours</th>\n",
       "      <th>Mine_Basin</th>\n",
       "      <th>Mine_County</th>\n",
       "      <th>Mine_Name</th>\n",
       "      <th>Mine_State</th>\n",
       "      <th>Mine_Status</th>\n",
       "      <th>Mine_Type</th>\n",
       "      <th>Operating_Company</th>\n",
       "      <th>Operating_Company_Address</th>\n",
       "      <th>Operation_Type</th>\n",
       "      <th>Production_short_tons</th>\n",
       "      <th>Union_Code</th>\n",
       "      <th>Year</th>\n",
       "    </tr>\n",
       "  </thead>\n",
       "  <tbody>\n",
       "    <tr>\n",
       "      <th>0</th>\n",
       "      <td>103295</td>\n",
       "      <td>18.0</td>\n",
       "      <td>Independent Producer Operator</td>\n",
       "      <td>39175.0</td>\n",
       "      <td>Appalachia Southern</td>\n",
       "      <td>Bibb</td>\n",
       "      <td>Seymour Mine</td>\n",
       "      <td>Alabama</td>\n",
       "      <td>Active</td>\n",
       "      <td>Surface</td>\n",
       "      <td>Hope Coal Company Inc</td>\n",
       "      <td>P.O. Box 249, Maylene, AL 35114</td>\n",
       "      <td>Mine only</td>\n",
       "      <td>105082.0</td>\n",
       "      <td>NaN</td>\n",
       "      <td>2008</td>\n",
       "    </tr>\n",
       "    <tr>\n",
       "      <th>1</th>\n",
       "      <td>103117</td>\n",
       "      <td>19.0</td>\n",
       "      <td>Operating Subsidiary</td>\n",
       "      <td>29926.0</td>\n",
       "      <td>Appalachia Southern</td>\n",
       "      <td>Cullman</td>\n",
       "      <td>Mine #2, #3, #4</td>\n",
       "      <td>Alabama</td>\n",
       "      <td>Active, men working, not producing</td>\n",
       "      <td>Surface</td>\n",
       "      <td>Twin Pines Coal Company Inc</td>\n",
       "      <td>1874 County Road 15, Bremen, AL 35033</td>\n",
       "      <td>Mine only</td>\n",
       "      <td>10419.0</td>\n",
       "      <td>NaN</td>\n",
       "      <td>2008</td>\n",
       "    </tr>\n",
       "    <tr>\n",
       "      <th>2</th>\n",
       "      <td>103361</td>\n",
       "      <td>20.0</td>\n",
       "      <td>Operating Subsidiary</td>\n",
       "      <td>42542.0</td>\n",
       "      <td>Appalachia Southern</td>\n",
       "      <td>Cullman</td>\n",
       "      <td>Cold Springs West Mine</td>\n",
       "      <td>Alabama</td>\n",
       "      <td>Active</td>\n",
       "      <td>Surface</td>\n",
       "      <td>Twin Pines Coal Company</td>\n",
       "      <td>74 Industrial Parkway, Jasper, AL 35502</td>\n",
       "      <td>Mine only</td>\n",
       "      <td>143208.0</td>\n",
       "      <td>NaN</td>\n",
       "      <td>2008</td>\n",
       "    </tr>\n",
       "    <tr>\n",
       "      <th>3</th>\n",
       "      <td>100759</td>\n",
       "      <td>395.0</td>\n",
       "      <td>Operating Subsidiary</td>\n",
       "      <td>890710.0</td>\n",
       "      <td>Appalachia Southern</td>\n",
       "      <td>Fayette</td>\n",
       "      <td>North River # 1 Underground Mi</td>\n",
       "      <td>Alabama</td>\n",
       "      <td>Active</td>\n",
       "      <td>Underground</td>\n",
       "      <td>Chevron Mining Inc</td>\n",
       "      <td>3114 County Road 63 S, Berry, AL 35546</td>\n",
       "      <td>Mine and Preparation Plant</td>\n",
       "      <td>2923261.0</td>\n",
       "      <td>United Mine Workers of America</td>\n",
       "      <td>2008</td>\n",
       "    </tr>\n",
       "    <tr>\n",
       "      <th>4</th>\n",
       "      <td>103246</td>\n",
       "      <td>22.0</td>\n",
       "      <td>Independent Producer Operator</td>\n",
       "      <td>55403.0</td>\n",
       "      <td>Appalachia Southern</td>\n",
       "      <td>Franklin</td>\n",
       "      <td>Bear Creek</td>\n",
       "      <td>Alabama</td>\n",
       "      <td>Active</td>\n",
       "      <td>Surface</td>\n",
       "      <td>Birmingham Coal &amp; Coke Co., In</td>\n",
       "      <td>912 Edenton Street, Birmingham, AL 35242</td>\n",
       "      <td>Mine only</td>\n",
       "      <td>183137.0</td>\n",
       "      <td>NaN</td>\n",
       "      <td>2008</td>\n",
       "    </tr>\n",
       "  </tbody>\n",
       "</table>\n",
       "</div>"
      ],
      "text/plain": [
       "   MSHA_ID  Average_Employees                   Company_Type  Labor_Hours  \\\n",
       "0   103295               18.0  Independent Producer Operator      39175.0   \n",
       "1   103117               19.0           Operating Subsidiary      29926.0   \n",
       "2   103361               20.0           Operating Subsidiary      42542.0   \n",
       "3   100759              395.0           Operating Subsidiary     890710.0   \n",
       "4   103246               22.0  Independent Producer Operator      55403.0   \n",
       "\n",
       "            Mine_Basin Mine_County                       Mine_Name Mine_State  \\\n",
       "0  Appalachia Southern        Bibb                    Seymour Mine    Alabama   \n",
       "1  Appalachia Southern     Cullman                 Mine #2, #3, #4    Alabama   \n",
       "2  Appalachia Southern     Cullman          Cold Springs West Mine    Alabama   \n",
       "3  Appalachia Southern     Fayette  North River # 1 Underground Mi    Alabama   \n",
       "4  Appalachia Southern    Franklin                      Bear Creek    Alabama   \n",
       "\n",
       "                          Mine_Status    Mine_Type  \\\n",
       "0                              Active      Surface   \n",
       "1  Active, men working, not producing      Surface   \n",
       "2                              Active      Surface   \n",
       "3                              Active  Underground   \n",
       "4                              Active      Surface   \n",
       "\n",
       "                Operating_Company                 Operating_Company_Address  \\\n",
       "0           Hope Coal Company Inc           P.O. Box 249, Maylene, AL 35114   \n",
       "1     Twin Pines Coal Company Inc     1874 County Road 15, Bremen, AL 35033   \n",
       "2         Twin Pines Coal Company   74 Industrial Parkway, Jasper, AL 35502   \n",
       "3              Chevron Mining Inc    3114 County Road 63 S, Berry, AL 35546   \n",
       "4  Birmingham Coal & Coke Co., In  912 Edenton Street, Birmingham, AL 35242   \n",
       "\n",
       "               Operation_Type  Production_short_tons  \\\n",
       "0                   Mine only               105082.0   \n",
       "1                   Mine only                10419.0   \n",
       "2                   Mine only               143208.0   \n",
       "3  Mine and Preparation Plant              2923261.0   \n",
       "4                   Mine only               183137.0   \n",
       "\n",
       "                       Union_Code  Year  \n",
       "0                             NaN  2008  \n",
       "1                             NaN  2008  \n",
       "2                             NaN  2008  \n",
       "3  United Mine Workers of America  2008  \n",
       "4                             NaN  2008  "
      ]
     },
     "execution_count": 49,
     "metadata": {},
     "output_type": "execute_result"
    }
   ],
   "source": [
    "df = pd.read_csv(\"../data/coal_prod_cleaned.csv\")\n",
    "df.head()"
   ]
  },
  {
   "cell_type": "code",
   "execution_count": 54,
   "metadata": {
    "ExecuteTime": {
     "end_time": "2019-06-06T01:57:04.131733Z",
     "start_time": "2019-06-06T01:57:04.113490Z"
    }
   },
   "outputs": [
    {
     "data": {
      "text/plain": [
       "(9042, 16)"
      ]
     },
     "execution_count": 54,
     "metadata": {},
     "output_type": "execute_result"
    }
   ],
   "source": [
    "df.shape"
   ]
  },
  {
   "cell_type": "code",
   "execution_count": 52,
   "metadata": {
    "ExecuteTime": {
     "end_time": "2019-06-06T00:32:43.910777Z",
     "start_time": "2019-06-06T00:32:43.906168Z"
    }
   },
   "outputs": [
    {
     "data": {
      "text/plain": [
       "Index(['MSHA_ID', 'Average_Employees', 'Company_Type', 'Labor_Hours',\n",
       "       'Mine_Basin', 'Mine_County', 'Mine_Name', 'Mine_State', 'Mine_Status',\n",
       "       'Mine_Type', 'Operating_Company', 'Operating_Company_Address',\n",
       "       'Operation_Type', 'Production_short_tons', 'Union_Code', 'Year'],\n",
       "      dtype='object')"
      ]
     },
     "execution_count": 52,
     "metadata": {},
     "output_type": "execute_result"
    }
   ],
   "source": [
    "df.columns"
   ]
  },
  {
   "cell_type": "code",
   "execution_count": 55,
   "metadata": {
    "ExecuteTime": {
     "end_time": "2019-06-06T01:57:36.718282Z",
     "start_time": "2019-06-06T01:57:36.213988Z"
    }
   },
   "outputs": [
    {
     "data": {
      "application/vnd.jupyter.widget-view+json": {
       "model_id": "",
       "version_major": 2,
       "version_minor": 0
      },
      "text/plain": [
       "QgridWidget(grid_options={'fullWidthRows': True, 'syncColumnCellResize': True, 'forceFitColumns': True, 'defau…"
      ]
     },
     "metadata": {},
     "output_type": "display_data"
    }
   ],
   "source": [
    "qgrid_widget = qgrid.show_grid(\n",
    "    df[[\"Year\", \"Mine_State\", \"Labor_Hours\", \"Production_short_tons\"]],\n",
    "    show_toolbar=True,\n",
    ")\n",
    "qgrid_widget"
   ]
  },
  {
   "cell_type": "code",
   "execution_count": 56,
   "metadata": {
    "ExecuteTime": {
     "end_time": "2019-06-06T01:58:50.209432Z",
     "start_time": "2019-06-06T01:58:50.197673Z"
    }
   },
   "outputs": [],
   "source": [
    "df2 = df[df['Mine_State'] != \"Wyoming\"].groupby('Mine_State').sum()"
   ]
  },
  {
   "cell_type": "code",
   "execution_count": 64,
   "metadata": {
    "ExecuteTime": {
     "end_time": "2019-06-06T02:01:08.606299Z",
     "start_time": "2019-06-06T02:01:08.210810Z"
    }
   },
   "outputs": [
    {
     "data": {
      "image/png": "[encoded data removed]",
      "text/plain": [
       "<Figure size 720x576 with 1 Axes>"
      ]
     },
     "metadata": {
      "needs_background": "light"
     },
     "output_type": "display_data"
    }
   ],
   "source": [
    "fig, ax = plt.subplots(figsize=(10, 8))\n",
    "sns.regplot(df3['Labor_Hours'], df3['Production_short_tons'], ax=ax, color=sns.color_palette()[2])\n",
    "ax.set_xlabel(\"Labor Hours Worked\")\n",
    "ax.set_ylabel(\"Total Amount Produced\") \n",
    "x = ax.set_xlim(-9506023.213266129, 204993853.21326613)\n",
    "y = ax.set_ylim(-51476801.43653282, 746280580.4034251)\n",
    "fig.tight_layout()\n",
    "fig.savefig(\"../img/production-vs-hours-worked.png\")"
   ]
  },
  {
   "cell_type": "code",
   "execution_count": 61,
   "metadata": {
    "ExecuteTime": {
     "end_time": "2019-06-06T02:00:35.027633Z",
     "start_time": "2019-06-06T02:00:35.023654Z"
    }
   },
   "outputs": [],
   "source": [
    "# make a change via qgrid\n",
    "df3 = qgrid_widget.get_changed_df()"
   ]
  },
  {
   "cell_type": "markdown",
   "metadata": {},
   "source": [
    "## Github \n",
    "\n",
    "https://github.com/jbwhit/jupyter-tips-and-tricks/commit/d3f2c0cef4dfd28eb3b9077595f14597a3022b1c?short_path=04303fc#diff-04303fce5e9bb38bcee25d12d9def22e"
   ]
  },
  {
   "cell_type": "code",
   "execution_count": null,
   "metadata": {},
   "outputs": [],
   "source": []
  },
  {
   "cell_type": "code",
   "execution_count": 60,
   "metadata": {
    "ExecuteTime": {
     "end_time": "2019-06-06T01:59:34.414609Z",
     "start_time": "2019-06-06T01:59:34.381494Z"
    }
   },
   "outputs": [
    {
     "data": {
      "application/vnd.jupyter.widget-view+json": {
       "model_id": "10d872bdafd84e43ab145e0b63ac59ef",
       "version_major": 2,
       "version_minor": 0
      },
      "text/plain": [
       "QgridWidget(grid_options={'fullWidthRows': True, 'syncColumnCellResize': True, 'forceFitColumns': True, 'defau…"
      ]
     },
     "metadata": {},
     "output_type": "display_data"
    }
   ],
   "source": [
    "qgrid_widget = qgrid.show_grid(\n",
    "    df2[[\"Year\", \"Labor_Hours\", \"Production_short_tons\"]],\n",
    "    show_toolbar=True,\n",
    ")\n",
    "qgrid_widget"
   ]
  },
  {
   "cell_type": "code",
   "execution_count": 66,
   "metadata": {
    "ExecuteTime": {
     "end_time": "2019-06-06T02:24:34.847896Z",
     "start_time": "2019-06-06T02:24:34.844270Z"
    }
   },
   "outputs": [
    {
     "name": "stderr",
     "output_type": "stream",
     "text": [
      "UsageError: Cell magic `%%ipdb` not found.\n"
     ]
    }
   ],
   "source": [
    "%%ipdb"
   ]
  },
  {
   "cell_type": "code",
   "execution_count": null,
   "metadata": {},
   "outputs": [],
   "source": []
  }
 ],
 "metadata": {
  "hide_input": false,
  "kernelspec": {
   "display_name": "dspy3",
   "language": "python",
   "name": "dspy3"
  },
  "language_info": {
   "codemirror_mode": {
    "name": "ipython",
    "version": 3
   },
   "file_extension": ".py",
   "mimetype": "text/x-python",
   "name": "python",
   "nbconvert_exporter": "python",
   "pygments_lexer": "ipython3",
   "version": "3.6.7"
  },
  "toc": {
   "base_numbering": 1,
   "nav_menu": {},
   "number_sections": true,
   "sideBar": true,
   "skip_h1_title": false,
   "title_cell": "Table of Contents",
   "title_sidebar": "Contents",
   "toc_cell": false,
   "toc_position": {},
   "toc_section_display": true,
   "toc_window_display": false
  },
  "varInspector": {
   "cols": {
    "lenName": 16,
    "lenType": 16,
    "lenVar": 40
   },
   "kernels_config": {
    "python": {
     "delete_cmd_postfix": "",
     "delete_cmd_prefix": "del ",
     "library": "var_list.py",
     "varRefreshCmd": "print(var_dic_list())"
    },
    "r": {
     "delete_cmd_postfix": ") ",
     "delete_cmd_prefix": "rm(",
     "library": "var_list.r",
     "varRefreshCmd": "cat(var_dic_list()) "
    }
   },
   "position": {
    "height": "295.4px",
    "left": "722px",
    "right": "20px",
    "top": "144px",
    "width": "350px"
   },
   "types_to_exclude": [
    "module",
    "function",
    "builtin_function_or_method",
    "instance",
    "_Feature"
   ],
   "window_display": false
  }
 },
 "nbformat": 4,
 "nbformat_minor": 2
}
