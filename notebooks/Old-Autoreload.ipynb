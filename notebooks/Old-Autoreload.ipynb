{
 "cells": [
  {
   "cell_type": "markdown",
   "metadata": {},
   "source": [
    "## Autoreload is cool\n",
    "\n",
    "Much more detail here: https://gist.github.com/jbwhit/38c1035c48cdb1714fc8d47fa163bfae"
   ]
  },
  {
   "cell_type": "code",
   "execution_count": 1,
   "metadata": {
    "ExecuteTime": {
     "end_time": "2019-09-12T22:49:45.407091Z",
     "start_time": "2019-09-12T22:49:45.386382Z"
    },
    "execution_event_id": "56534d3b-07dd-4226-8754-4703a7d13604",
    "last_executed_text": "%load_ext autoreload\n%autoreload 1",
    "persistent_id": "ca232011-d385-4599-9fdf-83bea36264c9"
   },
   "outputs": [],
   "source": [
    "%load_ext autoreload\n",
    "%autoreload 1"
   ]
  },
  {
   "cell_type": "code",
   "execution_count": 2,
   "metadata": {
    "ExecuteTime": {
     "end_time": "2019-09-12T22:49:45.764549Z",
     "start_time": "2019-09-12T22:49:45.761735Z"
    },
    "execution_event_id": "cb95f367-2761-4aff-af40-2f7bb34d1f2d",
    "last_executed_text": "import os\nimport sys\nimport time\nsys.path.append(\"..\")",
    "persistent_id": "97f510f3-5ce2-444e-a0c3-f31ee58499a1"
   },
   "outputs": [],
   "source": [
    "import os\n",
    "import sys\n",
    "import time\n",
    "sys.path.append(\"..\")"
   ]
  },
  {
   "cell_type": "code",
   "execution_count": 3,
   "metadata": {
    "ExecuteTime": {
     "end_time": "2019-09-12T22:49:46.303101Z",
     "start_time": "2019-09-12T22:49:46.298833Z"
    },
    "execution_event_id": "890ff1ec-aba5-42ac-bf2f-a7f027602e68",
    "last_executed_text": "directory = \"../scripts/\"\nif not os.path.exists(directory):\n    os.makedirs(directory)",
    "persistent_id": "f32e4a06-c26e-4e85-be48-34913d01c1ca"
   },
   "outputs": [],
   "source": [
    "directory = \"../scripts/\"\n",
    "if not os.path.exists(directory):\n",
    "    os.makedirs(directory)"
   ]
  },
  {
   "cell_type": "code",
   "execution_count": 4,
   "metadata": {
    "ExecuteTime": {
     "end_time": "2019-09-12T22:48:36.779185Z",
     "start_time": "2019-09-12T22:48:36.775427Z"
    }
   },
   "outputs": [],
   "source": [
    "from insight import skeleton"
   ]
  },
  {
   "cell_type": "code",
   "execution_count": 6,
   "metadata": {
    "ExecuteTime": {
     "end_time": "2019-09-12T22:48:46.393523Z",
     "start_time": "2019-09-12T22:48:46.384199Z"
    }
   },
   "outputs": [
    {
     "data": {
      "text/plain": [
       "2"
      ]
     },
     "execution_count": 6,
     "metadata": {},
     "output_type": "execute_result"
    }
   ],
   "source": [
    "skeleton.fib(3)"
   ]
  },
  {
   "cell_type": "code",
   "execution_count": 4,
   "metadata": {
    "ExecuteTime": {
     "end_time": "2019-09-12T22:50:02.800355Z",
     "start_time": "2019-09-12T22:50:02.570234Z"
    },
    "execution_event_id": "289cde8a-3e68-47b7-9a07-dc10f53f4484",
    "last_executed_text": "%aimport scripts.neato",
    "persistent_id": "43525514-de27-4e04-8dcf-b9070c10347b"
   },
   "outputs": [],
   "source": []
  },
  {
   "cell_type": "code",
   "execution_count": 5,
   "metadata": {
    "ExecuteTime": {
     "end_time": "2019-09-12T22:51:02.820599Z",
     "start_time": "2019-09-12T22:51:02.713321Z"
    }
   },
   "outputs": [
    {
     "ename": "TypeError",
     "evalue": "plot_prod_vs_hours() missing 1 required positional argument: 'df'",
     "output_type": "error",
     "traceback": [
      "\u001b[0;31m---------------------------------------------------------------------------\u001b[0m",
      "\u001b[0;31mTypeError\u001b[0m                                 Traceback (most recent call last)",
      "\u001b[0;32m<ipython-input-5-531f83dda6f2>\u001b[0m in \u001b[0;36m<module>\u001b[0;34m\u001b[0m\n\u001b[0;32m----> 1\u001b[0;31m \u001b[0minsight\u001b[0m\u001b[0;34m.\u001b[0m\u001b[0mskeleton\u001b[0m\u001b[0;34m.\u001b[0m\u001b[0mplot_prod_vs_hours\u001b[0m\u001b[0;34m(\u001b[0m\u001b[0;34m)\u001b[0m\u001b[0;34m\u001b[0m\u001b[0;34m\u001b[0m\u001b[0m\n\u001b[0m",
      "\u001b[0;31mTypeError\u001b[0m: plot_prod_vs_hours() missing 1 required positional argument: 'df'"
     ]
    }
   ],
   "source": [
    "insight.skeleton.plot_prod_vs_hours()"
   ]
  },
  {
   "cell_type": "code",
   "execution_count": 5,
   "metadata": {
    "ExecuteTime": {
     "end_time": "2018-09-18T02:19:29.304415Z",
     "start_time": "2018-09-18T02:19:29.097783Z"
    },
    "execution_event_id": "892598d6-b583-4b6c-becf-58094753275e",
    "last_executed_text": "scripts.neato.create_plot()",
    "persistent_id": "640a35d5-5b19-46cc-ad49-d6a49ed66777"
   },
   "outputs": [
    {
     "ename": "AttributeError",
     "evalue": "module 'scripts.neato' has no attribute 'create_plot'",
     "output_type": "error",
     "traceback": [
      "\u001b[0;31m-----------------------------------------------------------------------\u001b[0m",
      "\u001b[0;31mAttributeError\u001b[0m                        Traceback (most recent call last)",
      "\u001b[0;32m<ipython-input-5-68d284b461d8>\u001b[0m in \u001b[0;36m<module>\u001b[0;34m\u001b[0m\n\u001b[0;32m----> 1\u001b[0;31m \u001b[0mscripts\u001b[0m\u001b[0;34m.\u001b[0m\u001b[0mneato\u001b[0m\u001b[0;34m.\u001b[0m\u001b[0mcreate_plot\u001b[0m\u001b[0;34m(\u001b[0m\u001b[0;34m)\u001b[0m\u001b[0;34m\u001b[0m\u001b[0;34m\u001b[0m\u001b[0m\n\u001b[0m",
      "\u001b[0;31mAttributeError\u001b[0m: module 'scripts.neato' has no attribute 'create_plot'"
     ]
    }
   ],
   "source": [
    "scripts.neato.create_plot()"
   ]
  },
  {
   "cell_type": "code",
   "execution_count": null,
   "metadata": {
    "persistent_id": "29563d18-c6d3-4400-883c-340ae27f2357"
   },
   "outputs": [],
   "source": []
  },
  {
   "cell_type": "code",
   "execution_count": null,
   "metadata": {
    "persistent_id": "ab878d21-bd0c-4380-818b-b91d0be671eb"
   },
   "outputs": [],
   "source": []
  },
  {
   "cell_type": "code",
   "execution_count": 6,
   "metadata": {
    "ExecuteTime": {
     "end_time": "2018-02-25T23:34:15.705728Z",
     "start_time": "2018-02-25T23:34:15.699612Z"
    },
    "execution_event_id": "35773686-f76f-43c8-808f-de164b4c1ab0",
    "last_executed_text": "%%writefile ../scripts/neato.py\n\n# a comment\ndef torpedo():\n    print('Initial statement')",
    "persistent_id": "8181a20d-d938-4236-afa9-4c944c5df98f"
   },
   "outputs": [
    {
     "name": "stdout",
     "output_type": "stream",
     "text": [
      "Overwriting ../scripts/neato.py\n"
     ]
    }
   ],
   "source": [
    "%%writefile ../scripts/neato.py\n",
    "\n",
    "# a comment\n",
    "def torpedo():\n",
    "    print('Initial statement')"
   ]
  },
  {
   "cell_type": "markdown",
   "metadata": {},
   "source": [
    "## Quick diversion -- how to see text files"
   ]
  },
  {
   "cell_type": "code",
   "execution_count": 7,
   "metadata": {
    "ExecuteTime": {
     "end_time": "2018-02-25T23:34:18.695970Z",
     "start_time": "2018-02-25T23:34:18.554306Z"
    },
    "execution_event_id": "5cc0c287-4ac2-444d-a5d9-efd62af6a80e",
    "last_executed_text": "!cat ../scripts/neato.py",
    "persistent_id": "6ef60896-a5a8-444a-aa67-4d37f2bc9278"
   },
   "outputs": [
    {
     "name": "stdout",
     "output_type": "stream",
     "text": [
      "\n",
      "# a comment\n",
      "def torpedo():\n",
      "    print('Initial statement')\n"
     ]
    }
   ],
   "source": [
    "!cat ../scripts/neato.py"
   ]
  },
  {
   "cell_type": "code",
   "execution_count": 8,
   "metadata": {
    "ExecuteTime": {
     "end_time": "2018-02-25T23:34:52.431476Z",
     "start_time": "2018-02-25T23:34:52.427335Z"
    },
    "execution_event_id": "a51f11b1-de88-4572-b573-6f44136dc77c",
    "last_executed_text": "%pycat ../scripts/neato.py",
    "persistent_id": "af1af493-86ef-4802-a0ce-0a3528a25469"
   },
   "outputs": [
    {
     "data": {
      "text/plain": [
       "\u001b[0;34m\u001b[0m\n",
       "\u001b[0;34m\u001b[0m\u001b[0;31m# a comment\u001b[0m\u001b[0;34m\u001b[0m\n",
       "\u001b[0;34m\u001b[0m\u001b[0;32mdef\u001b[0m \u001b[0mtorpedo\u001b[0m\u001b[0;34m(\u001b[0m\u001b[0;34m)\u001b[0m\u001b[0;34m:\u001b[0m\u001b[0;34m\u001b[0m\n",
       "\u001b[0;34m\u001b[0m    \u001b[0mprint\u001b[0m\u001b[0;34m(\u001b[0m\u001b[0;34m'Initial statement'\u001b[0m\u001b[0;34m)\u001b[0m\u001b[0;34m\u001b[0m\u001b[0;34m\u001b[0m\u001b[0m\n"
      ]
     },
     "metadata": {},
     "output_type": "display_data"
    }
   ],
   "source": [
    "%pycat ../scripts/neato.py"
   ]
  },
  {
   "cell_type": "code",
   "execution_count": 9,
   "metadata": {
    "ExecuteTime": {
     "end_time": "2018-09-18T00:18:53.800291Z",
     "start_time": "2018-09-18T00:18:53.518758Z"
    },
    "execution_event_id": "2c81fc4b-7e5e-4933-83bf-649233962040",
    "last_executed_text": "!subl ../scripts/neato.py",
    "persistent_id": "788100d9-ce78-4697-a076-de907bdd343b"
   },
   "outputs": [],
   "source": [
    "!subl ../scripts/neato.py"
   ]
  },
  {
   "cell_type": "code",
   "execution_count": null,
   "metadata": {
    "persistent_id": "e38f4aee-1792-439d-b621-be5f023c7b0a"
   },
   "outputs": [],
   "source": []
  },
  {
   "cell_type": "markdown",
   "metadata": {},
   "source": [
    "## Back to autoreload"
   ]
  },
  {
   "cell_type": "code",
   "execution_count": 10,
   "metadata": {
    "ExecuteTime": {
     "end_time": "2018-02-25T23:35:13.825742Z",
     "start_time": "2018-02-25T23:35:13.819854Z"
    },
    "execution_event_id": "5bfd61e6-9c87-4873-913d-1425cf75e0e4",
    "last_executed_text": "%aimport scripts.neato",
    "persistent_id": "711b2ea2-a271-4f12-810b-6a5384c66e07"
   },
   "outputs": [],
   "source": [
    "%aimport scripts.neato"
   ]
  },
  {
   "cell_type": "code",
   "execution_count": 11,
   "metadata": {
    "ExecuteTime": {
     "end_time": "2018-02-25T23:35:24.939059Z",
     "start_time": "2018-02-25T23:35:24.935667Z"
    },
    "execution_event_id": "b5a87ca6-293f-4487-a7d4-0025f6b7d95a",
    "last_executed_text": "scripts.neato.torpedo()",
    "persistent_id": "25a77bc7-d092-4ff0-b7c7-b85ec40ba680"
   },
   "outputs": [
    {
     "name": "stdout",
     "output_type": "stream",
     "text": [
      "Initial statement\n"
     ]
    }
   ],
   "source": [
    "scripts.neato.torpedo()"
   ]
  },
  {
   "cell_type": "code",
   "execution_count": 12,
   "metadata": {
    "ExecuteTime": {
     "end_time": "2018-02-25T23:35:38.966054Z",
     "start_time": "2018-02-25T23:35:38.961332Z"
    },
    "execution_event_id": "1eec7d56-ae7f-4488-9296-e44ea5cf0f61",
    "last_executed_text": "%%writefile ../scripts/neato.py\n\ndef torpedo():\n    print('Live demos are fun!')",
    "persistent_id": "df5170cd-7554-4466-968c-2da22b714a42"
   },
   "outputs": [
    {
     "name": "stdout",
     "output_type": "stream",
     "text": [
      "Overwriting ../scripts/neato.py\n"
     ]
    }
   ],
   "source": [
    "%%writefile ../scripts/neato.py\n",
    "\n",
    "def torpedo():\n",
    "    print('Live demos are fun!')"
   ]
  },
  {
   "cell_type": "code",
   "execution_count": 13,
   "metadata": {
    "ExecuteTime": {
     "end_time": "2018-02-25T23:35:47.141226Z",
     "start_time": "2018-02-25T23:35:47.137730Z"
    },
    "execution_event_id": "bb91e9d2-3b2e-4c6d-b644-093bd90c28da",
    "last_executed_text": "scripts.neato.torpedo()",
    "persistent_id": "d8c54448-9c4f-4e1c-8bde-d41e063235f7"
   },
   "outputs": [
    {
     "name": "stdout",
     "output_type": "stream",
     "text": [
      "Live demos are fun!\n"
     ]
    }
   ],
   "source": [
    "scripts.neato.torpedo()"
   ]
  },
  {
   "cell_type": "code",
   "execution_count": 10,
   "metadata": {
    "execution_event_id": "1871e5a0-c79c-4ef3-b1d5-1ae29e4db015",
    "last_executed_text": "import numpy as np",
    "persistent_id": "ea2d3674-b32a-46a7-9272-5dbfe7711f0e"
   },
   "outputs": [],
   "source": [
    "import numpy as np"
   ]
  },
  {
   "cell_type": "code",
   "execution_count": 11,
   "metadata": {
    "execution_event_id": "8a619812-6a84-4106-a55f-c879cce1414c",
    "last_executed_text": "np.linspace??",
    "persistent_id": "c984dc7b-c61f-4643-ae1f-6b06f64c723f"
   },
   "outputs": [
    {
     "data": {
      "text/plain": [
       "\u001b[0;31mSignature:\u001b[0m\n",
       "\u001b[0mnp\u001b[0m\u001b[0;34m.\u001b[0m\u001b[0mlinspace\u001b[0m\u001b[0;34m(\u001b[0m\u001b[0;34m\u001b[0m\n",
       "\u001b[0;34m\u001b[0m    \u001b[0mstart\u001b[0m\u001b[0;34m,\u001b[0m\u001b[0;34m\u001b[0m\n",
       "\u001b[0;34m\u001b[0m    \u001b[0mstop\u001b[0m\u001b[0;34m,\u001b[0m\u001b[0;34m\u001b[0m\n",
       "\u001b[0;34m\u001b[0m    \u001b[0mnum\u001b[0m\u001b[0;34m=\u001b[0m\u001b[0;36m50\u001b[0m\u001b[0;34m,\u001b[0m\u001b[0;34m\u001b[0m\n",
       "\u001b[0;34m\u001b[0m    \u001b[0mendpoint\u001b[0m\u001b[0;34m=\u001b[0m\u001b[0;32mTrue\u001b[0m\u001b[0;34m,\u001b[0m\u001b[0;34m\u001b[0m\n",
       "\u001b[0;34m\u001b[0m    \u001b[0mretstep\u001b[0m\u001b[0;34m=\u001b[0m\u001b[0;32mFalse\u001b[0m\u001b[0;34m,\u001b[0m\u001b[0;34m\u001b[0m\n",
       "\u001b[0;34m\u001b[0m    \u001b[0mdtype\u001b[0m\u001b[0;34m=\u001b[0m\u001b[0;32mNone\u001b[0m\u001b[0;34m,\u001b[0m\u001b[0;34m\u001b[0m\n",
       "\u001b[0;34m\u001b[0m    \u001b[0maxis\u001b[0m\u001b[0;34m=\u001b[0m\u001b[0;36m0\u001b[0m\u001b[0;34m,\u001b[0m\u001b[0;34m\u001b[0m\n",
       "\u001b[0;34m\u001b[0m\u001b[0;34m)\u001b[0m\u001b[0;34m\u001b[0m\u001b[0;34m\u001b[0m\u001b[0m\n",
       "\u001b[0;31mSource:\u001b[0m   \n",
       "\u001b[0;34m@\u001b[0m\u001b[0marray_function_dispatch\u001b[0m\u001b[0;34m(\u001b[0m\u001b[0m_linspace_dispatcher\u001b[0m\u001b[0;34m)\u001b[0m\u001b[0;34m\u001b[0m\n",
       "\u001b[0;34m\u001b[0m\u001b[0;32mdef\u001b[0m \u001b[0mlinspace\u001b[0m\u001b[0;34m(\u001b[0m\u001b[0mstart\u001b[0m\u001b[0;34m,\u001b[0m \u001b[0mstop\u001b[0m\u001b[0;34m,\u001b[0m \u001b[0mnum\u001b[0m\u001b[0;34m=\u001b[0m\u001b[0;36m50\u001b[0m\u001b[0;34m,\u001b[0m \u001b[0mendpoint\u001b[0m\u001b[0;34m=\u001b[0m\u001b[0;32mTrue\u001b[0m\u001b[0;34m,\u001b[0m \u001b[0mretstep\u001b[0m\u001b[0;34m=\u001b[0m\u001b[0;32mFalse\u001b[0m\u001b[0;34m,\u001b[0m \u001b[0mdtype\u001b[0m\u001b[0;34m=\u001b[0m\u001b[0;32mNone\u001b[0m\u001b[0;34m,\u001b[0m\u001b[0;34m\u001b[0m\n",
       "\u001b[0;34m\u001b[0m             \u001b[0maxis\u001b[0m\u001b[0;34m=\u001b[0m\u001b[0;36m0\u001b[0m\u001b[0;34m)\u001b[0m\u001b[0;34m:\u001b[0m\u001b[0;34m\u001b[0m\n",
       "\u001b[0;34m\u001b[0m    \u001b[0;34m\"\"\"\u001b[0m\n",
       "\u001b[0;34m    Return evenly spaced numbers over a specified interval.\u001b[0m\n",
       "\u001b[0;34m\u001b[0m\n",
       "\u001b[0;34m    Returns `num` evenly spaced samples, calculated over the\u001b[0m\n",
       "\u001b[0;34m    interval [`start`, `stop`].\u001b[0m\n",
       "\u001b[0;34m\u001b[0m\n",
       "\u001b[0;34m    The endpoint of the interval can optionally be excluded.\u001b[0m\n",
       "\u001b[0;34m\u001b[0m\n",
       "\u001b[0;34m    .. versionchanged:: 1.16.0\u001b[0m\n",
       "\u001b[0;34m        Non-scalar `start` and `stop` are now supported.\u001b[0m\n",
       "\u001b[0;34m\u001b[0m\n",
       "\u001b[0;34m    Parameters\u001b[0m\n",
       "\u001b[0;34m    ----------\u001b[0m\n",
       "\u001b[0;34m    start : array_like\u001b[0m\n",
       "\u001b[0;34m        The starting value of the sequence.\u001b[0m\n",
       "\u001b[0;34m    stop : array_like\u001b[0m\n",
       "\u001b[0;34m        The end value of the sequence, unless `endpoint` is set to False.\u001b[0m\n",
       "\u001b[0;34m        In that case, the sequence consists of all but the last of ``num + 1``\u001b[0m\n",
       "\u001b[0;34m        evenly spaced samples, so that `stop` is excluded.  Note that the step\u001b[0m\n",
       "\u001b[0;34m        size changes when `endpoint` is False.\u001b[0m\n",
       "\u001b[0;34m    num : int, optional\u001b[0m\n",
       "\u001b[0;34m        Number of samples to generate. Default is 50. Must be non-negative.\u001b[0m\n",
       "\u001b[0;34m    endpoint : bool, optional\u001b[0m\n",
       "\u001b[0;34m        If True, `stop` is the last sample. Otherwise, it is not included.\u001b[0m\n",
       "\u001b[0;34m        Default is True.\u001b[0m\n",
       "\u001b[0;34m    retstep : bool, optional\u001b[0m\n",
       "\u001b[0;34m        If True, return (`samples`, `step`), where `step` is the spacing\u001b[0m\n",
       "\u001b[0;34m        between samples.\u001b[0m\n",
       "\u001b[0;34m    dtype : dtype, optional\u001b[0m\n",
       "\u001b[0;34m        The type of the output array.  If `dtype` is not given, infer the data\u001b[0m\n",
       "\u001b[0;34m        type from the other input arguments.\u001b[0m\n",
       "\u001b[0;34m\u001b[0m\n",
       "\u001b[0;34m        .. versionadded:: 1.9.0\u001b[0m\n",
       "\u001b[0;34m\u001b[0m\n",
       "\u001b[0;34m    axis : int, optional\u001b[0m\n",
       "\u001b[0;34m        The axis in the result to store the samples.  Relevant only if start\u001b[0m\n",
       "\u001b[0;34m        or stop are array-like.  By default (0), the samples will be along a\u001b[0m\n",
       "\u001b[0;34m        new axis inserted at the beginning. Use -1 to get an axis at the end.\u001b[0m\n",
       "\u001b[0;34m\u001b[0m\n",
       "\u001b[0;34m        .. versionadded:: 1.16.0\u001b[0m\n",
       "\u001b[0;34m\u001b[0m\n",
       "\u001b[0;34m    Returns\u001b[0m\n",
       "\u001b[0;34m    -------\u001b[0m\n",
       "\u001b[0;34m    samples : ndarray\u001b[0m\n",
       "\u001b[0;34m        There are `num` equally spaced samples in the closed interval\u001b[0m\n",
       "\u001b[0;34m        ``[start, stop]`` or the half-open interval ``[start, stop)``\u001b[0m\n",
       "\u001b[0;34m        (depending on whether `endpoint` is True or False).\u001b[0m\n",
       "\u001b[0;34m    step : float, optional\u001b[0m\n",
       "\u001b[0;34m        Only returned if `retstep` is True\u001b[0m\n",
       "\u001b[0;34m\u001b[0m\n",
       "\u001b[0;34m        Size of spacing between samples.\u001b[0m\n",
       "\u001b[0;34m\u001b[0m\n",
       "\u001b[0;34m\u001b[0m\n",
       "\u001b[0;34m    See Also\u001b[0m\n",
       "\u001b[0;34m    --------\u001b[0m\n",
       "\u001b[0;34m    arange : Similar to `linspace`, but uses a step size (instead of the\u001b[0m\n",
       "\u001b[0;34m             number of samples).\u001b[0m\n",
       "\u001b[0;34m    geomspace : Similar to `linspace`, but with numbers spaced evenly on a log\u001b[0m\n",
       "\u001b[0;34m                scale (a geometric progression).\u001b[0m\n",
       "\u001b[0;34m    logspace : Similar to `geomspace`, but with the end points specified as\u001b[0m\n",
       "\u001b[0;34m               logarithms.\u001b[0m\n",
       "\u001b[0;34m\u001b[0m\n",
       "\u001b[0;34m    Examples\u001b[0m\n",
       "\u001b[0;34m    --------\u001b[0m\n",
       "\u001b[0;34m    >>> np.linspace(2.0, 3.0, num=5)\u001b[0m\n",
       "\u001b[0;34m    array([ 2.  ,  2.25,  2.5 ,  2.75,  3.  ])\u001b[0m\n",
       "\u001b[0;34m    >>> np.linspace(2.0, 3.0, num=5, endpoint=False)\u001b[0m\n",
       "\u001b[0;34m    array([ 2. ,  2.2,  2.4,  2.6,  2.8])\u001b[0m\n",
       "\u001b[0;34m    >>> np.linspace(2.0, 3.0, num=5, retstep=True)\u001b[0m\n",
       "\u001b[0;34m    (array([ 2.  ,  2.25,  2.5 ,  2.75,  3.  ]), 0.25)\u001b[0m\n",
       "\u001b[0;34m\u001b[0m\n",
       "\u001b[0;34m    Graphical illustration:\u001b[0m\n",
       "\u001b[0;34m\u001b[0m\n",
       "\u001b[0;34m    >>> import matplotlib.pyplot as plt\u001b[0m\n",
       "\u001b[0;34m    >>> N = 8\u001b[0m\n",
       "\u001b[0;34m    >>> y = np.zeros(N)\u001b[0m\n",
       "\u001b[0;34m    >>> x1 = np.linspace(0, 10, N, endpoint=True)\u001b[0m\n",
       "\u001b[0;34m    >>> x2 = np.linspace(0, 10, N, endpoint=False)\u001b[0m\n",
       "\u001b[0;34m    >>> plt.plot(x1, y, 'o')\u001b[0m\n",
       "\u001b[0;34m    [<matplotlib.lines.Line2D object at 0x...>]\u001b[0m\n",
       "\u001b[0;34m    >>> plt.plot(x2, y + 0.5, 'o')\u001b[0m\n",
       "\u001b[0;34m    [<matplotlib.lines.Line2D object at 0x...>]\u001b[0m\n",
       "\u001b[0;34m    >>> plt.ylim([-0.5, 1])\u001b[0m\n",
       "\u001b[0;34m    (-0.5, 1)\u001b[0m\n",
       "\u001b[0;34m    >>> plt.show()\u001b[0m\n",
       "\u001b[0;34m\u001b[0m\n",
       "\u001b[0;34m    \"\"\"\u001b[0m\u001b[0;34m\u001b[0m\n",
       "\u001b[0;34m\u001b[0m    \u001b[0;31m# 2016-02-25, 1.12\u001b[0m\u001b[0;34m\u001b[0m\n",
       "\u001b[0;34m\u001b[0m    \u001b[0mnum\u001b[0m \u001b[0;34m=\u001b[0m \u001b[0m_index_deprecate\u001b[0m\u001b[0;34m(\u001b[0m\u001b[0mnum\u001b[0m\u001b[0;34m)\u001b[0m\u001b[0;34m\u001b[0m\n",
       "\u001b[0;34m\u001b[0m    \u001b[0;32mif\u001b[0m \u001b[0mnum\u001b[0m \u001b[0;34m<\u001b[0m \u001b[0;36m0\u001b[0m\u001b[0;34m:\u001b[0m\u001b[0;34m\u001b[0m\n",
       "\u001b[0;34m\u001b[0m        \u001b[0;32mraise\u001b[0m \u001b[0mValueError\u001b[0m\u001b[0;34m(\u001b[0m\u001b[0;34m\"Number of samples, %s, must be non-negative.\"\u001b[0m \u001b[0;34m%\u001b[0m \u001b[0mnum\u001b[0m\u001b[0;34m)\u001b[0m\u001b[0;34m\u001b[0m\n",
       "\u001b[0;34m\u001b[0m    \u001b[0mdiv\u001b[0m \u001b[0;34m=\u001b[0m \u001b[0;34m(\u001b[0m\u001b[0mnum\u001b[0m \u001b[0;34m-\u001b[0m \u001b[0;36m1\u001b[0m\u001b[0;34m)\u001b[0m \u001b[0;32mif\u001b[0m \u001b[0mendpoint\u001b[0m \u001b[0;32melse\u001b[0m \u001b[0mnum\u001b[0m\u001b[0;34m\u001b[0m\n",
       "\u001b[0;34m\u001b[0m\u001b[0;34m\u001b[0m\n",
       "\u001b[0;34m\u001b[0m    \u001b[0;31m# Convert float/complex array scalars to float, gh-3504\u001b[0m\u001b[0;34m\u001b[0m\n",
       "\u001b[0;34m\u001b[0m    \u001b[0;31m# and make sure one can use variables that have an __array_interface__, gh-6634\u001b[0m\u001b[0;34m\u001b[0m\n",
       "\u001b[0;34m\u001b[0m    \u001b[0mstart\u001b[0m \u001b[0;34m=\u001b[0m \u001b[0masanyarray\u001b[0m\u001b[0;34m(\u001b[0m\u001b[0mstart\u001b[0m\u001b[0;34m)\u001b[0m \u001b[0;34m*\u001b[0m \u001b[0;36m1.0\u001b[0m\u001b[0;34m\u001b[0m\n",
       "\u001b[0;34m\u001b[0m    \u001b[0mstop\u001b[0m  \u001b[0;34m=\u001b[0m \u001b[0masanyarray\u001b[0m\u001b[0;34m(\u001b[0m\u001b[0mstop\u001b[0m\u001b[0;34m)\u001b[0m  \u001b[0;34m*\u001b[0m \u001b[0;36m1.0\u001b[0m\u001b[0;34m\u001b[0m\n",
       "\u001b[0;34m\u001b[0m\u001b[0;34m\u001b[0m\n",
       "\u001b[0;34m\u001b[0m    \u001b[0mdt\u001b[0m \u001b[0;34m=\u001b[0m \u001b[0mresult_type\u001b[0m\u001b[0;34m(\u001b[0m\u001b[0mstart\u001b[0m\u001b[0;34m,\u001b[0m \u001b[0mstop\u001b[0m\u001b[0;34m,\u001b[0m \u001b[0mfloat\u001b[0m\u001b[0;34m(\u001b[0m\u001b[0mnum\u001b[0m\u001b[0;34m)\u001b[0m\u001b[0;34m)\u001b[0m\u001b[0;34m\u001b[0m\n",
       "\u001b[0;34m\u001b[0m    \u001b[0;32mif\u001b[0m \u001b[0mdtype\u001b[0m \u001b[0;32mis\u001b[0m \u001b[0;32mNone\u001b[0m\u001b[0;34m:\u001b[0m\u001b[0;34m\u001b[0m\n",
       "\u001b[0;34m\u001b[0m        \u001b[0mdtype\u001b[0m \u001b[0;34m=\u001b[0m \u001b[0mdt\u001b[0m\u001b[0;34m\u001b[0m\n",
       "\u001b[0;34m\u001b[0m\u001b[0;34m\u001b[0m\n",
       "\u001b[0;34m\u001b[0m    \u001b[0mdelta\u001b[0m \u001b[0;34m=\u001b[0m \u001b[0mstop\u001b[0m \u001b[0;34m-\u001b[0m \u001b[0mstart\u001b[0m\u001b[0;34m\u001b[0m\n",
       "\u001b[0;34m\u001b[0m    \u001b[0my\u001b[0m \u001b[0;34m=\u001b[0m \u001b[0m_nx\u001b[0m\u001b[0;34m.\u001b[0m\u001b[0marange\u001b[0m\u001b[0;34m(\u001b[0m\u001b[0;36m0\u001b[0m\u001b[0;34m,\u001b[0m \u001b[0mnum\u001b[0m\u001b[0;34m,\u001b[0m \u001b[0mdtype\u001b[0m\u001b[0;34m=\u001b[0m\u001b[0mdt\u001b[0m\u001b[0;34m)\u001b[0m\u001b[0;34m.\u001b[0m\u001b[0mreshape\u001b[0m\u001b[0;34m(\u001b[0m\u001b[0;34m(\u001b[0m\u001b[0;34m-\u001b[0m\u001b[0;36m1\u001b[0m\u001b[0;34m,\u001b[0m\u001b[0;34m)\u001b[0m \u001b[0;34m+\u001b[0m \u001b[0;34m(\u001b[0m\u001b[0;36m1\u001b[0m\u001b[0;34m,\u001b[0m\u001b[0;34m)\u001b[0m \u001b[0;34m*\u001b[0m \u001b[0mndim\u001b[0m\u001b[0;34m(\u001b[0m\u001b[0mdelta\u001b[0m\u001b[0;34m)\u001b[0m\u001b[0;34m)\u001b[0m\u001b[0;34m\u001b[0m\n",
       "\u001b[0;34m\u001b[0m    \u001b[0;31m# In-place multiplication y *= delta/div is faster, but prevents the multiplicant\u001b[0m\u001b[0;34m\u001b[0m\n",
       "\u001b[0;34m\u001b[0m    \u001b[0;31m# from overriding what class is produced, and thus prevents, e.g. use of Quantities,\u001b[0m\u001b[0;34m\u001b[0m\n",
       "\u001b[0;34m\u001b[0m    \u001b[0;31m# see gh-7142. Hence, we multiply in place only for standard scalar types.\u001b[0m\u001b[0;34m\u001b[0m\n",
       "\u001b[0;34m\u001b[0m    \u001b[0m_mult_inplace\u001b[0m \u001b[0;34m=\u001b[0m \u001b[0m_nx\u001b[0m\u001b[0;34m.\u001b[0m\u001b[0misscalar\u001b[0m\u001b[0;34m(\u001b[0m\u001b[0mdelta\u001b[0m\u001b[0;34m)\u001b[0m\u001b[0;34m\u001b[0m\n",
       "\u001b[0;34m\u001b[0m    \u001b[0;32mif\u001b[0m \u001b[0mnum\u001b[0m \u001b[0;34m>\u001b[0m \u001b[0;36m1\u001b[0m\u001b[0;34m:\u001b[0m\u001b[0;34m\u001b[0m\n",
       "\u001b[0;34m\u001b[0m        \u001b[0mstep\u001b[0m \u001b[0;34m=\u001b[0m \u001b[0mdelta\u001b[0m \u001b[0;34m/\u001b[0m \u001b[0mdiv\u001b[0m\u001b[0;34m\u001b[0m\n",
       "\u001b[0;34m\u001b[0m        \u001b[0;32mif\u001b[0m \u001b[0m_nx\u001b[0m\u001b[0;34m.\u001b[0m\u001b[0many\u001b[0m\u001b[0;34m(\u001b[0m\u001b[0mstep\u001b[0m \u001b[0;34m==\u001b[0m \u001b[0;36m0\u001b[0m\u001b[0;34m)\u001b[0m\u001b[0;34m:\u001b[0m\u001b[0;34m\u001b[0m\n",
       "\u001b[0;34m\u001b[0m            \u001b[0;31m# Special handling for denormal numbers, gh-5437\u001b[0m\u001b[0;34m\u001b[0m\n",
       "\u001b[0;34m\u001b[0m            \u001b[0my\u001b[0m \u001b[0;34m/=\u001b[0m \u001b[0mdiv\u001b[0m\u001b[0;34m\u001b[0m\n",
       "\u001b[0;34m\u001b[0m            \u001b[0;32mif\u001b[0m \u001b[0m_mult_inplace\u001b[0m\u001b[0;34m:\u001b[0m\u001b[0;34m\u001b[0m\n",
       "\u001b[0;34m\u001b[0m                \u001b[0my\u001b[0m \u001b[0;34m*=\u001b[0m \u001b[0mdelta\u001b[0m\u001b[0;34m\u001b[0m\n",
       "\u001b[0;34m\u001b[0m            \u001b[0;32melse\u001b[0m\u001b[0;34m:\u001b[0m\u001b[0;34m\u001b[0m\n",
       "\u001b[0;34m\u001b[0m                \u001b[0my\u001b[0m \u001b[0;34m=\u001b[0m \u001b[0my\u001b[0m \u001b[0;34m*\u001b[0m \u001b[0mdelta\u001b[0m\u001b[0;34m\u001b[0m\n",
       "\u001b[0;34m\u001b[0m        \u001b[0;32melse\u001b[0m\u001b[0;34m:\u001b[0m\u001b[0;34m\u001b[0m\n",
       "\u001b[0;34m\u001b[0m            \u001b[0;32mif\u001b[0m \u001b[0m_mult_inplace\u001b[0m\u001b[0;34m:\u001b[0m\u001b[0;34m\u001b[0m\n",
       "\u001b[0;34m\u001b[0m                \u001b[0my\u001b[0m \u001b[0;34m*=\u001b[0m \u001b[0mstep\u001b[0m\u001b[0;34m\u001b[0m\n",
       "\u001b[0;34m\u001b[0m            \u001b[0;32melse\u001b[0m\u001b[0;34m:\u001b[0m\u001b[0;34m\u001b[0m\n",
       "\u001b[0;34m\u001b[0m                \u001b[0my\u001b[0m \u001b[0;34m=\u001b[0m \u001b[0my\u001b[0m \u001b[0;34m*\u001b[0m \u001b[0mstep\u001b[0m\u001b[0;34m\u001b[0m\n",
       "\u001b[0;34m\u001b[0m    \u001b[0;32melse\u001b[0m\u001b[0;34m:\u001b[0m\u001b[0;34m\u001b[0m\n",
       "\u001b[0;34m\u001b[0m        \u001b[0;31m# 0 and 1 item long sequences have an undefined step\u001b[0m\u001b[0;34m\u001b[0m\n",
       "\u001b[0;34m\u001b[0m        \u001b[0mstep\u001b[0m \u001b[0;34m=\u001b[0m \u001b[0mNaN\u001b[0m\u001b[0;34m\u001b[0m\n",
       "\u001b[0;34m\u001b[0m        \u001b[0;31m# Multiply with delta to allow possible override of output class.\u001b[0m\u001b[0;34m\u001b[0m\n",
       "\u001b[0;34m\u001b[0m        \u001b[0my\u001b[0m \u001b[0;34m=\u001b[0m \u001b[0my\u001b[0m \u001b[0;34m*\u001b[0m \u001b[0mdelta\u001b[0m\u001b[0;34m\u001b[0m\n",
       "\u001b[0;34m\u001b[0m\u001b[0;34m\u001b[0m\n",
       "\u001b[0;34m\u001b[0m    \u001b[0my\u001b[0m \u001b[0;34m+=\u001b[0m \u001b[0mstart\u001b[0m\u001b[0;34m\u001b[0m\n",
       "\u001b[0;34m\u001b[0m\u001b[0;34m\u001b[0m\n",
       "\u001b[0;34m\u001b[0m    \u001b[0;32mif\u001b[0m \u001b[0mendpoint\u001b[0m \u001b[0;32mand\u001b[0m \u001b[0mnum\u001b[0m \u001b[0;34m>\u001b[0m \u001b[0;36m1\u001b[0m\u001b[0;34m:\u001b[0m\u001b[0;34m\u001b[0m\n",
       "\u001b[0;34m\u001b[0m        \u001b[0my\u001b[0m\u001b[0;34m[\u001b[0m\u001b[0;34m-\u001b[0m\u001b[0;36m1\u001b[0m\u001b[0;34m]\u001b[0m \u001b[0;34m=\u001b[0m \u001b[0mstop\u001b[0m\u001b[0;34m\u001b[0m\n",
       "\u001b[0;34m\u001b[0m\u001b[0;34m\u001b[0m\n",
       "\u001b[0;34m\u001b[0m    \u001b[0;32mif\u001b[0m \u001b[0maxis\u001b[0m \u001b[0;34m!=\u001b[0m \u001b[0;36m0\u001b[0m\u001b[0;34m:\u001b[0m\u001b[0;34m\u001b[0m\n",
       "\u001b[0;34m\u001b[0m        \u001b[0my\u001b[0m \u001b[0;34m=\u001b[0m \u001b[0m_nx\u001b[0m\u001b[0;34m.\u001b[0m\u001b[0mmoveaxis\u001b[0m\u001b[0;34m(\u001b[0m\u001b[0my\u001b[0m\u001b[0;34m,\u001b[0m \u001b[0;36m0\u001b[0m\u001b[0;34m,\u001b[0m \u001b[0maxis\u001b[0m\u001b[0;34m)\u001b[0m\u001b[0;34m\u001b[0m\n",
       "\u001b[0;34m\u001b[0m\u001b[0;34m\u001b[0m\n",
       "\u001b[0;34m\u001b[0m    \u001b[0;32mif\u001b[0m \u001b[0mretstep\u001b[0m\u001b[0;34m:\u001b[0m\u001b[0;34m\u001b[0m\n",
       "\u001b[0;34m\u001b[0m        \u001b[0;32mreturn\u001b[0m \u001b[0my\u001b[0m\u001b[0;34m.\u001b[0m\u001b[0mastype\u001b[0m\u001b[0;34m(\u001b[0m\u001b[0mdtype\u001b[0m\u001b[0;34m,\u001b[0m \u001b[0mcopy\u001b[0m\u001b[0;34m=\u001b[0m\u001b[0;32mFalse\u001b[0m\u001b[0;34m)\u001b[0m\u001b[0;34m,\u001b[0m \u001b[0mstep\u001b[0m\u001b[0;34m\u001b[0m\n",
       "\u001b[0;34m\u001b[0m    \u001b[0;32melse\u001b[0m\u001b[0;34m:\u001b[0m\u001b[0;34m\u001b[0m\n",
       "\u001b[0;34m\u001b[0m        \u001b[0;32mreturn\u001b[0m \u001b[0my\u001b[0m\u001b[0;34m.\u001b[0m\u001b[0mastype\u001b[0m\u001b[0;34m(\u001b[0m\u001b[0mdtype\u001b[0m\u001b[0;34m,\u001b[0m \u001b[0mcopy\u001b[0m\u001b[0;34m=\u001b[0m\u001b[0;32mFalse\u001b[0m\u001b[0;34m)\u001b[0m\u001b[0;34m\u001b[0m\u001b[0;34m\u001b[0m\u001b[0m\n",
       "\u001b[0;31mFile:\u001b[0m      ~/miniconda3/envs/dspy3/lib/python3.6/site-packages/numpy/core/function_base.py\n",
       "\u001b[0;31mType:\u001b[0m      function\n"
      ]
     },
     "metadata": {},
     "output_type": "display_data"
    }
   ],
   "source": [
    "np.linspace??"
   ]
  },
  {
   "cell_type": "code",
   "execution_count": null,
   "metadata": {
    "persistent_id": "ffa59fe6-3d1e-4145-a77a-408568b1c9ba"
   },
   "outputs": [],
   "source": [
    "np.linspace()"
   ]
  },
  {
   "cell_type": "code",
   "execution_count": 16,
   "metadata": {
    "execution_event_id": "49a394d3-15e1-42d1-915e-f9b99a1ef66d",
    "last_executed_text": "what.asdf\nwhat.asd\nwhat.asdf\nwhat.asdf\n",
    "persistent_id": "61d1c60a-716a-48af-a670-2d6fd3d70dc1"
   },
   "outputs": [
    {
     "ename": "NameError",
     "evalue": "name 'what' is not defined",
     "output_type": "error",
     "traceback": [
      "\u001b[0;31m-----------------------------------------------------------------------\u001b[0m",
      "\u001b[0;31mNameError\u001b[0m                             Traceback (most recent call last)",
      "\u001b[0;32m<ipython-input-16-f5c6fe473be7>\u001b[0m in \u001b[0;36m<module>\u001b[0;34m\u001b[0m\n\u001b[0;32m----> 1\u001b[0;31m \u001b[0mwhat\u001b[0m\u001b[0;34m.\u001b[0m\u001b[0masdf\u001b[0m\u001b[0;34m\u001b[0m\u001b[0;34m\u001b[0m\u001b[0m\n\u001b[0m\u001b[1;32m      2\u001b[0m \u001b[0mwhat\u001b[0m\u001b[0;34m.\u001b[0m\u001b[0masd\u001b[0m\u001b[0;34m\u001b[0m\u001b[0;34m\u001b[0m\u001b[0m\n\u001b[1;32m      3\u001b[0m \u001b[0mwhat\u001b[0m\u001b[0;34m.\u001b[0m\u001b[0masdf\u001b[0m\u001b[0;34m\u001b[0m\u001b[0;34m\u001b[0m\u001b[0m\n\u001b[1;32m      4\u001b[0m \u001b[0mwhat\u001b[0m\u001b[0;34m.\u001b[0m\u001b[0masdf\u001b[0m\u001b[0;34m\u001b[0m\u001b[0;34m\u001b[0m\u001b[0m\n",
      "\u001b[0;31mNameError\u001b[0m: name 'what' is not defined"
     ]
    }
   ],
   "source": [
    "what.asdf\n",
    "what.asd\n",
    "what.asdf\n",
    "what.asdf\n"
   ]
  },
  {
   "cell_type": "code",
   "execution_count": null,
   "metadata": {},
   "outputs": [],
   "source": []
  },
  {
   "cell_type": "code",
   "execution_count": null,
   "metadata": {},
   "outputs": [],
   "source": []
  }
 ],
 "metadata": {
  "hide_input": false,
  "history": [
   {
    "cell": {
     "executionCount": 1,
     "executionEventId": "56534d3b-07dd-4226-8754-4703a7d13604",
     "hasError": false,
     "id": "f274e6e7-0887-4775-9a2c-b7b4153882ca",
     "outputs": [],
     "persistentId": "ca232011-d385-4599-9fdf-83bea36264c9",
     "text": "%load_ext autoreload\n%autoreload 1"
    },
    "executionTime": "2019-09-06T19:05:38.922Z"
   },
   {
    "cell": {
     "executionCount": 2,
     "executionEventId": "cb95f367-2761-4aff-af40-2f7bb34d1f2d",
     "hasError": false,
     "id": "a19af35f-b8ce-466f-b8ea-414f025c7596",
     "outputs": [],
     "persistentId": "97f510f3-5ce2-444e-a0c3-f31ee58499a1",
     "text": "import os\nimport sys\nimport time\nsys.path.append(\"..\")"
    },
    "executionTime": "2019-09-06T19:05:39.287Z"
   },
   {
    "cell": {
     "executionCount": 3,
     "executionEventId": "890ff1ec-aba5-42ac-bf2f-a7f027602e68",
     "hasError": false,
     "id": "8e620d89-8285-4ab2-a9e2-00497b18f887",
     "outputs": [],
     "persistentId": "f32e4a06-c26e-4e85-be48-34913d01c1ca",
     "text": "directory = \"../scripts/\"\nif not os.path.exists(directory):\n    os.makedirs(directory)"
    },
    "executionTime": "2019-09-06T19:05:39.973Z"
   },
   {
    "cell": {
     "executionCount": 4,
     "executionEventId": "289cde8a-3e68-47b7-9a07-dc10f53f4484",
     "hasError": false,
     "id": "41178502-9605-41ac-b027-c78d33b76776",
     "outputs": [],
     "persistentId": "43525514-de27-4e04-8dcf-b9070c10347b",
     "text": "%aimport scripts.neato"
    },
    "executionTime": "2019-09-06T19:05:40.918Z"
   },
   {
    "cell": {
     "executionCount": 5,
     "executionEventId": "892598d6-b583-4b6c-becf-58094753275e",
     "hasError": true,
     "id": "5c9ef7c6-3a92-46b0-ac34-f53ecf3bef8c",
     "outputs": [
      {
       "ename": "AttributeError",
       "evalue": "module 'scripts.neato' has no attribute 'create_plot'",
       "output_type": "error",
       "traceback": [
        "\u001b[0;31m-----------------------------------------------------------------------\u001b[0m",
        "\u001b[0;31mAttributeError\u001b[0m                        Traceback (most recent call last)",
        "\u001b[0;32m<ipython-input-5-68d284b461d8>\u001b[0m in \u001b[0;36m<module>\u001b[0;34m\u001b[0m\n\u001b[0;32m----> 1\u001b[0;31m \u001b[0mscripts\u001b[0m\u001b[0;34m.\u001b[0m\u001b[0mneato\u001b[0m\u001b[0;34m.\u001b[0m\u001b[0mcreate_plot\u001b[0m\u001b[0;34m(\u001b[0m\u001b[0;34m)\u001b[0m\u001b[0;34m\u001b[0m\u001b[0;34m\u001b[0m\u001b[0m\n\u001b[0m",
        "\u001b[0;31mAttributeError\u001b[0m: module 'scripts.neato' has no attribute 'create_plot'"
       ]
      }
     ],
     "persistentId": "640a35d5-5b19-46cc-ad49-d6a49ed66777",
     "text": "scripts.neato.create_plot()"
    },
    "executionTime": "2019-09-06T19:05:42.014Z"
   },
   {
    "cell": {
     "executionCount": 6,
     "executionEventId": "35773686-f76f-43c8-808f-de164b4c1ab0",
     "hasError": false,
     "id": "82c13256-0c79-46c3-a24f-2c62ccb145d2",
     "outputs": [
      {
       "name": "stdout",
       "output_type": "stream",
       "text": "Overwriting ../scripts/neato.py\n"
      }
     ],
     "persistentId": "8181a20d-d938-4236-afa9-4c944c5df98f",
     "text": "%%writefile ../scripts/neato.py\n\n# a comment\ndef torpedo():\n    print('Initial statement')"
    },
    "executionTime": "2019-09-06T19:05:47.178Z"
   },
   {
    "cell": {
     "executionCount": 7,
     "executionEventId": "5cc0c287-4ac2-444d-a5d9-efd62af6a80e",
     "hasError": false,
     "id": "7d7015cc-cd17-4746-ae75-a7d89cfb0e28",
     "outputs": [
      {
       "name": "stdout",
       "output_type": "stream",
       "text": "\n# a comment\ndef torpedo():\n    print('Initial statement')\n"
      }
     ],
     "persistentId": "6ef60896-a5a8-444a-aa67-4d37f2bc9278",
     "text": "!cat ../scripts/neato.py"
    },
    "executionTime": "2019-09-06T19:05:49.154Z"
   },
   {
    "cell": {
     "executionCount": 8,
     "executionEventId": "a51f11b1-de88-4572-b573-6f44136dc77c",
     "hasError": false,
     "id": "621f88cc-f4d0-4610-8add-ba903e7a0a27",
     "outputs": [
      {
       "data": {
        "text/plain": "\u001b[0;34m\u001b[0m\n\u001b[0;34m\u001b[0m\u001b[0;31m# a comment\u001b[0m\u001b[0;34m\u001b[0m\n\u001b[0;34m\u001b[0m\u001b[0;32mdef\u001b[0m \u001b[0mtorpedo\u001b[0m\u001b[0;34m(\u001b[0m\u001b[0;34m)\u001b[0m\u001b[0;34m:\u001b[0m\u001b[0;34m\u001b[0m\n\u001b[0;34m\u001b[0m    \u001b[0mprint\u001b[0m\u001b[0;34m(\u001b[0m\u001b[0;34m'Initial statement'\u001b[0m\u001b[0;34m)\u001b[0m\u001b[0;34m\u001b[0m\u001b[0;34m\u001b[0m\u001b[0m\n"
       },
       "metadata": {},
       "output_type": "display_data"
      }
     ],
     "persistentId": "af1af493-86ef-4802-a0ce-0a3528a25469",
     "text": "%pycat ../scripts/neato.py"
    },
    "executionTime": "2019-09-06T19:05:49.825Z"
   },
   {
    "cell": {
     "executionCount": 9,
     "executionEventId": "2c81fc4b-7e5e-4933-83bf-649233962040",
     "hasError": false,
     "id": "39c400fd-6992-4870-a748-1926a28f3030",
     "outputs": [],
     "persistentId": "788100d9-ce78-4697-a076-de907bdd343b",
     "text": "!subl ../scripts/neato.py"
    },
    "executionTime": "2019-09-06T19:05:50.718Z"
   },
   {
    "cell": {
     "executionCount": 10,
     "executionEventId": "5bfd61e6-9c87-4873-913d-1425cf75e0e4",
     "hasError": false,
     "id": "76e8d902-7578-4947-a3f1-178f23a65e05",
     "outputs": [],
     "persistentId": "711b2ea2-a271-4f12-810b-6a5384c66e07",
     "text": "%aimport scripts.neato"
    },
    "executionTime": "2019-09-06T19:05:54.193Z"
   },
   {
    "cell": {
     "executionCount": 11,
     "executionEventId": "b5a87ca6-293f-4487-a7d4-0025f6b7d95a",
     "hasError": false,
     "id": "1c9ad379-7f72-40c0-99e4-91667170d65f",
     "outputs": [
      {
       "name": "stdout",
       "output_type": "stream",
       "text": "Initial statement\n"
      }
     ],
     "persistentId": "25a77bc7-d092-4ff0-b7c7-b85ec40ba680",
     "text": "scripts.neato.torpedo()"
    },
    "executionTime": "2019-09-06T19:05:54.532Z"
   },
   {
    "cell": {
     "executionCount": 12,
     "executionEventId": "1eec7d56-ae7f-4488-9296-e44ea5cf0f61",
     "hasError": false,
     "id": "1f1b6b8c-6f39-46de-89b8-52023a52450c",
     "outputs": [
      {
       "name": "stdout",
       "output_type": "stream",
       "text": "Overwriting ../scripts/neato.py\n"
      }
     ],
     "persistentId": "df5170cd-7554-4466-968c-2da22b714a42",
     "text": "%%writefile ../scripts/neato.py\n\ndef torpedo():\n    print('Live demos are fun!')"
    },
    "executionTime": "2019-09-06T19:05:55.196Z"
   },
   {
    "cell": {
     "executionCount": 13,
     "executionEventId": "bb91e9d2-3b2e-4c6d-b644-093bd90c28da",
     "hasError": false,
     "id": "7d2c90ba-e9f3-43fd-85b4-4b7e9187528a",
     "outputs": [
      {
       "name": "stdout",
       "output_type": "stream",
       "text": "Live demos are fun!\n"
      }
     ],
     "persistentId": "d8c54448-9c4f-4e1c-8bde-d41e063235f7",
     "text": "scripts.neato.torpedo()"
    },
    "executionTime": "2019-09-06T19:05:55.680Z"
   },
   {
    "cell": {
     "executionCount": 14,
     "executionEventId": "1871e5a0-c79c-4ef3-b1d5-1ae29e4db015",
     "hasError": false,
     "id": "ecf54d32-e724-44fd-8028-691e9829e46a",
     "outputs": [],
     "persistentId": "ea2d3674-b32a-46a7-9272-5dbfe7711f0e",
     "text": "import numpy as np"
    },
    "executionTime": "2019-09-06T19:05:56.158Z"
   },
   {
    "cell": {
     "executionCount": 15,
     "executionEventId": "8a619812-6a84-4106-a55f-c879cce1414c",
     "hasError": false,
     "id": "d7f50779-7d3e-4e12-8f3d-c4a668d05c0f",
     "outputs": [
      {
       "data": {
        "text/plain": "\u001b[0;31mSignature:\u001b[0m\n\u001b[0mnp\u001b[0m\u001b[0;34m.\u001b[0m\u001b[0mlinspace\u001b[0m\u001b[0;34m(\u001b[0m\u001b[0;34m\u001b[0m\n\u001b[0;34m\u001b[0m    \u001b[0mstart\u001b[0m\u001b[0;34m,\u001b[0m\u001b[0;34m\u001b[0m\n\u001b[0;34m\u001b[0m    \u001b[0mstop\u001b[0m\u001b[0;34m,\u001b[0m\u001b[0;34m\u001b[0m\n\u001b[0;34m\u001b[0m    \u001b[0mnum\u001b[0m\u001b[0;34m=\u001b[0m\u001b[0;36m50\u001b[0m\u001b[0;34m,\u001b[0m\u001b[0;34m\u001b[0m\n\u001b[0;34m\u001b[0m    \u001b[0mendpoint\u001b[0m\u001b[0;34m=\u001b[0m\u001b[0;32mTrue\u001b[0m\u001b[0;34m,\u001b[0m\u001b[0;34m\u001b[0m\n\u001b[0;34m\u001b[0m    \u001b[0mretstep\u001b[0m\u001b[0;34m=\u001b[0m\u001b[0;32mFalse\u001b[0m\u001b[0;34m,\u001b[0m\u001b[0;34m\u001b[0m\n\u001b[0;34m\u001b[0m    \u001b[0mdtype\u001b[0m\u001b[0;34m=\u001b[0m\u001b[0;32mNone\u001b[0m\u001b[0;34m,\u001b[0m\u001b[0;34m\u001b[0m\n\u001b[0;34m\u001b[0m    \u001b[0maxis\u001b[0m\u001b[0;34m=\u001b[0m\u001b[0;36m0\u001b[0m\u001b[0;34m,\u001b[0m\u001b[0;34m\u001b[0m\n\u001b[0;34m\u001b[0m\u001b[0;34m)\u001b[0m\u001b[0;34m\u001b[0m\u001b[0;34m\u001b[0m\u001b[0m\n\u001b[0;31mSource:\u001b[0m   \n\u001b[0;34m@\u001b[0m\u001b[0marray_function_dispatch\u001b[0m\u001b[0;34m(\u001b[0m\u001b[0m_linspace_dispatcher\u001b[0m\u001b[0;34m)\u001b[0m\u001b[0;34m\u001b[0m\n\u001b[0;34m\u001b[0m\u001b[0;32mdef\u001b[0m \u001b[0mlinspace\u001b[0m\u001b[0;34m(\u001b[0m\u001b[0mstart\u001b[0m\u001b[0;34m,\u001b[0m \u001b[0mstop\u001b[0m\u001b[0;34m,\u001b[0m \u001b[0mnum\u001b[0m\u001b[0;34m=\u001b[0m\u001b[0;36m50\u001b[0m\u001b[0;34m,\u001b[0m \u001b[0mendpoint\u001b[0m\u001b[0;34m=\u001b[0m\u001b[0;32mTrue\u001b[0m\u001b[0;34m,\u001b[0m \u001b[0mretstep\u001b[0m\u001b[0;34m=\u001b[0m\u001b[0;32mFalse\u001b[0m\u001b[0;34m,\u001b[0m \u001b[0mdtype\u001b[0m\u001b[0;34m=\u001b[0m\u001b[0;32mNone\u001b[0m\u001b[0;34m,\u001b[0m\u001b[0;34m\u001b[0m\n\u001b[0;34m\u001b[0m             \u001b[0maxis\u001b[0m\u001b[0;34m=\u001b[0m\u001b[0;36m0\u001b[0m\u001b[0;34m)\u001b[0m\u001b[0;34m:\u001b[0m\u001b[0;34m\u001b[0m\n\u001b[0;34m\u001b[0m    \u001b[0;34m\"\"\"\u001b[0m\n\u001b[0;34m    Return evenly spaced numbers over a specified interval.\u001b[0m\n\u001b[0;34m\u001b[0m\n\u001b[0;34m    Returns `num` evenly spaced samples, calculated over the\u001b[0m\n\u001b[0;34m    interval [`start`, `stop`].\u001b[0m\n\u001b[0;34m\u001b[0m\n\u001b[0;34m    The endpoint of the interval can optionally be excluded.\u001b[0m\n\u001b[0;34m\u001b[0m\n\u001b[0;34m    .. versionchanged:: 1.16.0\u001b[0m\n\u001b[0;34m        Non-scalar `start` and `stop` are now supported.\u001b[0m\n\u001b[0;34m\u001b[0m\n\u001b[0;34m    Parameters\u001b[0m\n\u001b[0;34m    ----------\u001b[0m\n\u001b[0;34m    start : array_like\u001b[0m\n\u001b[0;34m        The starting value of the sequence.\u001b[0m\n\u001b[0;34m    stop : array_like\u001b[0m\n\u001b[0;34m        The end value of the sequence, unless `endpoint` is set to False.\u001b[0m\n\u001b[0;34m        In that case, the sequence consists of all but the last of ``num + 1``\u001b[0m\n\u001b[0;34m        evenly spaced samples, so that `stop` is excluded.  Note that the step\u001b[0m\n\u001b[0;34m        size changes when `endpoint` is False.\u001b[0m\n\u001b[0;34m    num : int, optional\u001b[0m\n\u001b[0;34m        Number of samples to generate. Default is 50. Must be non-negative.\u001b[0m\n\u001b[0;34m    endpoint : bool, optional\u001b[0m\n\u001b[0;34m        If True, `stop` is the last sample. Otherwise, it is not included.\u001b[0m\n\u001b[0;34m        Default is True.\u001b[0m\n\u001b[0;34m    retstep : bool, optional\u001b[0m\n\u001b[0;34m        If True, return (`samples`, `step`), where `step` is the spacing\u001b[0m\n\u001b[0;34m        between samples.\u001b[0m\n\u001b[0;34m    dtype : dtype, optional\u001b[0m\n\u001b[0;34m        The type of the output array.  If `dtype` is not given, infer the data\u001b[0m\n\u001b[0;34m        type from the other input arguments.\u001b[0m\n\u001b[0;34m\u001b[0m\n\u001b[0;34m        .. versionadded:: 1.9.0\u001b[0m\n\u001b[0;34m\u001b[0m\n\u001b[0;34m    axis : int, optional\u001b[0m\n\u001b[0;34m        The axis in the result to store the samples.  Relevant only if start\u001b[0m\n\u001b[0;34m        or stop are array-like.  By default (0), the samples will be along a\u001b[0m\n\u001b[0;34m        new axis inserted at the beginning. Use -1 to get an axis at the end.\u001b[0m\n\u001b[0;34m\u001b[0m\n\u001b[0;34m        .. versionadded:: 1.16.0\u001b[0m\n\u001b[0;34m\u001b[0m\n\u001b[0;34m    Returns\u001b[0m\n\u001b[0;34m    -------\u001b[0m\n\u001b[0;34m    samples : ndarray\u001b[0m\n\u001b[0;34m        There are `num` equally spaced samples in the closed interval\u001b[0m\n\u001b[0;34m        ``[start, stop]`` or the half-open interval ``[start, stop)``\u001b[0m\n\u001b[0;34m        (depending on whether `endpoint` is True or False).\u001b[0m\n\u001b[0;34m    step : float, optional\u001b[0m\n\u001b[0;34m        Only returned if `retstep` is True\u001b[0m\n\u001b[0;34m\u001b[0m\n\u001b[0;34m        Size of spacing between samples.\u001b[0m\n\u001b[0;34m\u001b[0m\n\u001b[0;34m\u001b[0m\n\u001b[0;34m    See Also\u001b[0m\n\u001b[0;34m    --------\u001b[0m\n\u001b[0;34m    arange : Similar to `linspace`, but uses a step size (instead of the\u001b[0m\n\u001b[0;34m             number of samples).\u001b[0m\n\u001b[0;34m    geomspace : Similar to `linspace`, but with numbers spaced evenly on a log\u001b[0m\n\u001b[0;34m                scale (a geometric progression).\u001b[0m\n\u001b[0;34m    logspace : Similar to `geomspace`, but with the end points specified as\u001b[0m\n\u001b[0;34m               logarithms.\u001b[0m\n\u001b[0;34m\u001b[0m\n\u001b[0;34m    Examples\u001b[0m\n\u001b[0;34m    --------\u001b[0m\n\u001b[0;34m    >>> np.linspace(2.0, 3.0, num=5)\u001b[0m\n\u001b[0;34m    array([ 2.  ,  2.25,  2.5 ,  2.75,  3.  ])\u001b[0m\n\u001b[0;34m    >>> np.linspace(2.0, 3.0, num=5, endpoint=False)\u001b[0m\n\u001b[0;34m    array([ 2. ,  2.2,  2.4,  2.6,  2.8])\u001b[0m\n\u001b[0;34m    >>> np.linspace(2.0, 3.0, num=5, retstep=True)\u001b[0m\n\u001b[0;34m    (array([ 2.  ,  2.25,  2.5 ,  2.75,  3.  ]), 0.25)\u001b[0m\n\u001b[0;34m\u001b[0m\n\u001b[0;34m    Graphical illustration:\u001b[0m\n\u001b[0;34m\u001b[0m\n\u001b[0;34m    >>> import matplotlib.pyplot as plt\u001b[0m\n\u001b[0;34m    >>> N = 8\u001b[0m\n\u001b[0;34m    >>> y = np.zeros(N)\u001b[0m\n\u001b[0;34m    >>> x1 = np.linspace(0, 10, N, endpoint=True)\u001b[0m\n\u001b[0;34m    >>> x2 = np.linspace(0, 10, N, endpoint=False)\u001b[0m\n\u001b[0;34m    >>> plt.plot(x1, y, 'o')\u001b[0m\n\u001b[0;34m    [<matplotlib.lines.Line2D object at 0x...>]\u001b[0m\n\u001b[0;34m    >>> plt.plot(x2, y + 0.5, 'o')\u001b[0m\n\u001b[0;34m    [<matplotlib.lines.Line2D object at 0x...>]\u001b[0m\n\u001b[0;34m    >>> plt.ylim([-0.5, 1])\u001b[0m\n\u001b[0;34m    (-0.5, 1)\u001b[0m\n\u001b[0;34m    >>> plt.show()\u001b[0m\n\u001b[0;34m\u001b[0m\n\u001b[0;34m    \"\"\"\u001b[0m\u001b[0;34m\u001b[0m\n\u001b[0;34m\u001b[0m    \u001b[0;31m# 2016-02-25, 1.12\u001b[0m\u001b[0;34m\u001b[0m\n\u001b[0;34m\u001b[0m    \u001b[0mnum\u001b[0m \u001b[0;34m=\u001b[0m \u001b[0m_index_deprecate\u001b[0m\u001b[0;34m(\u001b[0m\u001b[0mnum\u001b[0m\u001b[0;34m)\u001b[0m\u001b[0;34m\u001b[0m\n\u001b[0;34m\u001b[0m    \u001b[0;32mif\u001b[0m \u001b[0mnum\u001b[0m \u001b[0;34m<\u001b[0m \u001b[0;36m0\u001b[0m\u001b[0;34m:\u001b[0m\u001b[0;34m\u001b[0m\n\u001b[0;34m\u001b[0m        \u001b[0;32mraise\u001b[0m \u001b[0mValueError\u001b[0m\u001b[0;34m(\u001b[0m\u001b[0;34m\"Number of samples, %s, must be non-negative.\"\u001b[0m \u001b[0;34m%\u001b[0m \u001b[0mnum\u001b[0m\u001b[0;34m)\u001b[0m\u001b[0;34m\u001b[0m\n\u001b[0;34m\u001b[0m    \u001b[0mdiv\u001b[0m \u001b[0;34m=\u001b[0m \u001b[0;34m(\u001b[0m\u001b[0mnum\u001b[0m \u001b[0;34m-\u001b[0m \u001b[0;36m1\u001b[0m\u001b[0;34m)\u001b[0m \u001b[0;32mif\u001b[0m \u001b[0mendpoint\u001b[0m \u001b[0;32melse\u001b[0m \u001b[0mnum\u001b[0m\u001b[0;34m\u001b[0m\n\u001b[0;34m\u001b[0m\u001b[0;34m\u001b[0m\n\u001b[0;34m\u001b[0m    \u001b[0;31m# Convert float/complex array scalars to float, gh-3504\u001b[0m\u001b[0;34m\u001b[0m\n\u001b[0;34m\u001b[0m    \u001b[0;31m# and make sure one can use variables that have an __array_interface__, gh-6634\u001b[0m\u001b[0;34m\u001b[0m\n\u001b[0;34m\u001b[0m    \u001b[0mstart\u001b[0m \u001b[0;34m=\u001b[0m \u001b[0masanyarray\u001b[0m\u001b[0;34m(\u001b[0m\u001b[0mstart\u001b[0m\u001b[0;34m)\u001b[0m \u001b[0;34m*\u001b[0m \u001b[0;36m1.0\u001b[0m\u001b[0;34m\u001b[0m\n\u001b[0;34m\u001b[0m    \u001b[0mstop\u001b[0m  \u001b[0;34m=\u001b[0m \u001b[0masanyarray\u001b[0m\u001b[0;34m(\u001b[0m\u001b[0mstop\u001b[0m\u001b[0;34m)\u001b[0m  \u001b[0;34m*\u001b[0m \u001b[0;36m1.0\u001b[0m\u001b[0;34m\u001b[0m\n\u001b[0;34m\u001b[0m\u001b[0;34m\u001b[0m\n\u001b[0;34m\u001b[0m    \u001b[0mdt\u001b[0m \u001b[0;34m=\u001b[0m \u001b[0mresult_type\u001b[0m\u001b[0;34m(\u001b[0m\u001b[0mstart\u001b[0m\u001b[0;34m,\u001b[0m \u001b[0mstop\u001b[0m\u001b[0;34m,\u001b[0m \u001b[0mfloat\u001b[0m\u001b[0;34m(\u001b[0m\u001b[0mnum\u001b[0m\u001b[0;34m)\u001b[0m\u001b[0;34m)\u001b[0m\u001b[0;34m\u001b[0m\n\u001b[0;34m\u001b[0m    \u001b[0;32mif\u001b[0m \u001b[0mdtype\u001b[0m \u001b[0;32mis\u001b[0m \u001b[0;32mNone\u001b[0m\u001b[0;34m:\u001b[0m\u001b[0;34m\u001b[0m\n\u001b[0;34m\u001b[0m        \u001b[0mdtype\u001b[0m \u001b[0;34m=\u001b[0m \u001b[0mdt\u001b[0m\u001b[0;34m\u001b[0m\n\u001b[0;34m\u001b[0m\u001b[0;34m\u001b[0m\n\u001b[0;34m\u001b[0m    \u001b[0mdelta\u001b[0m \u001b[0;34m=\u001b[0m \u001b[0mstop\u001b[0m \u001b[0;34m-\u001b[0m \u001b[0mstart\u001b[0m\u001b[0;34m\u001b[0m\n\u001b[0;34m\u001b[0m    \u001b[0my\u001b[0m \u001b[0;34m=\u001b[0m \u001b[0m_nx\u001b[0m\u001b[0;34m.\u001b[0m\u001b[0marange\u001b[0m\u001b[0;34m(\u001b[0m\u001b[0;36m0\u001b[0m\u001b[0;34m,\u001b[0m \u001b[0mnum\u001b[0m\u001b[0;34m,\u001b[0m \u001b[0mdtype\u001b[0m\u001b[0;34m=\u001b[0m\u001b[0mdt\u001b[0m\u001b[0;34m)\u001b[0m\u001b[0;34m.\u001b[0m\u001b[0mreshape\u001b[0m\u001b[0;34m(\u001b[0m\u001b[0;34m(\u001b[0m\u001b[0;34m-\u001b[0m\u001b[0;36m1\u001b[0m\u001b[0;34m,\u001b[0m\u001b[0;34m)\u001b[0m \u001b[0;34m+\u001b[0m \u001b[0;34m(\u001b[0m\u001b[0;36m1\u001b[0m\u001b[0;34m,\u001b[0m\u001b[0;34m)\u001b[0m \u001b[0;34m*\u001b[0m \u001b[0mndim\u001b[0m\u001b[0;34m(\u001b[0m\u001b[0mdelta\u001b[0m\u001b[0;34m)\u001b[0m\u001b[0;34m)\u001b[0m\u001b[0;34m\u001b[0m\n\u001b[0;34m\u001b[0m    \u001b[0;31m# In-place multiplication y *= delta/div is faster, but prevents the multiplicant\u001b[0m\u001b[0;34m\u001b[0m\n\u001b[0;34m\u001b[0m    \u001b[0;31m# from overriding what class is produced, and thus prevents, e.g. use of Quantities,\u001b[0m\u001b[0;34m\u001b[0m\n\u001b[0;34m\u001b[0m    \u001b[0;31m# see gh-7142. Hence, we multiply in place only for standard scalar types.\u001b[0m\u001b[0;34m\u001b[0m\n\u001b[0;34m\u001b[0m    \u001b[0m_mult_inplace\u001b[0m \u001b[0;34m=\u001b[0m \u001b[0m_nx\u001b[0m\u001b[0;34m.\u001b[0m\u001b[0misscalar\u001b[0m\u001b[0;34m(\u001b[0m\u001b[0mdelta\u001b[0m\u001b[0;34m)\u001b[0m\u001b[0;34m\u001b[0m\n\u001b[0;34m\u001b[0m    \u001b[0;32mif\u001b[0m \u001b[0mnum\u001b[0m \u001b[0;34m>\u001b[0m \u001b[0;36m1\u001b[0m\u001b[0;34m:\u001b[0m\u001b[0;34m\u001b[0m\n\u001b[0;34m\u001b[0m        \u001b[0mstep\u001b[0m \u001b[0;34m=\u001b[0m \u001b[0mdelta\u001b[0m \u001b[0;34m/\u001b[0m \u001b[0mdiv\u001b[0m\u001b[0;34m\u001b[0m\n\u001b[0;34m\u001b[0m        \u001b[0;32mif\u001b[0m \u001b[0m_nx\u001b[0m\u001b[0;34m.\u001b[0m\u001b[0many\u001b[0m\u001b[0;34m(\u001b[0m\u001b[0mstep\u001b[0m \u001b[0;34m==\u001b[0m \u001b[0;36m0\u001b[0m\u001b[0;34m)\u001b[0m\u001b[0;34m:\u001b[0m\u001b[0;34m\u001b[0m\n\u001b[0;34m\u001b[0m            \u001b[0;31m# Special handling for denormal numbers, gh-5437\u001b[0m\u001b[0;34m\u001b[0m\n\u001b[0;34m\u001b[0m            \u001b[0my\u001b[0m \u001b[0;34m/=\u001b[0m \u001b[0mdiv\u001b[0m\u001b[0;34m\u001b[0m\n\u001b[0;34m\u001b[0m            \u001b[0;32mif\u001b[0m \u001b[0m_mult_inplace\u001b[0m\u001b[0;34m:\u001b[0m\u001b[0;34m\u001b[0m\n\u001b[0;34m\u001b[0m                \u001b[0my\u001b[0m \u001b[0;34m*=\u001b[0m \u001b[0mdelta\u001b[0m\u001b[0;34m\u001b[0m\n\u001b[0;34m\u001b[0m            \u001b[0;32melse\u001b[0m\u001b[0;34m:\u001b[0m\u001b[0;34m\u001b[0m\n\u001b[0;34m\u001b[0m                \u001b[0my\u001b[0m \u001b[0;34m=\u001b[0m \u001b[0my\u001b[0m \u001b[0;34m*\u001b[0m \u001b[0mdelta\u001b[0m\u001b[0;34m\u001b[0m\n\u001b[0;34m\u001b[0m        \u001b[0;32melse\u001b[0m\u001b[0;34m:\u001b[0m\u001b[0;34m\u001b[0m\n\u001b[0;34m\u001b[0m            \u001b[0;32mif\u001b[0m \u001b[0m_mult_inplace\u001b[0m\u001b[0;34m:\u001b[0m\u001b[0;34m\u001b[0m\n\u001b[0;34m\u001b[0m                \u001b[0my\u001b[0m \u001b[0;34m*=\u001b[0m \u001b[0mstep\u001b[0m\u001b[0;34m\u001b[0m\n\u001b[0;34m\u001b[0m            \u001b[0;32melse\u001b[0m\u001b[0;34m:\u001b[0m\u001b[0;34m\u001b[0m\n\u001b[0;34m\u001b[0m                \u001b[0my\u001b[0m \u001b[0;34m=\u001b[0m \u001b[0my\u001b[0m \u001b[0;34m*\u001b[0m \u001b[0mstep\u001b[0m\u001b[0;34m\u001b[0m\n\u001b[0;34m\u001b[0m    \u001b[0;32melse\u001b[0m\u001b[0;34m:\u001b[0m\u001b[0;34m\u001b[0m\n\u001b[0;34m\u001b[0m        \u001b[0;31m# 0 and 1 item long sequences have an undefined step\u001b[0m\u001b[0;34m\u001b[0m\n\u001b[0;34m\u001b[0m        \u001b[0mstep\u001b[0m \u001b[0;34m=\u001b[0m \u001b[0mNaN\u001b[0m\u001b[0;34m\u001b[0m\n\u001b[0;34m\u001b[0m        \u001b[0;31m# Multiply with delta to allow possible override of output class.\u001b[0m\u001b[0;34m\u001b[0m\n\u001b[0;34m\u001b[0m        \u001b[0my\u001b[0m \u001b[0;34m=\u001b[0m \u001b[0my\u001b[0m \u001b[0;34m*\u001b[0m \u001b[0mdelta\u001b[0m\u001b[0;34m\u001b[0m\n\u001b[0;34m\u001b[0m\u001b[0;34m\u001b[0m\n\u001b[0;34m\u001b[0m    \u001b[0my\u001b[0m \u001b[0;34m+=\u001b[0m \u001b[0mstart\u001b[0m\u001b[0;34m\u001b[0m\n\u001b[0;34m\u001b[0m\u001b[0;34m\u001b[0m\n\u001b[0;34m\u001b[0m    \u001b[0;32mif\u001b[0m \u001b[0mendpoint\u001b[0m \u001b[0;32mand\u001b[0m \u001b[0mnum\u001b[0m \u001b[0;34m>\u001b[0m \u001b[0;36m1\u001b[0m\u001b[0;34m:\u001b[0m\u001b[0;34m\u001b[0m\n\u001b[0;34m\u001b[0m        \u001b[0my\u001b[0m\u001b[0;34m[\u001b[0m\u001b[0;34m-\u001b[0m\u001b[0;36m1\u001b[0m\u001b[0;34m]\u001b[0m \u001b[0;34m=\u001b[0m \u001b[0mstop\u001b[0m\u001b[0;34m\u001b[0m\n\u001b[0;34m\u001b[0m\u001b[0;34m\u001b[0m\n\u001b[0;34m\u001b[0m    \u001b[0;32mif\u001b[0m \u001b[0maxis\u001b[0m \u001b[0;34m!=\u001b[0m \u001b[0;36m0\u001b[0m\u001b[0;34m:\u001b[0m\u001b[0;34m\u001b[0m\n\u001b[0;34m\u001b[0m        \u001b[0my\u001b[0m \u001b[0;34m=\u001b[0m \u001b[0m_nx\u001b[0m\u001b[0;34m.\u001b[0m\u001b[0mmoveaxis\u001b[0m\u001b[0;34m(\u001b[0m\u001b[0my\u001b[0m\u001b[0;34m,\u001b[0m \u001b[0;36m0\u001b[0m\u001b[0;34m,\u001b[0m \u001b[0maxis\u001b[0m\u001b[0;34m)\u001b[0m\u001b[0;34m\u001b[0m\n\u001b[0;34m\u001b[0m\u001b[0;34m\u001b[0m\n\u001b[0;34m\u001b[0m    \u001b[0;32mif\u001b[0m \u001b[0mretstep\u001b[0m\u001b[0;34m:\u001b[0m\u001b[0;34m\u001b[0m\n\u001b[0;34m\u001b[0m        \u001b[0;32mreturn\u001b[0m \u001b[0my\u001b[0m\u001b[0;34m.\u001b[0m\u001b[0mastype\u001b[0m\u001b[0;34m(\u001b[0m\u001b[0mdtype\u001b[0m\u001b[0;34m,\u001b[0m \u001b[0mcopy\u001b[0m\u001b[0;34m=\u001b[0m\u001b[0;32mFalse\u001b[0m\u001b[0;34m)\u001b[0m\u001b[0;34m,\u001b[0m \u001b[0mstep\u001b[0m\u001b[0;34m\u001b[0m\n\u001b[0;34m\u001b[0m    \u001b[0;32melse\u001b[0m\u001b[0;34m:\u001b[0m\u001b[0;34m\u001b[0m\n\u001b[0;34m\u001b[0m        \u001b[0;32mreturn\u001b[0m \u001b[0my\u001b[0m\u001b[0;34m.\u001b[0m\u001b[0mastype\u001b[0m\u001b[0;34m(\u001b[0m\u001b[0mdtype\u001b[0m\u001b[0;34m,\u001b[0m \u001b[0mcopy\u001b[0m\u001b[0;34m=\u001b[0m\u001b[0;32mFalse\u001b[0m\u001b[0;34m)\u001b[0m\u001b[0;34m\u001b[0m\u001b[0;34m\u001b[0m\u001b[0m\n\u001b[0;31mFile:\u001b[0m      ~/miniconda3/envs/dspy3/lib/python3.6/site-packages/numpy/core/function_base.py\n\u001b[0;31mType:\u001b[0m      function\n"
       },
       "metadata": {},
       "output_type": "display_data"
      }
     ],
     "persistentId": "c984dc7b-c61f-4643-ae1f-6b06f64c723f",
     "text": "np.linspace??"
    },
    "executionTime": "2019-09-06T19:05:56.794Z"
   },
   {
    "cell": {
     "executionCount": 16,
     "executionEventId": "49a394d3-15e1-42d1-915e-f9b99a1ef66d",
     "hasError": true,
     "id": "9b5d9930-5ab6-4be9-83d5-9c05a3c7dd8f",
     "outputs": [
      {
       "ename": "NameError",
       "evalue": "name 'what' is not defined",
       "output_type": "error",
       "traceback": [
        "\u001b[0;31m-----------------------------------------------------------------------\u001b[0m",
        "\u001b[0;31mNameError\u001b[0m                             Traceback (most recent call last)",
        "\u001b[0;32m<ipython-input-16-f5c6fe473be7>\u001b[0m in \u001b[0;36m<module>\u001b[0;34m\u001b[0m\n\u001b[0;32m----> 1\u001b[0;31m \u001b[0mwhat\u001b[0m\u001b[0;34m.\u001b[0m\u001b[0masdf\u001b[0m\u001b[0;34m\u001b[0m\u001b[0;34m\u001b[0m\u001b[0m\n\u001b[0m\u001b[1;32m      2\u001b[0m \u001b[0mwhat\u001b[0m\u001b[0;34m.\u001b[0m\u001b[0masd\u001b[0m\u001b[0;34m\u001b[0m\u001b[0;34m\u001b[0m\u001b[0m\n\u001b[1;32m      3\u001b[0m \u001b[0mwhat\u001b[0m\u001b[0;34m.\u001b[0m\u001b[0masdf\u001b[0m\u001b[0;34m\u001b[0m\u001b[0;34m\u001b[0m\u001b[0m\n\u001b[1;32m      4\u001b[0m \u001b[0mwhat\u001b[0m\u001b[0;34m.\u001b[0m\u001b[0masdf\u001b[0m\u001b[0;34m\u001b[0m\u001b[0;34m\u001b[0m\u001b[0m\n",
        "\u001b[0;31mNameError\u001b[0m: name 'what' is not defined"
       ]
      }
     ],
     "persistentId": "61d1c60a-716a-48af-a670-2d6fd3d70dc1",
     "text": "what.asdf\nwhat.asd\nwhat.asdf\nwhat.asdf\n"
    },
    "executionTime": "2019-09-06T19:06:01.121Z"
   }
  ],
  "kernelspec": {
   "display_name": "dspy3",
   "language": "python",
   "name": "dspy3"
  },
  "language_info": {
   "codemirror_mode": {
    "name": "ipython",
    "version": 3
   },
   "file_extension": ".py",
   "mimetype": "text/x-python",
   "name": "python",
   "nbconvert_exporter": "python",
   "pygments_lexer": "ipython3",
   "version": "3.6.7"
  },
  "toc": {
   "base_numbering": 1,
   "nav_menu": {},
   "number_sections": true,
   "sideBar": true,
   "skip_h1_title": false,
   "title_cell": "Table of Contents",
   "title_sidebar": "Contents",
   "toc_cell": false,
   "toc_position": {},
   "toc_section_display": true,
   "toc_window_display": false
  },
  "uuid": "2ab47da0-0ad6-4f9e-8fb7-7b66db35d1a2",
  "varInspector": {
   "cols": {
    "lenName": 16,
    "lenType": 16,
    "lenVar": 40
   },
   "kernels_config": {
    "python": {
     "delete_cmd_postfix": "",
     "delete_cmd_prefix": "del ",
     "library": "var_list.py",
     "varRefreshCmd": "print(var_dic_list())"
    },
    "r": {
     "delete_cmd_postfix": ") ",
     "delete_cmd_prefix": "rm(",
     "library": "var_list.r",
     "varRefreshCmd": "cat(var_dic_list()) "
    }
   },
   "types_to_exclude": [
    "module",
    "function",
    "builtin_function_or_method",
    "instance",
    "_Feature"
   ],
   "window_display": false
  }
 },
 "nbformat": 4,
 "nbformat_minor": 4
}
