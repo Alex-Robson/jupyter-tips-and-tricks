# Add this to python2 code to make life easier -- safe to use in python3 as well.
from __future__ import absolute_import, division, print_function
import numpy as np

# don't do:
# from numpy import *
max("a")
np.max("a")
%matplotlib inline
%config InlineBackend.figure_format='retina'

import pandas as pd
import matplotlib.pyplot as plt
import seaborn as sns
import os
from pivottablejs import pivot_ui
import sys
import warnings

warnings.filterwarnings("ignore")
first = 1

second = 2

third = 3
# df = pd.read_csv("../data/mps.csv", encoding="ISO-8859-1")
# canadian_politics = pd.read_csv("../data/montreal_2014.csv",)
canadian_politics = pd.read_csv("../data/mps2.csv")
# recommend using .head()
canadian_politics.head(10)
sns.distplot(canadian_politics["Age"].dropna());
sns.set_context("poster", font_scale=1.3)
fig, ax = plt.subplots(figsize=(12, 8))
sns.distplot(canadian_politics["Age"].dropna())
fig.tight_layout()
sns.distplot(canadian_politics["Age"].dropna())
sns.distplot(canadian_politics["Age"].dropna());
# Province, Party, Average, Age, Heatmap
pivot_ui(canadian_politics)
import numpy as np
from numpy.random import chisquare
np.linspace?
np.linspace??
np.linspace??
!subl ~/miniconda3/envs/dspy3/lib/python3.6/site-packages/numpy/core/function_base.py
import textwrap
def example_function():
    """Docstring for example function"""
    
    print(textwrap.dedent("""
    This is a multi-lined string
    that I want to write inside of a function.
    Notice what happens when I print this.
        And when something is indented more."""))


example_function()
# But first find and replace
def silly_function(xval):
    """Takes a value and returns the value."""
    xval_sq = xval ** 2.0
    1 + 12
    xval_abs = np.sqrt(xval_sq)
    return xval_abs
silly_function(-2,)
silly_function?
silly_function??
# But first find and replace
def silly_function(xval):
    """Takes a value and returns the value."""
    xval_sq = xval ** 2.0
    1 + 10
    xval_abs = np.sqrt(xval_sq)
    return xval_abs
# But first find and replace
def silly_function(xval):
    """Takes a value and returns the value."""
    xval_sq = xval ** 2.0
    1 + 10
    xval_abs = np.sqrt(xval_sq)
    return xval_abs
silly_function(-2,)
silly_function?
silly_function??
!ls ../data/
!ls ../data/
coal_years = !ls ../data/coal_prod_20*.csv
coal_years
ex_dictionary = {}

# Indent/dedent/comment
for index in range(5):
    ex_dictionary["float_one"] = 1.0
    ex_dictionary["float_two"] = 2.0
    ex_dictionary["float_three"] = 3.0
    ex_dictionary["float_four"] = 4.0
%%latex

If you want to get crazier$\ldots$

\begin{equation}
\oint_S {E_n dA = \frac{1}{{\varepsilon _0 }}} Q_\textrm{inside}
\end{equation}
%%python2
print "hi"
%%bash
wget http://www.ast.cam.ac.uk/~rfc/vpfit11.1.tar.gz
mkdir -p vpfit11
cd vpfit11
tar -xvzf ../vpfit11.1.tar.gz
%%bash -s {normal_argument} {second_argument}
echo "This script knows the value of the argument: $1"
echo "It also has no trouble with the second argument: $2"
%%bash -s "$arg_with_spaces"
echo "This bash script knows $1."
normal_argument = 12.4
second_argument = 98.4

arg_with_spaces = "the secret to life"
%%bash -s {normal_argument} {second_argument}
echo "This script knows the value of the argument: $1"
echo "It also has no trouble with the second argument: $2"
%%bash -s "$arg_with_spaces"
echo "This bash script knows $1."
ls
!ls
ls vpfit10/
tailthing = "*.ipynb"
tailthing
!ls {tailthing}
output = !ls
output
%env
a = 3
a
2345 * 97543
saved = _55
saved
_
_i55
%history fifth.ipynb
%history -f fifth.ipynb
