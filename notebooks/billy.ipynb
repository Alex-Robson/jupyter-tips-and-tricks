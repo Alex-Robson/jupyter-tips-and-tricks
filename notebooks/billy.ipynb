{
 "cells": [
  {
   "cell_type": "code",
   "execution_count": 1,
   "metadata": {
    "execution_event_id": "d5b075f5-d873-4a80-bfe5-5bd130e26c7f",
    "last_executed_text": "import numpy as np",
    "persistent_id": "5414eab3-fcaf-417c-ba4c-def44470f0ed"
   },
   "outputs": [],
   "source": [
    "import numpy as np"
   ]
  },
  {
   "cell_type": "code",
   "execution_count": 7,
   "metadata": {
    "execution_event_id": "32b08bd0-b2a5-42fa-812d-0fc905a2803b",
    "last_executed_text": "t = 24\nalpha = 0.05\n1.7 * np.sqrt((np.log(np.log(2 * t)) + 0.72 * np.log(5.2 / alpha)) / t)",
    "persistent_id": "0d6fe598-d5d0-429e-b49b-75be21d06e6a"
   },
   "outputs": [
    {
     "data": {
      "text/plain": [
       "0.752104016744892"
      ]
     },
     "execution_count": 7,
     "metadata": {},
     "output_type": "execute_result"
    }
   ],
   "source": [
    "t = 24\n",
    "alpha = 0.05\n",
    "1.7 * np.sqrt((np.log(np.log(2 * t)) + 0.72 * np.log(5.2 / alpha)) / t)"
   ]
  },
  {
   "cell_type": "code",
   "execution_count": 3,
   "metadata": {
    "execution_event_id": "8e106aab-3bc7-4f14-a125-8a2a80eab868",
    "last_executed_text": "t = 14\n1.7 * np.sqrt(t * (np.log10(np.log10(2 * t))))",
    "persistent_id": "0d6fe598-d5d0-429e-b49b-75be21d06e6a"
   },
   "outputs": [
    {
     "data": {
      "text/plain": [
       "2.5484261237266748"
      ]
     },
     "execution_count": 3,
     "metadata": {},
     "output_type": "execute_result"
    }
   ],
   "source": [
    "t = 14\n",
    "1.7 * np.sqrt(t * (np.log10(np.log10(2 * t))))"
   ]
  },
  {
   "cell_type": "code",
   "execution_count": null,
   "metadata": {
    "persistent_id": "58407f48-681c-4175-b1dc-0b2039db7e59"
   },
   "outputs": [],
   "source": []
  },
  {
   "cell_type": "code",
   "execution_count": 2,
   "metadata": {
    "persistent_id": "9d690ddf-e86d-4844-8632-c444873fc378"
   },
   "outputs": [],
   "source": [
    "# Add this to python2 code to make life easier -- safe to use in python3 as well.\n",
    "from __future__ import absolute_import, division, print_function"
   ]
  },
  {
   "cell_type": "code",
   "execution_count": 3,
   "metadata": {
    "persistent_id": "96750742-7df8-4649-83d8-70c8ccb74fb5"
   },
   "outputs": [],
   "source": [
    "import numpy as np\n",
    "# don't do:\n",
    "# from numpy import *"
   ]
  },
  {
   "cell_type": "code",
   "execution_count": 4,
   "metadata": {
    "persistent_id": "41b6b48b-53c6-4260-8e5f-75e971b31982"
   },
   "outputs": [],
   "source": [
    "max('a')"
   ]
  },
  {
   "cell_type": "code",
   "execution_count": 5,
   "metadata": {
    "persistent_id": "6d06134b-5574-4423-a1db-746095eb118c"
   },
   "outputs": [],
   "source": [
    "np.max('a')"
   ]
  },
  {
   "cell_type": "code",
   "execution_count": 6,
   "metadata": {
    "persistent_id": "ce270b79-4a60-45c6-a861-1bc93b3c8958"
   },
   "outputs": [],
   "source": [
    "%matplotlib inline\n",
    "%config InlineBackend.figure_format='retina'"
   ]
  },
  {
   "cell_type": "code",
   "execution_count": 7,
   "metadata": {
    "persistent_id": "69670b45-4f36-48f5-a55e-95825c2f8eaa"
   },
   "outputs": [],
   "source": [
    "import pandas as pd\n",
    "import matplotlib.pyplot as plt\n",
    "import seaborn as sns\n",
    "import os\n",
    "from pivottablejs import pivot_ui\n",
    "import sys\n",
    "import warnings\n",
    "warnings.filterwarnings('ignore')"
   ]
  },
  {
   "cell_type": "code",
   "execution_count": 8,
   "metadata": {
    "persistent_id": "d3e0db5f-7299-4ab2-a6f7-2c0bd35a288e"
   },
   "outputs": [],
   "source": [
    "first = 1"
   ]
  },
  {
   "cell_type": "code",
   "execution_count": 9,
   "metadata": {
    "persistent_id": "68941250-751c-46f8-9efd-a16ed1b1521c"
   },
   "outputs": [],
   "source": [
    "second = 2"
   ]
  },
  {
   "cell_type": "code",
   "execution_count": 10,
   "metadata": {
    "persistent_id": "ca4cec20-4cb1-4d38-8dec-1e6c70dba1f2"
   },
   "outputs": [],
   "source": [
    "third = 3"
   ]
  },
  {
   "cell_type": "code",
   "execution_count": 11,
   "metadata": {
    "persistent_id": "ba8d0bc2-130b-428f-9def-473a8239fcb9"
   },
   "outputs": [],
   "source": [
    "# df = pd.read_csv(\"../data/mps.csv\", encoding=\"ISO-8859-1\")\n",
    "# canadian_politics = pd.read_csv(\"../data/montreal_2014.csv\",)\n",
    "canadian_politics = pd.read_csv(\"../data/mps2.csv\",)"
   ]
  },
  {
   "cell_type": "code",
   "execution_count": 12,
   "metadata": {
    "persistent_id": "8f2b027c-af9b-48a1-9467-649cec0032fe"
   },
   "outputs": [],
   "source": [
    "# recommend using .head()\n",
    "canadian_politics.head(10)"
   ]
  },
  {
   "cell_type": "code",
   "execution_count": 13,
   "metadata": {
    "persistent_id": "733c0112-3d59-442a-9c54-7229fef5edab"
   },
   "outputs": [],
   "source": [
    "sns.distplot(canadian_politics['Age'].dropna())"
   ]
  },
  {
   "cell_type": "code",
   "execution_count": 14,
   "metadata": {
    "persistent_id": "f06c5e4d-90cc-468b-96f2-46a965a4bfc0"
   },
   "outputs": [],
   "source": [
    "sns.distplot(canadian_politics['Age'])"
   ]
  },
  {
   "cell_type": "code",
   "execution_count": 15,
   "metadata": {
    "persistent_id": "c1bba58c-bcf8-425a-9c66-1b9c45ff9d15"
   },
   "outputs": [],
   "source": [
    "sns.distplot(canadian_politics['Age'].dropna())"
   ]
  },
  {
   "cell_type": "code",
   "execution_count": 16,
   "metadata": {
    "persistent_id": "1c6abfcd-8d7c-471a-96dc-e90e0182cfd1"
   },
   "outputs": [],
   "source": [
    "sns.set_context('poster', font_scale=1.3)"
   ]
  },
  {
   "cell_type": "code",
   "execution_count": 17,
   "metadata": {
    "persistent_id": "e9559289-210d-4a65-addb-00be285726bb"
   },
   "outputs": [],
   "source": [
    "fig, ax = plt.subplots(figsize=(12, 8))\n",
    "sns.distplot(canadian_politics['Age'].dropna())\n",
    "fig.tight_layout()"
   ]
  },
  {
   "cell_type": "code",
   "execution_count": 18,
   "metadata": {
    "persistent_id": "5cdecfaa-127e-4af7-bbaa-bf797386c784"
   },
   "outputs": [],
   "source": [
    "sns.distplot(canadian_politics['Age'].dropna());"
   ]
  },
  {
   "cell_type": "code",
   "execution_count": 19,
   "metadata": {
    "persistent_id": "ac79bc46-2741-4d3e-852d-d6a53040face"
   },
   "outputs": [],
   "source": [
    "pivot_ui(canadian_politics)"
   ]
  },
  {
   "cell_type": "code",
   "execution_count": 20,
   "metadata": {
    "persistent_id": "2233b465-8326-4f67-8dd7-a2af5aeaddea"
   },
   "outputs": [],
   "source": [
    "import numpy as np"
   ]
  },
  {
   "cell_type": "code",
   "execution_count": 21,
   "metadata": {
    "persistent_id": "8ac77375-5486-4fab-ac23-563a7f61377c"
   },
   "outputs": [],
   "source": [
    "np.linspace?"
   ]
  },
  {
   "cell_type": "code",
   "execution_count": 22,
   "metadata": {
    "persistent_id": "8e654e8f-1c41-4184-886d-1a4e741e4bc9"
   },
   "outputs": [],
   "source": [
    "np.linspace??"
   ]
  },
  {
   "cell_type": "code",
   "execution_count": 23,
   "metadata": {
    "persistent_id": "62300a1c-ad68-42d4-8274-186b176a9a56"
   },
   "outputs": [],
   "source": [
    "np.linspace??"
   ]
  },
  {
   "cell_type": "code",
   "execution_count": 24,
   "metadata": {
    "persistent_id": "ad424eaf-07cc-4ebe-b248-c78078814f44"
   },
   "outputs": [],
   "source": [
    "!subl ~/miniconda3/envs/dspy3/lib/python3.6/site-packages/numpy/core/function_base.py"
   ]
  },
  {
   "cell_type": "code",
   "execution_count": 25,
   "metadata": {
    "persistent_id": "3e5dd0e1-bd12-4fd0-824f-51875f33c8b8"
   },
   "outputs": [],
   "source": [
    "import textwrap\n",
    "def example_function():\n",
    "    \"\"\"Docstring for example function\"\"\"\n",
    "    \n",
    "    print(textwrap.dedent(\"\"\"\n",
    "    This is a multi-lined string\n",
    "    that I want to write inside of a function.\n",
    "    Notice what happens when I print this.\n",
    "        And when something is indented more.\"\"\"))\n",
    "\n",
    "\n",
    "example_function()"
   ]
  },
  {
   "cell_type": "code",
   "execution_count": 26,
   "metadata": {
    "persistent_id": "3a186c22-4961-45c1-bb79-8d6b3d1c774f"
   },
   "outputs": [],
   "source": [
    "# But first find and replace\n",
    "def silly_function(xval):\n",
    "    \"\"\"Takes a value and returns the value.\"\"\"\n",
    "    xval_sq = xval ** 2.0\n",
    "    1 + 10\n",
    "    xval_abs = np.sqrt(xval_sq)\n",
    "    return xval_abs"
   ]
  },
  {
   "cell_type": "code",
   "execution_count": 27,
   "metadata": {
    "persistent_id": "ecbacc3c-5f9b-4ecd-87ea-75d5218bae43"
   },
   "outputs": [],
   "source": [
    "silly_function(2,)"
   ]
  },
  {
   "cell_type": "code",
   "execution_count": 28,
   "metadata": {
    "persistent_id": "74191bc1-d735-482c-b1b6-53b704fc82a2"
   },
   "outputs": [],
   "source": [
    "silly_function(-2,)"
   ]
  },
  {
   "cell_type": "code",
   "execution_count": 29,
   "metadata": {
    "persistent_id": "1b91d356-1991-4068-a0b9-6e7fa43bd60b"
   },
   "outputs": [],
   "source": [
    "silly_function?"
   ]
  },
  {
   "cell_type": "code",
   "execution_count": 30,
   "metadata": {
    "persistent_id": "6ba9b2e4-37eb-472d-86c0-7c809443fa49"
   },
   "outputs": [],
   "source": [
    "silly_function??"
   ]
  },
  {
   "cell_type": "code",
   "execution_count": 31,
   "metadata": {
    "persistent_id": "3dd069d5-2196-4726-a278-b7b546ff87cd"
   },
   "outputs": [],
   "source": [
    "# But first find and replace\n",
    "def silly_function(xval):\n",
    "    \"\"\"Takes a value and returns the value.\"\"\"\n",
    "    xval_sq = xval ** 2.0\n",
    "    1 + 12\n",
    "    xval_abs = np.sqrt(xval_sq)\n",
    "    return xval_abs"
   ]
  },
  {
   "cell_type": "code",
   "execution_count": 32,
   "metadata": {
    "persistent_id": "68faded3-380d-471f-a876-87985023ffec"
   },
   "outputs": [],
   "source": [
    "silly_function??"
   ]
  },
  {
   "cell_type": "code",
   "execution_count": 33,
   "metadata": {
    "persistent_id": "8b9ac894-8d25-4c2b-bcf2-867698668095"
   },
   "outputs": [],
   "source": [
    "!ls ../data/"
   ]
  },
  {
   "cell_type": "code",
   "execution_count": 34,
   "metadata": {
    "persistent_id": "e390e788-2d12-4bdd-af38-447c97b1a1fb"
   },
   "outputs": [],
   "source": [
    "coal_years = !ls ../data/coal_prod_20*.csv"
   ]
  },
  {
   "cell_type": "code",
   "execution_count": 35,
   "metadata": {
    "persistent_id": "edafe31f-c68b-4883-b2c4-ff26a0449079"
   },
   "outputs": [],
   "source": [
    "coal_years"
   ]
  },
  {
   "cell_type": "code",
   "execution_count": 36,
   "metadata": {
    "persistent_id": "21416513-c330-4250-8ee0-da1b3ddbc4fa"
   },
   "outputs": [],
   "source": [
    "example_dict = {}\n",
    "\n",
    "# Indent/dedent/comment\n",
    "for index in range(5):\n",
    "    example_dict[\"float_one\"] = 1.0\n",
    "    example_dict[\"float_two\"] = 2.0\n",
    "    example_dict[\"float_three\"] = 3.0\n",
    "    example_dict[\"float_four\"] = 4.0"
   ]
  },
  {
   "cell_type": "code",
   "execution_count": 37,
   "metadata": {
    "persistent_id": "2c816941-412c-4212-83df-8c3bb4ba35dd"
   },
   "outputs": [],
   "source": [
    "example[\"one_better_neat\"] = 1\n",
    "example[\"two_better_neat\"] = 2\n",
    "example[\"three_better_neat\"] = 3\n",
    "example[\"four_better_neat\"] = 4"
   ]
  },
  {
   "cell_type": "code",
   "execution_count": 38,
   "metadata": {
    "persistent_id": "ec2e64fd-558a-4d2d-bd21-329c61c1fabc"
   },
   "outputs": [],
   "source": [
    "example_ = {}\n",
    "\n",
    "# Indent/dedent/comment\n",
    "for index in range(5):\n",
    "    example_[\"float_one\"] = 1.0\n",
    "    example_[\"float_two\"] = 2.0\n",
    "    example_[\"float_three\"] = 3.0\n",
    "    example_[\"float_four\"] = 4.0"
   ]
  },
  {
   "cell_type": "code",
   "execution_count": 39,
   "metadata": {
    "persistent_id": "832ab29d-0132-4428-a5ed-5b26e721da11"
   },
   "outputs": [],
   "source": [
    "example[\"one_better_neat\"] = 1\n",
    "example[\"two_better_neat\"] = 2\n",
    "example[\"three_better_neat\"] = 3\n",
    "example[\"four_better_neat\"] = 4"
   ]
  },
  {
   "cell_type": "code",
   "execution_count": 40,
   "metadata": {
    "persistent_id": "c578ebf8-96b4-4456-96de-44e6a132b180"
   },
   "outputs": [],
   "source": [
    "example = {}\n",
    "\n",
    "# Indent/dedent/comment\n",
    "for index in range(5):\n",
    "    example[\"float_one\"] = 1.0\n",
    "    example[\"float_two\"] = 2.0\n",
    "    example[\"float_three\"] = 3.0\n",
    "    example[\"float_four\"] = 4.0"
   ]
  },
  {
   "cell_type": "code",
   "execution_count": 41,
   "metadata": {
    "persistent_id": "b0ea69e5-17ad-4a91-97ed-202d38fa9dbb"
   },
   "outputs": [],
   "source": [
    "example[\"one_better_neat\"] = 1\n",
    "example[\"two_better_neat\"] = 2\n",
    "example[\"three_better_neat\"] = 3\n",
    "example[\"four_better_neat\"] = 4"
   ]
  },
  {
   "cell_type": "code",
   "execution_count": 42,
   "metadata": {
    "persistent_id": "c8a9502d-a38b-4a1c-b253-4d4a4b3fb8b6"
   },
   "outputs": [],
   "source": [
    "%%latex\n",
    "\n",
    "If you want to get crazier$\\ldots$\n",
    "\n",
    "\\begin{equation}\n",
    "\\oint_S {E_n dA = \\frac{1}{{\\varepsilon _0 }}} Q_\\textrm{inside}\n",
    "\\end{equation}"
   ]
  },
  {
   "cell_type": "code",
   "execution_count": 43,
   "metadata": {
    "persistent_id": "9acc0c4e-f8b0-4c6f-aad0-e536e0a6652d"
   },
   "outputs": [],
   "source": [
    "%%python2\n",
    "print \"hi\""
   ]
  },
  {
   "cell_type": "code",
   "execution_count": 44,
   "metadata": {
    "persistent_id": "c6bc487f-df1a-484c-a5ef-38a3d471b67e"
   },
   "outputs": [],
   "source": [
    "%%bash\n",
    "wget http://www.ast.cam.ac.uk/~rfc/vpfit11.1.tar.gz\n",
    "mkdir -p vpfit11\n",
    "cd vpfit11\n",
    "tar -xvzf ../vpfit11.1.tar.gz"
   ]
  },
  {
   "cell_type": "code",
   "execution_count": 45,
   "metadata": {
    "persistent_id": "a817e425-15d5-48e8-8bab-5684a1004060"
   },
   "outputs": [],
   "source": [
    "normal_argument = 12.4\n",
    "second_argument = 98.4\n",
    "\n",
    "arg_with_spaces = \"the secret to life\""
   ]
  },
  {
   "cell_type": "code",
   "execution_count": 46,
   "metadata": {
    "persistent_id": "b979d49b-5c46-4678-a59a-9d8f325bd9a1"
   },
   "outputs": [],
   "source": [
    "%%bash -s {normal_argument} {second_argument}\n",
    "echo \"This script knows the value of the argument: $1\"\n",
    "echo \"It also has no trouble with the second argument: $2\""
   ]
  },
  {
   "cell_type": "code",
   "execution_count": 47,
   "metadata": {
    "persistent_id": "01fc8850-eb15-4c01-b08b-7e2be64996a0"
   },
   "outputs": [],
   "source": [
    "%%bash -s \"$arg_with_spaces\"\n",
    "echo \"This bash script knows $1.\""
   ]
  },
  {
   "cell_type": "code",
   "execution_count": 48,
   "metadata": {
    "persistent_id": "388353ee-8ac5-4a23-aadd-6f002e79a02f"
   },
   "outputs": [],
   "source": [
    "ls"
   ]
  },
  {
   "cell_type": "code",
   "execution_count": 49,
   "metadata": {
    "persistent_id": "725753ce-f3b6-4be4-9f30-7c71987b268d"
   },
   "outputs": [],
   "source": [
    "!ls"
   ]
  },
  {
   "cell_type": "code",
   "execution_count": 50,
   "metadata": {
    "persistent_id": "d0ee36a3-ba49-4589-8623-a7d33ebdcc3d"
   },
   "outputs": [],
   "source": [
    "%ls"
   ]
  },
  {
   "cell_type": "code",
   "execution_count": 51,
   "metadata": {
    "persistent_id": "ec32e1e6-404b-487f-a6c7-773b2d1d519e"
   },
   "outputs": [],
   "source": [
    "ls vpfit10/"
   ]
  },
  {
   "cell_type": "code",
   "execution_count": 52,
   "metadata": {
    "persistent_id": "e9bec872-a5a2-4c36-b7c6-5c7710120a60"
   },
   "outputs": [],
   "source": [
    "tailthing = \"*.ipynb\""
   ]
  },
  {
   "cell_type": "code",
   "execution_count": 53,
   "metadata": {
    "persistent_id": "dbd9cf59-2fee-4bbb-aad7-30c9a3d601e0"
   },
   "outputs": [],
   "source": [
    "tailthing"
   ]
  },
  {
   "cell_type": "code",
   "execution_count": 54,
   "metadata": {
    "persistent_id": "833be3e7-f586-437a-9432-a59bf2e575b4"
   },
   "outputs": [],
   "source": [
    "!ls {tailthing}"
   ]
  },
  {
   "cell_type": "code",
   "execution_count": 55,
   "metadata": {
    "persistent_id": "b8c82461-d37c-4954-8771-fd3d5aec6ccd"
   },
   "outputs": [],
   "source": [
    "output = !ls "
   ]
  },
  {
   "cell_type": "code",
   "execution_count": 56,
   "metadata": {
    "persistent_id": "a131568c-20d7-41bf-92f8-178838db7e92"
   },
   "outputs": [],
   "source": [
    "output"
   ]
  },
  {
   "cell_type": "code",
   "execution_count": 57,
   "metadata": {
    "persistent_id": "df1f37a6-f01a-488b-8af6-5a74b131e94a"
   },
   "outputs": [],
   "source": [
    "!pwd"
   ]
  },
  {
   "cell_type": "code",
   "execution_count": 58,
   "metadata": {
    "persistent_id": "80311c48-2b48-4f02-b7a2-438995120cee"
   },
   "outputs": [],
   "source": [
    "a = 3\n",
    "a"
   ]
  },
  {
   "cell_type": "code",
   "execution_count": 59,
   "metadata": {
    "persistent_id": "3d1fad92-6a49-42be-8bc3-eb2d441c7dbc"
   },
   "outputs": [],
   "source": [
    "_58"
   ]
  },
  {
   "cell_type": "code",
   "execution_count": 60,
   "metadata": {
    "persistent_id": "8834a97a-bb3e-48ab-a737-44bcc9be9d24"
   },
   "outputs": [],
   "source": [
    "_i58"
   ]
  }
 ],
 "metadata": {
  "hide_input": false,
  "history": [
   {
    "cell": {
     "executionCount": 1,
     "executionEventId": "d5b075f5-d873-4a80-bfe5-5bd130e26c7f",
     "hasError": false,
     "id": "ce178ce6-126a-4514-8dc1-1d7a9a2825c0",
     "outputs": [],
     "persistentId": "5414eab3-fcaf-417c-ba4c-def44470f0ed",
     "text": "import numpy as np"
    },
    "executionTime": "2019-09-09T22:43:54.486Z"
   },
   {
    "cell": {
     "executionCount": 2,
     "executionEventId": "41dcf54c-e011-4767-8c85-199f2ec12f9b",
     "hasError": false,
     "id": "9c8dec5e-a7ab-4312-8a1f-c50c1627f534",
     "outputs": [
      {
       "data": {
        "text/plain": "6.978469437276213"
       },
       "execution_count": 2,
       "metadata": {},
       "output_type": "execute_result"
      }
     ],
     "persistentId": "0d6fe598-d5d0-429e-b49b-75be21d06e6a",
     "text": "t = 14\n1.7 * np.sqrt(t * (np.log(np.log(2 * t))))"
    },
    "executionTime": "2019-09-09T22:44:43.456Z"
   },
   {
    "cell": {
     "executionCount": 3,
     "executionEventId": "8e106aab-3bc7-4f14-a125-8a2a80eab868",
     "hasError": false,
     "id": "b7c545a0-b814-49a1-adab-9dd435ff42ab",
     "outputs": [
      {
       "data": {
        "text/plain": "2.5484261237266748"
       },
       "execution_count": 3,
       "metadata": {},
       "output_type": "execute_result"
      }
     ],
     "persistentId": "0d6fe598-d5d0-429e-b49b-75be21d06e6a",
     "text": "t = 14\n1.7 * np.sqrt(t * (np.log10(np.log10(2 * t))))"
    },
    "executionTime": "2019-09-09T22:45:06.048Z"
   },
   {
    "cell": {
     "executionCount": 4,
     "executionEventId": "07e107b6-319f-42b7-8c04-ac6cc11c0961",
     "hasError": false,
     "id": "9c8dec5e-a7ab-4312-8a1f-c50c1627f534",
     "outputs": [
      {
       "data": {
        "text/plain": "13.564502049395891"
       },
       "execution_count": 4,
       "metadata": {},
       "output_type": "execute_result"
      }
     ],
     "persistentId": "0d6fe598-d5d0-429e-b49b-75be21d06e6a",
     "text": "t = 14\nalpha = 0.05\n1.7 * np.sqrt(t * (np.log(np.log(2 * t)) + 0.72 * np.log(5.2 / alpha)))"
    },
    "executionTime": "2019-09-09T22:46:50.689Z"
   },
   {
    "cell": {
     "executionCount": 5,
     "executionEventId": "a0449c43-5252-4c22-b957-e4c1ac7d3aa4",
     "hasError": false,
     "id": "9c8dec5e-a7ab-4312-8a1f-c50c1627f534",
     "outputs": [
      {
       "data": {
        "text/plain": "0.9688930035282779"
       },
       "execution_count": 5,
       "metadata": {},
       "output_type": "execute_result"
      }
     ],
     "persistentId": "0d6fe598-d5d0-429e-b49b-75be21d06e6a",
     "text": "t = 14\nalpha = 0.05\n1.7 * np.sqrt((np.log(np.log(2 * t)) + 0.72 * np.log(5.2 / alpha)) / t)"
    },
    "executionTime": "2019-09-09T22:49:02.902Z"
   },
   {
    "cell": {
     "executionCount": 6,
     "executionEventId": "8803fa93-326c-4d42-b4d7-0fca6bc903e7",
     "hasError": false,
     "id": "9c8dec5e-a7ab-4312-8a1f-c50c1627f534",
     "outputs": [
      {
       "data": {
        "text/plain": "0.9688930035282779"
       },
       "execution_count": 6,
       "metadata": {},
       "output_type": "execute_result"
      }
     ],
     "persistentId": "0d6fe598-d5d0-429e-b49b-75be21d06e6a",
     "text": "t = 14\nalpha = 0.05\n1.7 * np.sqrt((np.log(np.log(2 * t)) + 0.72 * np.log(5.2 / alpha)) / t)"
    },
    "executionTime": "2019-09-09T22:49:05.236Z"
   },
   {
    "cell": {
     "executionCount": 7,
     "executionEventId": "32b08bd0-b2a5-42fa-812d-0fc905a2803b",
     "hasError": false,
     "id": "9c8dec5e-a7ab-4312-8a1f-c50c1627f534",
     "outputs": [
      {
       "data": {
        "text/plain": "0.752104016744892"
       },
       "execution_count": 7,
       "metadata": {},
       "output_type": "execute_result"
      }
     ],
     "persistentId": "0d6fe598-d5d0-429e-b49b-75be21d06e6a",
     "text": "t = 24\nalpha = 0.05\n1.7 * np.sqrt((np.log(np.log(2 * t)) + 0.72 * np.log(5.2 / alpha)) / t)"
    },
    "executionTime": "2019-09-09T22:49:18.737Z"
   }
  ],
  "kernelspec": {
   "display_name": "Python 3",
   "language": "python",
   "name": "python3"
  },
  "language_info": {
   "codemirror_mode": {
    "name": "ipython",
    "version": 3
   },
   "file_extension": ".py",
   "mimetype": "text/x-python",
   "name": "python",
   "nbconvert_exporter": "python",
   "pygments_lexer": "ipython3",
   "version": "3.6.7"
  },
  "toc": {
   "base_numbering": 1,
   "nav_menu": {},
   "number_sections": true,
   "sideBar": true,
   "skip_h1_title": false,
   "title_cell": "Table of Contents",
   "title_sidebar": "Contents",
   "toc_cell": false,
   "toc_position": {},
   "toc_section_display": true,
   "toc_window_display": false
  },
  "uuid": "4aaebb71-c6b9-401d-bd45-f4789da8b787",
  "varInspector": {
   "cols": {
    "lenName": 16,
    "lenType": 16,
    "lenVar": 40
   },
   "kernels_config": {
    "python": {
     "delete_cmd_postfix": "",
     "delete_cmd_prefix": "del ",
     "library": "var_list.py",
     "varRefreshCmd": "print(var_dic_list())"
    },
    "r": {
     "delete_cmd_postfix": ") ",
     "delete_cmd_prefix": "rm(",
     "library": "var_list.r",
     "varRefreshCmd": "cat(var_dic_list()) "
    }
   },
   "types_to_exclude": [
    "module",
    "function",
    "builtin_function_or_method",
    "instance",
    "_Feature"
   ],
   "window_display": false
  }
 },
 "nbformat": 4,
 "nbformat_minor": 4
}
