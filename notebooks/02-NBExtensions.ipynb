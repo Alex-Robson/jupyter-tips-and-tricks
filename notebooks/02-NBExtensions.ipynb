{
 "cells": [
  {
   "cell_type": "markdown",
   "metadata": {
    "toc": true
   },
   "source": [
    "<h1>Table of Contents<span class=\"tocSkip\"></span></h1>\n",
    "<div class=\"toc\"><ul class=\"toc-item\"><li><ul class=\"toc-item\"><li><span><a href=\"#Check-out-nbdime\" data-toc-modified-id=\"Check-out-nbdime-0.1\">Check out nbdime</a></span></li></ul></li><li><span><a href=\"#Notebook-Extensions\" data-toc-modified-id=\"Notebook-Extensions-1\">Notebook Extensions</a></span><ul class=\"toc-item\"><li><span><a href=\"#datestamper\" data-toc-modified-id=\"datestamper-1.1\">datestamper</a></span></li><li><span><a href=\"#ToC(2)\" data-toc-modified-id=\"ToC(2)-1.2\">ToC(2)</a></span></li><li><span><a href=\"#ExecuteTime\" data-toc-modified-id=\"ExecuteTime-1.3\">ExecuteTime</a></span></li><li><span><a href=\"#Snippets-Menu\" data-toc-modified-id=\"Snippets-Menu-1.4\">Snippets Menu</a></span></li><li><span><a href=\"#Runtools\" data-toc-modified-id=\"Runtools-1.5\">Runtools</a></span></li><li><span><a href=\"#Hide-input-all\" data-toc-modified-id=\"Hide-input-all-1.6\">Hide input all</a></span></li><li><span><a href=\"#Python-Markdown\" data-toc-modified-id=\"Python-Markdown-1.7\">Python Markdown</a></span></li><li><span><a href=\"#Scratchpad\" data-toc-modified-id=\"Scratchpad-1.8\">Scratchpad</a></span></li><li><span><a href=\"#Variable-Inspector\" data-toc-modified-id=\"Variable-Inspector-1.9\">Variable Inspector</a></span></li><li><span><a href=\"#Code-prettify\" data-toc-modified-id=\"Code-prettify-1.10\">Code prettify</a></span></li><li><span><a href=\"#Collapsible-Headings\" data-toc-modified-id=\"Collapsible-Headings-1.11\">Collapsible Headings</a></span></li><li><span><a href=\"#Notify\" data-toc-modified-id=\"Notify-1.12\">Notify</a></span></li></ul></li><li><span><a href=\"#Outside-Notebooks\" data-toc-modified-id=\"Outside-Notebooks-2\">Outside Notebooks</a></span><ul class=\"toc-item\"><li><span><a href=\"#Codefolding-in-Editor\" data-toc-modified-id=\"Codefolding-in-Editor-2.1\">Codefolding in Editor</a></span></li><li><span><a href=\"#Tree-Filter\" data-toc-modified-id=\"Tree-Filter-2.2\">Tree Filter</a></span></li></ul></li></ul></div>"
   ]
  },
  {
   "cell_type": "code",
   "execution_count": 1,
   "metadata": {
    "ExecuteTime": {
     "end_time": "2019-01-17T23:44:35.129420Z",
     "start_time": "2019-01-17T23:44:32.327930Z"
    }
   },
   "outputs": [
    {
     "data": {
      "application/javascript": [
       "\n",
       "    require(['notebook/js/codecell'], function(codecell) {\n",
       "      // https://github.com/jupyter/notebook/issues/2453\n",
       "      codecell.CodeCell.options_default.highlight_modes['magic_text/x-sql'] = {'reg':[/^%read_sql/, /.*=\\s*%read_sql/,\n",
       "                                                                                      /^%%read_sql/]};\n",
       "      Jupyter.notebook.events.one('kernel_ready.Kernel', function(){\n",
       "          console.log('BBBBB');\n",
       "          Jupyter.notebook.get_cells().map(function(cell){\n",
       "              if (cell.cell_type == 'code'){ cell.auto_highlight(); } }) ;\n",
       "      });\n",
       "    });\n",
       "    "
      ]
     },
     "metadata": {},
     "output_type": "display_data"
    }
   ],
   "source": [
    "from __future__ import print_function, division\n",
    "import matplotlib as mpl\n",
    "import matplotlib.pyplot as plt\n",
    "%matplotlib inline\n",
    "\n",
    "import numpy as np\n",
    "import pandas as pd\n",
    "import textwrap\n",
    "import os\n",
    "import sys\n",
    "import warnings\n",
    "warnings.filterwarnings('ignore')\n",
    "\n",
    "# special things\n",
    "from pivottablejs import pivot_ui\n",
    "from ipywidgets import FloatSlider, interactive, IntSlider\n",
    "from scipy import interpolate\n",
    "\n",
    "# sql\n",
    "%load_ext sql_magic\n",
    "import sqlalchemy\n",
    "import sqlite3\n",
    "from sqlalchemy import create_engine\n",
    "sqlite_engine = create_engine('sqlite://')\n",
    "\n",
    "# autoreload\n",
    "%load_ext autoreload\n",
    "%autoreload 1\n",
    "# %aimport module_to_reload\n",
    "\n",
    "# ehh...\n",
    "# import bqplot.pyplot as plt\n",
    "import ipyvolume as ipv\n",
    "import altair as alt\n",
    "from vega_datasets import data\n",
    "\n",
    "import seaborn as sns\n",
    "sns.set_context('poster', font_scale=1.3)"
   ]
  },
  {
   "cell_type": "markdown",
   "metadata": {},
   "source": [
    "## Check out nbdime\n",
    "\n",
    "https://github.com/jupyter/nbdime\n",
    "\n",
    "and the documentation about adding the nbdime  https://nbdime.readthedocs.io/en/latest/extensions.html "
   ]
  },
  {
   "cell_type": "markdown",
   "metadata": {},
   "source": [
    "# Notebook Extensions"
   ]
  },
  {
   "cell_type": "markdown",
   "metadata": {},
   "source": [
    "## datestamper\n",
    "\n",
    "Last updated 2018-09-17 19:03:57 \n",
    "\n",
    "2019-06-05 18:49:02 "
   ]
  },
  {
   "cell_type": "markdown",
   "metadata": {},
   "source": [
    "## ToC(2)"
   ]
  },
  {
   "cell_type": "markdown",
   "metadata": {},
   "source": [
    "## ExecuteTime"
   ]
  },
  {
   "cell_type": "code",
   "execution_count": 1,
   "metadata": {
    "ExecuteTime": {
     "end_time": "2018-06-07T01:53:21.954654Z",
     "start_time": "2018-06-07T01:53:21.951560Z"
    }
   },
   "outputs": [
    {
     "name": "stdout",
     "output_type": "stream",
     "text": [
      "hello world\n"
     ]
    }
   ],
   "source": [
    "print(\"hello world\")"
   ]
  },
  {
   "cell_type": "markdown",
   "metadata": {},
   "source": [
    "## Snippets Menu "
   ]
  },
  {
   "cell_type": "code",
   "execution_count": null,
   "metadata": {},
   "outputs": [],
   "source": [
    "fig, ax = plt.subplots(figsize=(12, 8))\n",
    "\n",
    "fig.tight_layout()"
   ]
  },
  {
   "cell_type": "code",
   "execution_count": null,
   "metadata": {
    "ExecuteTime": {
     "end_time": "2018-02-02T20:50:03.236361Z",
     "start_time": "2018-02-02T20:50:02.781395Z"
    }
   },
   "outputs": [],
   "source": [
    "from __future__ import print_function, division\n",
    "import numpy as np\n",
    "import matplotlib as mpl\n",
    "import matplotlib.pyplot as plt\n",
    "%matplotlib inline"
   ]
  },
  {
   "cell_type": "code",
   "execution_count": null,
   "metadata": {
    "ExecuteTime": {
     "end_time": "2018-02-02T20:50:10.723274Z",
     "start_time": "2018-02-02T20:50:10.495525Z"
    }
   },
   "outputs": [],
   "source": [
    "import pandas as pd"
   ]
  },
  {
   "cell_type": "markdown",
   "metadata": {},
   "source": [
    "## Runtools"
   ]
  },
  {
   "cell_type": "code",
   "execution_count": 8,
   "metadata": {
    "ExecuteTime": {
     "end_time": "2019-06-06T01:52:43.031425Z",
     "start_time": "2019-06-06T01:52:43.029033Z"
    },
    "hide_input": false,
    "run_control": {
     "marked": true
    }
   },
   "outputs": [],
   "source": [
    "a = 10"
   ]
  },
  {
   "cell_type": "code",
   "execution_count": 2,
   "metadata": {
    "ExecuteTime": {
     "end_time": "2019-01-18T03:06:45.561191Z",
     "start_time": "2019-01-18T03:06:45.558549Z"
    }
   },
   "outputs": [],
   "source": [
    "a = 2"
   ]
  },
  {
   "cell_type": "code",
   "execution_count": 9,
   "metadata": {
    "ExecuteTime": {
     "end_time": "2019-06-06T01:52:43.063971Z",
     "start_time": "2019-06-06T01:52:43.060964Z"
    },
    "hide_input": false,
    "run_control": {
     "marked": true
    }
   },
   "outputs": [],
   "source": [
    "b = 'b'\n",
    "TTR = 0.13"
   ]
  },
  {
   "cell_type": "code",
   "execution_count": 10,
   "metadata": {
    "ExecuteTime": {
     "end_time": "2019-06-06T01:52:43.086259Z",
     "start_time": "2019-06-06T01:52:43.083092Z"
    },
    "hide_input": false,
    "run_control": {
     "marked": true
    }
   },
   "outputs": [
    {
     "name": "stdout",
     "output_type": "stream",
     "text": [
      "10 b\n"
     ]
    }
   ],
   "source": [
    "print(a, b)"
   ]
  },
  {
   "cell_type": "markdown",
   "metadata": {},
   "source": [
    "## Hide input all"
   ]
  },
  {
   "cell_type": "code",
   "execution_count": 11,
   "metadata": {
    "ExecuteTime": {
     "end_time": "2019-06-06T01:53:03.384202Z",
     "start_time": "2019-06-06T01:53:03.381537Z"
    }
   },
   "outputs": [],
   "source": [
    "a = \"new_word\""
   ]
  },
  {
   "cell_type": "markdown",
   "metadata": {
    "variables": {
     "a": "new_word"
    }
   },
   "source": [
    "## Python Markdown\n",
    "\n",
    "The value of a is {{a}}. Useful for anything you want to report."
   ]
  },
  {
   "cell_type": "markdown",
   "metadata": {},
   "source": [
    "## Scratchpad\n",
    "\n",
    "CTRL-B"
   ]
  },
  {
   "cell_type": "markdown",
   "metadata": {},
   "source": [
    "## Variable Inspector\n"
   ]
  },
  {
   "cell_type": "code",
   "execution_count": 17,
   "metadata": {
    "ExecuteTime": {
     "end_time": "2018-09-18T02:10:20.915745Z",
     "start_time": "2018-09-18T02:10:20.911032Z"
    }
   },
   "outputs": [],
   "source": [
    "julija = \"Julija!!\""
   ]
  },
  {
   "cell_type": "markdown",
   "metadata": {},
   "source": [
    "## Code prettify\n",
    "\n",
    " - https://neuralcoder.science/Black-Jupyter/\n",
    " - Follow the instructions there for using black as your code formatter."
   ]
  },
  {
   "cell_type": "code",
   "execution_count": null,
   "metadata": {},
   "outputs": [],
   "source": []
  },
  {
   "cell_type": "code",
   "execution_count": null,
   "metadata": {},
   "outputs": [],
   "source": []
  },
  {
   "cell_type": "code",
   "execution_count": null,
   "metadata": {},
   "outputs": [],
   "source": [
    "weight_categories = [\n",
    "    \"vlow_weight\",\n",
    "    \"low_weight\",\n",
    "    \"mid_weight\",\n",
    "    \"high_weight\",\n",
    "    \"vhigh_weight\",\n",
    "]\n",
    "\n",
    "players['weightclass'] = pd.qcut(players['weight'], len(weight_categories),\n",
    "                                 weight_categories)"
   ]
  },
  {
   "cell_type": "code",
   "execution_count": null,
   "metadata": {},
   "outputs": [],
   "source": [
    "weight_categories = [    \"vlow_weight\",    \"low_weight\",\n",
    "    \"mid_weight\",    \"high_weight\",\n",
    "    \"vhigh_weight\",]\n",
    "\n",
    "players['weightclass'] = pd.qcut(players['weight'],\n",
    "     len(weight_categories), weight_categories)\n"
   ]
  },
  {
   "cell_type": "code",
   "execution_count": null,
   "metadata": {},
   "outputs": [],
   "source": [
    "weight_categories = [\n",
    "    \"vlow_weight\",\n",
    "    \"low_weight\",\n",
    "    \"mid_weight\",\n",
    "    \"high_weight\",\n",
    "    \"vhigh_weight\",\n",
    "]\n",
    "\n",
    "players['weightclass'] = pd.qcut(players['weight'], len(weight_categories),\n",
    "                                 weight_categories)"
   ]
  },
  {
   "cell_type": "code",
   "execution_count": 4,
   "metadata": {
    "ExecuteTime": {
     "end_time": "2019-01-17T23:46:43.238832Z",
     "start_time": "2019-01-17T23:46:43.235268Z"
    }
   },
   "outputs": [
    {
     "data": {
      "text/plain": [
       "'something, somethingelse = (long_list, of_variables, height, weight, age,\\n                            gender, hometown, state, country,\\n                            food_intolerances)'"
      ]
     },
     "metadata": {},
     "output_type": "display_data"
    }
   ],
   "source": [
    "display(\"\"\"something, somethingelse = (long_list, of_variables, height, weight, age,\n",
    "                            gender, hometown, state, country,\n",
    "                            food_intolerances)\"\"\")"
   ]
  },
  {
   "cell_type": "markdown",
   "metadata": {},
   "source": [
    "## Collapsible Headings"
   ]
  },
  {
   "cell_type": "markdown",
   "metadata": {},
   "source": [
    "## Notify\n",
    "\n",
    "In theory, this will give you a browser notification if your kernel has been busy for at least N seconds (after you give permission). "
   ]
  },
  {
   "cell_type": "code",
   "execution_count": 9,
   "metadata": {
    "ExecuteTime": {
     "end_time": "2018-02-25T20:40:37.165107Z",
     "start_time": "2018-02-25T20:40:27.162335Z"
    }
   },
   "outputs": [],
   "source": [
    "import time\n",
    "time.sleep(10)"
   ]
  },
  {
   "cell_type": "markdown",
   "metadata": {},
   "source": [
    "# Outside Notebooks"
   ]
  },
  {
   "cell_type": "markdown",
   "metadata": {},
   "source": [
    "## Codefolding in Editor"
   ]
  },
  {
   "cell_type": "code",
   "execution_count": null,
   "metadata": {
    "ExecuteTime": {
     "end_time": "2018-02-02T20:50:20.668833Z",
     "start_time": "2018-02-02T20:50:20.590366Z"
    }
   },
   "outputs": [],
   "source": [
    "np.linspace??"
   ]
  },
  {
   "cell_type": "markdown",
   "metadata": {},
   "source": [
    "## Tree Filter\n",
    "\n",
    "Filtered home screen"
   ]
  },
  {
   "cell_type": "code",
   "execution_count": null,
   "metadata": {},
   "outputs": [],
   "source": []
  },
  {
   "cell_type": "code",
   "execution_count": null,
   "metadata": {},
   "outputs": [],
   "source": []
  },
  {
   "cell_type": "code",
   "execution_count": null,
   "metadata": {},
   "outputs": [],
   "source": []
  },
  {
   "cell_type": "code",
   "execution_count": null,
   "metadata": {},
   "outputs": [],
   "source": []
  },
  {
   "cell_type": "code",
   "execution_count": null,
   "metadata": {},
   "outputs": [],
   "source": []
  },
  {
   "cell_type": "code",
   "execution_count": null,
   "metadata": {},
   "outputs": [],
   "source": []
  },
  {
   "cell_type": "code",
   "execution_count": null,
   "metadata": {},
   "outputs": [],
   "source": []
  },
  {
   "cell_type": "code",
   "execution_count": null,
   "metadata": {},
   "outputs": [],
   "source": []
  },
  {
   "cell_type": "code",
   "execution_count": null,
   "metadata": {},
   "outputs": [],
   "source": []
  },
  {
   "cell_type": "code",
   "execution_count": null,
   "metadata": {},
   "outputs": [],
   "source": []
  },
  {
   "cell_type": "code",
   "execution_count": 12,
   "metadata": {
    "ExecuteTime": {
     "end_time": "2019-06-06T02:21:46.807711Z",
     "start_time": "2019-06-06T02:21:46.787087Z"
    }
   },
   "outputs": [
    {
     "ename": "ModuleNotFoundError",
     "evalue": "No module named 'seven_dwwarfs'",
     "output_type": "error",
     "traceback": [
      "\u001b[0;31m---------------------------------------------------------------------------\u001b[0m",
      "\u001b[0;31mModuleNotFoundError\u001b[0m                       Traceback (most recent call last)",
      "\u001b[0;32m<ipython-input-12-2114e259e7d2>\u001b[0m in \u001b[0;36m<module>\u001b[0;34m\u001b[0m\n\u001b[0;32m----> 1\u001b[0;31m from seven_dwwarfs import (\n\u001b[0m\u001b[1;32m      2\u001b[0m     \u001b[0mGrumpy\u001b[0m\u001b[0;34m,\u001b[0m\u001b[0;34m\u001b[0m\u001b[0;34m\u001b[0m\u001b[0m\n\u001b[1;32m      3\u001b[0m     \u001b[0mHappy\u001b[0m\u001b[0;34m,\u001b[0m\u001b[0;34m\u001b[0m\u001b[0;34m\u001b[0m\u001b[0m\n\u001b[1;32m      4\u001b[0m     \u001b[0mSleepy\u001b[0m\u001b[0;34m,\u001b[0m\u001b[0;34m\u001b[0m\u001b[0;34m\u001b[0m\u001b[0m\n\u001b[1;32m      5\u001b[0m     \u001b[0mBashful\u001b[0m\u001b[0;34m,\u001b[0m\u001b[0;34m\u001b[0m\u001b[0;34m\u001b[0m\u001b[0m\n",
      "\u001b[0;31mModuleNotFoundError\u001b[0m: No module named 'seven_dwwarfs'"
     ]
    }
   ],
   "source": [
    "from seven_dwwarfs import (\n",
    "    Grumpy,\n",
    "    Happy,\n",
    "    Sleepy,\n",
    "    Bashful,\n",
    "    Sneezy,\n",
    "    Dopey,\n",
    "    Doc,\n",
    "    Sleepy,\n",
    "    Bashful,\n",
    "    Sneezy,\n",
    "    Dopey,\n",
    "    Doc,\n",
    ")\n",
    "\n",
    "x = {\"a\": 37, \"b\": 42, \"c\": 927}\n",
    "\n",
    "x = 123456789.123456789e123456789\n",
    "\n",
    "if (\n",
    "    very_long_variable_name is not None\n",
    "    and very_long_variable_name.field > 0\n",
    "    or very_long_variable_name.is_debug\n",
    "):\n",
    "    z = \"hello \" + \"world\"\n",
    "else:\n",
    "    world = \"world\"\n",
    "    a = \"hello {}\".format(world)\n",
    "    f = rf\"hello {world}\"\n",
    "if this and that:\n",
    "    y = \"hello \" \"world\"  # FIXME: https://github.com/python/black/issues/26\n",
    "\n",
    "\n",
    "class Foo(object):\n",
    "    def f(self):\n",
    "        return 37 * -2\n",
    "\n",
    "    def g(self, x, y=42):\n",
    "        return y\n",
    "\n",
    "\n",
    "def f(a: List[int]):\n",
    "    return 37 - a[42 - u : y ** 3]\n",
    "\n",
    "\n",
    "def very_important_function(\n",
    "    template: str, *variables, file: os.PathLike, debug: bool = False\n",
    "):\n",
    "    \"\"\"Applies `variables` to the `template` and writes to `file`.\"\"\"\n",
    "    with open(file, \"w\") as f:\n",
    "        ...\n",
    "\n",
    "\n",
    "# fmt: off\n",
    "custom_formatting = [\n",
    "    0,  1,  2,\n",
    "    3,  4,  5,\n",
    "    6,  7,  8,\n",
    "]\n",
    "# fmt: on\n",
    "regular_formatting = [0, 1, 2, 3, 4, 5, 6, 7, 8]"
   ]
  },
  {
   "cell_type": "code",
   "execution_count": null,
   "metadata": {},
   "outputs": [],
   "source": []
  }
 ],
 "metadata": {
  "hide_input": false,
  "kernelspec": {
   "display_name": "dspy3",
   "language": "python",
   "name": "dspy3"
  },
  "language_info": {
   "codemirror_mode": {
    "name": "ipython",
    "version": 3
   },
   "file_extension": ".py",
   "mimetype": "text/x-python",
   "name": "python",
   "nbconvert_exporter": "python",
   "pygments_lexer": "ipython3",
   "version": "3.6.7"
  },
  "notify_time": "5",
  "toc": {
   "base_numbering": 1,
   "nav_menu": {},
   "number_sections": false,
   "sideBar": true,
   "skip_h1_title": false,
   "title_cell": "Table of Contents",
   "title_sidebar": "Contents",
   "toc_cell": true,
   "toc_position": {
    "height": "510px",
    "left": "0px",
    "right": "900px",
    "top": "110px",
    "width": "220px"
   },
   "toc_section_display": false,
   "toc_window_display": false
  },
  "varInspector": {
   "cols": {
    "lenName": 16,
    "lenType": 16,
    "lenVar": 40
   },
   "kernels_config": {
    "python": {
     "delete_cmd_postfix": "",
     "delete_cmd_prefix": "del ",
     "library": "var_list.py",
     "varRefreshCmd": "print(var_dic_list())"
    },
    "r": {
     "delete_cmd_postfix": ") ",
     "delete_cmd_prefix": "rm(",
     "library": "var_list.r",
     "varRefreshCmd": "cat(var_dic_list()) "
    }
   },
   "position": {
    "height": "337.4px",
    "left": "747.975px",
    "right": "20px",
    "top": "183.988px",
    "width": "318.4px"
   },
   "types_to_exclude": [
    "module",
    "function",
    "builtin_function_or_method",
    "instance",
    "_Feature"
   ],
   "window_display": false
  }
 },
 "nbformat": 4,
 "nbformat_minor": 2
}
