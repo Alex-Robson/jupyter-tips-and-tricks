{
 "cells": [
  {
   "cell_type": "markdown",
   "metadata": {},
   "source": [
    "# Markdown Cell\n",
    "\n",
    "## Sub heading\n",
    "\n",
    "This is just a paragraph."
   ]
  },
  {
   "cell_type": "code",
   "execution_count": 1,
   "metadata": {
    "ExecuteTime": {
     "end_time": "2019-06-06T01:10:00.710794Z",
     "start_time": "2019-06-06T01:10:00.708023Z"
    },
    "run_control": {
     "marked": false
    }
   },
   "outputs": [],
   "source": [
    "# code cell\n",
    "name = \"Jonathan\""
   ]
  },
  {
   "cell_type": "markdown",
   "metadata": {},
   "source": [
    "# Tips and Tricks\n",
    "\n",
    "A markdown cell lets you do many _useful things_."
   ]
  },
  {
   "cell_type": "code",
   "execution_count": 2,
   "metadata": {
    "ExecuteTime": {
     "end_time": "2019-06-06T01:10:01.488334Z",
     "start_time": "2019-06-06T01:10:01.485983Z"
    }
   },
   "outputs": [],
   "source": [
    "# Add this to python2 code to make life easier -- safe to use in python3 as well.\n",
    "from __future__ import absolute_import, division, print_function"
   ]
  },
  {
   "cell_type": "code",
   "execution_count": 3,
   "metadata": {
    "ExecuteTime": {
     "end_time": "2019-06-06T01:10:02.069766Z",
     "start_time": "2019-06-06T01:10:02.067310Z"
    }
   },
   "outputs": [],
   "source": [
    "import numpy as np\n",
    "\n",
    "# don't do:\n",
    "# from numpy import *"
   ]
  },
  {
   "cell_type": "code",
   "execution_count": 4,
   "metadata": {
    "ExecuteTime": {
     "end_time": "2019-06-06T01:10:02.292828Z",
     "start_time": "2019-06-06T01:10:02.283050Z"
    }
   },
   "outputs": [
    {
     "data": {
      "text/plain": [
       "'a'"
      ]
     },
     "execution_count": 4,
     "metadata": {},
     "output_type": "execute_result"
    }
   ],
   "source": [
    "max(\"a\")"
   ]
  },
  {
   "cell_type": "code",
   "execution_count": 5,
   "metadata": {
    "ExecuteTime": {
     "end_time": "2019-06-06T01:10:02.986508Z",
     "start_time": "2019-06-06T01:10:02.896546Z"
    }
   },
   "outputs": [
    {
     "ename": "TypeError",
     "evalue": "cannot perform reduce with flexible type",
     "output_type": "error",
     "traceback": [
      "\u001b[0;31m---------------------------------------------------------------------------\u001b[0m",
      "\u001b[0;31mTypeError\u001b[0m                                 Traceback (most recent call last)",
      "\u001b[0;32m<ipython-input-5-bc859c5c4752>\u001b[0m in \u001b[0;36m<module>\u001b[0;34m\u001b[0m\n\u001b[0;32m----> 1\u001b[0;31m \u001b[0mnp\u001b[0m\u001b[0;34m.\u001b[0m\u001b[0mmax\u001b[0m\u001b[0;34m(\u001b[0m\u001b[0;34m'a'\u001b[0m\u001b[0;34m)\u001b[0m\u001b[0;34m\u001b[0m\u001b[0;34m\u001b[0m\u001b[0m\n\u001b[0m",
      "\u001b[0;32m~/miniconda3/envs/dspy3/lib/python3.6/site-packages/numpy/core/fromnumeric.py\u001b[0m in \u001b[0;36mamax\u001b[0;34m(a, axis, out, keepdims, initial)\u001b[0m\n\u001b[1;32m   2503\u001b[0m     \"\"\"\n\u001b[1;32m   2504\u001b[0m     return _wrapreduction(a, np.maximum, 'max', axis, None, out, keepdims=keepdims,\n\u001b[0;32m-> 2505\u001b[0;31m                           initial=initial)\n\u001b[0m\u001b[1;32m   2506\u001b[0m \u001b[0;34m\u001b[0m\u001b[0m\n\u001b[1;32m   2507\u001b[0m \u001b[0;34m\u001b[0m\u001b[0m\n",
      "\u001b[0;32m~/miniconda3/envs/dspy3/lib/python3.6/site-packages/numpy/core/fromnumeric.py\u001b[0m in \u001b[0;36m_wrapreduction\u001b[0;34m(obj, ufunc, method, axis, dtype, out, **kwargs)\u001b[0m\n\u001b[1;32m     84\u001b[0m                 \u001b[0;32mreturn\u001b[0m \u001b[0mreduction\u001b[0m\u001b[0;34m(\u001b[0m\u001b[0maxis\u001b[0m\u001b[0;34m=\u001b[0m\u001b[0maxis\u001b[0m\u001b[0;34m,\u001b[0m \u001b[0mout\u001b[0m\u001b[0;34m=\u001b[0m\u001b[0mout\u001b[0m\u001b[0;34m,\u001b[0m \u001b[0;34m**\u001b[0m\u001b[0mpasskwargs\u001b[0m\u001b[0;34m)\u001b[0m\u001b[0;34m\u001b[0m\u001b[0;34m\u001b[0m\u001b[0m\n\u001b[1;32m     85\u001b[0m \u001b[0;34m\u001b[0m\u001b[0m\n\u001b[0;32m---> 86\u001b[0;31m     \u001b[0;32mreturn\u001b[0m \u001b[0mufunc\u001b[0m\u001b[0;34m.\u001b[0m\u001b[0mreduce\u001b[0m\u001b[0;34m(\u001b[0m\u001b[0mobj\u001b[0m\u001b[0;34m,\u001b[0m \u001b[0maxis\u001b[0m\u001b[0;34m,\u001b[0m \u001b[0mdtype\u001b[0m\u001b[0;34m,\u001b[0m \u001b[0mout\u001b[0m\u001b[0;34m,\u001b[0m \u001b[0;34m**\u001b[0m\u001b[0mpasskwargs\u001b[0m\u001b[0;34m)\u001b[0m\u001b[0;34m\u001b[0m\u001b[0;34m\u001b[0m\u001b[0m\n\u001b[0m\u001b[1;32m     87\u001b[0m \u001b[0;34m\u001b[0m\u001b[0m\n\u001b[1;32m     88\u001b[0m \u001b[0;34m\u001b[0m\u001b[0m\n",
      "\u001b[0;31mTypeError\u001b[0m: cannot perform reduce with flexible type"
     ]
    }
   ],
   "source": [
    "np.max(\"a\")"
   ]
  },
  {
   "cell_type": "code",
   "execution_count": 6,
   "metadata": {
    "ExecuteTime": {
     "end_time": "2019-06-06T01:10:03.563658Z",
     "start_time": "2019-06-06T01:10:03.249513Z"
    },
    "run_control": {
     "marked": false
    }
   },
   "outputs": [],
   "source": [
    "%matplotlib inline\n",
    "%config InlineBackend.figure_format='retina'"
   ]
  },
  {
   "cell_type": "markdown",
   "metadata": {},
   "source": [
    "## Imports"
   ]
  },
  {
   "cell_type": "code",
   "execution_count": 7,
   "metadata": {
    "ExecuteTime": {
     "end_time": "2019-06-06T01:10:04.576999Z",
     "start_time": "2019-06-06T01:10:03.766720Z"
    }
   },
   "outputs": [],
   "source": [
    "import pandas as pd\n",
    "import matplotlib.pyplot as plt\n",
    "import seaborn as sns\n",
    "import os\n",
    "from pivottablejs import pivot_ui\n",
    "import sys\n",
    "import warnings\n",
    "\n",
    "warnings.filterwarnings(\"ignore\")"
   ]
  },
  {
   "cell_type": "markdown",
   "metadata": {},
   "source": [
    "# Keyboard shortcuts\n",
    "\n",
    "Practice doing these a few times and try to force yourself to use them whenever you can. \n",
    "\n",
    "## Help (h)\n",
    "For help in the Notebook, `ESC` + `h`\n",
    "(doesn't work in Lab)"
   ]
  },
  {
   "cell_type": "markdown",
   "metadata": {},
   "source": [
    "## Select multiple cells\n",
    "\n",
    "j, k, and arrow keys while holding shift selects multiple cells."
   ]
  },
  {
   "cell_type": "code",
   "execution_count": 8,
   "metadata": {
    "ExecuteTime": {
     "end_time": "2019-06-06T01:10:04.961049Z",
     "start_time": "2019-06-06T01:10:04.958531Z"
    }
   },
   "outputs": [],
   "source": [
    "first = 1"
   ]
  },
  {
   "cell_type": "code",
   "execution_count": 9,
   "metadata": {
    "ExecuteTime": {
     "end_time": "2019-06-06T01:10:05.217537Z",
     "start_time": "2019-06-06T01:10:05.214562Z"
    }
   },
   "outputs": [],
   "source": [
    "second = 2"
   ]
  },
  {
   "cell_type": "code",
   "execution_count": 10,
   "metadata": {
    "ExecuteTime": {
     "end_time": "2019-06-06T01:10:08.766229Z",
     "start_time": "2019-06-06T01:10:08.763514Z"
    }
   },
   "outputs": [],
   "source": [
    "third = 3"
   ]
  },
  {
   "cell_type": "markdown",
   "metadata": {},
   "source": [
    "## Split a cell with -\n",
    "\n",
    "Well, ctrl + shift + -, but remember it by horizontal."
   ]
  },
  {
   "cell_type": "markdown",
   "metadata": {},
   "source": [
    "## Add a new cell (a)bove"
   ]
  },
  {
   "cell_type": "markdown",
   "metadata": {},
   "source": [
    "## Add a new cell (b)elow"
   ]
  },
  {
   "cell_type": "markdown",
   "metadata": {},
   "source": [
    "## (d)(d)elete "
   ]
  },
  {
   "cell_type": "code",
   "execution_count": null,
   "metadata": {},
   "outputs": [],
   "source": []
  },
  {
   "cell_type": "code",
   "execution_count": null,
   "metadata": {},
   "outputs": [],
   "source": []
  },
  {
   "cell_type": "markdown",
   "metadata": {},
   "source": [
    "## (c)opy cells\n",
    "\n",
    "## (v)aste cells"
   ]
  },
  {
   "cell_type": "markdown",
   "metadata": {},
   "source": [
    "# Pivot Tables w/ pandas\n",
    "\n",
    "A library and example from: http://nicolas.kruchten.com/content/2015/09/jupyter_pivottablejs/"
   ]
  },
  {
   "cell_type": "code",
   "execution_count": 11,
   "metadata": {
    "ExecuteTime": {
     "end_time": "2019-06-06T01:10:13.328398Z",
     "start_time": "2019-06-06T01:10:13.312887Z"
    }
   },
   "outputs": [],
   "source": [
    "# df = pd.read_csv(\"../data/mps.csv\", encoding=\"ISO-8859-1\")\n",
    "# canadian_politics = pd.read_csv(\"../data/montreal_2014.csv\",)\n",
    "canadian_politics = pd.read_csv(\"../data/mps2.csv\")"
   ]
  },
  {
   "cell_type": "code",
   "execution_count": 12,
   "metadata": {
    "ExecuteTime": {
     "end_time": "2019-06-06T01:10:14.219019Z",
     "start_time": "2019-06-06T01:10:14.204457Z"
    }
   },
   "outputs": [
    {
     "data": {
      "text/html": [
       "<div>\n",
       "<style scoped>\n",
       "    .dataframe tbody tr th:only-of-type {\n",
       "        vertical-align: middle;\n",
       "    }\n",
       "\n",
       "    .dataframe tbody tr th {\n",
       "        vertical-align: top;\n",
       "    }\n",
       "\n",
       "    .dataframe thead th {\n",
       "        text-align: right;\n",
       "    }\n",
       "</style>\n",
       "<table border=\"1\" class=\"dataframe\">\n",
       "  <thead>\n",
       "    <tr style=\"text-align: right;\">\n",
       "      <th></th>\n",
       "      <th>Name</th>\n",
       "      <th>Party</th>\n",
       "      <th>Province</th>\n",
       "      <th>Age</th>\n",
       "      <th>Gender</th>\n",
       "    </tr>\n",
       "  </thead>\n",
       "  <tbody>\n",
       "    <tr>\n",
       "      <th>0</th>\n",
       "      <td>Liu, Laurin</td>\n",
       "      <td>NDP</td>\n",
       "      <td>Quebec</td>\n",
       "      <td>22.0</td>\n",
       "      <td>Female</td>\n",
       "    </tr>\n",
       "    <tr>\n",
       "      <th>1</th>\n",
       "      <td>Mourani, Maria</td>\n",
       "      <td>Bloc Quebecois</td>\n",
       "      <td>Quebec</td>\n",
       "      <td>43.0</td>\n",
       "      <td>Female</td>\n",
       "    </tr>\n",
       "    <tr>\n",
       "      <th>2</th>\n",
       "      <td>Sellah, Djaouida</td>\n",
       "      <td>NDP</td>\n",
       "      <td>Quebec</td>\n",
       "      <td>NaN</td>\n",
       "      <td>Female</td>\n",
       "    </tr>\n",
       "    <tr>\n",
       "      <th>3</th>\n",
       "      <td>St-Denis, Lise</td>\n",
       "      <td>NDP</td>\n",
       "      <td>Quebec</td>\n",
       "      <td>72.0</td>\n",
       "      <td>Female</td>\n",
       "    </tr>\n",
       "    <tr>\n",
       "      <th>4</th>\n",
       "      <td>Fry, Hedy</td>\n",
       "      <td>Liberal</td>\n",
       "      <td>British Columbia</td>\n",
       "      <td>71.0</td>\n",
       "      <td>Female</td>\n",
       "    </tr>\n",
       "    <tr>\n",
       "      <th>5</th>\n",
       "      <td>Turmel, Nycole</td>\n",
       "      <td>NDP</td>\n",
       "      <td>Quebec</td>\n",
       "      <td>70.0</td>\n",
       "      <td>Female</td>\n",
       "    </tr>\n",
       "    <tr>\n",
       "      <th>6</th>\n",
       "      <td>Sgro, Judy</td>\n",
       "      <td>Liberal</td>\n",
       "      <td>Ontario</td>\n",
       "      <td>68.0</td>\n",
       "      <td>Female</td>\n",
       "    </tr>\n",
       "    <tr>\n",
       "      <th>7</th>\n",
       "      <td>Raynault, Francine</td>\n",
       "      <td>NDP</td>\n",
       "      <td>Quebec</td>\n",
       "      <td>67.0</td>\n",
       "      <td>Female</td>\n",
       "    </tr>\n",
       "    <tr>\n",
       "      <th>8</th>\n",
       "      <td>Davidson, Patricia</td>\n",
       "      <td>Conservative</td>\n",
       "      <td>Ontario</td>\n",
       "      <td>66.0</td>\n",
       "      <td>Female</td>\n",
       "    </tr>\n",
       "    <tr>\n",
       "      <th>9</th>\n",
       "      <td>Smith, Joy</td>\n",
       "      <td>Conservative</td>\n",
       "      <td>Manitoba</td>\n",
       "      <td>65.0</td>\n",
       "      <td>Female</td>\n",
       "    </tr>\n",
       "  </tbody>\n",
       "</table>\n",
       "</div>"
      ],
      "text/plain": [
       "                 Name           Party          Province   Age  Gender\n",
       "0         Liu, Laurin             NDP            Quebec  22.0  Female\n",
       "1      Mourani, Maria  Bloc Quebecois            Quebec  43.0  Female\n",
       "2    Sellah, Djaouida             NDP            Quebec   NaN  Female\n",
       "3      St-Denis, Lise             NDP            Quebec  72.0  Female\n",
       "4           Fry, Hedy         Liberal  British Columbia  71.0  Female\n",
       "5      Turmel, Nycole             NDP            Quebec  70.0  Female\n",
       "6          Sgro, Judy         Liberal           Ontario  68.0  Female\n",
       "7  Raynault, Francine             NDP            Quebec  67.0  Female\n",
       "8  Davidson, Patricia    Conservative           Ontario  66.0  Female\n",
       "9          Smith, Joy    Conservative          Manitoba  65.0  Female"
      ]
     },
     "execution_count": 12,
     "metadata": {},
     "output_type": "execute_result"
    }
   ],
   "source": [
    "# recommend using .head()\n",
    "canadian_politics.head(10)"
   ]
  },
  {
   "cell_type": "code",
   "execution_count": 18,
   "metadata": {
    "ExecuteTime": {
     "end_time": "2019-06-06T01:11:13.800028Z",
     "start_time": "2019-06-06T01:11:13.544163Z"
    }
   },
   "outputs": [
    {
     "data": {
      "image/png": "[encoded data removed]",
      "text/plain": [
       "<Figure size 432x288 with 1 Axes>"
      ]
     },
     "metadata": {
      "image/png": {
       "height": 308,
       "width": 428
      },
      "needs_background": "light"
     },
     "output_type": "display_data"
    }
   ],
   "source": [
    "sns.distplot(canadian_politics[\"Age\"].dropna())"
   ]
  },
  {
   "cell_type": "code",
   "execution_count": 16,
   "metadata": {
    "ExecuteTime": {
     "end_time": "2019-06-06T01:10:54.381092Z",
     "start_time": "2019-06-06T01:10:54.378366Z"
    }
   },
   "outputs": [],
   "source": [
    "sns.set_context(\"poster\", font_scale=1.3)"
   ]
  },
  {
   "cell_type": "code",
   "execution_count": 17,
   "metadata": {
    "ExecuteTime": {
     "end_time": "2019-06-06T01:10:56.109916Z",
     "start_time": "2019-06-06T01:10:55.640317Z"
    }
   },
   "outputs": [
    {
     "data": {
      "image/png": "[encoded data removed]",
      "text/plain": [
       "<Figure size 864x576 with 1 Axes>"
      ]
     },
     "metadata": {
      "image/png": {
       "height": 521,
       "width": 810
      },
      "needs_background": "light"
     },
     "output_type": "display_data"
    }
   ],
   "source": [
    "fig, ax = plt.subplots(figsize=(12, 8))\n",
    "sns.distplot(canadian_politics[\"Age\"].dropna())\n",
    "fig.tight_layout()"
   ]
  },
  {
   "cell_type": "code",
   "execution_count": null,
   "metadata": {},
   "outputs": [],
   "source": []
  },
  {
   "cell_type": "code",
   "execution_count": null,
   "metadata": {},
   "outputs": [],
   "source": []
  },
  {
   "cell_type": "code",
   "execution_count": null,
   "metadata": {},
   "outputs": [],
   "source": []
  },
  {
   "cell_type": "code",
   "execution_count": null,
   "metadata": {},
   "outputs": [],
   "source": []
  },
  {
   "cell_type": "code",
   "execution_count": null,
   "metadata": {},
   "outputs": [],
   "source": []
  },
  {
   "cell_type": "markdown",
   "metadata": {},
   "source": [
    "# Enhanced Pandas Dataframe Display"
   ]
  },
  {
   "cell_type": "code",
   "execution_count": 12,
   "metadata": {
    "ExecuteTime": {
     "end_time": "2019-01-18T02:18:17.616617Z",
     "start_time": "2019-01-18T02:18:17.614313Z"
    }
   },
   "outputs": [],
   "source": [
    "# Province, Party, Average, Age, Heatmap"
   ]
  },
  {
   "cell_type": "code",
   "execution_count": null,
   "metadata": {
    "ExecuteTime": {
     "end_time": "2018-09-17T21:58:49.991969Z",
     "start_time": "2018-09-17T21:58:49.987737Z"
    }
   },
   "outputs": [],
   "source": []
  },
  {
   "cell_type": "code",
   "execution_count": 19,
   "metadata": {
    "ExecuteTime": {
     "end_time": "2019-06-06T01:11:29.625989Z",
     "start_time": "2019-06-06T01:11:29.618614Z"
    },
    "scrolled": false
   },
   "outputs": [
    {
     "data": {
      "text/html": [
       "\n",
       "        <iframe\n",
       "            width=\"100%\"\n",
       "            height=\"500\"\n",
       "            src=\"pivottablejs.html\"\n",
       "            frameborder=\"0\"\n",
       "            allowfullscreen\n",
       "        ></iframe>\n",
       "        "
      ],
      "text/plain": [
       "<IPython.lib.display.IFrame at 0x11c430668>"
      ]
     },
     "execution_count": 19,
     "metadata": {},
     "output_type": "execute_result"
    }
   ],
   "source": [
    "pivot_ui(canadian_politics)"
   ]
  },
  {
   "cell_type": "markdown",
   "metadata": {},
   "source": [
    "# Tab"
   ]
  },
  {
   "cell_type": "code",
   "execution_count": 20,
   "metadata": {
    "ExecuteTime": {
     "end_time": "2019-06-06T01:16:25.092378Z",
     "start_time": "2019-06-06T01:16:25.089912Z"
    }
   },
   "outputs": [],
   "source": [
    "import numpy as np"
   ]
  },
  {
   "cell_type": "code",
   "execution_count": null,
   "metadata": {
    "ExecuteTime": {
     "end_time": "2019-01-17T16:35:39.722700Z",
     "start_time": "2019-01-17T16:35:39.705147Z"
    }
   },
   "outputs": [],
   "source": [
    "np.random.chisquare()"
   ]
  },
  {
   "cell_type": "code",
   "execution_count": null,
   "metadata": {
    "ExecuteTime": {
     "end_time": "2018-06-06T07:41:48.859315Z",
     "start_time": "2018-06-06T07:41:48.845245Z"
    }
   },
   "outputs": [],
   "source": [
    "# pure tab right ↓ less useful\n",
    "np.random.choice()"
   ]
  },
  {
   "cell_type": "code",
   "execution_count": null,
   "metadata": {},
   "outputs": [],
   "source": []
  },
  {
   "cell_type": "code",
   "execution_count": null,
   "metadata": {},
   "outputs": [],
   "source": []
  },
  {
   "cell_type": "code",
   "execution_count": null,
   "metadata": {},
   "outputs": [],
   "source": []
  },
  {
   "cell_type": "markdown",
   "metadata": {},
   "source": [
    "## shift-tab"
   ]
  },
  {
   "cell_type": "code",
   "execution_count": 23,
   "metadata": {
    "ExecuteTime": {
     "end_time": "2019-01-18T02:30:37.856964Z",
     "start_time": "2019-01-18T02:30:37.851804Z"
    }
   },
   "outputs": [
    {
     "data": {
      "text/plain": [
       "array([50., 51., 52., 53., 54., 55., 56., 57., 58., 59., 60., 61., 62.,\n",
       "       63., 64., 65., 66., 67., 68., 69., 70., 71., 72., 73., 74., 75.,\n",
       "       76., 77., 78., 79., 80., 81., 82., 83., 84., 85., 86., 87., 88.,\n",
       "       89., 90., 91., 92., 93., 94., 95., 96., 97., 98., 99.])"
      ]
     },
     "execution_count": 23,
     "metadata": {},
     "output_type": "execute_result"
    }
   ],
   "source": [
    "# shift-tab right ↓ more useful\n",
    "np.linspace(start=50, endpoint=False, stop=100)"
   ]
  },
  {
   "cell_type": "code",
   "execution_count": null,
   "metadata": {},
   "outputs": [],
   "source": []
  },
  {
   "cell_type": "code",
   "execution_count": null,
   "metadata": {},
   "outputs": [],
   "source": []
  },
  {
   "cell_type": "code",
   "execution_count": null,
   "metadata": {},
   "outputs": [],
   "source": []
  },
  {
   "cell_type": "markdown",
   "metadata": {},
   "source": [
    "## shift-tab-tab"
   ]
  },
  {
   "cell_type": "markdown",
   "metadata": {},
   "source": [
    "## shift-tab-tab-tab"
   ]
  },
  {
   "cell_type": "code",
   "execution_count": null,
   "metadata": {},
   "outputs": [],
   "source": [
    "np.linspace(50, 150, num=100, endpoint=False)"
   ]
  },
  {
   "cell_type": "markdown",
   "metadata": {},
   "source": [
    "## shift-tab-tab-tab-tab"
   ]
  },
  {
   "cell_type": "code",
   "execution_count": null,
   "metadata": {
    "ExecuteTime": {
     "end_time": "2018-06-06T07:41:53.566846Z",
     "start_time": "2018-06-06T07:41:53.556479Z"
    }
   },
   "outputs": [],
   "source": [
    "plt.plot(np.linspace(start, stop))"
   ]
  },
  {
   "cell_type": "markdown",
   "metadata": {},
   "source": [
    "## ?"
   ]
  },
  {
   "cell_type": "code",
   "execution_count": 21,
   "metadata": {
    "ExecuteTime": {
     "end_time": "2019-06-06T01:19:33.367316Z",
     "start_time": "2019-06-06T01:19:33.361935Z"
    }
   },
   "outputs": [],
   "source": [
    "np.linspace?"
   ]
  },
  {
   "cell_type": "code",
   "execution_count": 25,
   "metadata": {
    "ExecuteTime": {
     "end_time": "2019-01-18T02:31:40.370676Z",
     "start_time": "2019-01-18T02:31:40.362984Z"
    }
   },
   "outputs": [],
   "source": [
    "?np.linspace"
   ]
  },
  {
   "cell_type": "markdown",
   "metadata": {},
   "source": [
    "## ??\n",
    "\n",
    "(Lab can scroll if you click)"
   ]
  },
  {
   "cell_type": "code",
   "execution_count": 23,
   "metadata": {
    "ExecuteTime": {
     "end_time": "2019-06-06T01:20:59.394323Z",
     "start_time": "2019-06-06T01:20:59.376747Z"
    },
    "scrolled": false
   },
   "outputs": [],
   "source": [
    "np.linspace??"
   ]
  },
  {
   "cell_type": "code",
   "execution_count": 24,
   "metadata": {
    "ExecuteTime": {
     "end_time": "2019-06-06T01:21:11.273736Z",
     "start_time": "2019-06-06T01:21:11.034246Z"
    }
   },
   "outputs": [],
   "source": [
    "!subl ~/miniconda3/envs/dspy3/lib/python3.6/site-packages/numpy/core/function_base.py"
   ]
  },
  {
   "cell_type": "code",
   "execution_count": null,
   "metadata": {},
   "outputs": [],
   "source": []
  },
  {
   "cell_type": "code",
   "execution_count": 25,
   "metadata": {
    "ExecuteTime": {
     "end_time": "2019-06-06T01:22:29.991199Z",
     "start_time": "2019-06-06T01:22:29.987721Z"
    }
   },
   "outputs": [
    {
     "name": "stdout",
     "output_type": "stream",
     "text": [
      "\n",
      "This is a multi-lined string\n",
      "that I want to write inside of a function.\n",
      "Notice what happens when I print this.\n",
      "    And when something is indented more.\n"
     ]
    }
   ],
   "source": [
    "import textwrap\n",
    "def example_function():\n",
    "    \"\"\"Docstring for example function\"\"\"\n",
    "    \n",
    "    print(textwrap.dedent(\"\"\"\n",
    "    This is a multi-lined string\n",
    "    that I want to write inside of a function.\n",
    "    Notice what happens when I print this.\n",
    "        And when something is indented more.\"\"\"))\n",
    "\n",
    "\n",
    "example_function()"
   ]
  },
  {
   "cell_type": "markdown",
   "metadata": {},
   "source": [
    "## Inspect _everything_ and Find and Replace"
   ]
  },
  {
   "cell_type": "code",
   "execution_count": 31,
   "metadata": {
    "ExecuteTime": {
     "end_time": "2019-06-06T01:24:10.407632Z",
     "start_time": "2019-06-06T01:24:10.404553Z"
    }
   },
   "outputs": [],
   "source": [
    "# But first find and replace\n",
    "def silly_function(xval):\n",
    "    \"\"\"Takes a value and returns the value.\"\"\"\n",
    "    xval_sq = xval ** 2.0\n",
    "    1 + 12\n",
    "    xval_abs = np.sqrt(xval_sq)\n",
    "    return xval_abs"
   ]
  },
  {
   "cell_type": "code",
   "execution_count": 28,
   "metadata": {
    "ExecuteTime": {
     "end_time": "2019-06-06T01:23:40.735159Z",
     "start_time": "2019-06-06T01:23:40.722960Z"
    }
   },
   "outputs": [
    {
     "data": {
      "text/plain": [
       "2.0"
      ]
     },
     "execution_count": 28,
     "metadata": {},
     "output_type": "execute_result"
    }
   ],
   "source": [
    "silly_function(-2,)"
   ]
  },
  {
   "cell_type": "code",
   "execution_count": 29,
   "metadata": {
    "ExecuteTime": {
     "end_time": "2019-06-06T01:23:46.255635Z",
     "start_time": "2019-06-06T01:23:46.250712Z"
    }
   },
   "outputs": [],
   "source": [
    "silly_function?"
   ]
  },
  {
   "cell_type": "code",
   "execution_count": 32,
   "metadata": {
    "ExecuteTime": {
     "end_time": "2019-06-06T01:24:15.647849Z",
     "start_time": "2019-06-06T01:24:15.641493Z"
    }
   },
   "outputs": [],
   "source": [
    "silly_function??"
   ]
  },
  {
   "cell_type": "code",
   "execution_count": 33,
   "metadata": {
    "ExecuteTime": {
     "end_time": "2019-06-06T01:24:35.301943Z",
     "start_time": "2019-06-06T01:24:35.175058Z"
    }
   },
   "outputs": [
    {
     "name": "stdout",
     "output_type": "stream",
     "text": [
      "coal_prod_2008.csv           collincountyforeclosures.csv\r\n",
      "coal_prod_2009.csv           example.csv\r\n",
      "coal_prod_2010.csv           montreal_2014.csv\r\n",
      "coal_prod_2011.csv           mps.csv\r\n",
      "coal_prod_2012.csv           mps2.csv\r\n",
      "coal_prod_cleaned.csv        nbextensions.png\r\n",
      "coal_prod_cleaned.csv.zip    raw_players.csv.gz\r\n",
      "coalpublic2012.xls\r\n"
     ]
    }
   ],
   "source": [
    "!ls ../data/"
   ]
  },
  {
   "cell_type": "code",
   "execution_count": 34,
   "metadata": {
    "ExecuteTime": {
     "end_time": "2019-06-06T01:24:48.837558Z",
     "start_time": "2019-06-06T01:24:48.819850Z"
    }
   },
   "outputs": [],
   "source": [
    "coal_years = !ls ../data/coal_prod_20*.csv"
   ]
  },
  {
   "cell_type": "code",
   "execution_count": 35,
   "metadata": {
    "ExecuteTime": {
     "end_time": "2019-06-06T01:24:49.355373Z",
     "start_time": "2019-06-06T01:24:49.351369Z"
    }
   },
   "outputs": [
    {
     "data": {
      "text/plain": [
       "['../data/coal_prod_2008.csv',\n",
       " '../data/coal_prod_2009.csv',\n",
       " '../data/coal_prod_2010.csv',\n",
       " '../data/coal_prod_2011.csv',\n",
       " '../data/coal_prod_2012.csv']"
      ]
     },
     "execution_count": 35,
     "metadata": {},
     "output_type": "execute_result"
    }
   ],
   "source": [
    "coal_years"
   ]
  },
  {
   "cell_type": "markdown",
   "metadata": {},
   "source": [
    "## Line numbers (lowercase \"L\")\n",
    "\n",
    "Type lowercase \"L\" to have line numbers; shift-L for line numbers notebook-wide."
   ]
  },
  {
   "cell_type": "markdown",
   "metadata": {},
   "source": [
    "## Move blocks of code around\n",
    "\n",
    "\n",
    "### Indent/dedent\n",
    "\n",
    "    Cmd + [\n",
    "    Cmd + ]\n",
    "\n",
    "### Comment\n",
    "\n",
    "    Cmd + /"
   ]
  },
  {
   "cell_type": "code",
   "execution_count": 40,
   "metadata": {
    "ExecuteTime": {
     "end_time": "2019-06-06T01:35:39.669153Z",
     "start_time": "2019-06-06T01:35:39.665995Z"
    }
   },
   "outputs": [],
   "source": [
    "example = {}\n",
    "\n",
    "# Indent/dedent/comment\n",
    "for index in range(5):\n",
    "    example[\"float_one\"] = 1.0\n",
    "    example[\"float_two\"] = 2.0\n",
    "    example[\"float_three\"] = 3.0\n",
    "    example[\"float_four\"] = 4.0"
   ]
  },
  {
   "cell_type": "code",
   "execution_count": null,
   "metadata": {},
   "outputs": [],
   "source": []
  },
  {
   "cell_type": "code",
   "execution_count": null,
   "metadata": {},
   "outputs": [],
   "source": []
  },
  {
   "cell_type": "code",
   "execution_count": null,
   "metadata": {},
   "outputs": [],
   "source": []
  },
  {
   "cell_type": "code",
   "execution_count": null,
   "metadata": {},
   "outputs": [],
   "source": []
  },
  {
   "cell_type": "code",
   "execution_count": null,
   "metadata": {},
   "outputs": [],
   "source": []
  },
  {
   "cell_type": "code",
   "execution_count": null,
   "metadata": {},
   "outputs": [],
   "source": []
  },
  {
   "cell_type": "code",
   "execution_count": null,
   "metadata": {},
   "outputs": [],
   "source": []
  },
  {
   "cell_type": "markdown",
   "metadata": {},
   "source": [
    "## Multicursor magic\n",
    "\n",
    "Hold down `option`, click and drag (for big cursor).\n",
    "\n",
    "cmd + click == wherever you click. \n",
    "\n",
    "Shift command P -- command palette."
   ]
  },
  {
   "cell_type": "code",
   "execution_count": 41,
   "metadata": {
    "ExecuteTime": {
     "end_time": "2019-06-06T01:35:43.677925Z",
     "start_time": "2019-06-06T01:35:43.675237Z"
    }
   },
   "outputs": [],
   "source": [
    "example[\"one_better_neat\"] = 1\n",
    "example[\"two_better_neat\"] = 2\n",
    "example[\"three_better_neat\"] = 3\n",
    "example[\"four_better_neat\"] = 4"
   ]
  },
  {
   "cell_type": "markdown",
   "metadata": {},
   "source": [
    "## Monospace"
   ]
  },
  {
   "cell_type": "markdown",
   "metadata": {},
   "source": [
    "You can also get `monospaced` fonts by indenting 4 spaces:\n",
    "\n",
    "    mkdir toc\n",
    "    cd toc"
   ]
  },
  {
   "cell_type": "markdown",
   "metadata": {},
   "source": [
    "## Syntax Highlighting"
   ]
  },
  {
   "cell_type": "markdown",
   "metadata": {},
   "source": [
    "Wrap with triple-backticks and language:\n",
    "\n",
    "```bash\n",
    "mkdir toc\n",
    "cd toc\n",
    "wget https://repo.continuum.io/miniconda/Miniconda3-latest-MacOSX-x86_64.sh\n",
    "```"
   ]
  },
  {
   "cell_type": "markdown",
   "metadata": {},
   "source": [
    "```SQL\n",
    "SELECT first_name,\n",
    "       last_name,\n",
    "       year_of_birth\n",
    "FROM presidents\n",
    "WHERE year_of_birth > 1800;\n",
    "```"
   ]
  },
  {
   "cell_type": "markdown",
   "metadata": {},
   "source": [
    "## Headings and LaTeX\n",
    "\n",
    "With text and $\\LaTeX$ support.\n",
    "\n",
    "$$\\begin{align}\n",
    "        B'&=-\\nabla \\times E,\\\\\n",
    "        E'&=\\nabla \\times B - 4\\pi j\n",
    "\\end{align}$$"
   ]
  },
  {
   "cell_type": "markdown",
   "metadata": {},
   "source": [
    "# Magics\n",
    "\n",
    " - `%` $\\equiv$ inline magic\n",
    " - `%%` $\\equiv$ cell magic"
   ]
  },
  {
   "cell_type": "code",
   "execution_count": 42,
   "metadata": {
    "ExecuteTime": {
     "end_time": "2019-06-06T01:37:27.943593Z",
     "start_time": "2019-06-06T01:37:27.939641Z"
    }
   },
   "outputs": [
    {
     "data": {
      "text/latex": [
       "\n",
       "If you want to get crazier$\\ldots$\n",
       "\n",
       "\\begin{equation}\n",
       "\\oint_S {E_n dA = \\frac{1}{{\\varepsilon _0 }}} Q_\\textrm{inside}\n",
       "\\end{equation}\n"
      ],
      "text/plain": [
       "<IPython.core.display.Latex object>"
      ]
     },
     "metadata": {},
     "output_type": "display_data"
    }
   ],
   "source": [
    "%%latex\n",
    "\n",
    "If you want to get crazier$\\ldots$\n",
    "\n",
    "\\begin{equation}\n",
    "\\oint_S {E_n dA = \\frac{1}{{\\varepsilon _0 }}} Q_\\textrm{inside}\n",
    "\\end{equation}"
   ]
  },
  {
   "cell_type": "code",
   "execution_count": 43,
   "metadata": {
    "ExecuteTime": {
     "end_time": "2019-06-06T01:38:07.498531Z",
     "start_time": "2019-06-06T01:38:07.415481Z"
    }
   },
   "outputs": [
    {
     "name": "stdout",
     "output_type": "stream",
     "text": [
      "hi\n"
     ]
    }
   ],
   "source": [
    "%%python2\n",
    "print \"hi\""
   ]
  },
  {
   "cell_type": "code",
   "execution_count": 44,
   "metadata": {
    "ExecuteTime": {
     "end_time": "2019-06-06T01:38:23.854871Z",
     "start_time": "2019-06-06T01:38:20.056585Z"
    },
    "collapsed": true
   },
   "outputs": [
    {
     "name": "stderr",
     "output_type": "stream",
     "text": [
      "--2019-06-05 18:38:20--  http://www.ast.cam.ac.uk/~rfc/vpfit11.1.tar.gz\n",
      "Resolving www.ast.cam.ac.uk (www.ast.cam.ac.uk)... 131.111.71.71\n",
      "Connecting to www.ast.cam.ac.uk (www.ast.cam.ac.uk)|131.111.71.71|:80... connected.\n",
      "HTTP request sent, awaiting response... 301 Moved Permanently\n",
      "Location: https://www.ast.cam.ac.uk:443/~rfc/vpfit11.1.tar.gz [following]\n",
      "--2019-06-05 18:38:20--  https://www.ast.cam.ac.uk/~rfc/vpfit11.1.tar.gz\n",
      "Connecting to www.ast.cam.ac.uk (www.ast.cam.ac.uk)|131.111.71.71|:443... connected.\n",
      "HTTP request sent, awaiting response... 200 OK\n",
      "Length: 3761497 (3.6M) [application/x-gzip]\n",
      "Saving to: ‘vpfit11.1.tar.gz.2’\n",
      "\n",
      "     0K .......... .......... .......... .......... ..........  1%  109K 33s\n",
      "    50K .......... .......... .......... .......... ..........  2%  326K 22s\n",
      "   100K .......... .......... .......... .......... ..........  4% 14.5M 14s\n",
      "   150K .......... .......... .......... .......... ..........  5%  326K 13s\n",
      "   200K .......... .......... .......... .......... ..........  6% 13.4M 11s\n",
      "   250K .......... .......... .......... .......... ..........  8%  325K 10s\n",
      "   300K .......... .......... .......... .......... ..........  9% 4.52M 9s\n",
      "   350K .......... .......... .......... .......... .......... 10% 16.4M 8s\n",
      "   400K .......... .......... .......... .......... .......... 12%  359K 8s\n",
      "   450K .......... .......... .......... .......... .......... 13% 5.37M 7s\n",
      "   500K .......... .......... .......... .......... .......... 14% 7.23M 6s\n",
      "   550K .......... .......... .......... .......... .......... 16% 13.9M 6s\n",
      "   600K .......... .......... .......... .......... .......... 17%  374K 6s\n",
      "   650K .......... .......... .......... .......... .......... 19% 19.5M 5s\n",
      "   700K .......... .......... .......... .......... .......... 20% 5.72M 5s\n",
      "   750K .......... .......... .......... .......... .......... 21% 9.46M 4s\n",
      "   800K .......... .......... .......... .......... .......... 23% 14.1M 4s\n",
      "   850K .......... .......... .......... .......... .......... 24%  342K 4s\n",
      "   900K .......... .......... .......... .......... .......... 25% 87.0M 4s\n",
      "   950K .......... .......... .......... .......... .......... 27% 19.6M 4s\n",
      "  1000K .......... .......... .......... .......... .......... 28% 9.05M 4s\n",
      "  1050K .......... .......... .......... .......... .......... 29% 7.90M 3s\n",
      "  1100K .......... .......... .......... .......... .......... 31% 12.6M 3s\n",
      "  1150K .......... .......... .......... .......... .......... 32% 15.4M 3s\n",
      "  1200K .......... .......... .......... .......... .......... 34%  221K 3s\n",
      "  1250K .......... .......... .......... .......... .......... 35% 19.1M 3s\n",
      "  1300K .......... .......... .......... .......... .......... 36% 16.5M 3s\n",
      "  1350K .......... .......... .......... .......... .......... 38% 14.1M 3s\n",
      "  1400K .......... .......... .......... .......... .......... 39% 21.4M 3s\n",
      "  1450K .......... .......... .......... .......... .......... 40% 20.0M 2s\n",
      "  1500K .......... .......... .......... .......... .......... 42% 23.0M 2s\n",
      "  1550K .......... .......... .......... .......... .......... 43% 21.3M 2s\n",
      "  1600K .......... .......... .......... .......... .......... 44% 17.3M 2s\n",
      "  1650K .......... .......... .......... .......... .......... 46%  371K 2s\n",
      "  1700K .......... .......... .......... .......... .......... 47% 4.34M 2s\n",
      "  1750K .......... .......... .......... .......... .......... 49% 5.71M 2s\n",
      "  1800K .......... .......... .......... .......... .......... 50% 3.20M 2s\n",
      "  1850K .......... .......... .......... .......... .......... 51% 20.0M 2s\n",
      "  1900K .......... .......... .......... .......... .......... 53% 19.9M 2s\n",
      "  1950K .......... .......... .......... .......... .......... 54% 17.5M 2s\n",
      "  2000K .......... .......... .......... .......... .......... 55% 5.11M 1s\n",
      "  2050K .......... .......... .......... .......... .......... 57% 7.21M 1s\n",
      "  2100K .......... .......... .......... .......... .......... 58% 6.09M 1s\n",
      "  2150K .......... .......... .......... .......... .......... 59%  515K 1s\n",
      "  2200K .......... .......... .......... .......... .......... 61% 17.4M 1s\n",
      "  2250K .......... .......... .......... .......... .......... 62% 4.07M 1s\n",
      "  2300K .......... .......... .......... .......... .......... 63% 3.14M 1s\n",
      "  2350K .......... .......... .......... .......... .......... 65% 8.79M 1s\n",
      "  2400K .......... .......... .......... .......... .......... 66% 9.30M 1s\n",
      "  2450K .......... .......... .......... .......... .......... 68% 12.8M 1s\n",
      "  2500K .......... .......... .......... .......... .......... 69% 17.2M 1s\n",
      "  2550K .......... .......... .......... .......... .......... 70% 12.6M 1s\n",
      "  2600K .......... .......... .......... .......... .......... 72% 15.3M 1s\n",
      "  2650K .......... .......... .......... .......... .......... 73%  554K 1s\n",
      "  2700K .......... .......... .......... .......... .......... 74% 3.95M 1s\n",
      "  2750K .......... .......... .......... .......... .......... 76% 3.24M 1s\n",
      "  2800K .......... .......... .......... .......... .......... 77% 6.25M 1s\n",
      "  2850K .......... .......... .......... .......... .......... 78% 4.28M 1s\n",
      "  2900K .......... .......... .......... .......... .......... 80% 8.57M 1s\n",
      "  2950K .......... .......... .......... .......... .......... 81% 7.44M 0s\n",
      "  3000K .......... .......... .......... .......... .......... 83% 25.9M 0s\n",
      "  3050K .......... .......... .......... .......... .......... 84% 12.4M 0s\n",
      "  3100K .......... .......... .......... .......... .......... 85% 32.5M 0s\n",
      "  3150K .......... .......... .......... .......... .......... 87% 22.6M 0s\n",
      "  3200K .......... .......... .......... .......... .......... 88%  520K 0s\n",
      "  3250K .......... .......... .......... .......... .......... 89% 9.42M 0s\n",
      "  3300K .......... .......... .......... .......... .......... 91% 2.86M 0s\n",
      "  3350K .......... .......... .......... .......... .......... 92% 12.2M 0s\n",
      "  3400K .......... .......... .......... .......... .......... 93% 5.82M 0s\n",
      "  3450K .......... .......... .......... .......... .......... 95% 6.67M 0s\n",
      "  3500K .......... .......... .......... .......... .......... 96% 10.9M 0s\n",
      "  3550K .......... .......... .......... .......... .......... 98% 10.2M 0s\n",
      "  3600K .......... .......... .......... .......... .......... 99% 5.89M 0s\n",
      "  3650K .......... .......... ...                             100% 75.7M=2.3s\n",
      "\n",
      "2019-06-05 18:38:23 (1.54 MB/s) - ‘vpfit11.1.tar.gz.2’ saved [3761497/3761497]\n",
      "\n",
      "x ./\n",
      "x ./#temp2#\n",
      "x ./atom.dat\n",
      "x ./atomtab.f\n",
      "x ./autovpin.f\n",
      "x ./bintofits.f\n",
      "x ./calcn.f\n",
      "x ./case.f\n",
      "x ./chanwav.f\n",
      "x ./chisum26.f\n",
      "x ./cmax1.f\n",
      "x ./cms_src.f\n",
      "x ./com_cons.f\n",
      "x ./dcholin.f\n",
      "x ./dexpf.f\n",
      "x ./dlycabscft.f\n",
      "x ./docs/\n",
      "x ./dotick.f\n",
      "x ./dpoly.f\n",
      "x ./dsepvar.f\n",
      "x ./eigen.f\n",
      "x ./erfcc.f\n",
      "x ./externals.f\n",
      "x ./fl_gen.f\n",
      "x ./gen_vpin.f\n",
      "x ./ginsert.f\n",
      "x ./gu_tabsort.f\n",
      "x ./hedit.f\n",
      "x ./linfit.f\n",
      "x ./lm_udchole.f\n",
      "x ./lyregset.f\n",
      "x ./makefile\n",
      "x ./medianv.f\n",
      "x ./MMatomdat_atom_noiso.dat\n",
      "x ./pda_che2d.f\n",
      "x ./pda_dp1vlu.f\n",
      "x ./pda_dpcoef.f\n",
      "x ./pda_dpolft.f\n",
      "x ./pda_qsiad.f\n",
      "x ./pda_src.f\n",
      "x ./pda_xermsg.f\n",
      "x ./pgfiles/\n",
      "x ./pldef.f\n",
      "x ./plset.f\n",
      "x ./pr_mdian1.f\n",
      "x ./prg_polyd.f\n",
      "x ./probks.f\n",
      "x ./._rd_ablin.f\n",
      "x ./rd_ablin.f\n",
      "x ./rd_adnois.f\n",
      "x ./rd_advprof.f\n",
      "x ./rd_alias.f\n",
      "x ./rd_bclimsreset.f\n",
      "x ./rd_comalias.f\n",
      "x ./rd_compreset.f\n",
      "x ./rd_cuchstr.f\n",
      "x ./rd_cufilnm.f\n",
      "x ./rd_cuplot.f\n",
      "x ./rd_cuwvrest.f\n",
      "x ./rd_cydata.f\n",
      "x ./rd_daswap.f\n",
      "x ./rd_dblid.f\n",
      "x ./rd_dmanip.f\n",
      "x ./rd_drebin.f\n",
      "x ./rd_drebing.f\n",
      "x ./rd_dsetbad.f\n",
      "x ./rd_dvcont.f\n",
      "x ./rd_esoftread.f\n",
      "x ./rd_estcolb.f\n",
      "x ./rd_ewwav.f\n",
      "x ./rd_extabs.f\n",
      "x ./rd_fluxbb.f\n",
      "x ./rd_flxval.f\n",
      "x ./rd_gen.f\n",
      "x ./rd_gprof.f\n",
      "x ./rd_gprofe.f\n",
      "x ./rd_gpsim.f\n",
      "x ./rd_hdust.f\n",
      "x ./rd_intinfo.f\n",
      "x ./rd_intvtab.f\n",
      "x ./rd_jbsim.f\n",
      "x ./rd_markreg.f\n",
      "x ./rd_mattrd.f\n",
      "x ./rd_meantau.f\n",
      "x ./rd_medvp.f\n",
      "x ./rd_moderrs.f\n",
      "x ./rd_multiset.f\n",
      "x ./rd_pgannot.f\n",
      "x ./rd_plcset.f\n",
      "x ./rd_pmpset.f\n",
      "x ./rd_prhelp.dat\n",
      "x ./rd_prhelp.f\n",
      "x ./rd_qdatafiles.f\n",
      "x ./rd_readlinwav.f\n",
      "x ./rd_sclsig.f\n",
      "x ./rd_scrng.f\n",
      "x ./rd_scwval.f\n",
      "x ./rd_seekmax2.f\n",
      "x ./rd_setintv.f\n",
      "x ./rd_sizes.f\n",
      "x ./rd_splvtick.f\n",
      "x ./rd_stackz.f\n",
      "x ./rd_start.dat\n",
      "x ./rd_stplot.f\n",
      "x ./rd_taueff.f\n",
      "x ./rd_tgplots.f\n",
      "x ./rd_tickvpfl.f\n",
      "x ./rd_ulimse.f\n",
      "x ./rd_ulinfo.f\n",
      "x ./rd_wrfits.f\n",
      "x ./rd_wrwcfits.f\n",
      "x ./rd_wvnewt.f\n",
      "x ./rd_wvsc.f\n",
      "x ./rd_xcdc.f\n",
      "x ./rd_zcorr.f\n",
      "x ./rd_ztabcf.f\n",
      "x ./rhedit.f\n",
      "x ./sepvar.f\n",
      "x ./splot.f\n",
      "x ./spvoigt.f\n",
      "x ./svbksbd.f\n",
      "x ./svdajc.f\n",
      "x ./svdcmpd.f\n",
      "x ./svdfit.f\n",
      "x ./tempccc.f\n",
      "x ./tickpg.f\n",
      "x ./tikset.f\n",
      "x ./tstfit3d.f\n",
      "x ./udchole.f\n",
      "x ./varythis.f\n",
      "x ./voigt_king.f\n",
      "x ./._voigt_subroutine.f\n",
      "x ./voigt_subroutine.f\n",
      "x ./vp_abfind.f\n",
      "x ./vp_abundset.f\n",
      "x ./vp_addline.f\n",
      "x ./vp_addxlink.f\n",
      "x ./vp_archwav.f\n",
      "x ./vp_asciin.f\n",
      "x ./vp_ationsep.f\n",
      "x ./vp_atomass.f\n",
      "x ./vp_blfixf.f\n",
      "x ./vp_cfcopy.f\n",
      "x ./vp_chanwav.f\n",
      "x ./vp_charlims.f\n",
      "x ./vp_chdisprof.f\n",
      "x ./vp_checkb.f\n",
      "x ./vp_checkn.f\n",
      "x ./vp_chipconv.f\n",
      "x ./vp_chsation.f\n",
      "x ./vp_chspread.f\n",
      "x ./vp_cmssrc.f\n",
      "x ./vp_curse.f\n",
      "x ./vp_cval.f\n",
      "x ./vp_dattim.f\n",
      "x ./vp_dattim_alt.f\n",
      "x ./vp_deriv.f\n",
      "x ./vp_dlinin.f\n",
      "x ./vp_dlset.f\n",
      "x ./vp_dlyccft.f\n",
      "x ./vp_dotick.f\n",
      "x ./vp_emlsmry.f\n",
      "x ./vp_empval.f\n",
      "x ./vp_emscchk.f\n",
      "x ./vp_emtset.f\n",
      "x ./vp_endorder.f\n",
      "x ./vp_endrej.f\n",
      "x ./vp_errej.f\n",
      "x ./vp_ewred.f\n",
      "x ./vp_f13fin.f\n",
      "x ./vp_f13finx.f\n",
      "x ./vp_f13read.f\n",
      "x ./vp_f_sigscl.f\n",
      "x ./vp_fgf13write.f\n",
      "x ./vp_flchderivs.f\n",
      "x ./vp_fnzbin.f\n",
      "x ./vp_getargs.f\n",
      "x ./vp_getres.f\n",
      "x ./vp_gglwcoeff.f\n",
      "x ./vp_gsclfts.f\n",
      "x ./vp_gwatfits.f\n",
      "x ./vp_initval.f\n",
      "x ./vp_ionregcheck.f\n",
      "x ./vp_ksvnorm.f\n",
      "x ./vp_lineid.f\n",
      "x ./vp_linlim.f\n",
      "x ./vp_listfiles.f\n",
      "x ./vp_lycont.f\n",
      "x ./vp_lyconte.f\n",
      "x ./vp_minpol.f\n",
      "x ./vp_minquad.f\n",
      "x ./vp_nearlin.f\n",
      "x ./vp_newtfxl.f\n",
      "x ./vp_pareorder.f\n",
      "x ./vp_parmcest.f\n",
      "x ./vp_pgbegin.f\n",
      "x ./vp_pgcurs.f\n",
      "x ./vp_plcset.f\n",
      "x ./vp_poisson.f\n",
      "x ./vp_presetsys.f\n",
      "x ./vp_psfinterp.f\n",
      "x ./vp_rdbwvfts.f\n",
      "x ./._vp_rdfitsext.f\n",
      "x ./vp_rdfitsext.f\n",
      "x ./vp_rdlines.f\n",
      "x ./vp_rdspecial.f\n",
      "x ./vp_rdwaveval.f\n",
      "x ./vp_readfits.f\n",
      "x ./vp_runstst.f\n",
      "x ./vp_rwlims.f\n",
      "x ./vp_scontf.f\n",
      "x ./vp_setintv.f\n",
      "x ./vp_setoptn.f\n",
      "x ./vp_setup.dat\n",
      "x ./vp_sizes.f\n",
      "x ./vp_smry.f\n",
      "x ./vp_spdatin.f\n",
      "x ./vp_splot.dat\n",
      "x ./vp_spread.f\n",
      "x ./vp_spvoigte.f\n",
      "x ./vp_srcpath.f\n",
      "x ./vp_startval.f\n",
      "x ./vp_stration.f\n",
      "x ./vp_stripcmt.f\n",
      "x ./vp_subchspread.f\n",
      "x ./vp_sumlinclear.f\n",
      "x ./vp_sysdel.f\n",
      "x ./vp_tdcolset.f\n",
      "x ./vp_tiedb.f\n",
      "x ./vp_tiedrop.f\n",
      "x ./vp_tieval.f\n",
      "x ./vp_trimattab.f\n",
      "x ./vp_tsetxref.f\n",
      "x ./vp_ucheck.f\n",
      "x ./vp_ucoptv.f\n",
      "x ./vp_ucprinerr.f\n",
      "x ./vp_ucprinit.f\n",
      "x ./vp_usdef.f\n",
      "x ./vp_vreset.f\n",
      "x ./vp_wrt25.f\n",
      "x ./vp_wval.f\n",
      "x ./vp_wvalch.f\n",
      "x ./vp_wvalsubch.f\n",
      "x ./vp_wverass.f\n",
      "x ./vpbrentres.f\n",
      "x ./vpf_bvalsp.f\n",
      "x ./vpf_dvresn.f\n",
      "x ./vpfit.f\n",
      "x ./vpgti.f\n",
      "x ./._vppreset.cmd\n",
      "x ./vppreset.cmd\n",
      "x ./vpreset.awk\n",
      "x ./wcor.f\n",
      "x ./wval.f\n",
      "x ./xmakefile\n",
      "x ./pgfiles/Al.pg\n",
      "x ./pgfiles/AlSi.pg\n",
      "x ./pgfiles/CaII.pg\n",
      "x ./pgfiles/CI2.pg\n",
      "x ./pgfiles/CIH2.pg\n",
      "x ./pgfiles/CII.pg\n",
      "x ./pgfiles/CII.pg~\n",
      "x ./pgfiles/._CIIOI.pg\n",
      "x ./pgfiles/CIIOI.pg\n",
      "x ./pgfiles/CIIOI.pg~\n",
      "x ./pgfiles/CIISi.pg\n",
      "x ./pgfiles/CIV.pg\n",
      "x ./pgfiles/CIVSiIV.pg\n",
      "x ./pgfiles/CrZn.pg\n",
      "x ./pgfiles/FeII.pg\n",
      "x ./pgfiles/FeIIhi.pg\n",
      "x ./pgfiles/hc.pg\n",
      "x ./pgfiles/HC4.pg\n",
      "x ./pgfiles/HC4.pg~\n",
      "x ./pgfiles/HCNlo.pg\n",
      "x ./pgfiles/hcnosi.pg\n",
      "x ./pgfiles/hcsi.pg\n",
      "x ./pgfiles/HD.pg\n",
      "x ./pgfiles/HDs.pg\n",
      "x ./pgfiles/HHC4N5O6.pg\n",
      "x ./pgfiles/HHC4O6.pg\n",
      "x ./pgfiles/HHC4O6Si4.pg\n",
      "x ./pgfiles/HHC4Si4.pg\n",
      "x ./pgfiles/HHCSi34.pg\n",
      "x ./pgfiles/HHCSi34.pg~\n",
      "x ./pgfiles/HHO6.pg\n",
      "x ./pgfiles/hiHCNO.pg\n",
      "x ./pgfiles/hiHCOSi.pg\n",
      "x ./pgfiles/hiion.pg\n",
      "x ./pgfiles/hiSi.pg\n",
      "x ./pgfiles/HNI.pg\n",
      "x ./pgfiles/HOhi.pg\n",
      "x ./pgfiles/HQhi.pg\n",
      "x ./pgfiles/HSSi.pg\n",
      "x ./pgfiles/Hvhi.pg\n",
      "x ./pgfiles/LaCIV.pg\n",
      "x ./pgfiles/LaN.pg\n",
      "x ./pgfiles/laonly.pg\n",
      "x ./pgfiles/LL.pg\n",
      "x ./pgfiles/LLO.pg\n",
      "x ./pgfiles/llyman.pg\n",
      "x ./pgfiles/loc.pg\n",
      "x ./pgfiles/local.pg\n",
      "x ./pgfiles/lohi.pg\n",
      "x ./pgfiles/lointhi.pg\n",
      "x ./pgfiles/lointz.pg\n",
      "x ./pgfiles/loion.pg\n",
      "x ./pgfiles/loloz.pg\n",
      "x ./pgfiles/lorare.pg\n",
      "x ./pgfiles/lowz.pg\n",
      "x ./pgfiles/lowzFeII.pg\n",
      "x ./pgfiles/ly4.pg\n",
      "x ./pgfiles/lyabg.pg\n",
      "x ./pgfiles/lyman.pg\n",
      "x ./pgfiles/lyman8.pg\n",
      "x ./pgfiles/MgFeMn.pg\n",
      "x ./pgfiles/MgICI.pg\n",
      "x ./pgfiles/MgII.pg\n",
      "x ./pgfiles/MgIIFeII.pg\n",
      "x ./pgfiles/NaCa.pg\n",
      "x ./pgfiles/NiII.pg\n",
      "x ./pgfiles/nitrogen.pg\n",
      "x ./pgfiles/NV.pg\n",
      "x ./pgfiles/OI.pg\n",
      "x ./pgfiles/OIArI.pg\n",
      "x ./pgfiles/oneline.pg\n",
      "x ./pgfiles/OSipair.pg\n",
      "x ./pgfiles/OVI.pg\n",
      "x ./pgfiles/OVIHI.pg\n",
      "x ./pgfiles/range.pg\n",
      "x ./pgfiles/sdlaion.pg\n",
      "x ./pgfiles/SiII.pg\n",
      "x ./pgfiles/SiIIfs.pg\n",
      "x ./pgfiles/SiIIl.pg\n",
      "x ./pgfiles/SiIV.pg\n",
      "x ./pgfiles/stloion.pg\n",
      "x ./pgfiles/strong.pg\n",
      "x ./pgfiles/TiII.pg\n",
      "x ./pgfiles/ultralow.pg\n",
      "x ./pgfiles/vhiHCNO.pg\n",
      "x ./docs/rdgen11.1.pdf\n",
      "x ./docs/sample.txt.gz\n",
      "x ./docs/._vpfit11.1.pdf\n",
      "x ./docs/vpfit11.1.pdf\n"
     ]
    }
   ],
   "source": [
    "%%bash\n",
    "wget http://www.ast.cam.ac.uk/~rfc/vpfit11.1.tar.gz\n",
    "mkdir -p vpfit11\n",
    "cd vpfit11\n",
    "tar -xvzf ../vpfit11.1.tar.gz"
   ]
  },
  {
   "cell_type": "markdown",
   "metadata": {},
   "source": [
    "# Installing crap in notebooks\n",
    "\n",
    "https://jakevdp.github.io/blog/2017/12/05/installing-python-packages-from-jupyter/"
   ]
  },
  {
   "cell_type": "code",
   "execution_count": null,
   "metadata": {},
   "outputs": [],
   "source": [
    "import sys\n",
    "!conda install --prefix {sys.prefix} numpy -y "
   ]
  },
  {
   "cell_type": "code",
   "execution_count": null,
   "metadata": {},
   "outputs": [],
   "source": [
    "# # Install a pip package in the current Jupyter kernel\n",
    "# import sys\n",
    "# !{sys.executable} -m pip install numpy"
   ]
  },
  {
   "cell_type": "code",
   "execution_count": null,
   "metadata": {},
   "outputs": [],
   "source": []
  },
  {
   "cell_type": "code",
   "execution_count": 45,
   "metadata": {
    "ExecuteTime": {
     "end_time": "2019-06-06T01:40:11.672089Z",
     "start_time": "2019-06-06T01:40:11.669310Z"
    }
   },
   "outputs": [],
   "source": [
    "normal_argument = 12.4\n",
    "second_argument = 98.4\n",
    "\n",
    "arg_with_spaces = \"the secret to life\""
   ]
  },
  {
   "cell_type": "code",
   "execution_count": 46,
   "metadata": {
    "ExecuteTime": {
     "end_time": "2019-06-06T01:40:25.192343Z",
     "start_time": "2019-06-06T01:40:25.167487Z"
    }
   },
   "outputs": [
    {
     "name": "stdout",
     "output_type": "stream",
     "text": [
      "This script knows the value of the argument: 12.4\n",
      "It also has no trouble with the second argument: 98.4\n"
     ]
    }
   ],
   "source": [
    "%%bash -s {normal_argument} {second_argument}\n",
    "echo \"This script knows the value of the argument: $1\"\n",
    "echo \"It also has no trouble with the second argument: $2\""
   ]
  },
  {
   "cell_type": "code",
   "execution_count": 47,
   "metadata": {
    "ExecuteTime": {
     "end_time": "2019-06-06T01:40:36.675231Z",
     "start_time": "2019-06-06T01:40:36.661224Z"
    }
   },
   "outputs": [
    {
     "name": "stdout",
     "output_type": "stream",
     "text": [
      "This bash script knows the secret to life.\n"
     ]
    }
   ],
   "source": [
    "%%bash -s \"$arg_with_spaces\"\n",
    "echo \"This bash script knows $1.\""
   ]
  },
  {
   "cell_type": "code",
   "execution_count": 48,
   "metadata": {
    "ExecuteTime": {
     "end_time": "2019-06-06T01:40:57.804684Z",
     "start_time": "2019-06-06T01:40:57.678381Z"
    }
   },
   "outputs": [
    {
     "name": "stdout",
     "output_type": "stream",
     "text": [
      "00-Overview.ipynb                       Untitled.ipynb\r\n",
      "01-Tips-and-tricks.ipynb                Untitled1.ipynb\r\n",
      "02-NBExtensions.ipynb                   delete.ipynb\r\n",
      "03-Git-Integration.ipynb                ex1.png\r\n",
      "03-Interactive-Splines.ipynb            history.ipynb\r\n",
      "04-Autoreload.ipynb                     jupyterlab-example.md\r\n",
      "05-SQL-Example.ipynb                    new-name.ipynb\r\n",
      "06-Advanced-Visualization.ipynb         pivottablejs.html\r\n",
      "07-Some_basics.ipynb                    presidents.sqlite\r\n",
      "08-More_basics.ipynb                    temp\r\n",
      "09-Extras.ipynb                         untitled.txt\r\n",
      "10-R-stuff.ipynb                        \u001b[34mvpfit10\u001b[m\u001b[m/\r\n",
      "11-older-stuff.ipynb                    vpfit10.2.tar.gz\r\n",
      "12-old-pandas.ipynb                     vpfit10.2.tar.gz.1\r\n",
      "2019-06-02-jbw-test-formatter-01.ipynb  vpfit10.2.tar.gz.2\r\n",
      "3d-example-plot.html                    vpfit10.2.tar.gz.3\r\n",
      "Advanced-Notebook-Tricks.ipynb          \u001b[34mvpfit11\u001b[m\u001b[m/\r\n",
      "Basic-Plotting.ipynb                    vpfit11.1.tar.gz\r\n",
      "Data_Cleaning.ipynb                     vpfit11.1.tar.gz.1\r\n",
      "Example-pycat.ipynb                     vpfit11.1.tar.gz.2\r\n"
     ]
    }
   ],
   "source": [
    "ls"
   ]
  },
  {
   "cell_type": "code",
   "execution_count": 49,
   "metadata": {
    "ExecuteTime": {
     "end_time": "2019-06-06T01:41:00.984509Z",
     "start_time": "2019-06-06T01:41:00.860246Z"
    }
   },
   "outputs": [
    {
     "name": "stdout",
     "output_type": "stream",
     "text": [
      "00-Overview.ipynb                      Untitled.ipynb\r\n",
      "01-Tips-and-tricks.ipynb               Untitled1.ipynb\r\n",
      "02-NBExtensions.ipynb                  delete.ipynb\r\n",
      "03-Git-Integration.ipynb               ex1.png\r\n",
      "03-Interactive-Splines.ipynb           history.ipynb\r\n",
      "04-Autoreload.ipynb                    jupyterlab-example.md\r\n",
      "05-SQL-Example.ipynb                   new-name.ipynb\r\n",
      "06-Advanced-Visualization.ipynb        pivottablejs.html\r\n",
      "07-Some_basics.ipynb                   presidents.sqlite\r\n",
      "08-More_basics.ipynb                   temp\r\n",
      "09-Extras.ipynb                        untitled.txt\r\n",
      "10-R-stuff.ipynb                       \u001b[34mvpfit10\u001b[m\u001b[m\r\n",
      "11-older-stuff.ipynb                   vpfit10.2.tar.gz\r\n",
      "12-old-pandas.ipynb                    vpfit10.2.tar.gz.1\r\n",
      "2019-06-02-jbw-test-formatter-01.ipynb vpfit10.2.tar.gz.2\r\n",
      "3d-example-plot.html                   vpfit10.2.tar.gz.3\r\n",
      "Advanced-Notebook-Tricks.ipynb         \u001b[34mvpfit11\u001b[m\u001b[m\r\n",
      "Basic-Plotting.ipynb                   vpfit11.1.tar.gz\r\n",
      "Data_Cleaning.ipynb                    vpfit11.1.tar.gz.1\r\n",
      "Example-pycat.ipynb                    vpfit11.1.tar.gz.2\r\n"
     ]
    }
   ],
   "source": [
    "!ls"
   ]
  },
  {
   "cell_type": "code",
   "execution_count": 50,
   "metadata": {
    "ExecuteTime": {
     "end_time": "2019-06-06T01:41:06.324038Z",
     "start_time": "2019-06-06T01:41:06.198249Z"
    }
   },
   "outputs": [
    {
     "name": "stdout",
     "output_type": "stream",
     "text": [
      "00-Overview.ipynb                       Untitled.ipynb\r\n",
      "01-Tips-and-tricks.ipynb                Untitled1.ipynb\r\n",
      "02-NBExtensions.ipynb                   delete.ipynb\r\n",
      "03-Git-Integration.ipynb                ex1.png\r\n",
      "03-Interactive-Splines.ipynb            history.ipynb\r\n",
      "04-Autoreload.ipynb                     jupyterlab-example.md\r\n",
      "05-SQL-Example.ipynb                    new-name.ipynb\r\n",
      "06-Advanced-Visualization.ipynb         pivottablejs.html\r\n",
      "07-Some_basics.ipynb                    presidents.sqlite\r\n",
      "08-More_basics.ipynb                    temp\r\n",
      "09-Extras.ipynb                         untitled.txt\r\n",
      "10-R-stuff.ipynb                        \u001b[34mvpfit10\u001b[m\u001b[m/\r\n",
      "11-older-stuff.ipynb                    vpfit10.2.tar.gz\r\n",
      "12-old-pandas.ipynb                     vpfit10.2.tar.gz.1\r\n",
      "2019-06-02-jbw-test-formatter-01.ipynb  vpfit10.2.tar.gz.2\r\n",
      "3d-example-plot.html                    vpfit10.2.tar.gz.3\r\n",
      "Advanced-Notebook-Tricks.ipynb          \u001b[34mvpfit11\u001b[m\u001b[m/\r\n",
      "Basic-Plotting.ipynb                    vpfit11.1.tar.gz\r\n",
      "Data_Cleaning.ipynb                     vpfit11.1.tar.gz.1\r\n",
      "Example-pycat.ipynb                     vpfit11.1.tar.gz.2\r\n"
     ]
    }
   ],
   "source": [
    "%ls"
   ]
  },
  {
   "cell_type": "code",
   "execution_count": 51,
   "metadata": {
    "ExecuteTime": {
     "end_time": "2019-06-06T01:41:11.226154Z",
     "start_time": "2019-06-06T01:41:11.101255Z"
    },
    "scrolled": true
   },
   "outputs": [
    {
     "name": "stdout",
     "output_type": "stream",
     "text": [
      "00README                  rd_plcset.f               vp_f_sigscl.f\r\n",
      "MMatomdat_atom_noiso.dat  rd_pmpset.f               vp_fgf13write.f\r\n",
      "atom.dat                  rd_prhelp.dat             vp_flchderivs.f\r\n",
      "atomtab.f                 rd_prhelp.f               vp_fnzbin.f\r\n",
      "autovpin.f                rd_qdatafiles.f           vp_getargs.f\r\n",
      "bintofits.f               rd_readlinwav.f           vp_getres.f\r\n",
      "calcn.f                   rd_sclsig.f               vp_gglwcoeff.f\r\n",
      "case.f                    rd_scrn.f                 vp_gsclfts.f\r\n",
      "chanwav.f                 rd_setintv.f              vp_gwatfits.f\r\n",
      "checkb.f                  rd_sizes.f                vp_initval.f\r\n",
      "chisum26.f                rd_splvtick.f             vp_ionregcheck.f\r\n",
      "cmax1.f                   rd_stackz.f               vp_ksvnorm.f\r\n",
      "cms_src.f                 rd_start.dat              vp_lineid.f\r\n",
      "com_cons.f                rd_stplot.f               vp_linlim.f\r\n",
      "dcholin.f                 rd_tgplots.f              vp_listfiles.f\r\n",
      "dexpf.f                   rd_tickvpfl.f             vp_lycont.f\r\n",
      "dlycabscft.f              rd_ulims.f                vp_lyconte.f\r\n",
      "\u001b[34mdocs\u001b[m\u001b[m/                     rd_ulimse.f               vp_minpol.f\r\n",
      "dotick.f                  rd_ulimx.f                vp_minquad.f\r\n",
      "dpoly.f                   rd_ulinfo.f               vp_nearlin.f\r\n",
      "dsepvar.f                 rd_wrfits.f               vp_newtfxl.f\r\n",
      "eigen.f                   rd_wrwcfits.f             vp_pareorder.f\r\n",
      "erfcc.f                   rd_wvsc.f                 vp_parmcest.f\r\n",
      "externals.f               rd_xcdc.f                 vp_pgbegin.f\r\n",
      "fl_gen.f                  rd_zcorr.f                vp_pgcurs.f\r\n",
      "gen_vpin.f                rd_ztabcf.f               vp_plcset.f\r\n",
      "ginsert.f                 sepvar.f                  vp_poisson.f\r\n",
      "gu_tabsort.f              splot.f                   vp_presetsys.f\r\n",
      "hedit.f                   spvoigt.f                 vp_psfinterp.f\r\n",
      "linfit.f                  svbksbd.f                 vp_rdbwvfts.f\r\n",
      "lm_udchole.f              svdajc.f                  vp_rdlines.f\r\n",
      "lyregset.f                svdcmpd.f                 vp_rdspecial.f\r\n",
      "\u001b[31mmakefile\u001b[m\u001b[m*                 svdfit.f                  vp_rdwaveval.f\r\n",
      "medianv.f                 test.f                    vp_readfits.f\r\n",
      "pda_che2d.f               tickpg.f                  vp_rfitsext.f\r\n",
      "pda_dp1vlu.f              tiedb.f                   vp_runstst.f\r\n",
      "pda_dpcoef.f              tikset.f                  vp_rwlims.f\r\n",
      "pda_dpolft.f              tstfit3d.f                vp_scontf.f\r\n",
      "pda_qsiad.f               udchole.f                 vp_setintv.f\r\n",
      "pda_src.f                 varythis.f                vp_setoptn.f\r\n",
      "pda_xermsg.f              voigt_king.f              vp_setup.dat\r\n",
      "\u001b[34mpgfiles\u001b[m\u001b[m/                  vp_abfind.f               vp_sizes.f\r\n",
      "pldef.f                   vp_abundset.f             vp_smry.f\r\n",
      "plset.f                   vp_addline.f              vp_spdatin.f\r\n",
      "pr_mdian1.f               vp_addxlink.f             vp_splot.dat\r\n",
      "prg_polyd.f               vp_archwav.f              vp_spread.f\r\n",
      "probks.f                  vp_asciin.f               vp_spvoigte.f\r\n",
      "rd_ablin.f                vp_ationsep.f             vp_srcpath.f\r\n",
      "rd_adnois.f               vp_atomass.f              vp_startval.f\r\n",
      "rd_alias.f                vp_blfixf.f               vp_stration.f\r\n",
      "rd_comalias.f             vp_cfcopy.f               vp_stripcmt.f\r\n",
      "rd_compreset.f            vp_chanwav.f              vp_subchspread.f\r\n",
      "rd_cuchstr.f              vp_charlims.f             vp_sumlinclear.f\r\n",
      "rd_cufilnm.f              vp_chdisprof.f            vp_sysdel.f\r\n",
      "rd_cuplot.f               vp_checkn.f               vp_tdcolset.f\r\n",
      "rd_cuwvrest.f             vp_chipconv.f             vp_tieval.f\r\n",
      "rd_cydata.f               vp_chsation.f             vp_trimattab.f\r\n",
      "rd_daswap.f               vp_chspread.f             vp_tsetxref.f\r\n",
      "rd_dblid.f                vp_cmssrc.f               vp_ucheck.f\r\n",
      "rd_dmanip.f               vp_curse.f                vp_ucoptv.f\r\n",
      "rd_drebin.f               vp_cval.f                 vp_ucprinerr.f\r\n",
      "rd_dvcont.f               vp_dattim.f               vp_ucprinit.f\r\n",
      "rd_estcolb.f              vp_dattim_alt.f           vp_usdef.f\r\n",
      "rd_ewwav.f                vp_deriv.f                vp_vreset.f\r\n",
      "rd_extabs.f               vp_dlinin.f               vp_wrt25.f\r\n",
      "rd_fluxbb.f               vp_dlset.f                vp_wval.f\r\n",
      "rd_gen.f                  vp_dotick.f               vp_wvalch.f\r\n",
      "rd_gprof.f                vp_emlsmry.f              vp_wvalsubch.f\r\n",
      "rd_gprofe.f               vp_empval.f               vp_wverass.f\r\n",
      "rd_gpsim.f                vp_emscchk.f              vpf_bvalsp.f\r\n",
      "rd_hdust.f                vp_emtset.f               vpf_dvresn.f\r\n",
      "rd_intvtab.f              vp_endorder.f             vpfit.f\r\n",
      "rd_markreg.f              vp_endrej.f               vpgti.f\r\n",
      "rd_mattrd.f               vp_errej.f                vppreset.com\r\n",
      "rd_meantau.f              vp_ewred.f                vpreset.awk\r\n",
      "rd_moderrs.f              vp_f13fin.f               wcor.f\r\n",
      "rd_multiset.f             vp_f13finx.f              wval.f\r\n",
      "rd_pgannot.f              vp_f13read.f\r\n"
     ]
    }
   ],
   "source": [
    "ls vpfit10/"
   ]
  },
  {
   "cell_type": "code",
   "execution_count": 52,
   "metadata": {
    "ExecuteTime": {
     "end_time": "2019-06-06T01:41:19.297570Z",
     "start_time": "2019-06-06T01:41:19.294809Z"
    }
   },
   "outputs": [],
   "source": [
    "tailthing = \"*.ipynb\""
   ]
  },
  {
   "cell_type": "code",
   "execution_count": 53,
   "metadata": {
    "ExecuteTime": {
     "end_time": "2019-06-06T01:41:26.356626Z",
     "start_time": "2019-06-06T01:41:26.353135Z"
    }
   },
   "outputs": [
    {
     "data": {
      "text/plain": [
       "'*.ipynb'"
      ]
     },
     "execution_count": 53,
     "metadata": {},
     "output_type": "execute_result"
    }
   ],
   "source": [
    "tailthing"
   ]
  },
  {
   "cell_type": "code",
   "execution_count": 54,
   "metadata": {
    "ExecuteTime": {
     "end_time": "2019-06-06T01:41:33.794684Z",
     "start_time": "2019-06-06T01:41:33.666196Z"
    }
   },
   "outputs": [
    {
     "name": "stdout",
     "output_type": "stream",
     "text": [
      "00-Overview.ipynb                      11-older-stuff.ipynb\r\n",
      "01-Tips-and-tricks.ipynb               12-old-pandas.ipynb\r\n",
      "02-NBExtensions.ipynb                  2019-06-02-jbw-test-formatter-01.ipynb\r\n",
      "03-Git-Integration.ipynb               Advanced-Notebook-Tricks.ipynb\r\n",
      "03-Interactive-Splines.ipynb           Basic-Plotting.ipynb\r\n",
      "04-Autoreload.ipynb                    Data_Cleaning.ipynb\r\n",
      "05-SQL-Example.ipynb                   Example-pycat.ipynb\r\n",
      "06-Advanced-Visualization.ipynb        Untitled.ipynb\r\n",
      "07-Some_basics.ipynb                   Untitled1.ipynb\r\n",
      "08-More_basics.ipynb                   delete.ipynb\r\n",
      "09-Extras.ipynb                        history.ipynb\r\n",
      "10-R-stuff.ipynb                       new-name.ipynb\r\n"
     ]
    }
   ],
   "source": [
    "!ls {tailthing}"
   ]
  },
  {
   "cell_type": "code",
   "execution_count": 55,
   "metadata": {
    "ExecuteTime": {
     "end_time": "2019-06-06T01:41:44.931306Z",
     "start_time": "2019-06-06T01:41:44.915297Z"
    }
   },
   "outputs": [],
   "source": [
    "output = !ls "
   ]
  },
  {
   "cell_type": "code",
   "execution_count": 56,
   "metadata": {
    "ExecuteTime": {
     "end_time": "2019-06-06T01:41:45.558911Z",
     "start_time": "2019-06-06T01:41:45.554508Z"
    }
   },
   "outputs": [
    {
     "data": {
      "text/plain": [
       "['00-Overview.ipynb',\n",
       " '01-Tips-and-tricks.ipynb',\n",
       " '02-NBExtensions.ipynb',\n",
       " '03-Git-Integration.ipynb',\n",
       " '03-Interactive-Splines.ipynb',\n",
       " '04-Autoreload.ipynb',\n",
       " '05-SQL-Example.ipynb',\n",
       " '06-Advanced-Visualization.ipynb',\n",
       " '07-Some_basics.ipynb',\n",
       " '08-More_basics.ipynb',\n",
       " '09-Extras.ipynb',\n",
       " '10-R-stuff.ipynb',\n",
       " '11-older-stuff.ipynb',\n",
       " '12-old-pandas.ipynb',\n",
       " '2019-06-02-jbw-test-formatter-01.ipynb',\n",
       " '3d-example-plot.html',\n",
       " 'Advanced-Notebook-Tricks.ipynb',\n",
       " 'Basic-Plotting.ipynb',\n",
       " 'Data_Cleaning.ipynb',\n",
       " 'Example-pycat.ipynb',\n",
       " 'Untitled.ipynb',\n",
       " 'Untitled1.ipynb',\n",
       " 'delete.ipynb',\n",
       " 'ex1.png',\n",
       " 'history.ipynb',\n",
       " 'jupyterlab-example.md',\n",
       " 'new-name.ipynb',\n",
       " 'pivottablejs.html',\n",
       " 'presidents.sqlite',\n",
       " 'temp',\n",
       " 'untitled.txt',\n",
       " 'vpfit10',\n",
       " 'vpfit10.2.tar.gz',\n",
       " 'vpfit10.2.tar.gz.1',\n",
       " 'vpfit10.2.tar.gz.2',\n",
       " 'vpfit10.2.tar.gz.3',\n",
       " 'vpfit11',\n",
       " 'vpfit11.1.tar.gz',\n",
       " 'vpfit11.1.tar.gz.1',\n",
       " 'vpfit11.1.tar.gz.2']"
      ]
     },
     "execution_count": 56,
     "metadata": {},
     "output_type": "execute_result"
    }
   ],
   "source": [
    "output"
   ]
  },
  {
   "cell_type": "markdown",
   "metadata": {},
   "source": [
    "## Need to set or change environment variables"
   ]
  },
  {
   "cell_type": "code",
   "execution_count": 54,
   "metadata": {
    "ExecuteTime": {
     "end_time": "2019-01-18T02:57:32.783916Z",
     "start_time": "2019-01-18T02:57:32.778858Z"
    }
   },
   "outputs": [
    {
     "data": {
      "text/plain": [
       "{'SSH_AGENT_PID': '2443',\n",
       " 'TERM_PROGRAM': 'iTerm.app',\n",
       " 'TERM': 'xterm-color',\n",
       " 'SHELL': '/bin/bash',\n",
       " 'initials': 'jbw',\n",
       " 'CLICOLOR': '1',\n",
       " 'TMPDIR': '/var/folders/yk/2rgr0zrj0614jntythcnlyvw0000gn/T/',\n",
       " 'CONDA_SHLVL': '1',\n",
       " 'Apple_PubSub_Socket_Render': '/private/tmp/com.apple.launchd.cUdZIggvpB/Render',\n",
       " 'CONDA_PROMPT_MODIFIER': '(dspy3) ',\n",
       " 'BASH': '/Users/jonathan/.dotfiles',\n",
       " 'TERM_PROGRAM_VERSION': '3.2.6',\n",
       " 'OLDPWD': '/Users/jonathan',\n",
       " 'TERM_SESSION_ID': 'w0t0p0:D95C8318-F139-47A5-AE4D-2B20E6014310',\n",
       " 'USER': 'jonathan',\n",
       " 'CONDA_EXE': '/Users/jonathan/miniconda3/bin/conda',\n",
       " 'SSH_AUTH_SOCK': '/var/folders/yk/2rgr0zrj0614jntythcnlyvw0000gn/T//ssh-mm7alB0U2YiW/agent.2441',\n",
       " '__CF_USER_TEXT_ENCODING': '0x0:0:0',\n",
       " 'PATH': '/Users/jonathan/miniconda3/envs/dspy3/bin:/Users/jonathan/miniconda3/envs/dspy3/bin:/Users/jonathan/miniconda3/bin:/usr/local/bin:/usr/bin:/bin:/usr/sbin:/sbin:/Library/TeX/texbin:/opt/X11/bin',\n",
       " 'CONDA_PREFIX': '/Users/jonathan/miniconda3/envs/dspy3',\n",
       " 'PWD': '/Users/jonathan/github/jupyter-tips-and-tricks',\n",
       " 'EDITOR': 'vim',\n",
       " 'LANG': 'en_US.UTF-8',\n",
       " 'ITERM_PROFILE': 'Default',\n",
       " 'XPC_FLAGS': '0x0',\n",
       " 'ITERM_ORIG_PS1': '(dspy3) \\\\n# \\\\w\\\\n# \\\\[\\\\e[0;32m\\\\]\\\\h \\\\[\\\\e[0m\\\\]\\\\[\\\\e[0;36m\\\\]${git_branch}\\\\[\\\\e[0;31m\\\\]$git_dirty\\\\[\\\\e[0m\\\\]$ ',\n",
       " 'PS1': '(dspy3) \\\\n# \\\\w\\\\n# \\\\[\\\\e[0;32m\\\\]\\\\h \\\\[\\\\e[0m\\\\]\\\\[\\\\e[0;36m\\\\]${git_branch}\\\\[\\\\e[0;31m\\\\]$git_dirty\\\\[\\\\e[0m\\\\]$ ',\n",
       " 'PS3': '#? ',\n",
       " 'HISTCONTROL': 'ignoreboth',\n",
       " 'PS2': '> ',\n",
       " 'XPC_SERVICE_NAME': '0',\n",
       " 'GITAWAREPROMPT': '/Users/jonathan/.bash/git-aware-prompt',\n",
       " 'SHLVL': '1',\n",
       " 'PS4': '+',\n",
       " 'HOME': '/Users/jonathan',\n",
       " 'COLORFGBG': '15;0',\n",
       " 'ITERM_PREV_PS1': '\\\\[\\x1b]133;D;$?\\x07\\x1b]133;A\\x07\\\\](dspy3) \\\\n# \\\\w\\\\n# \\\\[\\\\e[0;32m\\\\]\\\\h \\\\[\\\\e[0m\\\\]\\\\[\\\\e[0;36m\\\\]${git_branch}\\\\[\\\\e[0;31m\\\\]$git_dirty\\\\[\\\\e[0m\\\\]$ \\\\[\\x1b]133;B\\x07\\\\]',\n",
       " 'ITERM_SESSION_ID': 'w0t0p0:D95C8318-F139-47A5-AE4D-2B20E6014310',\n",
       " 'CONDA_PYTHON_EXE': '/Users/jonathan/miniconda3/bin/python',\n",
       " 'LOGNAME': 'jonathan',\n",
       " 'CONDA_DEFAULT_ENV': 'dspy3',\n",
       " 'PROMPT_COMMAND': '__bp_precmd_invoke_cmd; echo -ne \"\\\\033]0;${USER}@${HOSTNAME%%.*} ${PWD}\"; echo -ne \"\\\\007\"; __bp_interactive_mode',\n",
       " 'DISPLAY': '/private/tmp/com.apple.launchd.a8oASgcyPu/org.macosforge.xquartz:0',\n",
       " 'COLORTERM': 'truecolor',\n",
       " '_': '/Users/jonathan/miniconda3/envs/dspy3/bin/jupyter',\n",
       " 'GIT_PYTHON_REFRESH': 'quiet',\n",
       " 'JPY_PARENT_PID': '52021',\n",
       " 'PAGER': 'cat',\n",
       " 'GIT_PAGER': 'cat',\n",
       " 'MPLBACKEND': 'module://ipykernel.pylab.backend_inline'}"
      ]
     },
     "execution_count": 54,
     "metadata": {},
     "output_type": "execute_result"
    }
   ],
   "source": [
    "%env  "
   ]
  },
  {
   "cell_type": "code",
   "execution_count": null,
   "metadata": {},
   "outputs": [],
   "source": []
  },
  {
   "cell_type": "markdown",
   "metadata": {},
   "source": [
    "## Danger zone\n",
    "\n",
    "    _, _N and _iN"
   ]
  },
  {
   "cell_type": "code",
   "execution_count": 57,
   "metadata": {
    "ExecuteTime": {
     "end_time": "2019-06-06T01:42:35.163749Z",
     "start_time": "2019-06-06T01:42:35.034929Z"
    }
   },
   "outputs": [
    {
     "name": "stdout",
     "output_type": "stream",
     "text": [
      "/Users/jonathan/github/jupyter-tips-and-tricks/notebooks\r\n"
     ]
    }
   ],
   "source": [
    "!pwd"
   ]
  },
  {
   "cell_type": "code",
   "execution_count": 58,
   "metadata": {
    "ExecuteTime": {
     "end_time": "2019-06-06T01:43:14.145541Z",
     "start_time": "2019-06-06T01:43:14.141573Z"
    }
   },
   "outputs": [
    {
     "data": {
      "text/plain": [
       "3"
      ]
     },
     "execution_count": 58,
     "metadata": {},
     "output_type": "execute_result"
    }
   ],
   "source": [
    "a = 3\n",
    "a"
   ]
  },
  {
   "cell_type": "code",
   "execution_count": 59,
   "metadata": {
    "ExecuteTime": {
     "end_time": "2019-06-06T01:43:39.161686Z",
     "start_time": "2019-06-06T01:43:39.158217Z"
    }
   },
   "outputs": [
    {
     "data": {
      "text/plain": [
       "3"
      ]
     },
     "execution_count": 59,
     "metadata": {},
     "output_type": "execute_result"
    }
   ],
   "source": [
    "_58"
   ]
  },
  {
   "cell_type": "code",
   "execution_count": 60,
   "metadata": {
    "ExecuteTime": {
     "end_time": "2019-06-06T01:43:49.551824Z",
     "start_time": "2019-06-06T01:43:49.548322Z"
    }
   },
   "outputs": [
    {
     "data": {
      "text/plain": [
       "'a = 3\\na'"
      ]
     },
     "execution_count": 60,
     "metadata": {},
     "output_type": "execute_result"
    }
   ],
   "source": [
    "_i58"
   ]
  },
  {
   "cell_type": "code",
   "execution_count": null,
   "metadata": {},
   "outputs": [],
   "source": []
  },
  {
   "cell_type": "code",
   "execution_count": null,
   "metadata": {},
   "outputs": [],
   "source": []
  },
  {
   "cell_type": "code",
   "execution_count": null,
   "metadata": {},
   "outputs": [],
   "source": []
  },
  {
   "cell_type": "code",
   "execution_count": 57,
   "metadata": {
    "ExecuteTime": {
     "end_time": "2019-01-18T02:58:43.977765Z",
     "start_time": "2019-01-18T02:58:43.973806Z"
    }
   },
   "outputs": [
    {
     "data": {
      "text/plain": [
       "'a = 3\\na'"
      ]
     },
     "execution_count": 57,
     "metadata": {},
     "output_type": "execute_result"
    }
   ],
   "source": [
    "_i56"
   ]
  },
  {
   "cell_type": "code",
   "execution_count": 58,
   "metadata": {
    "ExecuteTime": {
     "end_time": "2019-01-18T02:59:02.075598Z",
     "start_time": "2019-01-18T02:59:02.071873Z"
    }
   },
   "outputs": [
    {
     "data": {
      "text/plain": [
       "3"
      ]
     },
     "execution_count": 58,
     "metadata": {},
     "output_type": "execute_result"
    }
   ],
   "source": [
    "_56"
   ]
  },
  {
   "cell_type": "code",
   "execution_count": 61,
   "metadata": {
    "ExecuteTime": {
     "end_time": "2019-01-18T02:59:34.635751Z",
     "start_time": "2019-01-18T02:59:34.632094Z"
    }
   },
   "outputs": [
    {
     "data": {
      "text/plain": [
       "75"
      ]
     },
     "execution_count": 61,
     "metadata": {},
     "output_type": "execute_result"
    }
   ],
   "source": [
    "_"
   ]
  },
  {
   "cell_type": "code",
   "execution_count": 60,
   "metadata": {
    "ExecuteTime": {
     "end_time": "2019-01-18T02:59:28.640043Z",
     "start_time": "2019-01-18T02:59:28.636494Z"
    }
   },
   "outputs": [
    {
     "data": {
      "text/plain": [
       "75"
      ]
     },
     "execution_count": 60,
     "metadata": {},
     "output_type": "execute_result"
    }
   ],
   "source": [
    "b = 5\n",
    "b * 15"
   ]
  },
  {
   "cell_type": "code",
   "execution_count": 62,
   "metadata": {
    "ExecuteTime": {
     "end_time": "2019-01-18T03:00:01.833146Z",
     "start_time": "2019-01-18T03:00:01.830638Z"
    }
   },
   "outputs": [],
   "source": [
    "c = a * b "
   ]
  },
  {
   "cell_type": "code",
   "execution_count": null,
   "metadata": {},
   "outputs": [],
   "source": []
  },
  {
   "cell_type": "code",
   "execution_count": null,
   "metadata": {
    "ExecuteTime": {
     "end_time": "2018-06-07T01:46:36.999622Z",
     "start_time": "2018-06-07T01:46:36.995686Z"
    }
   },
   "outputs": [],
   "source": []
  },
  {
   "cell_type": "code",
   "execution_count": null,
   "metadata": {},
   "outputs": [],
   "source": []
  },
  {
   "cell_type": "code",
   "execution_count": 61,
   "metadata": {
    "ExecuteTime": {
     "end_time": "2019-06-06T01:45:33.572698Z",
     "start_time": "2019-06-06T01:45:33.252516Z"
    }
   },
   "outputs": [],
   "source": [
    "%notebook billy.ipynb"
   ]
  },
  {
   "cell_type": "code",
   "execution_count": null,
   "metadata": {},
   "outputs": [],
   "source": []
  },
  {
   "cell_type": "code",
   "execution_count": null,
   "metadata": {},
   "outputs": [],
   "source": []
  },
  {
   "cell_type": "code",
   "execution_count": 64,
   "metadata": {
    "ExecuteTime": {
     "end_time": "2019-01-18T03:00:37.145238Z",
     "start_time": "2019-01-18T03:00:36.814197Z"
    }
   },
   "outputs": [],
   "source": [
    "!subl 01-Tips-and-tricks.ipynb"
   ]
  },
  {
   "cell_type": "code",
   "execution_count": null,
   "metadata": {},
   "outputs": [],
   "source": []
  },
  {
   "cell_type": "code",
   "execution_count": null,
   "metadata": {},
   "outputs": [],
   "source": []
  },
  {
   "cell_type": "code",
   "execution_count": null,
   "metadata": {},
   "outputs": [],
   "source": []
  },
  {
   "cell_type": "code",
   "execution_count": null,
   "metadata": {},
   "outputs": [],
   "source": []
  },
  {
   "cell_type": "code",
   "execution_count": null,
   "metadata": {},
   "outputs": [],
   "source": []
  }
 ],
 "metadata": {
  "anaconda-cloud": {},
  "hide_input": false,
  "kernelspec": {
   "display_name": "dspy3",
   "language": "python",
   "name": "dspy3"
  },
  "language_info": {
   "codemirror_mode": {
    "name": "ipython",
    "version": 3
   },
   "file_extension": ".py",
   "mimetype": "text/x-python",
   "name": "python",
   "nbconvert_exporter": "python",
   "pygments_lexer": "ipython3",
   "version": "3.6.7"
  },
  "toc": {
   "base_numbering": 1,
   "nav_menu": {
    "height": "208px",
    "width": "252px"
   },
   "number_sections": true,
   "sideBar": true,
   "skip_h1_title": false,
   "title_cell": "Table of Contents",
   "title_sidebar": "Contents",
   "toc_cell": false,
   "toc_position": {},
   "toc_section_display": "block",
   "toc_window_display": false
  },
  "varInspector": {
   "cols": {
    "lenName": 16,
    "lenType": 16,
    "lenVar": 40
   },
   "kernels_config": {
    "python": {
     "delete_cmd_postfix": "",
     "delete_cmd_prefix": "del ",
     "library": "var_list.py",
     "varRefreshCmd": "print(var_dic_list())"
    },
    "r": {
     "delete_cmd_postfix": ") ",
     "delete_cmd_prefix": "rm(",
     "library": "var_list.r",
     "varRefreshCmd": "cat(var_dic_list()) "
    }
   },
   "types_to_exclude": [
    "module",
    "function",
    "builtin_function_or_method",
    "instance",
    "_Feature"
   ],
   "window_display": false
  },
  "widgets": {
   "state": {
    "1f2b33bdbf62410e92177b1ae2e22d0e": {
     "views": [
      {
       "cell_index": 9
      }
     ]
    }
   },
   "version": "1.2.0"
  }
 },
 "nbformat": 4,
 "nbformat_minor": 2
}
