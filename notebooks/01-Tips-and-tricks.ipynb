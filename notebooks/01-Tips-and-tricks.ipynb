{
 "cells": [
  {
   "cell_type": "markdown",
   "metadata": {},
   "source": [
    "# Markdown Cell\n",
    "\n",
    "## Sub heading this is big text\n",
    "\n",
    "#### Smaller subheadings\n",
    "\n",
    "This is just a paragraph."
   ]
  },
  {
   "cell_type": "code",
   "execution_count": null,
   "metadata": {
    "ExecuteTime": {
     "end_time": "2019-09-12T22:35:50.473325Z",
     "start_time": "2019-09-12T22:35:50.470893Z"
    },
    "execution_event_id": "da40e88c-c381-4385-af30-c84632041c38",
    "last_executed_text": "# code cell\nname = \"Jonathan\"",
    "persistent_id": "5e98591e-08d0-4812-ba61-d0ecc428c08d",
    "run_control": {
     "marked": false
    }
   },
   "outputs": [],
   "source": [
    "# code cell\n",
    "name = \"Jonathan\""
   ]
  },
  {
   "cell_type": "markdown",
   "metadata": {},
   "source": [
    "# Tips and Tricks\n",
    "\n",
    "A markdown cell lets you do many _useful things_."
   ]
  },
  {
   "cell_type": "code",
   "execution_count": 1,
   "metadata": {
    "ExecuteTime": {
     "end_time": "2019-09-12T23:21:53.718135Z",
     "start_time": "2019-09-12T23:21:53.713328Z"
    },
    "execution_event_id": "2dfb835f-8c09-426a-a16a-3a064bca29df",
    "last_executed_text": "# Add this to python2 code to make life easier -- safe to use in python3 as well.\nfrom __future__ import absolute_import, division, print_function",
    "persistent_id": "8fa080b3-f270-4d06-9fdc-ddd37ad35295"
   },
   "outputs": [],
   "source": [
    "# Add this to python2 code to make life easier -- safe to use in python3 as well.\n",
    "from __future__ import absolute_import, division, print_function"
   ]
  },
  {
   "cell_type": "code",
   "execution_count": 2,
   "metadata": {
    "ExecuteTime": {
     "end_time": "2019-09-12T23:22:10.390368Z",
     "start_time": "2019-09-12T23:22:10.388018Z"
    },
    "execution_event_id": "731c6f17-e1da-446a-8625-48f6d8e08fd3",
    "last_executed_text": "import numpy as np\n\n# don't do:\n# from numpy import *",
    "persistent_id": "03635f66-daaa-47cf-bb74-883e8ce82c00"
   },
   "outputs": [],
   "source": [
    "import numpy as np\n",
    "\n",
    "# don't do:\n",
    "# from numpy import *"
   ]
  },
  {
   "cell_type": "code",
   "execution_count": 3,
   "metadata": {
    "ExecuteTime": {
     "end_time": "2019-09-12T23:22:21.036356Z",
     "start_time": "2019-09-12T23:22:21.026658Z"
    },
    "execution_event_id": "ac247735-10c8-4d46-9d01-2192e3851721",
    "last_executed_text": "max(\"a\")",
    "persistent_id": "e41e09ce-28e8-437f-9e9e-676775bc5fce"
   },
   "outputs": [
    {
     "data": {
      "text/plain": [
       "'a'"
      ]
     },
     "execution_count": 3,
     "metadata": {},
     "output_type": "execute_result"
    }
   ],
   "source": [
    "max(\"a\")"
   ]
  },
  {
   "cell_type": "code",
   "execution_count": 4,
   "metadata": {
    "ExecuteTime": {
     "end_time": "2019-09-12T23:22:28.268650Z",
     "start_time": "2019-09-12T23:22:28.115807Z"
    },
    "execution_event_id": "fb4ba64a-95b2-4c40-a428-3b7f96627732",
    "last_executed_text": "np.max(\"a\")",
    "persistent_id": "9939f76b-a6b5-413b-80e7-8595aab7f804"
   },
   "outputs": [
    {
     "ename": "TypeError",
     "evalue": "cannot perform reduce with flexible type",
     "output_type": "error",
     "traceback": [
      "\u001b[0;31m---------------------------------------------------------------------------\u001b[0m",
      "\u001b[0;31mTypeError\u001b[0m                                 Traceback (most recent call last)",
      "\u001b[0;32m<ipython-input-4-4005723e4b17>\u001b[0m in \u001b[0;36m<module>\u001b[0;34m\u001b[0m\n\u001b[0;32m----> 1\u001b[0;31m \u001b[0mnp\u001b[0m\u001b[0;34m.\u001b[0m\u001b[0mmax\u001b[0m\u001b[0;34m(\u001b[0m\u001b[0;34m\"a\"\u001b[0m\u001b[0;34m)\u001b[0m\u001b[0;34m\u001b[0m\u001b[0;34m\u001b[0m\u001b[0m\n\u001b[0m",
      "\u001b[0;32m<__array_function__ internals>\u001b[0m in \u001b[0;36mamax\u001b[0;34m(*args, **kwargs)\u001b[0m\n",
      "\u001b[0;32m~/miniconda3/envs/dspy3/lib/python3.6/site-packages/numpy/core/fromnumeric.py\u001b[0m in \u001b[0;36mamax\u001b[0;34m(a, axis, out, keepdims, initial, where)\u001b[0m\n\u001b[1;32m   2619\u001b[0m     \"\"\"\n\u001b[1;32m   2620\u001b[0m     return _wrapreduction(a, np.maximum, 'max', axis, None, out,\n\u001b[0;32m-> 2621\u001b[0;31m                           keepdims=keepdims, initial=initial, where=where)\n\u001b[0m\u001b[1;32m   2622\u001b[0m \u001b[0;34m\u001b[0m\u001b[0m\n\u001b[1;32m   2623\u001b[0m \u001b[0;34m\u001b[0m\u001b[0m\n",
      "\u001b[0;32m~/miniconda3/envs/dspy3/lib/python3.6/site-packages/numpy/core/fromnumeric.py\u001b[0m in \u001b[0;36m_wrapreduction\u001b[0;34m(obj, ufunc, method, axis, dtype, out, **kwargs)\u001b[0m\n\u001b[1;32m     88\u001b[0m                 \u001b[0;32mreturn\u001b[0m \u001b[0mreduction\u001b[0m\u001b[0;34m(\u001b[0m\u001b[0maxis\u001b[0m\u001b[0;34m=\u001b[0m\u001b[0maxis\u001b[0m\u001b[0;34m,\u001b[0m \u001b[0mout\u001b[0m\u001b[0;34m=\u001b[0m\u001b[0mout\u001b[0m\u001b[0;34m,\u001b[0m \u001b[0;34m**\u001b[0m\u001b[0mpasskwargs\u001b[0m\u001b[0;34m)\u001b[0m\u001b[0;34m\u001b[0m\u001b[0;34m\u001b[0m\u001b[0m\n\u001b[1;32m     89\u001b[0m \u001b[0;34m\u001b[0m\u001b[0m\n\u001b[0;32m---> 90\u001b[0;31m     \u001b[0;32mreturn\u001b[0m \u001b[0mufunc\u001b[0m\u001b[0;34m.\u001b[0m\u001b[0mreduce\u001b[0m\u001b[0;34m(\u001b[0m\u001b[0mobj\u001b[0m\u001b[0;34m,\u001b[0m \u001b[0maxis\u001b[0m\u001b[0;34m,\u001b[0m \u001b[0mdtype\u001b[0m\u001b[0;34m,\u001b[0m \u001b[0mout\u001b[0m\u001b[0;34m,\u001b[0m \u001b[0;34m**\u001b[0m\u001b[0mpasskwargs\u001b[0m\u001b[0;34m)\u001b[0m\u001b[0;34m\u001b[0m\u001b[0;34m\u001b[0m\u001b[0m\n\u001b[0m\u001b[1;32m     91\u001b[0m \u001b[0;34m\u001b[0m\u001b[0m\n\u001b[1;32m     92\u001b[0m \u001b[0;34m\u001b[0m\u001b[0m\n",
      "\u001b[0;31mTypeError\u001b[0m: cannot perform reduce with flexible type"
     ]
    }
   ],
   "source": [
    "np.max(\"a\")"
   ]
  },
  {
   "cell_type": "markdown",
   "metadata": {},
   "source": [
    "## Imports"
   ]
  },
  {
   "cell_type": "code",
   "execution_count": 5,
   "metadata": {
    "ExecuteTime": {
     "end_time": "2019-09-12T23:23:58.561151Z",
     "start_time": "2019-09-12T23:23:56.922891Z"
    },
    "execution_event_id": "c4df82b2-6518-4be6-b2ce-ae88d84cafd4",
    "last_executed_text": "%matplotlib inline\n%config InlineBackend.figure_format='retina'",
    "persistent_id": "23f17423-b7db-427a-9453-8e1a5b0215ea",
    "run_control": {
     "marked": false
    }
   },
   "outputs": [],
   "source": [
    "%matplotlib inline\n",
    "%config InlineBackend.figure_format='retina'\n",
    "\n",
    "import pandas as pd\n",
    "import matplotlib.pyplot as plt\n",
    "import seaborn as sns\n",
    "import os\n",
    "from pivottablejs import pivot_ui\n",
    "import sys\n",
    "import warnings\n",
    "\n",
    "warnings.filterwarnings(\"ignore\")"
   ]
  },
  {
   "cell_type": "markdown",
   "metadata": {},
   "source": [
    "# Keyboard shortcuts\n",
    "\n",
    "Practice doing these a few times and try to force yourself to use them whenever you can. \n",
    "\n",
    "## Help (h)\n",
    "For help in the Notebook, `ESC` + `h`\n",
    "(doesn't work in Lab)"
   ]
  },
  {
   "cell_type": "markdown",
   "metadata": {},
   "source": [
    "## Select multiple cells\n",
    "\n",
    "j, k, and arrow keys while holding shift selects multiple cells."
   ]
  },
  {
   "cell_type": "code",
   "execution_count": 6,
   "metadata": {
    "ExecuteTime": {
     "end_time": "2019-09-12T23:25:15.351196Z",
     "start_time": "2019-09-12T23:25:15.348492Z"
    },
    "execution_event_id": "7e570bd2-7e37-41aa-8329-1a8d2b22327a",
    "last_executed_text": "first = 1",
    "persistent_id": "ea0e37d6-44e2-411f-9da8-5b9c4dba6afe"
   },
   "outputs": [],
   "source": [
    "first = 1\n",
    "\n",
    "second = 2\n",
    "\n",
    "third = 3"
   ]
  },
  {
   "cell_type": "markdown",
   "metadata": {},
   "source": [
    "## Split a cell with -\n",
    "\n",
    "Well, ctrl + shift + -, but remember it by horizontal."
   ]
  },
  {
   "cell_type": "markdown",
   "metadata": {},
   "source": [
    "## Add a new cell (a)bove"
   ]
  },
  {
   "cell_type": "markdown",
   "metadata": {},
   "source": [
    "## Add a new cell (b)elow"
   ]
  },
  {
   "cell_type": "markdown",
   "metadata": {},
   "source": [
    "## (d)(d)elete \n",
    "## unD(z)o "
   ]
  },
  {
   "cell_type": "markdown",
   "metadata": {},
   "source": [
    "## (c)opy cells\n",
    "\n",
    "## (v)aste cells"
   ]
  },
  {
   "cell_type": "markdown",
   "metadata": {},
   "source": [
    "## (c)opy cells\n",
    "\n",
    "## (v)aste cells"
   ]
  },
  {
   "cell_type": "markdown",
   "metadata": {},
   "source": [
    "# Pivot Tables w/ pandas\n",
    "\n",
    "A library and example from: http://nicolas.kruchten.com/content/2015/09/jupyter_pivottablejs/"
   ]
  },
  {
   "cell_type": "code",
   "execution_count": 7,
   "metadata": {
    "ExecuteTime": {
     "end_time": "2019-09-12T23:28:24.369611Z",
     "start_time": "2019-09-12T23:28:24.358093Z"
    },
    "execution_event_id": "279f925d-c6a9-439d-b7a6-3bf072d1c6d9",
    "last_executed_text": "# df = pd.read_csv(\"../data/mps.csv\", encoding=\"ISO-8859-1\")\n# canadian_politics = pd.read_csv(\"../data/montreal_2014.csv\",)\ncanadian_politics = pd.read_csv(\"../data/mps2.csv\")",
    "persistent_id": "646cd755-8c22-4efe-9f37-4629e03fc41d"
   },
   "outputs": [],
   "source": [
    "# df = pd.read_csv(\"../data/mps.csv\", encoding=\"ISO-8859-1\")\n",
    "# canadian_politics = pd.read_csv(\"../data/montreal_2014.csv\",)\n",
    "canadian_politics = pd.read_csv(\"../data/mps2.csv\")"
   ]
  },
  {
   "cell_type": "code",
   "execution_count": 8,
   "metadata": {
    "ExecuteTime": {
     "end_time": "2019-09-12T23:28:42.787190Z",
     "start_time": "2019-09-12T23:28:42.774287Z"
    },
    "execution_event_id": "da6126d7-9adf-45f5-acf3-5f9182c383b3",
    "last_executed_text": "# recommend using .head()\ncanadian_politics.head(10)",
    "persistent_id": "eb2f750c-1142-4f82-bb4a-b24e13bf5652"
   },
   "outputs": [
    {
     "data": {
      "text/html": [
       "<div>\n",
       "<style scoped>\n",
       "    .dataframe tbody tr th:only-of-type {\n",
       "        vertical-align: middle;\n",
       "    }\n",
       "\n",
       "    .dataframe tbody tr th {\n",
       "        vertical-align: top;\n",
       "    }\n",
       "\n",
       "    .dataframe thead th {\n",
       "        text-align: right;\n",
       "    }\n",
       "</style>\n",
       "<table border=\"1\" class=\"dataframe\">\n",
       "  <thead>\n",
       "    <tr style=\"text-align: right;\">\n",
       "      <th></th>\n",
       "      <th>Name</th>\n",
       "      <th>Party</th>\n",
       "      <th>Province</th>\n",
       "      <th>Age</th>\n",
       "      <th>Gender</th>\n",
       "    </tr>\n",
       "  </thead>\n",
       "  <tbody>\n",
       "    <tr>\n",
       "      <td>0</td>\n",
       "      <td>Liu, Laurin</td>\n",
       "      <td>NDP</td>\n",
       "      <td>Quebec</td>\n",
       "      <td>22.0</td>\n",
       "      <td>Female</td>\n",
       "    </tr>\n",
       "    <tr>\n",
       "      <td>1</td>\n",
       "      <td>Mourani, Maria</td>\n",
       "      <td>Bloc Quebecois</td>\n",
       "      <td>Quebec</td>\n",
       "      <td>43.0</td>\n",
       "      <td>Female</td>\n",
       "    </tr>\n",
       "    <tr>\n",
       "      <td>2</td>\n",
       "      <td>Sellah, Djaouida</td>\n",
       "      <td>NDP</td>\n",
       "      <td>Quebec</td>\n",
       "      <td>NaN</td>\n",
       "      <td>Female</td>\n",
       "    </tr>\n",
       "    <tr>\n",
       "      <td>3</td>\n",
       "      <td>St-Denis, Lise</td>\n",
       "      <td>NDP</td>\n",
       "      <td>Quebec</td>\n",
       "      <td>72.0</td>\n",
       "      <td>Female</td>\n",
       "    </tr>\n",
       "    <tr>\n",
       "      <td>4</td>\n",
       "      <td>Fry, Hedy</td>\n",
       "      <td>Liberal</td>\n",
       "      <td>British Columbia</td>\n",
       "      <td>71.0</td>\n",
       "      <td>Female</td>\n",
       "    </tr>\n",
       "    <tr>\n",
       "      <td>5</td>\n",
       "      <td>Turmel, Nycole</td>\n",
       "      <td>NDP</td>\n",
       "      <td>Quebec</td>\n",
       "      <td>70.0</td>\n",
       "      <td>Female</td>\n",
       "    </tr>\n",
       "    <tr>\n",
       "      <td>6</td>\n",
       "      <td>Sgro, Judy</td>\n",
       "      <td>Liberal</td>\n",
       "      <td>Ontario</td>\n",
       "      <td>68.0</td>\n",
       "      <td>Female</td>\n",
       "    </tr>\n",
       "    <tr>\n",
       "      <td>7</td>\n",
       "      <td>Raynault, Francine</td>\n",
       "      <td>NDP</td>\n",
       "      <td>Quebec</td>\n",
       "      <td>67.0</td>\n",
       "      <td>Female</td>\n",
       "    </tr>\n",
       "    <tr>\n",
       "      <td>8</td>\n",
       "      <td>Davidson, Patricia</td>\n",
       "      <td>Conservative</td>\n",
       "      <td>Ontario</td>\n",
       "      <td>66.0</td>\n",
       "      <td>Female</td>\n",
       "    </tr>\n",
       "    <tr>\n",
       "      <td>9</td>\n",
       "      <td>Smith, Joy</td>\n",
       "      <td>Conservative</td>\n",
       "      <td>Manitoba</td>\n",
       "      <td>65.0</td>\n",
       "      <td>Female</td>\n",
       "    </tr>\n",
       "  </tbody>\n",
       "</table>\n",
       "</div>"
      ],
      "text/plain": [
       "                 Name           Party          Province   Age  Gender\n",
       "0         Liu, Laurin             NDP            Quebec  22.0  Female\n",
       "1      Mourani, Maria  Bloc Quebecois            Quebec  43.0  Female\n",
       "2    Sellah, Djaouida             NDP            Quebec   NaN  Female\n",
       "3      St-Denis, Lise             NDP            Quebec  72.0  Female\n",
       "4           Fry, Hedy         Liberal  British Columbia  71.0  Female\n",
       "5      Turmel, Nycole             NDP            Quebec  70.0  Female\n",
       "6          Sgro, Judy         Liberal           Ontario  68.0  Female\n",
       "7  Raynault, Francine             NDP            Quebec  67.0  Female\n",
       "8  Davidson, Patricia    Conservative           Ontario  66.0  Female\n",
       "9          Smith, Joy    Conservative          Manitoba  65.0  Female"
      ]
     },
     "execution_count": 8,
     "metadata": {},
     "output_type": "execute_result"
    }
   ],
   "source": [
    "# recommend using .head()\n",
    "canadian_politics.head(10)"
   ]
  },
  {
   "cell_type": "code",
   "execution_count": 13,
   "metadata": {
    "ExecuteTime": {
     "end_time": "2019-09-12T23:31:12.529025Z",
     "start_time": "2019-09-12T23:31:12.266494Z"
    },
    "execution_event_id": "441c25dd-7044-43a1-b388-1e2bc8672dc4",
    "last_executed_text": "sns.distplot(canadian_politics[\"Age\"].dropna());",
    "persistent_id": "e69366c4-06ab-480c-9517-27a92536a7f3"
   },
   "outputs": [
    {
     "data": {
      "image/png": "[encoded data removed]",
      "text/plain": [
       "<Figure size 432x288 with 1 Axes>"
      ]
     },
     "metadata": {
      "image/png": {
       "height": 308,
       "width": 428
      },
      "needs_background": "light"
     },
     "output_type": "display_data"
    }
   ],
   "source": [
    "sns.distplot(canadian_politics[\"Age\"].dropna());"
   ]
  },
  {
   "cell_type": "code",
   "execution_count": 10,
   "metadata": {
    "ExecuteTime": {
     "end_time": "2019-09-12T23:30:35.974617Z",
     "start_time": "2019-09-12T23:30:35.971666Z"
    },
    "execution_event_id": "1d30b86b-ad9e-4095-9af0-65e2914f46a9",
    "last_executed_text": "sns.set_context(\"poster\", font_scale=1.3)",
    "persistent_id": "07d985ae-a47f-4486-8877-71e9529824de"
   },
   "outputs": [],
   "source": [
    "sns.set_context(\"poster\", font_scale=1.3)"
   ]
  },
  {
   "cell_type": "code",
   "execution_count": 11,
   "metadata": {
    "ExecuteTime": {
     "end_time": "2019-09-12T23:30:37.104709Z",
     "start_time": "2019-09-12T23:30:36.536960Z"
    },
    "execution_event_id": "0ac3b2da-1dbe-475c-9678-43c564b8b5c6",
    "last_executed_text": "fig, ax = plt.subplots(figsize=(12, 8))\nsns.distplot(canadian_politics[\"Age\"].dropna())\nfig.tight_layout()",
    "persistent_id": "dea1274f-c2fa-4fce-b2ff-864248c03b86"
   },
   "outputs": [
    {
     "data": {
      "image/png": "[encoded data removed]",
      "text/plain": [
       "<Figure size 864x576 with 1 Axes>"
      ]
     },
     "metadata": {
      "image/png": {
       "height": 521,
       "width": 810
      },
      "needs_background": "light"
     },
     "output_type": "display_data"
    }
   ],
   "source": [
    "fig, ax = plt.subplots(figsize=(12, 8))\n",
    "sns.distplot(canadian_politics[\"Age\"].dropna())\n",
    "fig.tight_layout()"
   ]
  },
  {
   "cell_type": "code",
   "execution_count": null,
   "metadata": {
    "persistent_id": "fdc140ba-9268-49d0-aaf2-211c74a30c8e"
   },
   "outputs": [],
   "source": []
  },
  {
   "cell_type": "code",
   "execution_count": null,
   "metadata": {
    "persistent_id": "dbd0b1e0-cd72-4b92-b371-048bb040b2ec"
   },
   "outputs": [],
   "source": []
  },
  {
   "cell_type": "code",
   "execution_count": null,
   "metadata": {
    "persistent_id": "a3aa6d91-884a-42cf-b455-c36660942f64"
   },
   "outputs": [],
   "source": []
  },
  {
   "cell_type": "code",
   "execution_count": null,
   "metadata": {
    "persistent_id": "84502920-ddb0-4b41-91d4-fa1e3cb2bde5"
   },
   "outputs": [],
   "source": []
  },
  {
   "cell_type": "code",
   "execution_count": null,
   "metadata": {
    "persistent_id": "a43241a1-f537-4c9c-8cae-29ada8d6dd72"
   },
   "outputs": [],
   "source": []
  },
  {
   "cell_type": "markdown",
   "metadata": {},
   "source": [
    "# Enhanced Pandas Dataframe Display"
   ]
  },
  {
   "cell_type": "code",
   "execution_count": 14,
   "metadata": {
    "ExecuteTime": {
     "end_time": "2019-09-12T23:32:09.019136Z",
     "start_time": "2019-09-12T23:32:09.016717Z"
    },
    "execution_event_id": "50577d9b-14d8-4270-a8ad-ead2c262d503",
    "last_executed_text": "# Province, Party, Average, Age, Heatmap",
    "persistent_id": "d51338c0-4a0d-4f36-8c01-c304b6e0c6c1"
   },
   "outputs": [],
   "source": [
    "# Province, Party, Average, Age, Heatmap"
   ]
  },
  {
   "cell_type": "code",
   "execution_count": 15,
   "metadata": {
    "ExecuteTime": {
     "end_time": "2019-09-12T23:32:19.705217Z",
     "start_time": "2019-09-12T23:32:19.698184Z"
    },
    "execution_event_id": "d44a99ac-3535-4507-9728-f870c2ed8f35",
    "last_executed_text": "pivot_ui(canadian_politics)",
    "persistent_id": "b39539b8-5424-4347-85b6-f7573dc8ae03"
   },
   "outputs": [
    {
     "data": {
      "text/html": [
       "\n",
       "        <iframe\n",
       "            width=\"100%\"\n",
       "            height=\"500\"\n",
       "            src=\"pivottablejs.html\"\n",
       "            frameborder=\"0\"\n",
       "            allowfullscreen\n",
       "        ></iframe>\n",
       "        "
      ],
      "text/plain": [
       "<IPython.lib.display.IFrame at 0x116503358>"
      ]
     },
     "execution_count": 15,
     "metadata": {},
     "output_type": "execute_result"
    }
   ],
   "source": [
    "pivot_ui(canadian_politics)"
   ]
  },
  {
   "cell_type": "markdown",
   "metadata": {},
   "source": [
    "# Tab"
   ]
  },
  {
   "cell_type": "code",
   "execution_count": 16,
   "metadata": {
    "ExecuteTime": {
     "end_time": "2019-09-12T23:35:43.007921Z",
     "start_time": "2019-09-12T23:35:43.005188Z"
    },
    "execution_event_id": "fb8f156a-666b-4c94-ad7d-fd972c3452d3",
    "last_executed_text": "import numpy as np",
    "persistent_id": "ffc60d8b-1163-467f-a3d6-3c8bd704e21f"
   },
   "outputs": [],
   "source": [
    "import numpy as np"
   ]
  },
  {
   "cell_type": "code",
   "execution_count": 17,
   "metadata": {
    "ExecuteTime": {
     "end_time": "2019-09-12T23:36:32.126386Z",
     "start_time": "2019-09-12T23:36:32.123736Z"
    }
   },
   "outputs": [],
   "source": [
    "from numpy.random import chisquare"
   ]
  },
  {
   "cell_type": "code",
   "execution_count": null,
   "metadata": {
    "ExecuteTime": {
     "end_time": "2019-01-17T16:35:39.722700Z",
     "start_time": "2019-01-17T16:35:39.705147Z"
    },
    "execution_event_id": "dbb3cbad-8308-4dda-af2a-a17abecea697",
    "last_executed_text": "np.random.chisquare()",
    "persistent_id": "7a734967-ab48-49da-8415-d9465cfdd79a"
   },
   "outputs": [],
   "source": [
    "np.random.chisquare()"
   ]
  },
  {
   "cell_type": "code",
   "execution_count": null,
   "metadata": {
    "ExecuteTime": {
     "end_time": "2018-06-06T07:41:48.859315Z",
     "start_time": "2018-06-06T07:41:48.845245Z"
    },
    "persistent_id": "f7a2acd3-017a-4d68-ade0-5e751b15beea"
   },
   "outputs": [],
   "source": [
    "# pure tab right ↓ less useful\n",
    "np.random.choice()"
   ]
  },
  {
   "cell_type": "code",
   "execution_count": null,
   "metadata": {
    "persistent_id": "e4a99e3d-a1bb-4ca9-bf04-3083ba8882bb"
   },
   "outputs": [],
   "source": []
  },
  {
   "cell_type": "code",
   "execution_count": null,
   "metadata": {
    "persistent_id": "b57abe30-2030-4b8a-a146-64222d53cd8e"
   },
   "outputs": [],
   "source": []
  },
  {
   "cell_type": "code",
   "execution_count": null,
   "metadata": {
    "persistent_id": "a8f87805-6473-4d86-a746-66e04eef185b"
   },
   "outputs": [],
   "source": []
  },
  {
   "cell_type": "markdown",
   "metadata": {},
   "source": [
    "## shift-tab"
   ]
  },
  {
   "cell_type": "code",
   "execution_count": null,
   "metadata": {
    "ExecuteTime": {
     "end_time": "2019-01-18T02:30:37.856964Z",
     "start_time": "2019-01-18T02:30:37.851804Z"
    },
    "execution_event_id": "d43877c5-a0ec-4194-b791-a2a6172b89bd",
    "last_executed_text": "# shift-tab right ↓ more useful\nnp.linspace(start=50, endpoint=False, stop=100)",
    "persistent_id": "e168be3c-422d-45b4-900a-6ee471fe39c2"
   },
   "outputs": [],
   "source": [
    "# shift-tab right ↓ more useful\n",
    "np.linspace(start=50, endpoint=False, stop=100)"
   ]
  },
  {
   "cell_type": "code",
   "execution_count": null,
   "metadata": {},
   "outputs": [],
   "source": []
  },
  {
   "cell_type": "code",
   "execution_count": null,
   "metadata": {},
   "outputs": [],
   "source": []
  },
  {
   "cell_type": "code",
   "execution_count": null,
   "metadata": {},
   "outputs": [],
   "source": []
  },
  {
   "cell_type": "code",
   "execution_count": null,
   "metadata": {},
   "outputs": [],
   "source": []
  },
  {
   "cell_type": "code",
   "execution_count": null,
   "metadata": {},
   "outputs": [],
   "source": []
  },
  {
   "cell_type": "code",
   "execution_count": null,
   "metadata": {
    "persistent_id": "3894f1c9-3f32-4748-9d86-2fdd93fe5a2a"
   },
   "outputs": [],
   "source": []
  },
  {
   "cell_type": "code",
   "execution_count": null,
   "metadata": {
    "persistent_id": "83d7a991-f982-4afd-a91e-5a3bc84a2083"
   },
   "outputs": [],
   "source": []
  },
  {
   "cell_type": "code",
   "execution_count": null,
   "metadata": {
    "persistent_id": "282e726e-2159-411a-8798-f908505cc7eb"
   },
   "outputs": [],
   "source": []
  },
  {
   "cell_type": "markdown",
   "metadata": {},
   "source": [
    "## shift-tab-tab"
   ]
  },
  {
   "cell_type": "markdown",
   "metadata": {},
   "source": [
    "## shift-tab-tab-tab"
   ]
  },
  {
   "cell_type": "code",
   "execution_count": null,
   "metadata": {
    "persistent_id": "dda3feff-49bb-453d-86ad-cbb42b245044"
   },
   "outputs": [],
   "source": [
    "np.linspace(50, 150, num=100, endpoint=False)"
   ]
  },
  {
   "cell_type": "markdown",
   "metadata": {},
   "source": [
    "## shift-tab-tab-tab-tab"
   ]
  },
  {
   "cell_type": "code",
   "execution_count": null,
   "metadata": {
    "ExecuteTime": {
     "end_time": "2018-06-06T07:41:53.566846Z",
     "start_time": "2018-06-06T07:41:53.556479Z"
    },
    "persistent_id": "cbfb4d59-2ec9-4910-aeb9-8383ec35f5fe"
   },
   "outputs": [],
   "source": [
    "plt.plot(np.linspace(start, stop))"
   ]
  },
  {
   "cell_type": "code",
   "execution_count": null,
   "metadata": {},
   "outputs": [],
   "source": []
  },
  {
   "cell_type": "code",
   "execution_count": null,
   "metadata": {},
   "outputs": [],
   "source": []
  },
  {
   "cell_type": "code",
   "execution_count": null,
   "metadata": {},
   "outputs": [],
   "source": []
  },
  {
   "cell_type": "code",
   "execution_count": null,
   "metadata": {},
   "outputs": [],
   "source": []
  },
  {
   "cell_type": "markdown",
   "metadata": {},
   "source": [
    "## ?"
   ]
  },
  {
   "cell_type": "code",
   "execution_count": 18,
   "metadata": {
    "ExecuteTime": {
     "end_time": "2019-09-12T23:40:20.829104Z",
     "start_time": "2019-09-12T23:40:20.823678Z"
    },
    "execution_event_id": "83810e42-723c-4726-93e2-42f74f253db2",
    "last_executed_text": "np.linspace?",
    "persistent_id": "f1b235f2-cbfb-47c2-a110-e618c2160cdc"
   },
   "outputs": [],
   "source": [
    "np.linspace?"
   ]
  },
  {
   "cell_type": "code",
   "execution_count": null,
   "metadata": {
    "execution_event_id": "3f2487d8-6bab-4223-b2c3-98f57de01815",
    "last_executed_text": "!grep qgrid *.ipynb",
    "persistent_id": "418b062f-6022-4f33-93fa-9207ed87374a"
   },
   "outputs": [],
   "source": [
    "!grep qgrid *.ipynb"
   ]
  },
  {
   "cell_type": "code",
   "execution_count": null,
   "metadata": {
    "ExecuteTime": {
     "end_time": "2019-01-18T02:31:40.370676Z",
     "start_time": "2019-01-18T02:31:40.362984Z"
    },
    "execution_event_id": "0c7c2bca-a30f-4f53-8e17-8945d47bffb2",
    "last_executed_text": "?np.linspace",
    "persistent_id": "591deb25-5503-4f05-8804-03e909a03e84"
   },
   "outputs": [],
   "source": [
    "?np.linspace"
   ]
  },
  {
   "cell_type": "markdown",
   "metadata": {},
   "source": [
    "## ??\n",
    "\n",
    "(Lab can scroll if you click)"
   ]
  },
  {
   "cell_type": "code",
   "execution_count": 20,
   "metadata": {
    "ExecuteTime": {
     "end_time": "2019-09-12T23:42:12.587385Z",
     "start_time": "2019-09-12T23:42:12.570581Z"
    },
    "execution_event_id": "0503ca17-62c2-4b58-9e49-d32ef2fb786a",
    "last_executed_text": "np.linspace??",
    "persistent_id": "b709800a-b4d9-40e0-b810-b53d5be31737"
   },
   "outputs": [],
   "source": [
    "np.linspace??"
   ]
  },
  {
   "cell_type": "code",
   "execution_count": 21,
   "metadata": {
    "ExecuteTime": {
     "end_time": "2019-09-12T23:42:34.009519Z",
     "start_time": "2019-09-12T23:42:33.751248Z"
    },
    "persistent_id": "7256abb3-2382-4acc-83cd-edcb28ba4628"
   },
   "outputs": [],
   "source": [
    "!subl ~/miniconda3/envs/dspy3/lib/python3.6/site-packages/numpy/core/function_base.py"
   ]
  },
  {
   "cell_type": "markdown",
   "metadata": {
    "persistent_id": "b8567067-4c7a-4a7a-93a9-974d88468aff"
   },
   "source": [
    "## Scroll around without selecting cells\n",
    "\n",
    "    ALT + Up/Down"
   ]
  },
  {
   "cell_type": "code",
   "execution_count": 22,
   "metadata": {
    "ExecuteTime": {
     "end_time": "2019-09-12T23:44:07.706885Z",
     "start_time": "2019-09-12T23:44:07.702572Z"
    },
    "execution_event_id": "2ad0dfca-8911-4fe9-9e8f-446214c0e5d7",
    "last_executed_text": "import textwrap\ndef example_function():\n    \"\"\"Docstring for example function\"\"\"\n    \n    print(textwrap.dedent(\"\"\"\n    This is a multi-lined string\n    that I want to write inside of a function.\n    Notice what happens when I print this.\n        And when something is indented more.\"\"\"))\n\n\nexample_function()",
    "persistent_id": "2dd939f9-4894-4c97-99ee-842a9cf63707"
   },
   "outputs": [
    {
     "name": "stdout",
     "output_type": "stream",
     "text": [
      "\n",
      "This is a multi-lined string\n",
      "that I want to write inside of a function.\n",
      "Notice what happens when I print this.\n",
      "    And when something is indented more.\n"
     ]
    }
   ],
   "source": [
    "import textwrap\n",
    "def example_function():\n",
    "    \"\"\"Docstring for example function\"\"\"\n",
    "    \n",
    "    print(textwrap.dedent(\"\"\"\n",
    "    This is a multi-lined string\n",
    "    that I want to write inside of a function.\n",
    "    Notice what happens when I print this.\n",
    "        And when something is indented more.\"\"\"))\n",
    "\n",
    "\n",
    "example_function()"
   ]
  },
  {
   "cell_type": "markdown",
   "metadata": {},
   "source": [
    "## Inspect _everything_ and Find and Replace"
   ]
  },
  {
   "cell_type": "code",
   "execution_count": 28,
   "metadata": {
    "ExecuteTime": {
     "end_time": "2019-09-12T23:45:55.793600Z",
     "start_time": "2019-09-12T23:45:55.790160Z"
    },
    "execution_event_id": "43c59478-bf18-499c-9923-6642a04f74b9",
    "last_executed_text": "# But first find and replace\ndef silly_function(xval):\n    \"\"\"Takes a value and returns the value.\"\"\"\n    xval_sq = xval ** 2.0\n    1 + 12\n    xval_abs = np.sqrt(xval_sq)\n    return xval_abs",
    "persistent_id": "ea55279f-0c0e-4a87-8099-35951a5c64d2"
   },
   "outputs": [],
   "source": [
    "# But first find and replace\n",
    "def silly_function(xval):\n",
    "    \"\"\"Takes a value and returns the value.\"\"\"\n",
    "    xval_sq = xval ** 2.0\n",
    "    1 + 10\n",
    "    xval_abs = np.sqrt(xval_sq)\n",
    "    return xval_abs"
   ]
  },
  {
   "cell_type": "code",
   "execution_count": 29,
   "metadata": {
    "ExecuteTime": {
     "end_time": "2019-09-12T23:45:56.179846Z",
     "start_time": "2019-09-12T23:45:56.176096Z"
    },
    "execution_event_id": "e17af4c5-1986-41ac-98a6-041086dda59a",
    "last_executed_text": "silly_function(-2,)",
    "persistent_id": "fb0fa1f1-51d4-48b0-8656-a2372ac6bba8"
   },
   "outputs": [
    {
     "data": {
      "text/plain": [
       "2.0"
      ]
     },
     "execution_count": 29,
     "metadata": {},
     "output_type": "execute_result"
    }
   ],
   "source": [
    "silly_function(-2,)"
   ]
  },
  {
   "cell_type": "code",
   "execution_count": 30,
   "metadata": {
    "ExecuteTime": {
     "end_time": "2019-09-12T23:45:56.748444Z",
     "start_time": "2019-09-12T23:45:56.744098Z"
    },
    "execution_event_id": "7b09e834-f580-40cd-bba5-6a7bb3d9b277",
    "last_executed_text": "silly_function?",
    "persistent_id": "684f8136-a102-4fca-9a38-f2bd1d7f0659"
   },
   "outputs": [],
   "source": [
    "silly_function?"
   ]
  },
  {
   "cell_type": "code",
   "execution_count": 31,
   "metadata": {
    "ExecuteTime": {
     "end_time": "2019-09-12T23:45:57.000160Z",
     "start_time": "2019-09-12T23:45:56.993314Z"
    },
    "execution_event_id": "e4205668-f142-477e-9d98-cd8c8c3c2fa7",
    "last_executed_text": "silly_function??",
    "persistent_id": "4671b66f-3676-475d-968c-07701c20c24e"
   },
   "outputs": [],
   "source": [
    "silly_function??"
   ]
  },
  {
   "cell_type": "code",
   "execution_count": 33,
   "metadata": {
    "ExecuteTime": {
     "end_time": "2019-09-12T23:46:26.945274Z",
     "start_time": "2019-09-12T23:46:26.822803Z"
    },
    "execution_event_id": "0b812da3-692d-406a-a1d4-5b1bcd1b5ae9",
    "last_executed_text": "!ls ../data/",
    "persistent_id": "9ab43ff0-98a4-44da-94d1-89d86ee0a180"
   },
   "outputs": [
    {
     "name": "stdout",
     "output_type": "stream",
     "text": [
      "coal_prod_2008.csv           collincountyforeclosures.csv\r\n",
      "coal_prod_2009.csv           example.csv\r\n",
      "coal_prod_2010.csv           montreal_2014.csv\r\n",
      "coal_prod_2011.csv           mps.csv\r\n",
      "coal_prod_2012.csv           mps2.csv\r\n",
      "coal_prod_cleaned.csv        nbextensions.png\r\n",
      "coal_prod_cleaned.csv.zip    raw_players.csv.gz\r\n",
      "coalpublic2012.xls\r\n"
     ]
    }
   ],
   "source": [
    "!ls ../data/"
   ]
  },
  {
   "cell_type": "code",
   "execution_count": 34,
   "metadata": {
    "ExecuteTime": {
     "end_time": "2019-09-12T23:46:38.820633Z",
     "start_time": "2019-09-12T23:46:38.804914Z"
    },
    "execution_event_id": "039a4e83-59ae-4533-b496-3cdd0f09f365",
    "last_executed_text": "coal_years = !ls ../data/coal_prod_20*.csv",
    "persistent_id": "efeed389-27ed-4c67-ac6b-ef863892abc1"
   },
   "outputs": [],
   "source": [
    "coal_years = !ls ../data/coal_prod_20*.csv"
   ]
  },
  {
   "cell_type": "code",
   "execution_count": 35,
   "metadata": {
    "ExecuteTime": {
     "end_time": "2019-09-12T23:46:48.407449Z",
     "start_time": "2019-09-12T23:46:48.385923Z"
    },
    "execution_event_id": "faadaf37-72da-4341-b252-9ab792df1bab",
    "last_executed_text": "coal_years",
    "persistent_id": "acd2b234-7821-4ff7-ae3a-817f57e65f5b"
   },
   "outputs": [
    {
     "data": {
      "text/plain": [
       "['../data/coal_prod_2008.csv',\n",
       " '../data/coal_prod_2009.csv',\n",
       " '../data/coal_prod_2010.csv',\n",
       " '../data/coal_prod_2011.csv',\n",
       " '../data/coal_prod_2012.csv']"
      ]
     },
     "execution_count": 35,
     "metadata": {},
     "output_type": "execute_result"
    }
   ],
   "source": [
    "coal_years"
   ]
  },
  {
   "cell_type": "markdown",
   "metadata": {},
   "source": [
    "## Line numbers (lowercase \"L\")\n",
    "\n",
    "Type lowercase \"L\" to have line numbers; shift-L for line numbers notebook-wide."
   ]
  },
  {
   "cell_type": "markdown",
   "metadata": {},
   "source": [
    "## Move blocks of code around\n",
    "\n",
    "\n",
    "### Indent/dedent\n",
    "\n",
    "    Cmd + [\n",
    "    Cmd + ]\n",
    "\n",
    "### Comment\n",
    "\n",
    "    Cmd + /"
   ]
  },
  {
   "cell_type": "code",
   "execution_count": 36,
   "metadata": {
    "ExecuteTime": {
     "end_time": "2019-09-12T23:51:33.914914Z",
     "start_time": "2019-09-12T23:51:33.911444Z"
    },
    "execution_event_id": "741f141f-a59f-4e70-864f-396573c14beb",
    "last_executed_text": "example = {}\n\n# Indent/dedent/comment\nfor index in range(5):\n    example[\"float_one\"] = 1\n    example[\"float_two\"] = 2\n    example[\"float_three\"] = 3\n    example[\"float_four\"] = 4",
    "persistent_id": "dc226ce8-66ec-4547-8399-86df1ee7474d"
   },
   "outputs": [],
   "source": [
    "ex_dictionary = {}\n",
    "\n",
    "# Indent/dedent/comment\n",
    "for index in range(5):\n",
    "    ex_dictionary[\"integer_one\"] = 1.0\n",
    "    ex_dictionary[\"integer_two\"] = 2.0\n",
    "    ex_dictionary[\"integer_three\"] = 3.0\n",
    "    ex_dictionary[\"integer_four\"] = 4.0"
   ]
  },
  {
   "cell_type": "code",
   "execution_count": null,
   "metadata": {
    "persistent_id": "5bbdd8b8-c753-408d-a975-4ef4a3c2dba2"
   },
   "outputs": [],
   "source": []
  },
  {
   "cell_type": "code",
   "execution_count": null,
   "metadata": {
    "persistent_id": "5a9fafca-174b-46d8-9e6b-e0cc8e863ceb"
   },
   "outputs": [],
   "source": []
  },
  {
   "cell_type": "code",
   "execution_count": null,
   "metadata": {
    "persistent_id": "86de0f31-24d6-4cc4-99c1-478c29a87a0b"
   },
   "outputs": [],
   "source": []
  },
  {
   "cell_type": "code",
   "execution_count": null,
   "metadata": {
    "persistent_id": "6f21b1ca-6164-41cb-a3f9-9b088c6a85cd"
   },
   "outputs": [],
   "source": []
  },
  {
   "cell_type": "code",
   "execution_count": null,
   "metadata": {
    "persistent_id": "b610c99e-1776-41e0-9e6c-1c709c0bc350"
   },
   "outputs": [],
   "source": []
  },
  {
   "cell_type": "code",
   "execution_count": null,
   "metadata": {
    "persistent_id": "8b382af0-e185-4a9c-8c45-c5ec046273be"
   },
   "outputs": [],
   "source": []
  },
  {
   "cell_type": "markdown",
   "metadata": {},
   "source": [
    "## Multicursor magic\n",
    "\n",
    "Hold down `option`, click and drag (for big cursor).\n",
    "\n",
    "cmd + click == wherever you click. \n",
    "\n",
    "Shift command P -- command palette Classic Notebook\n",
    "Shift command C -- command palette in JupyterLab\n",
    "\n",
    "Hide left bar (CMD + B)\n",
    "\n",
    "Full screen CMD + Shift + D (but CTRL + CMD F for browser fullscreen)\n",
    "\n",
    "Move cells around mouse"
   ]
  },
  {
   "cell_type": "code",
   "execution_count": null,
   "metadata": {
    "ExecuteTime": {
     "end_time": "2019-06-06T01:35:43.677925Z",
     "start_time": "2019-06-06T01:35:43.675237Z"
    },
    "persistent_id": "aa9c3019-ed09-4b46-9ef8-6864b12c62d9"
   },
   "outputs": [],
   "source": [
    "example[\"one_better_neat\"] = 1\n",
    "example[\"two_better_neat\"] = 2\n",
    "example[\"three_better_neat\"] = 3\n",
    "example[\"four_better_neat\"] = 4"
   ]
  },
  {
   "cell_type": "markdown",
   "metadata": {},
   "source": [
    "## Monospace"
   ]
  },
  {
   "cell_type": "markdown",
   "metadata": {},
   "source": [
    "You can also get `monospaced` fonts by indenting 4 spaces:\n",
    "\n",
    "    mkdir toc\n",
    "    cd toc"
   ]
  },
  {
   "cell_type": "markdown",
   "metadata": {},
   "source": [
    "## Syntax Highlighting"
   ]
  },
  {
   "cell_type": "markdown",
   "metadata": {},
   "source": [
    "Wrap with triple-backticks and language:\n",
    "\n",
    "```bash\n",
    "mkdir toc\n",
    "cd toc\n",
    "wget https://repo.continuum.io/miniconda/Miniconda3-latest-MacOSX-x86_64.sh\n",
    "```"
   ]
  },
  {
   "cell_type": "markdown",
   "metadata": {},
   "source": [
    "```SQL\n",
    "SELECT first_name,\n",
    "       last_name,\n",
    "       year_of_birth\n",
    "FROM presidents\n",
    "WHERE year_of_birth > 1800;\n",
    "```"
   ]
  },
  {
   "cell_type": "markdown",
   "metadata": {},
   "source": [
    "## Headings and LaTeX\n",
    "\n",
    "With text and $\\LaTeX$ support.\n",
    "\n",
    "$$\\begin{align}\n",
    "        B'&=-\\nabla \\times E,\\\\\n",
    "        E'&=\\nabla \\times B - 4\\pi j\n",
    "\\end{align}$$"
   ]
  },
  {
   "cell_type": "markdown",
   "metadata": {},
   "source": [
    "# Magics\n",
    "\n",
    " - `%` $\\equiv$ inline magic\n",
    " - `%%` $\\equiv$ cell magic"
   ]
  },
  {
   "cell_type": "code",
   "execution_count": 37,
   "metadata": {
    "ExecuteTime": {
     "end_time": "2019-09-13T00:10:13.709661Z",
     "start_time": "2019-09-13T00:10:13.704596Z"
    },
    "execution_event_id": "2a8b1c94-a5e4-4fb4-acc0-3de37ca00a2c",
    "last_executed_text": "%%latex\n\nIf you want to get crazier$\\ldots$\n\n\\begin{equation}\n\\oint_S {E_n dA = \\frac{1}{{\\varepsilon _0 }}} Q_\\textrm{inside}\n\\end{equation}",
    "persistent_id": "3b77d101-a596-423c-a7b6-e050ffbbbc2a"
   },
   "outputs": [
    {
     "data": {
      "text/latex": [
       "\n",
       "If you want to get crazier$\\ldots$\n",
       "\n",
       "\\begin{equation}\n",
       "\\oint_S {E_n dA = \\frac{1}{{\\varepsilon _0 }}} Q_\\textrm{inside}\n",
       "\\end{equation}\n"
      ],
      "text/plain": [
       "<IPython.core.display.Latex object>"
      ]
     },
     "metadata": {},
     "output_type": "display_data"
    }
   ],
   "source": [
    "%%latex\n",
    "\n",
    "If you want to get crazier$\\ldots$\n",
    "\n",
    "\\begin{equation}\n",
    "\\oint_S {E_n dA = \\frac{1}{{\\varepsilon _0 }}} Q_\\textrm{inside}\n",
    "\\end{equation}"
   ]
  },
  {
   "cell_type": "code",
   "execution_count": 38,
   "metadata": {
    "ExecuteTime": {
     "end_time": "2019-09-13T00:10:55.263133Z",
     "start_time": "2019-09-13T00:10:55.179998Z"
    },
    "execution_event_id": "1eca0c55-334b-40c7-a61d-9a5e6e097e51",
    "last_executed_text": "%%python2\nprint \"hi\"",
    "persistent_id": "8ad64db0-b6c7-45e5-8fd4-4c7260d982c0"
   },
   "outputs": [
    {
     "name": "stdout",
     "output_type": "stream",
     "text": [
      "hi\n"
     ]
    }
   ],
   "source": [
    "%%python2\n",
    "print \"hi\""
   ]
  },
  {
   "cell_type": "code",
   "execution_count": 39,
   "metadata": {
    "ExecuteTime": {
     "end_time": "2019-09-13T00:11:34.906935Z",
     "start_time": "2019-09-13T00:11:22.387935Z"
    },
    "jupyter": {
     "outputs_hidden": true
    },
    "persistent_id": "753aa199-d7eb-4d3b-b6c1-c41cee5430a5"
   },
   "outputs": [
    {
     "name": "stderr",
     "output_type": "stream",
     "text": [
      "--2019-09-12 17:11:22--  http://www.ast.cam.ac.uk/~rfc/vpfit11.1.tar.gz\n",
      "Resolving www.ast.cam.ac.uk (www.ast.cam.ac.uk)... 131.111.71.71\n",
      "Connecting to www.ast.cam.ac.uk (www.ast.cam.ac.uk)|131.111.71.71|:80... connected.\n",
      "HTTP request sent, awaiting response... 301 Moved Permanently\n",
      "Location: https://www.ast.cam.ac.uk:443/~rfc/vpfit11.1.tar.gz [following]\n",
      "--2019-09-12 17:11:23--  https://www.ast.cam.ac.uk/~rfc/vpfit11.1.tar.gz\n",
      "Connecting to www.ast.cam.ac.uk (www.ast.cam.ac.uk)|131.111.71.71|:443... connected.\n",
      "HTTP request sent, awaiting response... 200 OK\n",
      "Length: 3761497 (3.6M) [application/x-gzip]\n",
      "Saving to: ‘vpfit11.1.tar.gz.3’\n",
      "\n",
      "     0K .......... .......... .......... .......... ..........  1%  107K 34s\n",
      "    50K .......... .......... .......... .......... ..........  2%  108K 33s\n",
      "   100K .......... .......... .......... .......... ..........  4%  154K 30s\n",
      "   150K .......... .......... .......... .......... ..........  5%  292K 25s\n",
      "   200K .......... .......... .......... .......... ..........  6%  191K 23s\n",
      "   250K .......... .......... .......... .......... ..........  8%  333K 21s\n",
      "   300K .......... .......... .......... .......... ..........  9%  134K 21s\n",
      "   350K .......... .......... .......... .......... .......... 10%  110M 18s\n",
      "   400K .......... .......... .......... .......... .......... 12%  164K 18s\n",
      "   450K .......... .......... .......... .......... .......... 13%  214K 17s\n",
      "   500K .......... .......... .......... .......... .......... 14%  238K 17s\n",
      "   550K .......... .......... .......... .......... .......... 16%  299K 16s\n",
      "   600K .......... .......... .......... .......... .......... 17%  220K 16s\n",
      "   650K .......... .......... .......... .......... .......... 19%  232K 15s\n",
      "   700K .......... .......... .......... .......... .......... 20%  291K 15s\n",
      "   750K .......... .......... .......... .......... .......... 21%  226K 14s\n",
      "   800K .......... .......... .......... .......... .......... 23%  205K 14s\n",
      "   850K .......... .......... .......... .......... .......... 24%  163K 14s\n",
      "   900K .......... .......... .......... .......... .......... 25%  322K 13s\n",
      "   950K .......... .......... .......... .......... .......... 27%  191K 13s\n",
      "  1000K .......... .......... .......... .......... .......... 28%  164K 13s\n",
      "  1050K .......... .......... .......... .......... .......... 29%  324K 13s\n",
      "  1100K .......... .......... .......... .......... .......... 31%  323K 12s\n",
      "  1150K .......... .......... .......... .......... .......... 32%  191K 12s\n",
      "  1200K .......... .......... .......... .......... .......... 34%  252K 12s\n",
      "  1250K .......... .......... .......... .......... .......... 35%  196K 11s\n",
      "  1300K .......... .......... .......... .......... .......... 36%  262K 11s\n",
      "  1350K .......... .......... .......... .......... .......... 38%  325K 11s\n",
      "  1400K .......... .......... .......... .......... .......... 39%  317K 10s\n",
      "  1450K .......... .......... .......... .......... .......... 40%  242K 10s\n",
      "  1500K .......... .......... .......... .......... .......... 42%  329K 10s\n",
      "  1550K .......... .......... .......... .......... .......... 43%  319K 9s\n",
      "  1600K .......... .......... .......... .......... .......... 44%  122K 9s\n",
      "  1650K .......... .......... .......... .......... .......... 46% 3.45M 9s\n",
      "  1700K .......... .......... .......... .......... .......... 47%  325K 9s\n",
      "  1750K .......... .......... .......... .......... .......... 49%  326K 8s\n",
      "  1800K .......... .......... .......... .......... .......... 50%  327K 8s\n",
      "  1850K .......... .......... .......... .......... .......... 51%  329K 8s\n",
      "  1900K .......... .......... .......... .......... .......... 53% 12.0M 7s\n",
      "  1950K .......... .......... .......... .......... .......... 54%  260K 7s\n",
      "  2000K .......... .......... .......... .......... .......... 55%  332K 7s\n",
      "  2050K .......... .......... .......... .......... .......... 57%  330K 7s\n",
      "  2100K .......... .......... .......... .......... .......... 58% 4.36M 6s\n",
      "  2150K .......... .......... .......... .......... .......... 59%  350K 6s\n",
      "  2200K .......... .......... .......... .......... .......... 61% 5.84M 6s\n",
      "  2250K .......... .......... .......... .......... .......... 62%  342K 5s\n",
      "  2300K .......... .......... .......... .......... .......... 63% 5.22M 5s\n",
      "  2350K .......... .......... .......... .......... .......... 65%  344K 5s\n",
      "  2400K .......... .......... .......... .......... .......... 66% 2.74M 5s\n",
      "  2450K .......... .......... .......... .......... .......... 68%  355K 4s\n",
      "  2500K .......... .......... .......... .......... .......... 69% 5.55M 4s\n",
      "  2550K .......... .......... .......... .......... .......... 70%  295K 4s\n",
      "  2600K .......... .......... .......... .......... .......... 72% 5.65M 4s\n",
      "  2650K .......... .......... .......... .......... .......... 73%  336K 4s\n",
      "  2700K .......... .......... .......... .......... .......... 74% 4.83M 3s\n",
      "  2750K .......... .......... .......... .......... .......... 76% 61.8M 3s\n",
      "  2800K .......... .......... .......... .......... .......... 77%  329K 3s\n",
      "  2850K .......... .......... .......... .......... .......... 78% 6.90M 3s\n",
      "  2900K .......... .......... .......... .......... .......... 80%  367K 2s\n",
      "  2950K .......... .......... .......... .......... .......... 81% 3.50M 2s\n",
      "  3000K .......... .......... .......... .......... .......... 83% 8.39M 2s\n",
      "  3050K .......... .......... .......... .......... .......... 84%  366K 2s\n",
      "  3100K .......... .......... .......... .......... .......... 85% 3.05M 2s\n",
      "  3150K .......... .......... .......... .......... .......... 87% 12.9M 2s\n",
      "  3200K .......... .......... .......... .......... .......... 88%  375K 1s\n",
      "  3250K .......... .......... .......... .......... .......... 89% 3.03M 1s\n",
      "  3300K .......... .......... .......... .......... .......... 91% 5.69M 1s\n",
      "  3350K .......... .......... .......... .......... .......... 92%  387K 1s\n",
      "  3400K .......... .......... .......... .......... .......... 93% 28.5M 1s\n",
      "  3450K .......... .......... .......... .......... .......... 95% 2.18M 1s\n",
      "  3500K .......... .......... .......... .......... .......... 96%  413K 0s\n",
      "  3550K .......... .......... .......... .......... .......... 98% 6.27M 0s\n",
      "  3600K .......... .......... .......... .......... .......... 99% 2.31M 0s\n",
      "  3650K .......... .......... ...                             100% 50.4M=11s\n",
      "\n",
      "2019-09-12 17:11:34 (343 KB/s) - ‘vpfit11.1.tar.gz.3’ saved [3761497/3761497]\n",
      "\n",
      "x ./\n",
      "x ./#temp2#\n",
      "x ./atom.dat\n",
      "x ./atomtab.f\n",
      "x ./autovpin.f\n",
      "x ./bintofits.f\n",
      "x ./calcn.f\n",
      "x ./case.f\n",
      "x ./chanwav.f\n",
      "x ./chisum26.f\n",
      "x ./cmax1.f\n",
      "x ./cms_src.f\n",
      "x ./com_cons.f\n",
      "x ./dcholin.f\n",
      "x ./dexpf.f\n",
      "x ./dlycabscft.f\n",
      "x ./docs/\n",
      "x ./dotick.f\n",
      "x ./dpoly.f\n",
      "x ./dsepvar.f\n",
      "x ./eigen.f\n",
      "x ./erfcc.f\n",
      "x ./externals.f\n",
      "x ./fl_gen.f\n",
      "x ./gen_vpin.f\n",
      "x ./ginsert.f\n",
      "x ./gu_tabsort.f\n",
      "x ./hedit.f\n",
      "x ./linfit.f\n",
      "x ./lm_udchole.f\n",
      "x ./lyregset.f\n",
      "x ./makefile\n",
      "x ./medianv.f\n",
      "x ./MMatomdat_atom_noiso.dat\n",
      "x ./pda_che2d.f\n",
      "x ./pda_dp1vlu.f\n",
      "x ./pda_dpcoef.f\n",
      "x ./pda_dpolft.f\n",
      "x ./pda_qsiad.f\n",
      "x ./pda_src.f\n",
      "x ./pda_xermsg.f\n",
      "x ./pgfiles/\n",
      "x ./pldef.f\n",
      "x ./plset.f\n",
      "x ./pr_mdian1.f\n",
      "x ./prg_polyd.f\n",
      "x ./probks.f\n",
      "x ./._rd_ablin.f\n",
      "x ./rd_ablin.f\n",
      "x ./rd_adnois.f\n",
      "x ./rd_advprof.f\n",
      "x ./rd_alias.f\n",
      "x ./rd_bclimsreset.f\n",
      "x ./rd_comalias.f\n",
      "x ./rd_compreset.f\n",
      "x ./rd_cuchstr.f\n",
      "x ./rd_cufilnm.f\n",
      "x ./rd_cuplot.f\n",
      "x ./rd_cuwvrest.f\n",
      "x ./rd_cydata.f\n",
      "x ./rd_daswap.f\n",
      "x ./rd_dblid.f\n",
      "x ./rd_dmanip.f\n",
      "x ./rd_drebin.f\n",
      "x ./rd_drebing.f\n",
      "x ./rd_dsetbad.f\n",
      "x ./rd_dvcont.f\n",
      "x ./rd_esoftread.f\n",
      "x ./rd_estcolb.f\n",
      "x ./rd_ewwav.f\n",
      "x ./rd_extabs.f\n",
      "x ./rd_fluxbb.f\n",
      "x ./rd_flxval.f\n",
      "x ./rd_gen.f\n",
      "x ./rd_gprof.f\n",
      "x ./rd_gprofe.f\n",
      "x ./rd_gpsim.f\n",
      "x ./rd_hdust.f\n",
      "x ./rd_intinfo.f\n",
      "x ./rd_intvtab.f\n",
      "x ./rd_jbsim.f\n",
      "x ./rd_markreg.f\n",
      "x ./rd_mattrd.f\n",
      "x ./rd_meantau.f\n",
      "x ./rd_medvp.f\n",
      "x ./rd_moderrs.f\n",
      "x ./rd_multiset.f\n",
      "x ./rd_pgannot.f\n",
      "x ./rd_plcset.f\n",
      "x ./rd_pmpset.f\n",
      "x ./rd_prhelp.dat\n",
      "x ./rd_prhelp.f\n",
      "x ./rd_qdatafiles.f\n",
      "x ./rd_readlinwav.f\n",
      "x ./rd_sclsig.f\n",
      "x ./rd_scrng.f\n",
      "x ./rd_scwval.f\n",
      "x ./rd_seekmax2.f\n",
      "x ./rd_setintv.f\n",
      "x ./rd_sizes.f\n",
      "x ./rd_splvtick.f\n",
      "x ./rd_stackz.f\n",
      "x ./rd_start.dat\n",
      "x ./rd_stplot.f\n",
      "x ./rd_taueff.f\n",
      "x ./rd_tgplots.f\n",
      "x ./rd_tickvpfl.f\n",
      "x ./rd_ulimse.f\n",
      "x ./rd_ulinfo.f\n",
      "x ./rd_wrfits.f\n",
      "x ./rd_wrwcfits.f\n",
      "x ./rd_wvnewt.f\n",
      "x ./rd_wvsc.f\n",
      "x ./rd_xcdc.f\n",
      "x ./rd_zcorr.f\n",
      "x ./rd_ztabcf.f\n",
      "x ./rhedit.f\n",
      "x ./sepvar.f\n",
      "x ./splot.f\n",
      "x ./spvoigt.f\n",
      "x ./svbksbd.f\n",
      "x ./svdajc.f\n",
      "x ./svdcmpd.f\n",
      "x ./svdfit.f\n",
      "x ./tempccc.f\n",
      "x ./tickpg.f\n",
      "x ./tikset.f\n",
      "x ./tstfit3d.f\n",
      "x ./udchole.f\n",
      "x ./varythis.f\n",
      "x ./voigt_king.f\n",
      "x ./._voigt_subroutine.f\n",
      "x ./voigt_subroutine.f\n",
      "x ./vp_abfind.f\n",
      "x ./vp_abundset.f\n",
      "x ./vp_addline.f\n",
      "x ./vp_addxlink.f\n",
      "x ./vp_archwav.f\n",
      "x ./vp_asciin.f\n",
      "x ./vp_ationsep.f\n",
      "x ./vp_atomass.f\n",
      "x ./vp_blfixf.f\n",
      "x ./vp_cfcopy.f\n",
      "x ./vp_chanwav.f\n",
      "x ./vp_charlims.f\n",
      "x ./vp_chdisprof.f\n",
      "x ./vp_checkb.f\n",
      "x ./vp_checkn.f\n",
      "x ./vp_chipconv.f\n",
      "x ./vp_chsation.f\n",
      "x ./vp_chspread.f\n",
      "x ./vp_cmssrc.f\n",
      "x ./vp_curse.f\n",
      "x ./vp_cval.f\n",
      "x ./vp_dattim.f\n",
      "x ./vp_dattim_alt.f\n",
      "x ./vp_deriv.f\n",
      "x ./vp_dlinin.f\n",
      "x ./vp_dlset.f\n",
      "x ./vp_dlyccft.f\n",
      "x ./vp_dotick.f\n",
      "x ./vp_emlsmry.f\n",
      "x ./vp_empval.f\n",
      "x ./vp_emscchk.f\n",
      "x ./vp_emtset.f\n",
      "x ./vp_endorder.f\n",
      "x ./vp_endrej.f\n",
      "x ./vp_errej.f\n",
      "x ./vp_ewred.f\n",
      "x ./vp_f13fin.f\n",
      "x ./vp_f13finx.f\n",
      "x ./vp_f13read.f\n",
      "x ./vp_f_sigscl.f\n",
      "x ./vp_fgf13write.f\n",
      "x ./vp_flchderivs.f\n",
      "x ./vp_fnzbin.f\n",
      "x ./vp_getargs.f\n",
      "x ./vp_getres.f\n",
      "x ./vp_gglwcoeff.f\n",
      "x ./vp_gsclfts.f\n",
      "x ./vp_gwatfits.f\n",
      "x ./vp_initval.f\n",
      "x ./vp_ionregcheck.f\n",
      "x ./vp_ksvnorm.f\n",
      "x ./vp_lineid.f\n",
      "x ./vp_linlim.f\n",
      "x ./vp_listfiles.f\n",
      "x ./vp_lycont.f\n",
      "x ./vp_lyconte.f\n",
      "x ./vp_minpol.f\n",
      "x ./vp_minquad.f\n",
      "x ./vp_nearlin.f\n",
      "x ./vp_newtfxl.f\n",
      "x ./vp_pareorder.f\n",
      "x ./vp_parmcest.f\n",
      "x ./vp_pgbegin.f\n",
      "x ./vp_pgcurs.f\n",
      "x ./vp_plcset.f\n",
      "x ./vp_poisson.f\n",
      "x ./vp_presetsys.f\n",
      "x ./vp_psfinterp.f\n",
      "x ./vp_rdbwvfts.f\n",
      "x ./._vp_rdfitsext.f\n",
      "x ./vp_rdfitsext.f\n",
      "x ./vp_rdlines.f\n",
      "x ./vp_rdspecial.f\n",
      "x ./vp_rdwaveval.f\n",
      "x ./vp_readfits.f\n",
      "x ./vp_runstst.f\n",
      "x ./vp_rwlims.f\n",
      "x ./vp_scontf.f\n",
      "x ./vp_setintv.f\n",
      "x ./vp_setoptn.f\n",
      "x ./vp_setup.dat\n",
      "x ./vp_sizes.f\n",
      "x ./vp_smry.f\n",
      "x ./vp_spdatin.f\n",
      "x ./vp_splot.dat\n",
      "x ./vp_spread.f\n",
      "x ./vp_spvoigte.f\n",
      "x ./vp_srcpath.f\n",
      "x ./vp_startval.f\n",
      "x ./vp_stration.f\n",
      "x ./vp_stripcmt.f\n",
      "x ./vp_subchspread.f\n",
      "x ./vp_sumlinclear.f\n",
      "x ./vp_sysdel.f\n",
      "x ./vp_tdcolset.f\n",
      "x ./vp_tiedb.f\n",
      "x ./vp_tiedrop.f\n",
      "x ./vp_tieval.f\n",
      "x ./vp_trimattab.f\n",
      "x ./vp_tsetxref.f\n",
      "x ./vp_ucheck.f\n",
      "x ./vp_ucoptv.f\n",
      "x ./vp_ucprinerr.f\n",
      "x ./vp_ucprinit.f\n",
      "x ./vp_usdef.f\n",
      "x ./vp_vreset.f\n",
      "x ./vp_wrt25.f\n",
      "x ./vp_wval.f\n",
      "x ./vp_wvalch.f\n",
      "x ./vp_wvalsubch.f\n",
      "x ./vp_wverass.f\n",
      "x ./vpbrentres.f\n",
      "x ./vpf_bvalsp.f\n",
      "x ./vpf_dvresn.f\n",
      "x ./vpfit.f\n",
      "x ./vpgti.f\n",
      "x ./._vppreset.cmd\n",
      "x ./vppreset.cmd\n",
      "x ./vpreset.awk\n",
      "x ./wcor.f\n",
      "x ./wval.f\n",
      "x ./xmakefile\n",
      "x ./pgfiles/Al.pg\n",
      "x ./pgfiles/AlSi.pg\n",
      "x ./pgfiles/CaII.pg\n",
      "x ./pgfiles/CI2.pg\n",
      "x ./pgfiles/CIH2.pg\n",
      "x ./pgfiles/CII.pg\n",
      "x ./pgfiles/CII.pg~\n",
      "x ./pgfiles/._CIIOI.pg\n",
      "x ./pgfiles/CIIOI.pg\n",
      "x ./pgfiles/CIIOI.pg~\n",
      "x ./pgfiles/CIISi.pg\n",
      "x ./pgfiles/CIV.pg\n",
      "x ./pgfiles/CIVSiIV.pg\n",
      "x ./pgfiles/CrZn.pg\n",
      "x ./pgfiles/FeII.pg\n",
      "x ./pgfiles/FeIIhi.pg\n",
      "x ./pgfiles/hc.pg\n",
      "x ./pgfiles/HC4.pg\n",
      "x ./pgfiles/HC4.pg~\n",
      "x ./pgfiles/HCNlo.pg\n",
      "x ./pgfiles/hcnosi.pg\n",
      "x ./pgfiles/hcsi.pg\n",
      "x ./pgfiles/HD.pg\n",
      "x ./pgfiles/HDs.pg\n",
      "x ./pgfiles/HHC4N5O6.pg\n",
      "x ./pgfiles/HHC4O6.pg\n",
      "x ./pgfiles/HHC4O6Si4.pg\n",
      "x ./pgfiles/HHC4Si4.pg\n",
      "x ./pgfiles/HHCSi34.pg\n",
      "x ./pgfiles/HHCSi34.pg~\n",
      "x ./pgfiles/HHO6.pg\n",
      "x ./pgfiles/hiHCNO.pg\n",
      "x ./pgfiles/hiHCOSi.pg\n",
      "x ./pgfiles/hiion.pg\n",
      "x ./pgfiles/hiSi.pg\n",
      "x ./pgfiles/HNI.pg\n",
      "x ./pgfiles/HOhi.pg\n",
      "x ./pgfiles/HQhi.pg\n",
      "x ./pgfiles/HSSi.pg\n",
      "x ./pgfiles/Hvhi.pg\n",
      "x ./pgfiles/LaCIV.pg\n",
      "x ./pgfiles/LaN.pg\n",
      "x ./pgfiles/laonly.pg\n",
      "x ./pgfiles/LL.pg\n",
      "x ./pgfiles/LLO.pg\n",
      "x ./pgfiles/llyman.pg\n",
      "x ./pgfiles/loc.pg\n",
      "x ./pgfiles/local.pg\n",
      "x ./pgfiles/lohi.pg\n",
      "x ./pgfiles/lointhi.pg\n",
      "x ./pgfiles/lointz.pg\n",
      "x ./pgfiles/loion.pg\n",
      "x ./pgfiles/loloz.pg\n",
      "x ./pgfiles/lorare.pg\n",
      "x ./pgfiles/lowz.pg\n",
      "x ./pgfiles/lowzFeII.pg\n",
      "x ./pgfiles/ly4.pg\n",
      "x ./pgfiles/lyabg.pg\n",
      "x ./pgfiles/lyman.pg\n",
      "x ./pgfiles/lyman8.pg\n",
      "x ./pgfiles/MgFeMn.pg\n",
      "x ./pgfiles/MgICI.pg\n",
      "x ./pgfiles/MgII.pg\n",
      "x ./pgfiles/MgIIFeII.pg\n",
      "x ./pgfiles/NaCa.pg\n",
      "x ./pgfiles/NiII.pg\n",
      "x ./pgfiles/nitrogen.pg\n",
      "x ./pgfiles/NV.pg\n",
      "x ./pgfiles/OI.pg\n",
      "x ./pgfiles/OIArI.pg\n",
      "x ./pgfiles/oneline.pg\n",
      "x ./pgfiles/OSipair.pg\n",
      "x ./pgfiles/OVI.pg\n",
      "x ./pgfiles/OVIHI.pg\n",
      "x ./pgfiles/range.pg\n",
      "x ./pgfiles/sdlaion.pg\n",
      "x ./pgfiles/SiII.pg\n",
      "x ./pgfiles/SiIIfs.pg\n",
      "x ./pgfiles/SiIIl.pg\n",
      "x ./pgfiles/SiIV.pg\n",
      "x ./pgfiles/stloion.pg\n",
      "x ./pgfiles/strong.pg\n",
      "x ./pgfiles/TiII.pg\n",
      "x ./pgfiles/ultralow.pg\n",
      "x ./pgfiles/vhiHCNO.pg\n",
      "x ./docs/rdgen11.1.pdf\n",
      "x ./docs/sample.txt.gz\n",
      "x ./docs/._vpfit11.1.pdf\n",
      "x ./docs/vpfit11.1.pdf\n"
     ]
    }
   ],
   "source": [
    "%%bash\n",
    "wget http://www.ast.cam.ac.uk/~rfc/vpfit11.1.tar.gz\n",
    "mkdir -p vpfit11\n",
    "cd vpfit11\n",
    "tar -xvzf ../vpfit11.1.tar.gz"
   ]
  },
  {
   "cell_type": "markdown",
   "metadata": {
    "persistent_id": "3032ee12-092a-4a88-a81c-184b5fabf51d"
   },
   "source": [
    "## Scripting"
   ]
  },
  {
   "cell_type": "code",
   "execution_count": 42,
   "metadata": {
    "ExecuteTime": {
     "end_time": "2019-09-13T00:12:47.645947Z",
     "start_time": "2019-09-13T00:12:47.643127Z"
    },
    "persistent_id": "b61aa815-d196-452a-ad19-81a97f63c4a1"
   },
   "outputs": [],
   "source": [
    "normal_argument = 12.4\n",
    "second_argument = 98.4\n",
    "\n",
    "arg_with_spaces = \"the secret to life\""
   ]
  },
  {
   "cell_type": "code",
   "execution_count": 43,
   "metadata": {
    "ExecuteTime": {
     "end_time": "2019-09-13T00:12:47.989348Z",
     "start_time": "2019-09-13T00:12:47.976021Z"
    },
    "persistent_id": "993bbfca-dc1b-4aa6-b99d-804745388d2e"
   },
   "outputs": [
    {
     "name": "stdout",
     "output_type": "stream",
     "text": [
      "This script knows the value of the argument: 12.4\n",
      "It also has no trouble with the second argument: 98.4\n"
     ]
    }
   ],
   "source": [
    "%%bash -s {normal_argument} {second_argument}\n",
    "echo \"This script knows the value of the argument: $1\"\n",
    "echo \"It also has no trouble with the second argument: $2\""
   ]
  },
  {
   "cell_type": "code",
   "execution_count": 44,
   "metadata": {
    "ExecuteTime": {
     "end_time": "2019-09-13T00:12:48.308037Z",
     "start_time": "2019-09-13T00:12:48.289598Z"
    },
    "persistent_id": "3e6bd91e-f32a-4358-a6bd-76613dbfbc5c"
   },
   "outputs": [
    {
     "name": "stdout",
     "output_type": "stream",
     "text": [
      "This bash script knows the secret to life.\n"
     ]
    }
   ],
   "source": [
    "%%bash -s \"$arg_with_spaces\"\n",
    "echo \"This bash script knows $1.\""
   ]
  },
  {
   "cell_type": "code",
   "execution_count": 45,
   "metadata": {
    "ExecuteTime": {
     "end_time": "2019-09-13T00:13:23.862176Z",
     "start_time": "2019-09-13T00:13:23.735702Z"
    },
    "persistent_id": "65ae2345-4c04-4cc7-9f40-f9cb2004ce36"
   },
   "outputs": [
    {
     "name": "stdout",
     "output_type": "stream",
     "text": [
      "00-Overview.ipynb                       Untitled2.ipynb\r\n",
      "01-Tips-and-tricks.ipynb                Untitled3.ipynb\r\n",
      "02-NBExtensions.ipynb                   billy.ipynb\r\n",
      "03-Git-and-Autoreload.ipynb             delete.ipynb\r\n",
      "05-SQL-Example.ipynb                    ex1.png\r\n",
      "06-Interactive-Splines.ipynb            example.md\r\n",
      "07-Advanced-Visualization.ipynb         history.ipynb\r\n",
      "07-Some_basics.ipynb                    jupyterlab-example.md\r\n",
      "08-More_basics.ipynb                    new-name.ipynb\r\n",
      "09-Extras.ipynb                         pivottablejs.html\r\n",
      "10-R-stuff.ipynb                        presidents.sqlite\r\n",
      "11-older-stuff.ipynb                    temp\r\n",
      "12-old-pandas.ipynb                     untitled.txt\r\n",
      "2019-06-02-jbw-test-formatter-01.ipynb  \u001b[34mvpfit10\u001b[m\u001b[m/\r\n",
      "3d-example-plot.html                    vpfit10.2.tar.gz\r\n",
      "Advanced-Notebook-Tricks.ipynb          vpfit10.2.tar.gz.1\r\n",
      "Basic-Plotting.ipynb                    vpfit10.2.tar.gz.2\r\n",
      "Data_Cleaning.ipynb                     vpfit10.2.tar.gz.3\r\n",
      "Example-pycat.ipynb                     \u001b[34mvpfit11\u001b[m\u001b[m/\r\n",
      "Old-Advanced.ipynb                      vpfit11.1.tar.gz\r\n",
      "Old-Autoreload.ipynb                    vpfit11.1.tar.gz.1\r\n",
      "Untitled.ipynb                          vpfit11.1.tar.gz.2\r\n",
      "Untitled1.ipynb                         vpfit11.1.tar.gz.3\r\n"
     ]
    }
   ],
   "source": [
    "ls"
   ]
  },
  {
   "cell_type": "code",
   "execution_count": 46,
   "metadata": {
    "ExecuteTime": {
     "end_time": "2019-09-13T00:13:24.756944Z",
     "start_time": "2019-09-13T00:13:24.633719Z"
    },
    "execution_event_id": "a7e508aa-5895-41bd-ac50-2ba718a2e349",
    "last_executed_text": "!ls",
    "persistent_id": "f8d04f19-845d-44f3-9483-2b6e4bf60de4"
   },
   "outputs": [
    {
     "name": "stdout",
     "output_type": "stream",
     "text": [
      "00-Overview.ipynb                      Untitled2.ipynb\r\n",
      "01-Tips-and-tricks.ipynb               Untitled3.ipynb\r\n",
      "02-NBExtensions.ipynb                  billy.ipynb\r\n",
      "03-Git-and-Autoreload.ipynb            delete.ipynb\r\n",
      "05-SQL-Example.ipynb                   ex1.png\r\n",
      "06-Interactive-Splines.ipynb           example.md\r\n",
      "07-Advanced-Visualization.ipynb        history.ipynb\r\n",
      "07-Some_basics.ipynb                   jupyterlab-example.md\r\n",
      "08-More_basics.ipynb                   new-name.ipynb\r\n",
      "09-Extras.ipynb                        pivottablejs.html\r\n",
      "10-R-stuff.ipynb                       presidents.sqlite\r\n",
      "11-older-stuff.ipynb                   temp\r\n",
      "12-old-pandas.ipynb                    untitled.txt\r\n",
      "2019-06-02-jbw-test-formatter-01.ipynb \u001b[34mvpfit10\u001b[m\u001b[m\r\n",
      "3d-example-plot.html                   vpfit10.2.tar.gz\r\n",
      "Advanced-Notebook-Tricks.ipynb         vpfit10.2.tar.gz.1\r\n",
      "Basic-Plotting.ipynb                   vpfit10.2.tar.gz.2\r\n",
      "Data_Cleaning.ipynb                    vpfit10.2.tar.gz.3\r\n",
      "Example-pycat.ipynb                    \u001b[34mvpfit11\u001b[m\u001b[m\r\n",
      "Old-Advanced.ipynb                     vpfit11.1.tar.gz\r\n",
      "Old-Autoreload.ipynb                   vpfit11.1.tar.gz.1\r\n",
      "Untitled.ipynb                         vpfit11.1.tar.gz.2\r\n",
      "Untitled1.ipynb                        vpfit11.1.tar.gz.3\r\n"
     ]
    }
   ],
   "source": [
    "!ls"
   ]
  },
  {
   "cell_type": "code",
   "execution_count": 47,
   "metadata": {
    "ExecuteTime": {
     "end_time": "2019-09-13T00:13:26.802713Z",
     "start_time": "2019-09-13T00:13:26.677875Z"
    },
    "execution_event_id": "34f4c661-f246-49b6-b3b4-d55c89d00015",
    "last_executed_text": "ls vpfit10/",
    "persistent_id": "a1f8182b-eb18-41c9-9b5d-e0306b32469a",
    "scrolled": true
   },
   "outputs": [
    {
     "name": "stdout",
     "output_type": "stream",
     "text": [
      "00README                  rd_plcset.f               vp_f_sigscl.f\r\n",
      "MMatomdat_atom_noiso.dat  rd_pmpset.f               vp_fgf13write.f\r\n",
      "atom.dat                  rd_prhelp.dat             vp_flchderivs.f\r\n",
      "atomtab.f                 rd_prhelp.f               vp_fnzbin.f\r\n",
      "autovpin.f                rd_qdatafiles.f           vp_getargs.f\r\n",
      "bintofits.f               rd_readlinwav.f           vp_getres.f\r\n",
      "calcn.f                   rd_sclsig.f               vp_gglwcoeff.f\r\n",
      "case.f                    rd_scrn.f                 vp_gsclfts.f\r\n",
      "chanwav.f                 rd_setintv.f              vp_gwatfits.f\r\n",
      "checkb.f                  rd_sizes.f                vp_initval.f\r\n",
      "chisum26.f                rd_splvtick.f             vp_ionregcheck.f\r\n",
      "cmax1.f                   rd_stackz.f               vp_ksvnorm.f\r\n",
      "cms_src.f                 rd_start.dat              vp_lineid.f\r\n",
      "com_cons.f                rd_stplot.f               vp_linlim.f\r\n",
      "dcholin.f                 rd_tgplots.f              vp_listfiles.f\r\n",
      "dexpf.f                   rd_tickvpfl.f             vp_lycont.f\r\n",
      "dlycabscft.f              rd_ulims.f                vp_lyconte.f\r\n",
      "\u001b[34mdocs\u001b[m\u001b[m/                     rd_ulimse.f               vp_minpol.f\r\n",
      "dotick.f                  rd_ulimx.f                vp_minquad.f\r\n",
      "dpoly.f                   rd_ulinfo.f               vp_nearlin.f\r\n",
      "dsepvar.f                 rd_wrfits.f               vp_newtfxl.f\r\n",
      "eigen.f                   rd_wrwcfits.f             vp_pareorder.f\r\n",
      "erfcc.f                   rd_wvsc.f                 vp_parmcest.f\r\n",
      "externals.f               rd_xcdc.f                 vp_pgbegin.f\r\n",
      "fl_gen.f                  rd_zcorr.f                vp_pgcurs.f\r\n",
      "gen_vpin.f                rd_ztabcf.f               vp_plcset.f\r\n",
      "ginsert.f                 sepvar.f                  vp_poisson.f\r\n",
      "gu_tabsort.f              splot.f                   vp_presetsys.f\r\n",
      "hedit.f                   spvoigt.f                 vp_psfinterp.f\r\n",
      "linfit.f                  svbksbd.f                 vp_rdbwvfts.f\r\n",
      "lm_udchole.f              svdajc.f                  vp_rdlines.f\r\n",
      "lyregset.f                svdcmpd.f                 vp_rdspecial.f\r\n",
      "\u001b[31mmakefile\u001b[m\u001b[m*                 svdfit.f                  vp_rdwaveval.f\r\n",
      "medianv.f                 test.f                    vp_readfits.f\r\n",
      "pda_che2d.f               tickpg.f                  vp_rfitsext.f\r\n",
      "pda_dp1vlu.f              tiedb.f                   vp_runstst.f\r\n",
      "pda_dpcoef.f              tikset.f                  vp_rwlims.f\r\n",
      "pda_dpolft.f              tstfit3d.f                vp_scontf.f\r\n",
      "pda_qsiad.f               udchole.f                 vp_setintv.f\r\n",
      "pda_src.f                 varythis.f                vp_setoptn.f\r\n",
      "pda_xermsg.f              voigt_king.f              vp_setup.dat\r\n",
      "\u001b[34mpgfiles\u001b[m\u001b[m/                  vp_abfind.f               vp_sizes.f\r\n",
      "pldef.f                   vp_abundset.f             vp_smry.f\r\n",
      "plset.f                   vp_addline.f              vp_spdatin.f\r\n",
      "pr_mdian1.f               vp_addxlink.f             vp_splot.dat\r\n",
      "prg_polyd.f               vp_archwav.f              vp_spread.f\r\n",
      "probks.f                  vp_asciin.f               vp_spvoigte.f\r\n",
      "rd_ablin.f                vp_ationsep.f             vp_srcpath.f\r\n",
      "rd_adnois.f               vp_atomass.f              vp_startval.f\r\n",
      "rd_alias.f                vp_blfixf.f               vp_stration.f\r\n",
      "rd_comalias.f             vp_cfcopy.f               vp_stripcmt.f\r\n",
      "rd_compreset.f            vp_chanwav.f              vp_subchspread.f\r\n",
      "rd_cuchstr.f              vp_charlims.f             vp_sumlinclear.f\r\n",
      "rd_cufilnm.f              vp_chdisprof.f            vp_sysdel.f\r\n",
      "rd_cuplot.f               vp_checkn.f               vp_tdcolset.f\r\n",
      "rd_cuwvrest.f             vp_chipconv.f             vp_tieval.f\r\n",
      "rd_cydata.f               vp_chsation.f             vp_trimattab.f\r\n",
      "rd_daswap.f               vp_chspread.f             vp_tsetxref.f\r\n",
      "rd_dblid.f                vp_cmssrc.f               vp_ucheck.f\r\n",
      "rd_dmanip.f               vp_curse.f                vp_ucoptv.f\r\n",
      "rd_drebin.f               vp_cval.f                 vp_ucprinerr.f\r\n",
      "rd_dvcont.f               vp_dattim.f               vp_ucprinit.f\r\n",
      "rd_estcolb.f              vp_dattim_alt.f           vp_usdef.f\r\n",
      "rd_ewwav.f                vp_deriv.f                vp_vreset.f\r\n",
      "rd_extabs.f               vp_dlinin.f               vp_wrt25.f\r\n",
      "rd_fluxbb.f               vp_dlset.f                vp_wval.f\r\n",
      "rd_gen.f                  vp_dotick.f               vp_wvalch.f\r\n",
      "rd_gprof.f                vp_emlsmry.f              vp_wvalsubch.f\r\n",
      "rd_gprofe.f               vp_empval.f               vp_wverass.f\r\n",
      "rd_gpsim.f                vp_emscchk.f              vpf_bvalsp.f\r\n",
      "rd_hdust.f                vp_emtset.f               vpf_dvresn.f\r\n",
      "rd_intvtab.f              vp_endorder.f             vpfit.f\r\n",
      "rd_markreg.f              vp_endrej.f               vpgti.f\r\n",
      "rd_mattrd.f               vp_errej.f                vppreset.com\r\n",
      "rd_meantau.f              vp_ewred.f                vpreset.awk\r\n",
      "rd_moderrs.f              vp_f13fin.f               wcor.f\r\n",
      "rd_multiset.f             vp_f13finx.f              wval.f\r\n",
      "rd_pgannot.f              vp_f13read.f\r\n"
     ]
    }
   ],
   "source": [
    "ls vpfit10/"
   ]
  },
  {
   "cell_type": "code",
   "execution_count": 48,
   "metadata": {
    "ExecuteTime": {
     "end_time": "2019-09-13T00:13:27.786817Z",
     "start_time": "2019-09-13T00:13:27.783914Z"
    },
    "execution_event_id": "230a3965-f0dd-4c49-8205-d744c9b5989a",
    "last_executed_text": "tailthing = \"*.ipynb\"",
    "persistent_id": "ed780724-eef3-4683-ba48-a3068ddf85d3"
   },
   "outputs": [],
   "source": [
    "tailthing = \"*.ipynb\""
   ]
  },
  {
   "cell_type": "code",
   "execution_count": 49,
   "metadata": {
    "ExecuteTime": {
     "end_time": "2019-09-13T00:13:37.976895Z",
     "start_time": "2019-09-13T00:13:37.972955Z"
    },
    "execution_event_id": "709be233-0f06-45ed-9583-3fe66f156425",
    "last_executed_text": "tailthing",
    "persistent_id": "a318319c-2661-4e23-b20e-974d5fe9c358"
   },
   "outputs": [
    {
     "data": {
      "text/plain": [
       "'*.ipynb'"
      ]
     },
     "execution_count": 49,
     "metadata": {},
     "output_type": "execute_result"
    }
   ],
   "source": [
    "tailthing"
   ]
  },
  {
   "cell_type": "code",
   "execution_count": 50,
   "metadata": {
    "ExecuteTime": {
     "end_time": "2019-09-13T00:13:42.312987Z",
     "start_time": "2019-09-13T00:13:42.189804Z"
    },
    "execution_event_id": "dbce3271-0906-49e2-a2cd-ce2c29c6f5f2",
    "last_executed_text": "!ls {tailthing}",
    "persistent_id": "c46006f1-07db-44c2-b976-d8fcd72b7c35"
   },
   "outputs": [
    {
     "name": "stdout",
     "output_type": "stream",
     "text": [
      "00-Overview.ipynb                      Advanced-Notebook-Tricks.ipynb\r\n",
      "01-Tips-and-tricks.ipynb               Basic-Plotting.ipynb\r\n",
      "02-NBExtensions.ipynb                  Data_Cleaning.ipynb\r\n",
      "03-Git-and-Autoreload.ipynb            Example-pycat.ipynb\r\n",
      "05-SQL-Example.ipynb                   Old-Advanced.ipynb\r\n",
      "06-Interactive-Splines.ipynb           Old-Autoreload.ipynb\r\n",
      "07-Advanced-Visualization.ipynb        Untitled.ipynb\r\n",
      "07-Some_basics.ipynb                   Untitled1.ipynb\r\n",
      "08-More_basics.ipynb                   Untitled2.ipynb\r\n",
      "09-Extras.ipynb                        Untitled3.ipynb\r\n",
      "10-R-stuff.ipynb                       billy.ipynb\r\n",
      "11-older-stuff.ipynb                   delete.ipynb\r\n",
      "12-old-pandas.ipynb                    history.ipynb\r\n",
      "2019-06-02-jbw-test-formatter-01.ipynb new-name.ipynb\r\n"
     ]
    }
   ],
   "source": [
    "!ls {tailthing}"
   ]
  },
  {
   "cell_type": "code",
   "execution_count": 51,
   "metadata": {
    "ExecuteTime": {
     "end_time": "2019-09-13T00:13:52.500428Z",
     "start_time": "2019-09-13T00:13:52.484514Z"
    },
    "execution_event_id": "9292f2db-123a-490b-86b9-a29b6da5f135",
    "last_executed_text": "output = !ls ",
    "persistent_id": "0849e6f9-a7e6-43bc-a4e0-0cb274ac62ff"
   },
   "outputs": [],
   "source": [
    "output = !ls "
   ]
  },
  {
   "cell_type": "code",
   "execution_count": 52,
   "metadata": {
    "ExecuteTime": {
     "end_time": "2019-09-13T00:13:54.029814Z",
     "start_time": "2019-09-13T00:13:54.025470Z"
    },
    "execution_event_id": "549481e7-769a-4370-9e67-cb0c80133f1c",
    "last_executed_text": "output",
    "persistent_id": "1ca59cd1-62bc-4390-9670-23c16d41505c"
   },
   "outputs": [
    {
     "data": {
      "text/plain": [
       "['00-Overview.ipynb',\n",
       " '01-Tips-and-tricks.ipynb',\n",
       " '02-NBExtensions.ipynb',\n",
       " '03-Git-and-Autoreload.ipynb',\n",
       " '05-SQL-Example.ipynb',\n",
       " '06-Interactive-Splines.ipynb',\n",
       " '07-Advanced-Visualization.ipynb',\n",
       " '07-Some_basics.ipynb',\n",
       " '08-More_basics.ipynb',\n",
       " '09-Extras.ipynb',\n",
       " '10-R-stuff.ipynb',\n",
       " '11-older-stuff.ipynb',\n",
       " '12-old-pandas.ipynb',\n",
       " '2019-06-02-jbw-test-formatter-01.ipynb',\n",
       " '3d-example-plot.html',\n",
       " 'Advanced-Notebook-Tricks.ipynb',\n",
       " 'Basic-Plotting.ipynb',\n",
       " 'Data_Cleaning.ipynb',\n",
       " 'Example-pycat.ipynb',\n",
       " 'Old-Advanced.ipynb',\n",
       " 'Old-Autoreload.ipynb',\n",
       " 'Untitled.ipynb',\n",
       " 'Untitled1.ipynb',\n",
       " 'Untitled2.ipynb',\n",
       " 'Untitled3.ipynb',\n",
       " 'billy.ipynb',\n",
       " 'delete.ipynb',\n",
       " 'ex1.png',\n",
       " 'example.md',\n",
       " 'history.ipynb',\n",
       " 'jupyterlab-example.md',\n",
       " 'new-name.ipynb',\n",
       " 'pivottablejs.html',\n",
       " 'presidents.sqlite',\n",
       " 'temp',\n",
       " 'untitled.txt',\n",
       " 'vpfit10',\n",
       " 'vpfit10.2.tar.gz',\n",
       " 'vpfit10.2.tar.gz.1',\n",
       " 'vpfit10.2.tar.gz.2',\n",
       " 'vpfit10.2.tar.gz.3',\n",
       " 'vpfit11',\n",
       " 'vpfit11.1.tar.gz',\n",
       " 'vpfit11.1.tar.gz.1',\n",
       " 'vpfit11.1.tar.gz.2',\n",
       " 'vpfit11.1.tar.gz.3']"
      ]
     },
     "execution_count": 52,
     "metadata": {},
     "output_type": "execute_result"
    }
   ],
   "source": [
    "output"
   ]
  },
  {
   "cell_type": "markdown",
   "metadata": {},
   "source": [
    "## Need to set or change environment variables"
   ]
  },
  {
   "cell_type": "code",
   "execution_count": 53,
   "metadata": {
    "ExecuteTime": {
     "end_time": "2019-09-13T00:14:09.482476Z",
     "start_time": "2019-09-13T00:14:09.477500Z"
    },
    "execution_event_id": "9741f747-d417-4e2a-b487-a33e204445c7",
    "last_executed_text": "%env  ",
    "persistent_id": "41ff6d18-9413-4d7c-ae9d-f7b958ef9223"
   },
   "outputs": [
    {
     "data": {
      "text/plain": [
       "{'SSH_AGENT_PID': '458',\n",
       " 'TERM_PROGRAM': 'iTerm.app',\n",
       " 'TERM': 'xterm-color',\n",
       " 'SHELL': '/bin/bash',\n",
       " 'initials': 'jbw',\n",
       " 'CLICOLOR': '1',\n",
       " 'TMPDIR': '/var/folders/yk/2rgr0zrj0614jntythcnlyvw0000gn/T/',\n",
       " 'CONDA_SHLVL': '2',\n",
       " 'Apple_PubSub_Socket_Render': '/private/tmp/com.apple.launchd.BdhlOB1rQM/Render',\n",
       " 'CONDA_PROMPT_MODIFIER': '(dspy3) ',\n",
       " 'BASH': '/Users/jonathan/.dotfiles',\n",
       " 'TERM_PROGRAM_VERSION': '3.2.9',\n",
       " 'OLDPWD': '/Users/jonathan/github/learning/anki-coding-challenges',\n",
       " 'TERM_SESSION_ID': 'w0t2p0:80745D46-B603-4594-B2EA-3C4AE91AAB57',\n",
       " 'USER': 'jonathan',\n",
       " 'CONDA_EXE': '/Users/jonathan/miniconda3/bin/conda',\n",
       " 'SSH_AUTH_SOCK': '/var/folders/yk/2rgr0zrj0614jntythcnlyvw0000gn/T//ssh-rRX7E7gV49As/agent.456',\n",
       " '__CF_USER_TEXT_ENCODING': '0x0:0:0',\n",
       " '_CE_CONDA': '',\n",
       " 'CONDA_PREFIX_1': '/Users/jonathan/miniconda3',\n",
       " 'PATH': '/Users/jonathan/miniconda3/envs/dspy3/bin:/Users/jonathan/miniconda3/envs/dspy3/bin:/Users/jonathan/miniconda3/condabin:/Users/jonathan/miniconda3/bin:/usr/local/bin:/usr/bin:/bin:/usr/sbin:/sbin:/Library/TeX/texbin:/opt/X11/bin:/usr/local/opt/fzf/bin',\n",
       " 'CONDA_PREFIX': '/Users/jonathan/miniconda3/envs/dspy3',\n",
       " 'PWD': '/Users/jonathan/github/jupyter-tips-and-tricks',\n",
       " 'EDITOR': 'vim',\n",
       " 'LANG': 'en_US.UTF-8',\n",
       " 'ITERM_PROFILE': 'Default',\n",
       " 'XPC_FLAGS': '0x0',\n",
       " 'ITERM_ORIG_PS1': '(dspy3) \\\\n# \\\\w\\\\n# \\\\[\\\\e[0;32m\\\\]\\\\h \\\\[\\\\e[0m\\\\]\\\\[\\\\e[0;36m\\\\]${git_branch}\\\\[\\\\e[0;31m\\\\]$git_dirty\\\\[\\\\e[0m\\\\]$ ',\n",
       " 'PS1': '(dspy3) \\\\n# \\\\w\\\\n# \\\\[\\\\e[0;32m\\\\]\\\\h \\\\[\\\\e[0m\\\\]\\\\[\\\\e[0;36m\\\\]${git_branch}\\\\[\\\\e[0;31m\\\\]$git_dirty\\\\[\\\\e[0m\\\\]$ ',\n",
       " 'PS3': '#? ',\n",
       " '_CE_M': '',\n",
       " 'HISTCONTROL': 'ignoreboth',\n",
       " 'PS2': '> ',\n",
       " 'XPC_SERVICE_NAME': '0',\n",
       " 'GITAWAREPROMPT': '/Users/jonathan/.bash/git-aware-prompt',\n",
       " 'SHLVL': '1',\n",
       " 'PS4': '+',\n",
       " 'HOME': '/Users/jonathan',\n",
       " 'COLORFGBG': '15;0',\n",
       " 'ITERM_PREV_PS1': '\\\\[\\x1b]133;D;$?\\x07\\x1b]133;A\\x07\\\\](dspy3) \\\\n# \\\\w\\\\n# \\\\[\\\\e[0;32m\\\\]\\\\h \\\\[\\\\e[0m\\\\]\\\\[\\\\e[0;36m\\\\]${git_branch}\\\\[\\\\e[0;31m\\\\]$git_dirty\\\\[\\\\e[0m\\\\]$ \\\\[\\x1b]133;B\\x07\\\\]',\n",
       " 'ITERM_SESSION_ID': 'w0t2p0:80745D46-B603-4594-B2EA-3C4AE91AAB57',\n",
       " 'CONDA_PYTHON_EXE': '/Users/jonathan/miniconda3/bin/python',\n",
       " 'LOGNAME': 'jonathan',\n",
       " 'CONDA_DEFAULT_ENV': 'dspy3',\n",
       " 'PROMPT_COMMAND': '__bp_precmd_invoke_cmd; echo -ne \"\\\\033]0;${USER}@${HOSTNAME%%.*} ${PWD}\"; echo -ne \"\\\\007\"; __bp_interactive_mode',\n",
       " 'DISPLAY': '/private/tmp/com.apple.launchd.jIwOWP8DYq/org.macosforge.xquartz:0',\n",
       " '_fzf_orig_completion_git': 'complete -o bashdefault -o default -o nospace -F %s git #__git_wrap__git_main',\n",
       " 'COLORTERM': 'truecolor',\n",
       " '_': '/Users/jonathan/miniconda3/envs/dspy3/bin/jupyter',\n",
       " 'KERNEL_LAUNCH_TIMEOUT': '40',\n",
       " 'GIT_PYTHON_REFRESH': 'quiet',\n",
       " 'JPY_PARENT_PID': '58754',\n",
       " 'PAGER': 'cat',\n",
       " 'GIT_PAGER': 'cat',\n",
       " 'MPLBACKEND': 'module://ipykernel.pylab.backend_inline'}"
      ]
     },
     "execution_count": 53,
     "metadata": {},
     "output_type": "execute_result"
    }
   ],
   "source": [
    "%env"
   ]
  },
  {
   "cell_type": "code",
   "execution_count": null,
   "metadata": {
    "persistent_id": "381fafc4-65f6-4931-a9b4-2b36b36a844e"
   },
   "outputs": [],
   "source": [
    "%env "
   ]
  },
  {
   "cell_type": "markdown",
   "metadata": {},
   "source": [
    "## Danger zone\n",
    "\n",
    "    _, _N and _iN"
   ]
  },
  {
   "cell_type": "code",
   "execution_count": null,
   "metadata": {
    "ExecuteTime": {
     "end_time": "2019-06-06T01:42:35.163749Z",
     "start_time": "2019-06-06T01:42:35.034929Z"
    },
    "persistent_id": "acbe90cc-b55b-4c4b-9ab3-4e48640ee56d"
   },
   "outputs": [],
   "source": [
    "!pwd"
   ]
  },
  {
   "cell_type": "code",
   "execution_count": 54,
   "metadata": {
    "ExecuteTime": {
     "end_time": "2019-09-13T00:14:38.921984Z",
     "start_time": "2019-09-13T00:14:38.918496Z"
    },
    "execution_event_id": "e8b3c0cd-e37d-4845-ad10-73f9f117e77e",
    "last_executed_text": "a = 3\na",
    "persistent_id": "4e1f0cfd-d1ef-46cc-bbd4-abcf0a207997"
   },
   "outputs": [
    {
     "data": {
      "text/plain": [
       "3"
      ]
     },
     "execution_count": 54,
     "metadata": {},
     "output_type": "execute_result"
    }
   ],
   "source": [
    "a = 3\n",
    "a"
   ]
  },
  {
   "cell_type": "code",
   "execution_count": 55,
   "metadata": {
    "ExecuteTime": {
     "end_time": "2019-09-13T00:15:02.662582Z",
     "start_time": "2019-09-13T00:15:02.658682Z"
    },
    "persistent_id": "7785b1f4-be56-4ccf-9b52-c7285962402d"
   },
   "outputs": [
    {
     "data": {
      "text/plain": [
       "228738335"
      ]
     },
     "execution_count": 55,
     "metadata": {},
     "output_type": "execute_result"
    }
   ],
   "source": [
    "2345 * 97543"
   ]
  },
  {
   "cell_type": "code",
   "execution_count": 56,
   "metadata": {
    "ExecuteTime": {
     "end_time": "2019-09-13T00:15:29.391433Z",
     "start_time": "2019-09-13T00:15:29.388893Z"
    },
    "persistent_id": "2040ed44-b4d5-4a30-b3b9-76c6145a5483"
   },
   "outputs": [],
   "source": [
    "saved = _55"
   ]
  },
  {
   "cell_type": "code",
   "execution_count": 57,
   "metadata": {
    "ExecuteTime": {
     "end_time": "2019-09-13T00:15:32.409330Z",
     "start_time": "2019-09-13T00:15:32.405738Z"
    },
    "persistent_id": "b57b0c00-89b1-495c-bf16-88ed4a4f2cec"
   },
   "outputs": [
    {
     "data": {
      "text/plain": [
       "228738335"
      ]
     },
     "execution_count": 57,
     "metadata": {},
     "output_type": "execute_result"
    }
   ],
   "source": [
    "saved"
   ]
  },
  {
   "cell_type": "code",
   "execution_count": 58,
   "metadata": {
    "ExecuteTime": {
     "end_time": "2019-09-13T00:15:55.540474Z",
     "start_time": "2019-09-13T00:15:55.536916Z"
    },
    "persistent_id": "a3b7f880-d93a-494f-9907-a736a070b76d"
   },
   "outputs": [
    {
     "data": {
      "text/plain": [
       "228738335"
      ]
     },
     "execution_count": 58,
     "metadata": {},
     "output_type": "execute_result"
    }
   ],
   "source": [
    "_"
   ]
  },
  {
   "cell_type": "code",
   "execution_count": 59,
   "metadata": {
    "ExecuteTime": {
     "end_time": "2019-09-13T00:16:28.633578Z",
     "start_time": "2019-09-13T00:16:28.629814Z"
    }
   },
   "outputs": [
    {
     "data": {
      "text/plain": [
       "'2345 * 97543'"
      ]
     },
     "execution_count": 59,
     "metadata": {},
     "output_type": "execute_result"
    }
   ],
   "source": [
    "_i55 "
   ]
  },
  {
   "cell_type": "code",
   "execution_count": 61,
   "metadata": {
    "ExecuteTime": {
     "end_time": "2019-09-13T00:17:29.764794Z",
     "start_time": "2019-09-13T00:17:29.760973Z"
    }
   },
   "outputs": [],
   "source": [
    "%history -f fifth.ipynb"
   ]
  },
  {
   "cell_type": "markdown",
   "metadata": {},
   "source": [
    "Check out gather (microsoft)"
   ]
  },
  {
   "cell_type": "code",
   "execution_count": null,
   "metadata": {},
   "outputs": [],
   "source": []
  }
 ],
 "metadata": {
  "anaconda-cloud": {},
  "hide_input": false,
  "history": [
   {
    "cell": {
     "executionCount": 1,
     "executionEventId": "0239fa9c-5a2e-4d3e-998d-ccb71bde55fa",
     "hasError": false,
     "id": "a4124572-caa9-42cc-9a04-2090cf14bd07",
     "outputs": [],
     "persistentId": "5e98591e-08d0-4812-ba61-d0ecc428c08d",
     "text": "# code cell\nname = \"Jonathan\""
    },
    "executionTime": "2019-09-06T18:43:09.914Z"
   },
   {
    "cell": {
     "executionCount": 2,
     "executionEventId": "a67ab256-f9b9-4c1c-b44e-649b050c7e14",
     "hasError": false,
     "id": "a4124572-caa9-42cc-9a04-2090cf14bd07",
     "outputs": [],
     "persistentId": "5e98591e-08d0-4812-ba61-d0ecc428c08d",
     "text": "# code cell\nname = \"Jonathan\""
    },
    "executionTime": "2019-09-06T18:43:21.570Z"
   },
   {
    "cell": {
     "executionCount": 3,
     "executionEventId": "8e4cd12b-74d0-4cd5-99da-35948aaef7a8",
     "hasError": false,
     "id": "0870ed9d-a416-4f63-b8d4-2cf73de38958",
     "outputs": [],
     "persistentId": "ea0e37d6-44e2-411f-9da8-5b9c4dba6afe",
     "text": "first = 1"
    },
    "executionTime": "2019-09-06T18:43:29.882Z"
   },
   {
    "cell": {
     "executionCount": 4,
     "executionEventId": "6b2a0d54-351a-460e-8380-47006c6a0161",
     "hasError": false,
     "id": "a18a070e-2e76-43e9-99f3-de43693f520c",
     "outputs": [],
     "persistentId": "8fa080b3-f270-4d06-9fdc-ddd37ad35295",
     "text": "# Add this to python2 code to make life easier -- safe to use in python3 as well.\nfrom __future__ import absolute_import, division, print_function"
    },
    "executionTime": "2019-09-06T18:43:38.969Z"
   },
   {
    "cell": {
     "executionCount": 5,
     "executionEventId": "b4d78e43-f1f5-4f26-8d61-4933f6e5224e",
     "hasError": false,
     "id": "78c07d7c-5330-462d-a96e-ec4b4712e965",
     "outputs": [],
     "persistentId": "03635f66-daaa-47cf-bb74-883e8ce82c00",
     "text": "import numpy as np\n\n# don't do:\n# from numpy import *"
    },
    "executionTime": "2019-09-06T18:43:40.232Z"
   },
   {
    "cell": {
     "executionCount": 6,
     "executionEventId": "4f8bc197-7e03-497c-b3ed-6fc5cdd8f25b",
     "hasError": false,
     "id": "21e1d3f4-268a-46fb-a225-6511688c9212",
     "outputs": [
      {
       "data": {
        "text/plain": "'a'"
       },
       "execution_count": 6,
       "metadata": {},
       "output_type": "execute_result"
      }
     ],
     "persistentId": "e41e09ce-28e8-437f-9e9e-676775bc5fce",
     "text": "max(\"a\")"
    },
    "executionTime": "2019-09-06T18:43:40.950Z"
   },
   {
    "cell": {
     "executionCount": 7,
     "executionEventId": "ac9f2421-eb1f-473c-9f1b-7cc326b1f774",
     "hasError": true,
     "id": "e3f670c7-e45a-4af9-9707-933ca4f6d47b",
     "outputs": [
      {
       "ename": "TypeError",
       "evalue": "cannot perform reduce with flexible type",
       "output_type": "error",
       "traceback": [
        "\u001b[0;31m-----------------------------------------------------------------------\u001b[0m",
        "\u001b[0;31mTypeError\u001b[0m                             Traceback (most recent call last)",
        "\u001b[0;32m<ipython-input-7-4005723e4b17>\u001b[0m in \u001b[0;36m<module>\u001b[0;34m\u001b[0m\n\u001b[0;32m----> 1\u001b[0;31m \u001b[0mnp\u001b[0m\u001b[0;34m.\u001b[0m\u001b[0mmax\u001b[0m\u001b[0;34m(\u001b[0m\u001b[0;34m\"a\"\u001b[0m\u001b[0;34m)\u001b[0m\u001b[0;34m\u001b[0m\u001b[0;34m\u001b[0m\u001b[0m\n\u001b[0m",
        "\u001b[0;32m~/miniconda3/envs/dspy3/lib/python3.6/site-packages/numpy/core/fromnumeric.py\u001b[0m in \u001b[0;36mamax\u001b[0;34m(a, axis, out, keepdims, initial)\u001b[0m\n\u001b[1;32m   2503\u001b[0m     \"\"\"\n\u001b[1;32m   2504\u001b[0m     return _wrapreduction(a, np.maximum, 'max', axis, None, out, keepdims=keepdims,\n\u001b[0;32m-> 2505\u001b[0;31m                           initial=initial)\n\u001b[0m\u001b[1;32m   2506\u001b[0m \u001b[0;34m\u001b[0m\u001b[0m\n\u001b[1;32m   2507\u001b[0m \u001b[0;34m\u001b[0m\u001b[0m\n",
        "\u001b[0;32m~/miniconda3/envs/dspy3/lib/python3.6/site-packages/numpy/core/fromnumeric.py\u001b[0m in \u001b[0;36m_wrapreduction\u001b[0;34m(obj, ufunc, method, axis, dtype, out, **kwargs)\u001b[0m\n\u001b[1;32m     84\u001b[0m                 \u001b[0;32mreturn\u001b[0m \u001b[0mreduction\u001b[0m\u001b[0;34m(\u001b[0m\u001b[0maxis\u001b[0m\u001b[0;34m=\u001b[0m\u001b[0maxis\u001b[0m\u001b[0;34m,\u001b[0m \u001b[0mout\u001b[0m\u001b[0;34m=\u001b[0m\u001b[0mout\u001b[0m\u001b[0;34m,\u001b[0m \u001b[0;34m**\u001b[0m\u001b[0mpasskwargs\u001b[0m\u001b[0;34m)\u001b[0m\u001b[0;34m\u001b[0m\u001b[0;34m\u001b[0m\u001b[0m\n\u001b[1;32m     85\u001b[0m \u001b[0;34m\u001b[0m\u001b[0m\n\u001b[0;32m---> 86\u001b[0;31m     \u001b[0;32mreturn\u001b[0m \u001b[0mufunc\u001b[0m\u001b[0;34m.\u001b[0m\u001b[0mreduce\u001b[0m\u001b[0;34m(\u001b[0m\u001b[0mobj\u001b[0m\u001b[0;34m,\u001b[0m \u001b[0maxis\u001b[0m\u001b[0;34m,\u001b[0m \u001b[0mdtype\u001b[0m\u001b[0;34m,\u001b[0m \u001b[0mout\u001b[0m\u001b[0;34m,\u001b[0m \u001b[0;34m**\u001b[0m\u001b[0mpasskwargs\u001b[0m\u001b[0;34m)\u001b[0m\u001b[0;34m\u001b[0m\u001b[0;34m\u001b[0m\u001b[0m\n\u001b[0m\u001b[1;32m     87\u001b[0m \u001b[0;34m\u001b[0m\u001b[0m\n\u001b[1;32m     88\u001b[0m \u001b[0;34m\u001b[0m\u001b[0m\n",
        "\u001b[0;31mTypeError\u001b[0m: cannot perform reduce with flexible type"
       ]
      }
     ],
     "persistentId": "9939f76b-a6b5-413b-80e7-8595aab7f804",
     "text": "np.max(\"a\")"
    },
    "executionTime": "2019-09-06T18:43:42.036Z"
   },
   {
    "cell": {
     "executionCount": 8,
     "executionEventId": "20fe5c30-a786-4234-b9e5-795fee1fc777",
     "hasError": false,
     "id": "8d562bbd-a330-46e5-965c-3a26dd7cb09d",
     "outputs": [],
     "persistentId": "23f17423-b7db-427a-9453-8e1a5b0215ea",
     "text": "%matplotlib inline\n%config InlineBackend.figure_format='retina'"
    },
    "executionTime": "2019-09-06T18:43:45.182Z"
   },
   {
    "cell": {
     "executionCount": 9,
     "executionEventId": "fe214f94-5034-4f37-8611-18bc32d7f5c6",
     "hasError": false,
     "id": "3fa9fc9c-e3ab-4d27-b277-87992648657a",
     "outputs": [],
     "persistentId": "d595746b-e2e3-4f7c-baa3-417fb0512be5",
     "text": "import pandas as pd\nimport matplotlib.pyplot as plt\nimport seaborn as sns\nimport os\nfrom pivottablejs import pivot_ui\nimport sys\nimport warnings\n\nwarnings.filterwarnings(\"ignore\")"
    },
    "executionTime": "2019-09-06T18:44:08.450Z"
   },
   {
    "cell": {
     "executionCount": 10,
     "executionEventId": "a986597c-e053-4ea9-ae6a-b64dceada756",
     "hasError": false,
     "id": "0870ed9d-a416-4f63-b8d4-2cf73de38958",
     "outputs": [],
     "persistentId": "ea0e37d6-44e2-411f-9da8-5b9c4dba6afe",
     "text": "first = 1"
    },
    "executionTime": "2019-09-06T18:44:11.499Z"
   },
   {
    "cell": {
     "executionCount": 11,
     "executionEventId": "45c52fec-a0ee-4799-a07c-e8b027c489f9",
     "hasError": false,
     "id": "f3f79dd7-f1b7-4d02-8235-c7dc61c65504",
     "outputs": [],
     "persistentId": "53022f8e-b2ba-489e-aa21-b847224ed0c5",
     "text": "second = 2"
    },
    "executionTime": "2019-09-06T18:44:11.805Z"
   },
   {
    "cell": {
     "executionCount": 12,
     "executionEventId": "8db04190-84cb-408a-9fcb-4d45ef065a6e",
     "hasError": false,
     "id": "27bfc590-2f1c-404b-a1c6-51651952e73f",
     "outputs": [],
     "persistentId": "436ebfc0-e6c0-438d-83bd-30855822d454",
     "text": "third = 3"
    },
    "executionTime": "2019-09-06T18:44:12.376Z"
   },
   {
    "cell": {
     "executionCount": 13,
     "executionEventId": "49517fcf-553a-4a84-8562-6d33aef29e46",
     "hasError": false,
     "id": "1e67462c-60f0-40fa-8e29-d595d5314479",
     "outputs": [],
     "persistentId": "646cd755-8c22-4efe-9f37-4629e03fc41d",
     "text": "# df = pd.read_csv(\"../data/mps.csv\", encoding=\"ISO-8859-1\")\n# canadian_politics = pd.read_csv(\"../data/montreal_2014.csv\",)\ncanadian_politics = pd.read_csv(\"../data/mps2.csv\")"
    },
    "executionTime": "2019-09-06T18:44:34.180Z"
   },
   {
    "cell": {
     "executionCount": 14,
     "executionEventId": "0350fb76-6a3e-479e-b3b2-4c4a3dc6c14d",
     "hasError": false,
     "id": "a84cdcc7-b140-41ec-a556-e8c55345bbcd",
     "outputs": [
      {
       "data": {
        "text/html": "<div>\n<style scoped>\n    .dataframe tbody tr th:only-of-type {\n        vertical-align: middle;\n    }\n\n    .dataframe tbody tr th {\n        vertical-align: top;\n    }\n\n    .dataframe thead th {\n        text-align: right;\n    }\n</style>\n<table border=\"1\" class=\"dataframe\">\n  <thead>\n    <tr style=\"text-align: right;\">\n      <th></th>\n      <th>Name</th>\n      <th>Party</th>\n      <th>Province</th>\n      <th>Age</th>\n      <th>Gender</th>\n    </tr>\n  </thead>\n  <tbody>\n    <tr>\n      <th>0</th>\n      <td>Liu, Laurin</td>\n      <td>NDP</td>\n      <td>Quebec</td>\n      <td>22.0</td>\n      <td>Female</td>\n    </tr>\n    <tr>\n      <th>1</th>\n      <td>Mourani, Maria</td>\n      <td>Bloc Quebecois</td>\n      <td>Quebec</td>\n      <td>43.0</td>\n      <td>Female</td>\n    </tr>\n    <tr>\n      <th>2</th>\n      <td>Sellah, Djaouida</td>\n      <td>NDP</td>\n      <td>Quebec</td>\n      <td>NaN</td>\n      <td>Female</td>\n    </tr>\n    <tr>\n      <th>3</th>\n      <td>St-Denis, Lise</td>\n      <td>NDP</td>\n      <td>Quebec</td>\n      <td>72.0</td>\n      <td>Female</td>\n    </tr>\n    <tr>\n      <th>4</th>\n      <td>Fry, Hedy</td>\n      <td>Liberal</td>\n      <td>British Columbia</td>\n      <td>71.0</td>\n      <td>Female</td>\n    </tr>\n    <tr>\n      <th>5</th>\n      <td>Turmel, Nycole</td>\n      <td>NDP</td>\n      <td>Quebec</td>\n      <td>70.0</td>\n      <td>Female</td>\n    </tr>\n    <tr>\n      <th>6</th>\n      <td>Sgro, Judy</td>\n      <td>Liberal</td>\n      <td>Ontario</td>\n      <td>68.0</td>\n      <td>Female</td>\n    </tr>\n    <tr>\n      <th>7</th>\n      <td>Raynault, Francine</td>\n      <td>NDP</td>\n      <td>Quebec</td>\n      <td>67.0</td>\n      <td>Female</td>\n    </tr>\n    <tr>\n      <th>8</th>\n      <td>Davidson, Patricia</td>\n      <td>Conservative</td>\n      <td>Ontario</td>\n      <td>66.0</td>\n      <td>Female</td>\n    </tr>\n    <tr>\n      <th>9</th>\n      <td>Smith, Joy</td>\n      <td>Conservative</td>\n      <td>Manitoba</td>\n      <td>65.0</td>\n      <td>Female</td>\n    </tr>\n  </tbody>\n</table>\n</div>",
        "text/plain": "                 Name           Party          Province   Age  Gender\n0         Liu, Laurin             NDP            Quebec  22.0  Female\n1      Mourani, Maria  Bloc Quebecois            Quebec  43.0  Female\n2    Sellah, Djaouida             NDP            Quebec   NaN  Female\n3      St-Denis, Lise             NDP            Quebec  72.0  Female\n4           Fry, Hedy         Liberal  British Columbia  71.0  Female\n5      Turmel, Nycole             NDP            Quebec  70.0  Female\n6          Sgro, Judy         Liberal           Ontario  68.0  Female\n7  Raynault, Francine             NDP            Quebec  67.0  Female\n8  Davidson, Patricia    Conservative           Ontario  66.0  Female\n9          Smith, Joy    Conservative          Manitoba  65.0  Female"
       },
       "execution_count": 14,
       "metadata": {},
       "output_type": "execute_result"
      }
     ],
     "persistentId": "eb2f750c-1142-4f82-bb4a-b24e13bf5652",
     "text": "# recommend using .head()\ncanadian_politics.head(10)"
    },
    "executionTime": "2019-09-06T18:44:35.869Z"
   },
   {
    "cell": {
     "executionCount": 15,
     "executionEventId": "c1ed8c3f-df65-4f0d-bf40-81ac34f17113",
     "hasError": false,
     "id": "297c4e22-acb4-4b55-8689-106c24f7e587",
     "outputs": [
      {
       "data": {
        "text/plain": "<matplotlib.axes._subplots.AxesSubplot at 0x11f87c588>"
       },
       "execution_count": 15,
       "metadata": {},
       "output_type": "execute_result"
      },
      {
       "data": {
        "image/png": "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\n",
        "text/plain": "<Figure size 432x288 with 1 Axes>"
       },
       "metadata": {
        "image/png": {
         "height": 261,
         "width": 384
        },
        "needs_background": "light"
       },
       "output_type": "display_data"
      }
     ],
     "persistentId": "e69366c4-06ab-480c-9517-27a92536a7f3",
     "text": "sns.distplot(canadian_politics[\"Age\"].dropna())"
    },
    "executionTime": "2019-09-06T18:44:40.215Z"
   },
   {
    "cell": {
     "executionCount": 16,
     "executionEventId": "0c037042-372a-4fe1-8579-bd0b0dde3d45",
     "hasError": false,
     "id": "297c4e22-acb4-4b55-8689-106c24f7e587",
     "outputs": [
      {
       "data": {
        "image/png": "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\n",
        "text/plain": "<Figure size 432x288 with 1 Axes>"
       },
       "metadata": {
        "image/png": {
         "height": 261,
         "width": 384
        },
        "needs_background": "light"
       },
       "output_type": "display_data"
      }
     ],
     "persistentId": "e69366c4-06ab-480c-9517-27a92536a7f3",
     "text": "sns.distplot(canadian_politics[\"Age\"].dropna());"
    },
    "executionTime": "2019-09-06T18:44:44.544Z"
   },
   {
    "cell": {
     "executionCount": 17,
     "executionEventId": "05bd0cf1-32a1-4673-acdd-783ff1a39d91",
     "hasError": false,
     "id": "b51ff504-8c36-4e60-bace-7a481d5f8370",
     "outputs": [],
     "persistentId": "07d985ae-a47f-4486-8877-71e9529824de",
     "text": "sns.set_context(\"poster\", font_scale=1.3)"
    },
    "executionTime": "2019-09-06T18:44:51.356Z"
   },
   {
    "cell": {
     "executionCount": 18,
     "executionEventId": "a3d6744e-4f72-464e-8653-4cfd0b8a4db3",
     "hasError": false,
     "id": "ee001341-910a-40f3-883c-f546f7f6cd30",
     "outputs": [
      {
       "data": {
        "image/png": "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\n",
        "text/plain": "<Figure size 864x576 with 1 Axes>"
       },
       "metadata": {
        "image/png": {
         "height": 521,
         "width": 810
        },
        "needs_background": "light"
       },
       "output_type": "display_data"
      }
     ],
     "persistentId": "dea1274f-c2fa-4fce-b2ff-864248c03b86",
     "text": "fig, ax = plt.subplots(figsize=(12, 8))\nsns.distplot(canadian_politics[\"Age\"].dropna())\nfig.tight_layout()"
    },
    "executionTime": "2019-09-06T18:44:52.259Z"
   },
   {
    "cell": {
     "executionCount": 19,
     "executionEventId": "b53c7ef3-33ba-4a55-ac23-5a14cee87e1d",
     "hasError": false,
     "id": "17bfb04f-5d3c-472a-8df0-92a6137ffefe",
     "outputs": [
      {
       "data": {
        "text/html": "\n        <iframe\n            width=\"100%\"\n            height=\"500\"\n            src=\"pivottablejs.html\"\n            frameborder=\"0\"\n            allowfullscreen\n        ></iframe>\n        ",
        "text/plain": "<IPython.lib.display.IFrame at 0x121df6358>"
       },
       "execution_count": 19,
       "metadata": {},
       "output_type": "execute_result"
      }
     ],
     "persistentId": "b39539b8-5424-4347-85b6-f7573dc8ae03",
     "text": "pivot_ui(canadian_politics)"
    },
    "executionTime": "2019-09-06T18:46:47.535Z"
   },
   {
    "cell": {
     "executionCount": 20,
     "executionEventId": "81fed338-b394-4a9a-b826-c025aea067e9",
     "hasError": false,
     "id": "fafd9b5a-5f2d-48c9-ace5-c9f465e301ab",
     "outputs": [],
     "persistentId": "ffc60d8b-1163-467f-a3d6-3c8bd704e21f",
     "text": "import numpy as np"
    },
    "executionTime": "2019-09-06T18:46:52.344Z"
   },
   {
    "cell": {
     "executionCount": 21,
     "executionEventId": "dbb3cbad-8308-4dda-af2a-a17abecea697",
     "hasError": true,
     "id": "b521514b-6141-4ac2-ab28-eb3a3fbf9d4a",
     "outputs": [
      {
       "ename": "TypeError",
       "evalue": "chisquare() takes at least 1 positional argument (0 given)",
       "output_type": "error",
       "traceback": [
        "\u001b[0;31m-----------------------------------------------------------------------\u001b[0m",
        "\u001b[0;31mTypeError\u001b[0m                             Traceback (most recent call last)",
        "\u001b[0;32m<ipython-input-21-016675c2fa1d>\u001b[0m in \u001b[0;36m<module>\u001b[0;34m\u001b[0m\n\u001b[0;32m----> 1\u001b[0;31m \u001b[0mnp\u001b[0m\u001b[0;34m.\u001b[0m\u001b[0mrandom\u001b[0m\u001b[0;34m.\u001b[0m\u001b[0mchisquare\u001b[0m\u001b[0;34m(\u001b[0m\u001b[0;34m)\u001b[0m\u001b[0;34m\u001b[0m\u001b[0;34m\u001b[0m\u001b[0m\n\u001b[0m",
        "\u001b[0;32mmtrand.pyx\u001b[0m in \u001b[0;36mmtrand.RandomState.chisquare\u001b[0;34m()\u001b[0m\n",
        "\u001b[0;31mTypeError\u001b[0m: chisquare() takes at least 1 positional argument (0 given)"
       ]
      }
     ],
     "persistentId": "7a734967-ab48-49da-8415-d9465cfdd79a",
     "text": "np.random.chisquare()"
    },
    "executionTime": "2019-09-06T18:46:52.964Z"
   },
   {
    "cell": {
     "executionCount": 22,
     "executionEventId": "d43877c5-a0ec-4194-b791-a2a6172b89bd",
     "hasError": false,
     "id": "9feb4645-36a1-402e-beab-8201e8db8cc6",
     "outputs": [
      {
       "data": {
        "text/plain": "array([50., 51., 52., 53., 54., 55., 56., 57., 58., 59., 60., 61., 62.,\n       63., 64., 65., 66., 67., 68., 69., 70., 71., 72., 73., 74., 75.,\n       76., 77., 78., 79., 80., 81., 82., 83., 84., 85., 86., 87., 88.,\n       89., 90., 91., 92., 93., 94., 95., 96., 97., 98., 99.])"
       },
       "execution_count": 22,
       "metadata": {},
       "output_type": "execute_result"
      }
     ],
     "persistentId": "e168be3c-422d-45b4-900a-6ee471fe39c2",
     "text": "# shift-tab right ↓ more useful\nnp.linspace(start=50, endpoint=False, stop=100)"
    },
    "executionTime": "2019-09-06T18:48:10.100Z"
   },
   {
    "cell": {
     "executionCount": 23,
     "executionEventId": "1ccae02e-b6f3-4e1c-b6a0-28ef1ccf5110",
     "hasError": false,
     "id": "c64170a5-43bc-417b-adf3-8b5aa28071bc",
     "outputs": [
      {
       "data": {
        "text/plain": "\u001b[0;31mSignature:\u001b[0m\n\u001b[0mnp\u001b[0m\u001b[0;34m.\u001b[0m\u001b[0mlinspace\u001b[0m\u001b[0;34m(\u001b[0m\u001b[0;34m\u001b[0m\n\u001b[0;34m\u001b[0m    \u001b[0mstart\u001b[0m\u001b[0;34m,\u001b[0m\u001b[0;34m\u001b[0m\n\u001b[0;34m\u001b[0m    \u001b[0mstop\u001b[0m\u001b[0;34m,\u001b[0m\u001b[0;34m\u001b[0m\n\u001b[0;34m\u001b[0m    \u001b[0mnum\u001b[0m\u001b[0;34m=\u001b[0m\u001b[0;36m50\u001b[0m\u001b[0;34m,\u001b[0m\u001b[0;34m\u001b[0m\n\u001b[0;34m\u001b[0m    \u001b[0mendpoint\u001b[0m\u001b[0;34m=\u001b[0m\u001b[0;32mTrue\u001b[0m\u001b[0;34m,\u001b[0m\u001b[0;34m\u001b[0m\n\u001b[0;34m\u001b[0m    \u001b[0mretstep\u001b[0m\u001b[0;34m=\u001b[0m\u001b[0;32mFalse\u001b[0m\u001b[0;34m,\u001b[0m\u001b[0;34m\u001b[0m\n\u001b[0;34m\u001b[0m    \u001b[0mdtype\u001b[0m\u001b[0;34m=\u001b[0m\u001b[0;32mNone\u001b[0m\u001b[0;34m,\u001b[0m\u001b[0;34m\u001b[0m\n\u001b[0;34m\u001b[0m    \u001b[0maxis\u001b[0m\u001b[0;34m=\u001b[0m\u001b[0;36m0\u001b[0m\u001b[0;34m,\u001b[0m\u001b[0;34m\u001b[0m\n\u001b[0;34m\u001b[0m\u001b[0;34m)\u001b[0m\u001b[0;34m\u001b[0m\u001b[0;34m\u001b[0m\u001b[0m\n\u001b[0;31mDocstring:\u001b[0m\nReturn evenly spaced numbers over a specified interval.\n\nReturns `num` evenly spaced samples, calculated over the\ninterval [`start`, `stop`].\n\nThe endpoint of the interval can optionally be excluded.\n\n.. versionchanged:: 1.16.0\n    Non-scalar `start` and `stop` are now supported.\n\nParameters\n----------\nstart : array_like\n    The starting value of the sequence.\nstop : array_like\n    The end value of the sequence, unless `endpoint` is set to False.\n    In that case, the sequence consists of all but the last of ``num + 1``\n    evenly spaced samples, so that `stop` is excluded.  Note that the step\n    size changes when `endpoint` is False.\nnum : int, optional\n    Number of samples to generate. Default is 50. Must be non-negative.\nendpoint : bool, optional\n    If True, `stop` is the last sample. Otherwise, it is not included.\n    Default is True.\nretstep : bool, optional\n    If True, return (`samples`, `step`), where `step` is the spacing\n    between samples.\ndtype : dtype, optional\n    The type of the output array.  If `dtype` is not given, infer the data\n    type from the other input arguments.\n\n    .. versionadded:: 1.9.0\n\naxis : int, optional\n    The axis in the result to store the samples.  Relevant only if start\n    or stop are array-like.  By default (0), the samples will be along a\n    new axis inserted at the beginning. Use -1 to get an axis at the end.\n\n    .. versionadded:: 1.16.0\n\nReturns\n-------\nsamples : ndarray\n    There are `num` equally spaced samples in the closed interval\n    ``[start, stop]`` or the half-open interval ``[start, stop)``\n    (depending on whether `endpoint` is True or False).\nstep : float, optional\n    Only returned if `retstep` is True\n\n    Size of spacing between samples.\n\n\nSee Also\n--------\narange : Similar to `linspace`, but uses a step size (instead of the\n         number of samples).\ngeomspace : Similar to `linspace`, but with numbers spaced evenly on a log\n            scale (a geometric progression).\nlogspace : Similar to `geomspace`, but with the end points specified as\n           logarithms.\n\nExamples\n--------\n>>> np.linspace(2.0, 3.0, num=5)\narray([ 2.  ,  2.25,  2.5 ,  2.75,  3.  ])\n>>> np.linspace(2.0, 3.0, num=5, endpoint=False)\narray([ 2. ,  2.2,  2.4,  2.6,  2.8])\n>>> np.linspace(2.0, 3.0, num=5, retstep=True)\n(array([ 2.  ,  2.25,  2.5 ,  2.75,  3.  ]), 0.25)\n\nGraphical illustration:\n\n>>> import matplotlib.pyplot as plt\n>>> N = 8\n>>> y = np.zeros(N)\n>>> x1 = np.linspace(0, 10, N, endpoint=True)\n>>> x2 = np.linspace(0, 10, N, endpoint=False)\n>>> plt.plot(x1, y, 'o')\n[<matplotlib.lines.Line2D object at 0x...>]\n>>> plt.plot(x2, y + 0.5, 'o')\n[<matplotlib.lines.Line2D object at 0x...>]\n>>> plt.ylim([-0.5, 1])\n(-0.5, 1)\n>>> plt.show()\n\u001b[0;31mFile:\u001b[0m      ~/miniconda3/envs/dspy3/lib/python3.6/site-packages/numpy/core/function_base.py\n\u001b[0;31mType:\u001b[0m      function\n"
       },
       "metadata": {},
       "output_type": "display_data"
      }
     ],
     "persistentId": "f1b235f2-cbfb-47c2-a110-e618c2160cdc",
     "text": "np.linspace?"
    },
    "executionTime": "2019-09-06T18:48:28.498Z"
   },
   {
    "cell": {
     "executionCount": 24,
     "executionEventId": "555bb65e-702c-4865-b7b6-7e36b1ba4dbb",
     "hasError": false,
     "id": "932ff934-1500-4c5d-85a9-016ce0e7b9b2",
     "outputs": [
      {
       "data": {
        "text/plain": "\u001b[0;31mSignature:\u001b[0m\n\u001b[0mnp\u001b[0m\u001b[0;34m.\u001b[0m\u001b[0mlinspace\u001b[0m\u001b[0;34m(\u001b[0m\u001b[0;34m\u001b[0m\n\u001b[0;34m\u001b[0m    \u001b[0mstart\u001b[0m\u001b[0;34m,\u001b[0m\u001b[0;34m\u001b[0m\n\u001b[0;34m\u001b[0m    \u001b[0mstop\u001b[0m\u001b[0;34m,\u001b[0m\u001b[0;34m\u001b[0m\n\u001b[0;34m\u001b[0m    \u001b[0mnum\u001b[0m\u001b[0;34m=\u001b[0m\u001b[0;36m50\u001b[0m\u001b[0;34m,\u001b[0m\u001b[0;34m\u001b[0m\n\u001b[0;34m\u001b[0m    \u001b[0mendpoint\u001b[0m\u001b[0;34m=\u001b[0m\u001b[0;32mTrue\u001b[0m\u001b[0;34m,\u001b[0m\u001b[0;34m\u001b[0m\n\u001b[0;34m\u001b[0m    \u001b[0mretstep\u001b[0m\u001b[0;34m=\u001b[0m\u001b[0;32mFalse\u001b[0m\u001b[0;34m,\u001b[0m\u001b[0;34m\u001b[0m\n\u001b[0;34m\u001b[0m    \u001b[0mdtype\u001b[0m\u001b[0;34m=\u001b[0m\u001b[0;32mNone\u001b[0m\u001b[0;34m,\u001b[0m\u001b[0;34m\u001b[0m\n\u001b[0;34m\u001b[0m    \u001b[0maxis\u001b[0m\u001b[0;34m=\u001b[0m\u001b[0;36m0\u001b[0m\u001b[0;34m,\u001b[0m\u001b[0;34m\u001b[0m\n\u001b[0;34m\u001b[0m\u001b[0;34m)\u001b[0m\u001b[0;34m\u001b[0m\u001b[0;34m\u001b[0m\u001b[0m\n\u001b[0;31mDocstring:\u001b[0m\nReturn evenly spaced numbers over a specified interval.\n\nReturns `num` evenly spaced samples, calculated over the\ninterval [`start`, `stop`].\n\nThe endpoint of the interval can optionally be excluded.\n\n.. versionchanged:: 1.16.0\n    Non-scalar `start` and `stop` are now supported.\n\nParameters\n----------\nstart : array_like\n    The starting value of the sequence.\nstop : array_like\n    The end value of the sequence, unless `endpoint` is set to False.\n    In that case, the sequence consists of all but the last of ``num + 1``\n    evenly spaced samples, so that `stop` is excluded.  Note that the step\n    size changes when `endpoint` is False.\nnum : int, optional\n    Number of samples to generate. Default is 50. Must be non-negative.\nendpoint : bool, optional\n    If True, `stop` is the last sample. Otherwise, it is not included.\n    Default is True.\nretstep : bool, optional\n    If True, return (`samples`, `step`), where `step` is the spacing\n    between samples.\ndtype : dtype, optional\n    The type of the output array.  If `dtype` is not given, infer the data\n    type from the other input arguments.\n\n    .. versionadded:: 1.9.0\n\naxis : int, optional\n    The axis in the result to store the samples.  Relevant only if start\n    or stop are array-like.  By default (0), the samples will be along a\n    new axis inserted at the beginning. Use -1 to get an axis at the end.\n\n    .. versionadded:: 1.16.0\n\nReturns\n-------\nsamples : ndarray\n    There are `num` equally spaced samples in the closed interval\n    ``[start, stop]`` or the half-open interval ``[start, stop)``\n    (depending on whether `endpoint` is True or False).\nstep : float, optional\n    Only returned if `retstep` is True\n\n    Size of spacing between samples.\n\n\nSee Also\n--------\narange : Similar to `linspace`, but uses a step size (instead of the\n         number of samples).\ngeomspace : Similar to `linspace`, but with numbers spaced evenly on a log\n            scale (a geometric progression).\nlogspace : Similar to `geomspace`, but with the end points specified as\n           logarithms.\n\nExamples\n--------\n>>> np.linspace(2.0, 3.0, num=5)\narray([ 2.  ,  2.25,  2.5 ,  2.75,  3.  ])\n>>> np.linspace(2.0, 3.0, num=5, endpoint=False)\narray([ 2. ,  2.2,  2.4,  2.6,  2.8])\n>>> np.linspace(2.0, 3.0, num=5, retstep=True)\n(array([ 2.  ,  2.25,  2.5 ,  2.75,  3.  ]), 0.25)\n\nGraphical illustration:\n\n>>> import matplotlib.pyplot as plt\n>>> N = 8\n>>> y = np.zeros(N)\n>>> x1 = np.linspace(0, 10, N, endpoint=True)\n>>> x2 = np.linspace(0, 10, N, endpoint=False)\n>>> plt.plot(x1, y, 'o')\n[<matplotlib.lines.Line2D object at 0x...>]\n>>> plt.plot(x2, y + 0.5, 'o')\n[<matplotlib.lines.Line2D object at 0x...>]\n>>> plt.ylim([-0.5, 1])\n(-0.5, 1)\n>>> plt.show()\n\u001b[0;31mFile:\u001b[0m      ~/miniconda3/envs/dspy3/lib/python3.6/site-packages/numpy/core/function_base.py\n\u001b[0;31mType:\u001b[0m      function\n"
       },
       "metadata": {},
       "output_type": "display_data"
      }
     ],
     "persistentId": "591deb25-5503-4f05-8804-03e909a03e84",
     "text": "?np.linspace"
    },
    "executionTime": "2019-09-06T18:48:33.645Z"
   },
   {
    "cell": {
     "executionCount": 25,
     "executionEventId": "213509e0-903c-4fed-90ed-165ffb5153bf",
     "hasError": false,
     "id": "da6a965d-dabe-4314-a63b-f9729cbaa0a9",
     "outputs": [
      {
       "data": {
        "text/plain": "\u001b[0;31mSignature:\u001b[0m\n\u001b[0mnp\u001b[0m\u001b[0;34m.\u001b[0m\u001b[0mlinspace\u001b[0m\u001b[0;34m(\u001b[0m\u001b[0;34m\u001b[0m\n\u001b[0;34m\u001b[0m    \u001b[0mstart\u001b[0m\u001b[0;34m,\u001b[0m\u001b[0;34m\u001b[0m\n\u001b[0;34m\u001b[0m    \u001b[0mstop\u001b[0m\u001b[0;34m,\u001b[0m\u001b[0;34m\u001b[0m\n\u001b[0;34m\u001b[0m    \u001b[0mnum\u001b[0m\u001b[0;34m=\u001b[0m\u001b[0;36m50\u001b[0m\u001b[0;34m,\u001b[0m\u001b[0;34m\u001b[0m\n\u001b[0;34m\u001b[0m    \u001b[0mendpoint\u001b[0m\u001b[0;34m=\u001b[0m\u001b[0;32mTrue\u001b[0m\u001b[0;34m,\u001b[0m\u001b[0;34m\u001b[0m\n\u001b[0;34m\u001b[0m    \u001b[0mretstep\u001b[0m\u001b[0;34m=\u001b[0m\u001b[0;32mFalse\u001b[0m\u001b[0;34m,\u001b[0m\u001b[0;34m\u001b[0m\n\u001b[0;34m\u001b[0m    \u001b[0mdtype\u001b[0m\u001b[0;34m=\u001b[0m\u001b[0;32mNone\u001b[0m\u001b[0;34m,\u001b[0m\u001b[0;34m\u001b[0m\n\u001b[0;34m\u001b[0m    \u001b[0maxis\u001b[0m\u001b[0;34m=\u001b[0m\u001b[0;36m0\u001b[0m\u001b[0;34m,\u001b[0m\u001b[0;34m\u001b[0m\n\u001b[0;34m\u001b[0m\u001b[0;34m)\u001b[0m\u001b[0;34m\u001b[0m\u001b[0;34m\u001b[0m\u001b[0m\n\u001b[0;31mSource:\u001b[0m   \n\u001b[0;34m@\u001b[0m\u001b[0marray_function_dispatch\u001b[0m\u001b[0;34m(\u001b[0m\u001b[0m_linspace_dispatcher\u001b[0m\u001b[0;34m)\u001b[0m\u001b[0;34m\u001b[0m\n\u001b[0;34m\u001b[0m\u001b[0;32mdef\u001b[0m \u001b[0mlinspace\u001b[0m\u001b[0;34m(\u001b[0m\u001b[0mstart\u001b[0m\u001b[0;34m,\u001b[0m \u001b[0mstop\u001b[0m\u001b[0;34m,\u001b[0m \u001b[0mnum\u001b[0m\u001b[0;34m=\u001b[0m\u001b[0;36m50\u001b[0m\u001b[0;34m,\u001b[0m \u001b[0mendpoint\u001b[0m\u001b[0;34m=\u001b[0m\u001b[0;32mTrue\u001b[0m\u001b[0;34m,\u001b[0m \u001b[0mretstep\u001b[0m\u001b[0;34m=\u001b[0m\u001b[0;32mFalse\u001b[0m\u001b[0;34m,\u001b[0m \u001b[0mdtype\u001b[0m\u001b[0;34m=\u001b[0m\u001b[0;32mNone\u001b[0m\u001b[0;34m,\u001b[0m\u001b[0;34m\u001b[0m\n\u001b[0;34m\u001b[0m             \u001b[0maxis\u001b[0m\u001b[0;34m=\u001b[0m\u001b[0;36m0\u001b[0m\u001b[0;34m)\u001b[0m\u001b[0;34m:\u001b[0m\u001b[0;34m\u001b[0m\n\u001b[0;34m\u001b[0m    \u001b[0;34m\"\"\"\u001b[0m\n\u001b[0;34m    Return evenly spaced numbers over a specified interval.\u001b[0m\n\u001b[0;34m\u001b[0m\n\u001b[0;34m    Returns `num` evenly spaced samples, calculated over the\u001b[0m\n\u001b[0;34m    interval [`start`, `stop`].\u001b[0m\n\u001b[0;34m\u001b[0m\n\u001b[0;34m    The endpoint of the interval can optionally be excluded.\u001b[0m\n\u001b[0;34m\u001b[0m\n\u001b[0;34m    .. versionchanged:: 1.16.0\u001b[0m\n\u001b[0;34m        Non-scalar `start` and `stop` are now supported.\u001b[0m\n\u001b[0;34m\u001b[0m\n\u001b[0;34m    Parameters\u001b[0m\n\u001b[0;34m    ----------\u001b[0m\n\u001b[0;34m    start : array_like\u001b[0m\n\u001b[0;34m        The starting value of the sequence.\u001b[0m\n\u001b[0;34m    stop : array_like\u001b[0m\n\u001b[0;34m        The end value of the sequence, unless `endpoint` is set to False.\u001b[0m\n\u001b[0;34m        In that case, the sequence consists of all but the last of ``num + 1``\u001b[0m\n\u001b[0;34m        evenly spaced samples, so that `stop` is excluded.  Note that the step\u001b[0m\n\u001b[0;34m        size changes when `endpoint` is False.\u001b[0m\n\u001b[0;34m    num : int, optional\u001b[0m\n\u001b[0;34m        Number of samples to generate. Default is 50. Must be non-negative.\u001b[0m\n\u001b[0;34m    endpoint : bool, optional\u001b[0m\n\u001b[0;34m        If True, `stop` is the last sample. Otherwise, it is not included.\u001b[0m\n\u001b[0;34m        Default is True.\u001b[0m\n\u001b[0;34m    retstep : bool, optional\u001b[0m\n\u001b[0;34m        If True, return (`samples`, `step`), where `step` is the spacing\u001b[0m\n\u001b[0;34m        between samples.\u001b[0m\n\u001b[0;34m    dtype : dtype, optional\u001b[0m\n\u001b[0;34m        The type of the output array.  If `dtype` is not given, infer the data\u001b[0m\n\u001b[0;34m        type from the other input arguments.\u001b[0m\n\u001b[0;34m\u001b[0m\n\u001b[0;34m        .. versionadded:: 1.9.0\u001b[0m\n\u001b[0;34m\u001b[0m\n\u001b[0;34m    axis : int, optional\u001b[0m\n\u001b[0;34m        The axis in the result to store the samples.  Relevant only if start\u001b[0m\n\u001b[0;34m        or stop are array-like.  By default (0), the samples will be along a\u001b[0m\n\u001b[0;34m        new axis inserted at the beginning. Use -1 to get an axis at the end.\u001b[0m\n\u001b[0;34m\u001b[0m\n\u001b[0;34m        .. versionadded:: 1.16.0\u001b[0m\n\u001b[0;34m\u001b[0m\n\u001b[0;34m    Returns\u001b[0m\n\u001b[0;34m    -------\u001b[0m\n\u001b[0;34m    samples : ndarray\u001b[0m\n\u001b[0;34m        There are `num` equally spaced samples in the closed interval\u001b[0m\n\u001b[0;34m        ``[start, stop]`` or the half-open interval ``[start, stop)``\u001b[0m\n\u001b[0;34m        (depending on whether `endpoint` is True or False).\u001b[0m\n\u001b[0;34m    step : float, optional\u001b[0m\n\u001b[0;34m        Only returned if `retstep` is True\u001b[0m\n\u001b[0;34m\u001b[0m\n\u001b[0;34m        Size of spacing between samples.\u001b[0m\n\u001b[0;34m\u001b[0m\n\u001b[0;34m\u001b[0m\n\u001b[0;34m    See Also\u001b[0m\n\u001b[0;34m    --------\u001b[0m\n\u001b[0;34m    arange : Similar to `linspace`, but uses a step size (instead of the\u001b[0m\n\u001b[0;34m             number of samples).\u001b[0m\n\u001b[0;34m    geomspace : Similar to `linspace`, but with numbers spaced evenly on a log\u001b[0m\n\u001b[0;34m                scale (a geometric progression).\u001b[0m\n\u001b[0;34m    logspace : Similar to `geomspace`, but with the end points specified as\u001b[0m\n\u001b[0;34m               logarithms.\u001b[0m\n\u001b[0;34m\u001b[0m\n\u001b[0;34m    Examples\u001b[0m\n\u001b[0;34m    --------\u001b[0m\n\u001b[0;34m    >>> np.linspace(2.0, 3.0, num=5)\u001b[0m\n\u001b[0;34m    array([ 2.  ,  2.25,  2.5 ,  2.75,  3.  ])\u001b[0m\n\u001b[0;34m    >>> np.linspace(2.0, 3.0, num=5, endpoint=False)\u001b[0m\n\u001b[0;34m    array([ 2. ,  2.2,  2.4,  2.6,  2.8])\u001b[0m\n\u001b[0;34m    >>> np.linspace(2.0, 3.0, num=5, retstep=True)\u001b[0m\n\u001b[0;34m    (array([ 2.  ,  2.25,  2.5 ,  2.75,  3.  ]), 0.25)\u001b[0m\n\u001b[0;34m\u001b[0m\n\u001b[0;34m    Graphical illustration:\u001b[0m\n\u001b[0;34m\u001b[0m\n\u001b[0;34m    >>> import matplotlib.pyplot as plt\u001b[0m\n\u001b[0;34m    >>> N = 8\u001b[0m\n\u001b[0;34m    >>> y = np.zeros(N)\u001b[0m\n\u001b[0;34m    >>> x1 = np.linspace(0, 10, N, endpoint=True)\u001b[0m\n\u001b[0;34m    >>> x2 = np.linspace(0, 10, N, endpoint=False)\u001b[0m\n\u001b[0;34m    >>> plt.plot(x1, y, 'o')\u001b[0m\n\u001b[0;34m    [<matplotlib.lines.Line2D object at 0x...>]\u001b[0m\n\u001b[0;34m    >>> plt.plot(x2, y + 0.5, 'o')\u001b[0m\n\u001b[0;34m    [<matplotlib.lines.Line2D object at 0x...>]\u001b[0m\n\u001b[0;34m    >>> plt.ylim([-0.5, 1])\u001b[0m\n\u001b[0;34m    (-0.5, 1)\u001b[0m\n\u001b[0;34m    >>> plt.show()\u001b[0m\n\u001b[0;34m\u001b[0m\n\u001b[0;34m    \"\"\"\u001b[0m\u001b[0;34m\u001b[0m\n\u001b[0;34m\u001b[0m    \u001b[0;31m# 2016-02-25, 1.12\u001b[0m\u001b[0;34m\u001b[0m\n\u001b[0;34m\u001b[0m    \u001b[0mnum\u001b[0m \u001b[0;34m=\u001b[0m \u001b[0m_index_deprecate\u001b[0m\u001b[0;34m(\u001b[0m\u001b[0mnum\u001b[0m\u001b[0;34m)\u001b[0m\u001b[0;34m\u001b[0m\n\u001b[0;34m\u001b[0m    \u001b[0;32mif\u001b[0m \u001b[0mnum\u001b[0m \u001b[0;34m<\u001b[0m \u001b[0;36m0\u001b[0m\u001b[0;34m:\u001b[0m\u001b[0;34m\u001b[0m\n\u001b[0;34m\u001b[0m        \u001b[0;32mraise\u001b[0m \u001b[0mValueError\u001b[0m\u001b[0;34m(\u001b[0m\u001b[0;34m\"Number of samples, %s, must be non-negative.\"\u001b[0m \u001b[0;34m%\u001b[0m \u001b[0mnum\u001b[0m\u001b[0;34m)\u001b[0m\u001b[0;34m\u001b[0m\n\u001b[0;34m\u001b[0m    \u001b[0mdiv\u001b[0m \u001b[0;34m=\u001b[0m \u001b[0;34m(\u001b[0m\u001b[0mnum\u001b[0m \u001b[0;34m-\u001b[0m \u001b[0;36m1\u001b[0m\u001b[0;34m)\u001b[0m \u001b[0;32mif\u001b[0m \u001b[0mendpoint\u001b[0m \u001b[0;32melse\u001b[0m \u001b[0mnum\u001b[0m\u001b[0;34m\u001b[0m\n\u001b[0;34m\u001b[0m\u001b[0;34m\u001b[0m\n\u001b[0;34m\u001b[0m    \u001b[0;31m# Convert float/complex array scalars to float, gh-3504\u001b[0m\u001b[0;34m\u001b[0m\n\u001b[0;34m\u001b[0m    \u001b[0;31m# and make sure one can use variables that have an __array_interface__, gh-6634\u001b[0m\u001b[0;34m\u001b[0m\n\u001b[0;34m\u001b[0m    \u001b[0mstart\u001b[0m \u001b[0;34m=\u001b[0m \u001b[0masanyarray\u001b[0m\u001b[0;34m(\u001b[0m\u001b[0mstart\u001b[0m\u001b[0;34m)\u001b[0m \u001b[0;34m*\u001b[0m \u001b[0;36m1.0\u001b[0m\u001b[0;34m\u001b[0m\n\u001b[0;34m\u001b[0m    \u001b[0mstop\u001b[0m  \u001b[0;34m=\u001b[0m \u001b[0masanyarray\u001b[0m\u001b[0;34m(\u001b[0m\u001b[0mstop\u001b[0m\u001b[0;34m)\u001b[0m  \u001b[0;34m*\u001b[0m \u001b[0;36m1.0\u001b[0m\u001b[0;34m\u001b[0m\n\u001b[0;34m\u001b[0m\u001b[0;34m\u001b[0m\n\u001b[0;34m\u001b[0m    \u001b[0mdt\u001b[0m \u001b[0;34m=\u001b[0m \u001b[0mresult_type\u001b[0m\u001b[0;34m(\u001b[0m\u001b[0mstart\u001b[0m\u001b[0;34m,\u001b[0m \u001b[0mstop\u001b[0m\u001b[0;34m,\u001b[0m \u001b[0mfloat\u001b[0m\u001b[0;34m(\u001b[0m\u001b[0mnum\u001b[0m\u001b[0;34m)\u001b[0m\u001b[0;34m)\u001b[0m\u001b[0;34m\u001b[0m\n\u001b[0;34m\u001b[0m    \u001b[0;32mif\u001b[0m \u001b[0mdtype\u001b[0m \u001b[0;32mis\u001b[0m \u001b[0;32mNone\u001b[0m\u001b[0;34m:\u001b[0m\u001b[0;34m\u001b[0m\n\u001b[0;34m\u001b[0m        \u001b[0mdtype\u001b[0m \u001b[0;34m=\u001b[0m \u001b[0mdt\u001b[0m\u001b[0;34m\u001b[0m\n\u001b[0;34m\u001b[0m\u001b[0;34m\u001b[0m\n\u001b[0;34m\u001b[0m    \u001b[0mdelta\u001b[0m \u001b[0;34m=\u001b[0m \u001b[0mstop\u001b[0m \u001b[0;34m-\u001b[0m \u001b[0mstart\u001b[0m\u001b[0;34m\u001b[0m\n\u001b[0;34m\u001b[0m    \u001b[0my\u001b[0m \u001b[0;34m=\u001b[0m \u001b[0m_nx\u001b[0m\u001b[0;34m.\u001b[0m\u001b[0marange\u001b[0m\u001b[0;34m(\u001b[0m\u001b[0;36m0\u001b[0m\u001b[0;34m,\u001b[0m \u001b[0mnum\u001b[0m\u001b[0;34m,\u001b[0m \u001b[0mdtype\u001b[0m\u001b[0;34m=\u001b[0m\u001b[0mdt\u001b[0m\u001b[0;34m)\u001b[0m\u001b[0;34m.\u001b[0m\u001b[0mreshape\u001b[0m\u001b[0;34m(\u001b[0m\u001b[0;34m(\u001b[0m\u001b[0;34m-\u001b[0m\u001b[0;36m1\u001b[0m\u001b[0;34m,\u001b[0m\u001b[0;34m)\u001b[0m \u001b[0;34m+\u001b[0m \u001b[0;34m(\u001b[0m\u001b[0;36m1\u001b[0m\u001b[0;34m,\u001b[0m\u001b[0;34m)\u001b[0m \u001b[0;34m*\u001b[0m \u001b[0mndim\u001b[0m\u001b[0;34m(\u001b[0m\u001b[0mdelta\u001b[0m\u001b[0;34m)\u001b[0m\u001b[0;34m)\u001b[0m\u001b[0;34m\u001b[0m\n\u001b[0;34m\u001b[0m    \u001b[0;31m# In-place multiplication y *= delta/div is faster, but prevents the multiplicant\u001b[0m\u001b[0;34m\u001b[0m\n\u001b[0;34m\u001b[0m    \u001b[0;31m# from overriding what class is produced, and thus prevents, e.g. use of Quantities,\u001b[0m\u001b[0;34m\u001b[0m\n\u001b[0;34m\u001b[0m    \u001b[0;31m# see gh-7142. Hence, we multiply in place only for standard scalar types.\u001b[0m\u001b[0;34m\u001b[0m\n\u001b[0;34m\u001b[0m    \u001b[0m_mult_inplace\u001b[0m \u001b[0;34m=\u001b[0m \u001b[0m_nx\u001b[0m\u001b[0;34m.\u001b[0m\u001b[0misscalar\u001b[0m\u001b[0;34m(\u001b[0m\u001b[0mdelta\u001b[0m\u001b[0;34m)\u001b[0m\u001b[0;34m\u001b[0m\n\u001b[0;34m\u001b[0m    \u001b[0;32mif\u001b[0m \u001b[0mnum\u001b[0m \u001b[0;34m>\u001b[0m \u001b[0;36m1\u001b[0m\u001b[0;34m:\u001b[0m\u001b[0;34m\u001b[0m\n\u001b[0;34m\u001b[0m        \u001b[0mstep\u001b[0m \u001b[0;34m=\u001b[0m \u001b[0mdelta\u001b[0m \u001b[0;34m/\u001b[0m \u001b[0mdiv\u001b[0m\u001b[0;34m\u001b[0m\n\u001b[0;34m\u001b[0m        \u001b[0;32mif\u001b[0m \u001b[0m_nx\u001b[0m\u001b[0;34m.\u001b[0m\u001b[0many\u001b[0m\u001b[0;34m(\u001b[0m\u001b[0mstep\u001b[0m \u001b[0;34m==\u001b[0m \u001b[0;36m0\u001b[0m\u001b[0;34m)\u001b[0m\u001b[0;34m:\u001b[0m\u001b[0;34m\u001b[0m\n\u001b[0;34m\u001b[0m            \u001b[0;31m# Special handling for denormal numbers, gh-5437\u001b[0m\u001b[0;34m\u001b[0m\n\u001b[0;34m\u001b[0m            \u001b[0my\u001b[0m \u001b[0;34m/=\u001b[0m \u001b[0mdiv\u001b[0m\u001b[0;34m\u001b[0m\n\u001b[0;34m\u001b[0m            \u001b[0;32mif\u001b[0m \u001b[0m_mult_inplace\u001b[0m\u001b[0;34m:\u001b[0m\u001b[0;34m\u001b[0m\n\u001b[0;34m\u001b[0m                \u001b[0my\u001b[0m \u001b[0;34m*=\u001b[0m \u001b[0mdelta\u001b[0m\u001b[0;34m\u001b[0m\n\u001b[0;34m\u001b[0m            \u001b[0;32melse\u001b[0m\u001b[0;34m:\u001b[0m\u001b[0;34m\u001b[0m\n\u001b[0;34m\u001b[0m                \u001b[0my\u001b[0m \u001b[0;34m=\u001b[0m \u001b[0my\u001b[0m \u001b[0;34m*\u001b[0m \u001b[0mdelta\u001b[0m\u001b[0;34m\u001b[0m\n\u001b[0;34m\u001b[0m        \u001b[0;32melse\u001b[0m\u001b[0;34m:\u001b[0m\u001b[0;34m\u001b[0m\n\u001b[0;34m\u001b[0m            \u001b[0;32mif\u001b[0m \u001b[0m_mult_inplace\u001b[0m\u001b[0;34m:\u001b[0m\u001b[0;34m\u001b[0m\n\u001b[0;34m\u001b[0m                \u001b[0my\u001b[0m \u001b[0;34m*=\u001b[0m \u001b[0mstep\u001b[0m\u001b[0;34m\u001b[0m\n\u001b[0;34m\u001b[0m            \u001b[0;32melse\u001b[0m\u001b[0;34m:\u001b[0m\u001b[0;34m\u001b[0m\n\u001b[0;34m\u001b[0m                \u001b[0my\u001b[0m \u001b[0;34m=\u001b[0m \u001b[0my\u001b[0m \u001b[0;34m*\u001b[0m \u001b[0mstep\u001b[0m\u001b[0;34m\u001b[0m\n\u001b[0;34m\u001b[0m    \u001b[0;32melse\u001b[0m\u001b[0;34m:\u001b[0m\u001b[0;34m\u001b[0m\n\u001b[0;34m\u001b[0m        \u001b[0;31m# 0 and 1 item long sequences have an undefined step\u001b[0m\u001b[0;34m\u001b[0m\n\u001b[0;34m\u001b[0m        \u001b[0mstep\u001b[0m \u001b[0;34m=\u001b[0m \u001b[0mNaN\u001b[0m\u001b[0;34m\u001b[0m\n\u001b[0;34m\u001b[0m        \u001b[0;31m# Multiply with delta to allow possible override of output class.\u001b[0m\u001b[0;34m\u001b[0m\n\u001b[0;34m\u001b[0m        \u001b[0my\u001b[0m \u001b[0;34m=\u001b[0m \u001b[0my\u001b[0m \u001b[0;34m*\u001b[0m \u001b[0mdelta\u001b[0m\u001b[0;34m\u001b[0m\n\u001b[0;34m\u001b[0m\u001b[0;34m\u001b[0m\n\u001b[0;34m\u001b[0m    \u001b[0my\u001b[0m \u001b[0;34m+=\u001b[0m \u001b[0mstart\u001b[0m\u001b[0;34m\u001b[0m\n\u001b[0;34m\u001b[0m\u001b[0;34m\u001b[0m\n\u001b[0;34m\u001b[0m    \u001b[0;32mif\u001b[0m \u001b[0mendpoint\u001b[0m \u001b[0;32mand\u001b[0m \u001b[0mnum\u001b[0m \u001b[0;34m>\u001b[0m \u001b[0;36m1\u001b[0m\u001b[0;34m:\u001b[0m\u001b[0;34m\u001b[0m\n\u001b[0;34m\u001b[0m        \u001b[0my\u001b[0m\u001b[0;34m[\u001b[0m\u001b[0;34m-\u001b[0m\u001b[0;36m1\u001b[0m\u001b[0;34m]\u001b[0m \u001b[0;34m=\u001b[0m \u001b[0mstop\u001b[0m\u001b[0;34m\u001b[0m\n\u001b[0;34m\u001b[0m\u001b[0;34m\u001b[0m\n\u001b[0;34m\u001b[0m    \u001b[0;32mif\u001b[0m \u001b[0maxis\u001b[0m \u001b[0;34m!=\u001b[0m \u001b[0;36m0\u001b[0m\u001b[0;34m:\u001b[0m\u001b[0;34m\u001b[0m\n\u001b[0;34m\u001b[0m        \u001b[0my\u001b[0m \u001b[0;34m=\u001b[0m \u001b[0m_nx\u001b[0m\u001b[0;34m.\u001b[0m\u001b[0mmoveaxis\u001b[0m\u001b[0;34m(\u001b[0m\u001b[0my\u001b[0m\u001b[0;34m,\u001b[0m \u001b[0;36m0\u001b[0m\u001b[0;34m,\u001b[0m \u001b[0maxis\u001b[0m\u001b[0;34m)\u001b[0m\u001b[0;34m\u001b[0m\n\u001b[0;34m\u001b[0m\u001b[0;34m\u001b[0m\n\u001b[0;34m\u001b[0m    \u001b[0;32mif\u001b[0m \u001b[0mretstep\u001b[0m\u001b[0;34m:\u001b[0m\u001b[0;34m\u001b[0m\n\u001b[0;34m\u001b[0m        \u001b[0;32mreturn\u001b[0m \u001b[0my\u001b[0m\u001b[0;34m.\u001b[0m\u001b[0mastype\u001b[0m\u001b[0;34m(\u001b[0m\u001b[0mdtype\u001b[0m\u001b[0;34m,\u001b[0m \u001b[0mcopy\u001b[0m\u001b[0;34m=\u001b[0m\u001b[0;32mFalse\u001b[0m\u001b[0;34m)\u001b[0m\u001b[0;34m,\u001b[0m \u001b[0mstep\u001b[0m\u001b[0;34m\u001b[0m\n\u001b[0;34m\u001b[0m    \u001b[0;32melse\u001b[0m\u001b[0;34m:\u001b[0m\u001b[0;34m\u001b[0m\n\u001b[0;34m\u001b[0m        \u001b[0;32mreturn\u001b[0m \u001b[0my\u001b[0m\u001b[0;34m.\u001b[0m\u001b[0mastype\u001b[0m\u001b[0;34m(\u001b[0m\u001b[0mdtype\u001b[0m\u001b[0;34m,\u001b[0m \u001b[0mcopy\u001b[0m\u001b[0;34m=\u001b[0m\u001b[0;32mFalse\u001b[0m\u001b[0;34m)\u001b[0m\u001b[0;34m\u001b[0m\u001b[0;34m\u001b[0m\u001b[0m\n\u001b[0;31mFile:\u001b[0m      ~/miniconda3/envs/dspy3/lib/python3.6/site-packages/numpy/core/function_base.py\n\u001b[0;31mType:\u001b[0m      function\n"
       },
       "metadata": {},
       "output_type": "display_data"
      }
     ],
     "persistentId": "b709800a-b4d9-40e0-b810-b53d5be31737",
     "text": "np.linspace??"
    },
    "executionTime": "2019-09-06T18:48:38.383Z"
   },
   {
    "cell": {
     "executionCount": 26,
     "executionEventId": "abc892e4-b750-4e07-8f22-fb4de9543f58",
     "hasError": false,
     "id": "9257a4c4-d935-46a0-b4c9-ba4322287222",
     "outputs": [
      {
       "name": "stdout",
       "output_type": "stream",
       "text": "\nThis is a multi-lined string\nthat I want to write inside of a function.\nNotice what happens when I print this.\n    And when something is indented more.\n"
      }
     ],
     "persistentId": "2dd939f9-4894-4c97-99ee-842a9cf63707",
     "text": "import textwrap\ndef example_function():\n    \"\"\"Docstring for example function\"\"\"\n    \n    print(textwrap.dedent(\"\"\"\n    This is a multi-lined string\n    that I want to write inside of a function.\n    Notice what happens when I print this.\n        And when something is indented more.\"\"\"))\n\n\nexample_function()"
    },
    "executionTime": "2019-09-06T18:49:01.499Z"
   },
   {
    "cell": {
     "executionCount": 27,
     "executionEventId": "8faca035-5d53-43d7-9d84-7a3dc01d1594",
     "hasError": false,
     "id": "b79e9950-29e0-46f0-bbd8-0cf5fc380a3e",
     "outputs": [],
     "persistentId": "ea55279f-0c0e-4a87-8099-35951a5c64d2",
     "text": "# But first find and replace\ndef silly_function(xval):\n    \"\"\"Takes a value and returns the value.\"\"\"\n    xval_sq = xval ** 2.0\n    1 + 12\n    xval_abs = np.sqrt(xval_sq)\n    return xval_abs"
    },
    "executionTime": "2019-09-06T18:49:06.186Z"
   },
   {
    "cell": {
     "executionCount": 28,
     "executionEventId": "db44c540-8e11-438b-8253-2822133cc616",
     "hasError": false,
     "id": "0c01aa7e-6645-4654-83e9-60c4a42bbac3",
     "outputs": [
      {
       "data": {
        "text/plain": "2.0"
       },
       "execution_count": 28,
       "metadata": {},
       "output_type": "execute_result"
      }
     ],
     "persistentId": "fb0fa1f1-51d4-48b0-8656-a2372ac6bba8",
     "text": "silly_function(-2,)"
    },
    "executionTime": "2019-09-06T18:49:06.384Z"
   },
   {
    "cell": {
     "executionCount": 29,
     "executionEventId": "6b4b07ac-6204-4fd3-8b26-00fc972af0f3",
     "hasError": false,
     "id": "e3303386-1edd-4833-a506-9a170af7347a",
     "outputs": [
      {
       "data": {
        "text/plain": "\u001b[0;31mSignature:\u001b[0m \u001b[0msilly_function\u001b[0m\u001b[0;34m(\u001b[0m\u001b[0mxval\u001b[0m\u001b[0;34m)\u001b[0m\u001b[0;34m\u001b[0m\u001b[0;34m\u001b[0m\u001b[0m\n\u001b[0;31mDocstring:\u001b[0m Takes a value and returns the value.\n\u001b[0;31mFile:\u001b[0m      ~/github/jupyter-tips-and-tricks/notebooks/<ipython-input-27-81d11fb09452>\n\u001b[0;31mType:\u001b[0m      function\n"
       },
       "metadata": {},
       "output_type": "display_data"
      }
     ],
     "persistentId": "684f8136-a102-4fca-9a38-f2bd1d7f0659",
     "text": "silly_function?"
    },
    "executionTime": "2019-09-06T18:49:07.845Z"
   },
   {
    "cell": {
     "executionCount": 30,
     "executionEventId": "eaef8f62-737c-4c62-acd8-c53e517a9cec",
     "hasError": false,
     "id": "b643754d-da35-4f8e-81ff-76a2c815186b",
     "outputs": [
      {
       "data": {
        "text/plain": "\u001b[0;31mSignature:\u001b[0m \u001b[0msilly_function\u001b[0m\u001b[0;34m(\u001b[0m\u001b[0mxval\u001b[0m\u001b[0;34m)\u001b[0m\u001b[0;34m\u001b[0m\u001b[0;34m\u001b[0m\u001b[0m\n\u001b[0;31mSource:\u001b[0m   \n\u001b[0;32mdef\u001b[0m \u001b[0msilly_function\u001b[0m\u001b[0;34m(\u001b[0m\u001b[0mxval\u001b[0m\u001b[0;34m)\u001b[0m\u001b[0;34m:\u001b[0m\u001b[0;34m\u001b[0m\n\u001b[0;34m\u001b[0m    \u001b[0;34m\"\"\"Takes a value and returns the value.\"\"\"\u001b[0m\u001b[0;34m\u001b[0m\n\u001b[0;34m\u001b[0m    \u001b[0mxval_sq\u001b[0m \u001b[0;34m=\u001b[0m \u001b[0mxval\u001b[0m \u001b[0;34m**\u001b[0m \u001b[0;36m2.0\u001b[0m\u001b[0;34m\u001b[0m\n\u001b[0;34m\u001b[0m    \u001b[0;36m1\u001b[0m \u001b[0;34m+\u001b[0m \u001b[0;36m12\u001b[0m\u001b[0;34m\u001b[0m\n\u001b[0;34m\u001b[0m    \u001b[0mxval_abs\u001b[0m \u001b[0;34m=\u001b[0m \u001b[0mnp\u001b[0m\u001b[0;34m.\u001b[0m\u001b[0msqrt\u001b[0m\u001b[0;34m(\u001b[0m\u001b[0mxval_sq\u001b[0m\u001b[0;34m)\u001b[0m\u001b[0;34m\u001b[0m\n\u001b[0;34m\u001b[0m    \u001b[0;32mreturn\u001b[0m \u001b[0mxval_abs\u001b[0m\u001b[0;34m\u001b[0m\u001b[0;34m\u001b[0m\u001b[0m\n\u001b[0;31mFile:\u001b[0m      ~/github/jupyter-tips-and-tricks/notebooks/<ipython-input-27-81d11fb09452>\n\u001b[0;31mType:\u001b[0m      function\n"
       },
       "metadata": {},
       "output_type": "display_data"
      }
     ],
     "persistentId": "4671b66f-3676-475d-968c-07701c20c24e",
     "text": "silly_function??"
    },
    "executionTime": "2019-09-06T18:49:08.651Z"
   },
   {
    "cell": {
     "executionCount": 31,
     "executionEventId": "80f2fb19-e486-465a-a8f8-9bb5c9e5b53b",
     "hasError": false,
     "id": "21638813-50d1-4674-9553-a69c438dfb52",
     "outputs": [],
     "persistentId": "dc226ce8-66ec-4547-8399-86df1ee7474d",
     "text": "example = {}\n\n# Indent/dedent/comment\nfor index in range(5):\n    example[\"float_one\"] = 1.0\n    example[\"float_two\"] = 2.0\n    example[\"float_three\"] = 3.0\n    example[\"float_four\"] = 4.0"
    },
    "executionTime": "2019-09-06T18:50:29.157Z"
   },
   {
    "cell": {
     "executionCount": 32,
     "executionEventId": "2a8b1c94-a5e4-4fb4-acc0-3de37ca00a2c",
     "hasError": false,
     "id": "23c61fdd-9589-42d9-a3e1-ea0ab416d1db",
     "outputs": [
      {
       "data": {
        "text/latex": "\nIf you want to get crazier$\\ldots$\n\n\\begin{equation}\n\\oint_S {E_n dA = \\frac{1}{{\\varepsilon _0 }}} Q_\\textrm{inside}\n\\end{equation}\n",
        "text/plain": "<IPython.core.display.Latex object>"
       },
       "metadata": {},
       "output_type": "display_data"
      }
     ],
     "persistentId": "3b77d101-a596-423c-a7b6-e050ffbbbc2a",
     "text": "%%latex\n\nIf you want to get crazier$\\ldots$\n\n\\begin{equation}\n\\oint_S {E_n dA = \\frac{1}{{\\varepsilon _0 }}} Q_\\textrm{inside}\n\\end{equation}"
    },
    "executionTime": "2019-09-06T18:50:44.193Z"
   },
   {
    "cell": {
     "executionCount": 33,
     "executionEventId": "1eca0c55-334b-40c7-a61d-9a5e6e097e51",
     "hasError": false,
     "id": "4377ba39-a352-4a5a-a7fa-65fdaedf63bc",
     "outputs": [
      {
       "name": "stdout",
       "output_type": "stream",
       "text": "hi\n"
      }
     ],
     "persistentId": "8ad64db0-b6c7-45e5-8fd4-4c7260d982c0",
     "text": "%%python2\nprint \"hi\""
    },
    "executionTime": "2019-09-06T18:50:47.133Z"
   },
   {
    "cell": {
     "executionCount": 34,
     "executionEventId": "a7e508aa-5895-41bd-ac50-2ba718a2e349",
     "hasError": false,
     "id": "4622c0a6-e0db-44a9-ae93-ff4a5948b994",
     "outputs": [
      {
       "name": "stdout",
       "output_type": "stream",
       "text": "00-Overview.ipynb                      Untitled2.ipynb\n01-Tips-and-tricks.ipynb               billy.ipynb\n02-NBExtensions.ipynb                  delete.ipynb\n03-Git-Integration.ipynb               ex1.png\n03-Interactive-Splines.ipynb           example.md\n04-Autoreload.ipynb                    history.ipynb\n05-SQL-Example.ipynb                   jupyterlab-example.md\n06-Advanced-Visualization.ipynb        new-name.ipynb\n07-Some_basics.ipynb                   pivottablejs.html\n08-More_basics.ipynb                   presidents.sqlite\n09-Extras.ipynb                        temp\n10-R-stuff.ipynb                       untitled.txt\n11-older-stuff.ipynb                   \u001b[34mvpfit10\u001b[m\u001b[m\n12-old-pandas.ipynb                    vpfit10.2.tar.gz\n2019-06-02-jbw-test-formatter-01.ipynb vpfit10.2.tar.gz.1\n3d-example-plot.html                   vpfit10.2.tar.gz.2\nAdvanced-Notebook-Tricks.ipynb         vpfit10.2.tar.gz.3\nBasic-Plotting.ipynb                   \u001b[34mvpfit11\u001b[m\u001b[m\nData_Cleaning.ipynb                    vpfit11.1.tar.gz\nExample-pycat.ipynb                    vpfit11.1.tar.gz.1\nUntitled.ipynb                         vpfit11.1.tar.gz.2\nUntitled1.ipynb\n"
      }
     ],
     "persistentId": "f8d04f19-845d-44f3-9483-2b6e4bf60de4",
     "text": "!ls"
    },
    "executionTime": "2019-09-06T18:50:58.401Z"
   },
   {
    "cell": {
     "executionCount": 35,
     "executionEventId": "34f4c661-f246-49b6-b3b4-d55c89d00015",
     "hasError": false,
     "id": "b5c908e8-6ce3-4197-9371-3e2cad2d6044",
     "outputs": [
      {
       "name": "stdout",
       "output_type": "stream",
       "text": "00README                  rd_plcset.f               vp_f_sigscl.f\nMMatomdat_atom_noiso.dat  rd_pmpset.f               vp_fgf13write.f\natom.dat                  rd_prhelp.dat             vp_flchderivs.f\natomtab.f                 rd_prhelp.f               vp_fnzbin.f\nautovpin.f                rd_qdatafiles.f           vp_getargs.f\nbintofits.f               rd_readlinwav.f           vp_getres.f\ncalcn.f                   rd_sclsig.f               vp_gglwcoeff.f\ncase.f                    rd_scrn.f                 vp_gsclfts.f\nchanwav.f                 rd_setintv.f              vp_gwatfits.f\ncheckb.f                  rd_sizes.f                vp_initval.f\nchisum26.f                rd_splvtick.f             vp_ionregcheck.f\ncmax1.f                   rd_stackz.f               vp_ksvnorm.f\ncms_src.f                 rd_start.dat              vp_lineid.f\ncom_cons.f                rd_stplot.f               vp_linlim.f\ndcholin.f                 rd_tgplots.f              vp_listfiles.f\ndexpf.f                   rd_tickvpfl.f             vp_lycont.f\ndlycabscft.f              rd_ulims.f                vp_lyconte.f\n\u001b[34mdocs\u001b[m\u001b[m/                     rd_ulimse.f               vp_minpol.f\ndotick.f                  rd_ulimx.f                vp_minquad.f\ndpoly.f                   rd_ulinfo.f               vp_nearlin.f\ndsepvar.f                 rd_wrfits.f               vp_newtfxl.f\neigen.f                   rd_wrwcfits.f             vp_pareorder.f\nerfcc.f                   rd_wvsc.f                 vp_parmcest.f\nexternals.f               rd_xcdc.f                 vp_pgbegin.f\nfl_gen.f                  rd_zcorr.f                vp_pgcurs.f\ngen_vpin.f                rd_ztabcf.f               vp_plcset.f\nginsert.f                 sepvar.f                  vp_poisson.f\ngu_tabsort.f              splot.f                   vp_presetsys.f\nhedit.f                   spvoigt.f                 vp_psfinterp.f\nlinfit.f                  svbksbd.f                 vp_rdbwvfts.f\nlm_udchole.f              svdajc.f                  vp_rdlines.f\nlyregset.f                svdcmpd.f                 vp_rdspecial.f\n\u001b[31mmakefile\u001b[m\u001b[m*                 svdfit.f                  vp_rdwaveval.f\nmedianv.f                 test.f                    vp_readfits.f\npda_che2d.f               tickpg.f                  vp_rfitsext.f\npda_dp1vlu.f              tiedb.f                   vp_runstst.f\npda_dpcoef.f              tikset.f                  vp_rwlims.f\npda_dpolft.f              tstfit3d.f                vp_scontf.f\npda_qsiad.f               udchole.f                 vp_setintv.f\npda_src.f                 varythis.f                vp_setoptn.f\npda_xermsg.f              voigt_king.f              vp_setup.dat\n\u001b[34mpgfiles\u001b[m\u001b[m/                  vp_abfind.f               vp_sizes.f\npldef.f                   vp_abundset.f             vp_smry.f\nplset.f                   vp_addline.f              vp_spdatin.f\npr_mdian1.f               vp_addxlink.f             vp_splot.dat\nprg_polyd.f               vp_archwav.f              vp_spread.f\nprobks.f                  vp_asciin.f               vp_spvoigte.f\nrd_ablin.f                vp_ationsep.f             vp_srcpath.f\nrd_adnois.f               vp_atomass.f              vp_startval.f\nrd_alias.f                vp_blfixf.f               vp_stration.f\nrd_comalias.f             vp_cfcopy.f               vp_stripcmt.f\nrd_compreset.f            vp_chanwav.f              vp_subchspread.f\nrd_cuchstr.f              vp_charlims.f             vp_sumlinclear.f\nrd_cufilnm.f              vp_chdisprof.f            vp_sysdel.f\nrd_cuplot.f               vp_checkn.f               vp_tdcolset.f\nrd_cuwvrest.f             vp_chipconv.f             vp_tieval.f\nrd_cydata.f               vp_chsation.f             vp_trimattab.f\nrd_daswap.f               vp_chspread.f             vp_tsetxref.f\nrd_dblid.f                vp_cmssrc.f               vp_ucheck.f\nrd_dmanip.f               vp_curse.f                vp_ucoptv.f\nrd_drebin.f               vp_cval.f                 vp_ucprinerr.f\nrd_dvcont.f               vp_dattim.f               vp_ucprinit.f\nrd_estcolb.f              vp_dattim_alt.f           vp_usdef.f\nrd_ewwav.f                vp_deriv.f                vp_vreset.f\nrd_extabs.f               vp_dlinin.f               vp_wrt25.f\nrd_fluxbb.f               vp_dlset.f                vp_wval.f\nrd_gen.f                  vp_dotick.f               vp_wvalch.f\nrd_gprof.f                vp_emlsmry.f              vp_wvalsubch.f\nrd_gprofe.f               vp_empval.f               vp_wverass.f\nrd_gpsim.f                vp_emscchk.f              vpf_bvalsp.f\nrd_hdust.f                vp_emtset.f               vpf_dvresn.f\nrd_intvtab.f              vp_endorder.f             vpfit.f\nrd_markreg.f              vp_endrej.f               vpgti.f\nrd_mattrd.f               vp_errej.f                vppreset.com\nrd_meantau.f              vp_ewred.f                vpreset.awk\nrd_moderrs.f              vp_f13fin.f               wcor.f\nrd_multiset.f             vp_f13finx.f              wval.f\nrd_pgannot.f              vp_f13read.f\n"
      }
     ],
     "persistentId": "a1f8182b-eb18-41c9-9b5d-e0306b32469a",
     "text": "ls vpfit10/"
    },
    "executionTime": "2019-09-06T18:51:00.635Z"
   },
   {
    "cell": {
     "executionCount": 36,
     "executionEventId": "230a3965-f0dd-4c49-8205-d744c9b5989a",
     "hasError": false,
     "id": "dab2a0de-151d-4883-8305-028b9b2acbb9",
     "outputs": [],
     "persistentId": "ed780724-eef3-4683-ba48-a3068ddf85d3",
     "text": "tailthing = \"*.ipynb\""
    },
    "executionTime": "2019-09-06T18:51:02.448Z"
   },
   {
    "cell": {
     "executionCount": 37,
     "executionEventId": "709be233-0f06-45ed-9583-3fe66f156425",
     "hasError": false,
     "id": "6826894b-e7bd-4aab-89e7-ec89abad1512",
     "outputs": [
      {
       "data": {
        "text/plain": "'*.ipynb'"
       },
       "execution_count": 37,
       "metadata": {},
       "output_type": "execute_result"
      }
     ],
     "persistentId": "a318319c-2661-4e23-b20e-974d5fe9c358",
     "text": "tailthing"
    },
    "executionTime": "2019-09-06T18:51:03.189Z"
   },
   {
    "cell": {
     "executionCount": 38,
     "executionEventId": "dbce3271-0906-49e2-a2cd-ce2c29c6f5f2",
     "hasError": false,
     "id": "1fe1c8ab-e81a-468e-81cb-d84acc240317",
     "outputs": [
      {
       "name": "stdout",
       "output_type": "stream",
       "text": "00-Overview.ipynb                      12-old-pandas.ipynb\n01-Tips-and-tricks.ipynb               2019-06-02-jbw-test-formatter-01.ipynb\n02-NBExtensions.ipynb                  Advanced-Notebook-Tricks.ipynb\n03-Git-Integration.ipynb               Basic-Plotting.ipynb\n03-Interactive-Splines.ipynb           Data_Cleaning.ipynb\n04-Autoreload.ipynb                    Example-pycat.ipynb\n05-SQL-Example.ipynb                   Untitled.ipynb\n06-Advanced-Visualization.ipynb        Untitled1.ipynb\n07-Some_basics.ipynb                   Untitled2.ipynb\n08-More_basics.ipynb                   billy.ipynb\n09-Extras.ipynb                        delete.ipynb\n10-R-stuff.ipynb                       history.ipynb\n11-older-stuff.ipynb                   new-name.ipynb\n"
      }
     ],
     "persistentId": "c46006f1-07db-44c2-b976-d8fcd72b7c35",
     "text": "!ls {tailthing}"
    },
    "executionTime": "2019-09-06T18:51:03.799Z"
   },
   {
    "cell": {
     "executionCount": 39,
     "executionEventId": "9292f2db-123a-490b-86b9-a29b6da5f135",
     "hasError": false,
     "id": "f1d963c5-6fd2-4baa-9433-b0a88098a3f5",
     "outputs": [],
     "persistentId": "0849e6f9-a7e6-43bc-a4e0-0cb274ac62ff",
     "text": "output = !ls "
    },
    "executionTime": "2019-09-06T18:51:04.951Z"
   },
   {
    "cell": {
     "executionCount": 40,
     "executionEventId": "549481e7-769a-4370-9e67-cb0c80133f1c",
     "hasError": false,
     "id": "f91cddc2-a052-429d-82fc-8795b9a8ed9b",
     "outputs": [
      {
       "data": {
        "text/plain": "['00-Overview.ipynb',\n '01-Tips-and-tricks.ipynb',\n '02-NBExtensions.ipynb',\n '03-Git-Integration.ipynb',\n '03-Interactive-Splines.ipynb',\n '04-Autoreload.ipynb',\n '05-SQL-Example.ipynb',\n '06-Advanced-Visualization.ipynb',\n '07-Some_basics.ipynb',\n '08-More_basics.ipynb',\n '09-Extras.ipynb',\n '10-R-stuff.ipynb',\n '11-older-stuff.ipynb',\n '12-old-pandas.ipynb',\n '2019-06-02-jbw-test-formatter-01.ipynb',\n '3d-example-plot.html',\n 'Advanced-Notebook-Tricks.ipynb',\n 'Basic-Plotting.ipynb',\n 'Data_Cleaning.ipynb',\n 'Example-pycat.ipynb',\n 'Untitled.ipynb',\n 'Untitled1.ipynb',\n 'Untitled2.ipynb',\n 'billy.ipynb',\n 'delete.ipynb',\n 'ex1.png',\n 'example.md',\n 'history.ipynb',\n 'jupyterlab-example.md',\n 'new-name.ipynb',\n 'pivottablejs.html',\n 'presidents.sqlite',\n 'temp',\n 'untitled.txt',\n 'vpfit10',\n 'vpfit10.2.tar.gz',\n 'vpfit10.2.tar.gz.1',\n 'vpfit10.2.tar.gz.2',\n 'vpfit10.2.tar.gz.3',\n 'vpfit11',\n 'vpfit11.1.tar.gz',\n 'vpfit11.1.tar.gz.1',\n 'vpfit11.1.tar.gz.2']"
       },
       "execution_count": 40,
       "metadata": {},
       "output_type": "execute_result"
      }
     ],
     "persistentId": "1ca59cd1-62bc-4390-9670-23c16d41505c",
     "text": "output"
    },
    "executionTime": "2019-09-06T18:51:05.448Z"
   },
   {
    "cell": {
     "executionCount": 41,
     "executionEventId": "9741f747-d417-4e2a-b487-a33e204445c7",
     "hasError": false,
     "id": "36a072b1-71df-4283-9aee-f99a49c1a422",
     "outputs": [
      {
       "data": {
        "text/plain": "{'SSH_AGENT_PID': '458',\n 'TERM_PROGRAM': 'iTerm.app',\n 'TERM': 'xterm-color',\n 'SHELL': '/bin/bash',\n 'initials': 'jbw',\n 'CLICOLOR': '1',\n 'TMPDIR': '/var/folders/yk/2rgr0zrj0614jntythcnlyvw0000gn/T/',\n 'CONDA_SHLVL': '2',\n 'Apple_PubSub_Socket_Render': '/private/tmp/com.apple.launchd.BdhlOB1rQM/Render',\n 'CONDA_PROMPT_MODIFIER': '(dspy3) ',\n 'BASH': '/Users/jonathan/.dotfiles',\n 'TERM_PROGRAM_VERSION': '3.2.9',\n 'OLDPWD': '/Users/jonathan/github/learning/anki-coding-challenges',\n 'TERM_SESSION_ID': 'w0t3p0:39B8CDA1-6B21-4E76-8FB9-175F3056427B',\n 'USER': 'jonathan',\n 'CONDA_EXE': '/Users/jonathan/miniconda3/bin/conda',\n 'SSH_AUTH_SOCK': '/var/folders/yk/2rgr0zrj0614jntythcnlyvw0000gn/T//ssh-rRX7E7gV49As/agent.456',\n '__CF_USER_TEXT_ENCODING': '0x0:0:0',\n '_CE_CONDA': '',\n 'CONDA_PREFIX_1': '/Users/jonathan/miniconda3',\n 'PATH': '/Users/jonathan/miniconda3/envs/dspy3/bin:/Users/jonathan/miniconda3/envs/dspy3/bin:/Users/jonathan/miniconda3/condabin:/Users/jonathan/miniconda3/bin:/usr/local/bin:/usr/bin:/bin:/usr/sbin:/sbin:/Library/TeX/texbin:/opt/X11/bin:/usr/local/opt/fzf/bin',\n 'CONDA_PREFIX': '/Users/jonathan/miniconda3/envs/dspy3',\n 'PWD': '/Users/jonathan/github/jupyter-tips-and-tricks',\n 'EDITOR': 'vim',\n 'LANG': 'en_US.UTF-8',\n 'ITERM_PROFILE': 'Default',\n 'XPC_FLAGS': '0x0',\n 'ITERM_ORIG_PS1': '(dspy3) \\\\n# \\\\w\\\\n# \\\\[\\\\e[0;32m\\\\]\\\\h \\\\[\\\\e[0m\\\\]\\\\[\\\\e[0;36m\\\\]${git_branch}\\\\[\\\\e[0;31m\\\\]$git_dirty\\\\[\\\\e[0m\\\\]$ ',\n 'PS1': '(dspy3) \\\\n# \\\\w\\\\n# \\\\[\\\\e[0;32m\\\\]\\\\h \\\\[\\\\e[0m\\\\]\\\\[\\\\e[0;36m\\\\]${git_branch}\\\\[\\\\e[0;31m\\\\]$git_dirty\\\\[\\\\e[0m\\\\]$ ',\n 'PS3': '#? ',\n '_CE_M': '',\n 'HISTCONTROL': 'ignoreboth',\n 'PS2': '> ',\n 'XPC_SERVICE_NAME': '0',\n 'GITAWAREPROMPT': '/Users/jonathan/.bash/git-aware-prompt',\n 'SHLVL': '1',\n 'PS4': '+',\n 'HOME': '/Users/jonathan',\n 'COLORFGBG': '15;0',\n 'ITERM_PREV_PS1': '\\\\[\\x1b]133;D;$?\\x07\\x1b]133;A\\x07\\\\](dspy3) \\\\n# \\\\w\\\\n# \\\\[\\\\e[0;32m\\\\]\\\\h \\\\[\\\\e[0m\\\\]\\\\[\\\\e[0;36m\\\\]${git_branch}\\\\[\\\\e[0;31m\\\\]$git_dirty\\\\[\\\\e[0m\\\\]$ \\\\[\\x1b]133;B\\x07\\\\]',\n 'ITERM_SESSION_ID': 'w0t3p0:39B8CDA1-6B21-4E76-8FB9-175F3056427B',\n 'CONDA_PYTHON_EXE': '/Users/jonathan/miniconda3/bin/python',\n 'LOGNAME': 'jonathan',\n 'CONDA_DEFAULT_ENV': 'dspy3',\n 'PROMPT_COMMAND': '__bp_precmd_invoke_cmd; echo -ne \"\\\\033]0;${USER}@${HOSTNAME%%.*} ${PWD}\"; echo -ne \"\\\\007\"; __bp_interactive_mode',\n 'DISPLAY': '/private/tmp/com.apple.launchd.jIwOWP8DYq/org.macosforge.xquartz:0',\n '_fzf_orig_completion_git': 'complete -o bashdefault -o default -o nospace -F %s git #__git_wrap__git_main',\n 'COLORTERM': 'truecolor',\n '_': '/Users/jonathan/miniconda3/envs/dspy3/bin/jupyter',\n 'GIT_PYTHON_REFRESH': 'quiet',\n 'JPY_PARENT_PID': '48853',\n 'PAGER': 'cat',\n 'GIT_PAGER': 'cat',\n 'MPLBACKEND': 'module://ipykernel.pylab.backend_inline'}"
       },
       "execution_count": 41,
       "metadata": {},
       "output_type": "execute_result"
      }
     ],
     "persistentId": "41ff6d18-9413-4d7c-ae9d-f7b958ef9223",
     "text": "%env  "
    },
    "executionTime": "2019-09-06T18:51:08.362Z"
   },
   {
    "cell": {
     "executionCount": 42,
     "executionEventId": "e8b3c0cd-e37d-4845-ad10-73f9f117e77e",
     "hasError": false,
     "id": "ce682d99-0874-4a2c-a609-5e5ea3269c16",
     "outputs": [
      {
       "data": {
        "text/plain": "3"
       },
       "execution_count": 42,
       "metadata": {},
       "output_type": "execute_result"
      }
     ],
     "persistentId": "4e1f0cfd-d1ef-46cc-bbd4-abcf0a207997",
     "text": "a = 3\na"
    },
    "executionTime": "2019-09-06T18:51:13.992Z"
   },
   {
    "cell": {
     "executionCount": 43,
     "executionEventId": "4d1e82a5-3d6a-4796-86b1-3a1b64185e23",
     "hasError": false,
     "id": "aea08d50-9fb3-47b1-bc34-64186995609b",
     "outputs": [
      {
       "data": {
        "text/plain": "3"
       },
       "execution_count": 43,
       "metadata": {},
       "output_type": "execute_result"
      }
     ],
     "persistentId": "0f940ea9-c565-4b3e-af33-c28d266f731d",
     "text": "_42"
    },
    "executionTime": "2019-09-06T18:51:19.296Z"
   },
   {
    "cell": {
     "executionCount": 44,
     "executionEventId": "1fe8007d-6526-4a5f-b791-30fe8dccb8ab",
     "hasError": false,
     "id": "64fd4b01-cca1-4a7d-a38a-f3af4ed60a51",
     "outputs": [
      {
       "data": {
        "text/plain": "'a = 3\\na'"
       },
       "execution_count": 44,
       "metadata": {},
       "output_type": "execute_result"
      }
     ],
     "persistentId": "0bf93d59-ce34-4566-866e-4aeae93bd1f2",
     "text": "_i42"
    },
    "executionTime": "2019-09-06T18:51:25.127Z"
   },
   {
    "cell": {
     "executionCount": 45,
     "executionEventId": "3c8b5525-f977-421e-9136-5e669ffa5178",
     "hasError": false,
     "id": "377bc85c-ee47-4dbf-bbda-330eab50825f",
     "outputs": [
      {
       "name": "stdout",
       "output_type": "stream",
       "text": "03-Git-Integration.ipynb:    \"import qgrid\\n\",\n03-Git-Integration.ipynb:    \"Interactive pandas dataframes: https://github.com/quantopian/qgrid\"\n03-Git-Integration.ipynb:    \"qgrid_widget = qgrid.show_grid(\\n\",\n03-Git-Integration.ipynb:    \"qgrid_widget\"\n03-Git-Integration.ipynb:    \"# make a change via qgrid\\n\",\n03-Git-Integration.ipynb:    \"df3 = qgrid_widget.get_changed_df()\"\n03-Git-Integration.ipynb:    \"qgrid_widget = qgrid.show_grid(\\n\",\n03-Git-Integration.ipynb:    \"qgrid_widget\"\n11-older-stuff.ipynb:    \"# import qgrid # Put imports at the top\\n\",\n11-older-stuff.ipynb:    \"# qgrid.nbinstall(overwrite=True)\\n\",\n11-older-stuff.ipynb:    \"# qgrid.show_grid(df[['MSHA_ID',\\n\",\n11-older-stuff.ipynb:    \"# Check out http://nbviewer.ipython.org/github/quantopian/qgrid/blob/master/qgrid_demo.ipynb for more (including demo)\"\nhistory.ipynb:    \"import qgrid\\n\",\nhistory.ipynb:    \"qgrid_widget = qgrid.show_grid(df[['CRIM',\\n\",\nhistory.ipynb:    \"qgrid_widget\"\nhistory.ipynb:    \"df2 = qgrid_widget.get_changed_df()\"\nnew-name.ipynb:    \"import qgrid\\n\",\nnew-name.ipynb:    \"qgrid_widget = qgrid.show_grid(df[['CRIM',\\n\",\nnew-name.ipynb:    \"qgrid_widget\"\nnew-name.ipynb:    \"df2 = qgrid_widget.get_changed_df()\"\n"
      }
     ],
     "persistentId": "418b062f-6022-4f33-93fa-9207ed87374a",
     "text": "!grep qgrid *.ipynb"
    },
    "executionTime": "2019-09-09T22:00:28.656Z"
   },
   {
    "cell": {
     "executionCount": 1,
     "executionEventId": "0d8206d0-b521-448f-8b17-233a091a2845",
     "hasError": false,
     "id": "ed89ea1a-bbad-4e49-b9df-c66428af55f1",
     "outputs": [],
     "persistentId": "5e98591e-08d0-4812-ba61-d0ecc428c08d",
     "text": "# code cell\nname = \"Jonathan\""
    },
    "executionTime": "2019-09-12T03:03:59.077Z"
   },
   {
    "cell": {
     "executionCount": 2,
     "executionEventId": "6ac733a7-3e30-40a4-8183-f3f7182c4fe3",
     "hasError": false,
     "id": "2c6fdf47-ba81-41cb-b0ee-1db3cd77e90b",
     "outputs": [],
     "persistentId": "8fa080b3-f270-4d06-9fdc-ddd37ad35295",
     "text": "# Add this to python2 code to make life easier -- safe to use in python3 as well.\nfrom __future__ import absolute_import, division, print_function"
    },
    "executionTime": "2019-09-12T03:04:01.784Z"
   },
   {
    "cell": {
     "executionCount": 3,
     "executionEventId": "6c191df3-46ce-4103-be1e-3b7ad4a69283",
     "hasError": false,
     "id": "192fcd3d-6748-47f6-9bb1-765ddae5dcb0",
     "outputs": [],
     "persistentId": "d595746b-e2e3-4f7c-baa3-417fb0512be5",
     "text": "import pandas as pd\nimport matplotlib.pyplot as plt\nimport seaborn as sns\nimport os\nfrom pivottablejs import pivot_ui\nimport sys\nimport warnings\n\nwarnings.filterwarnings(\"ignore\")"
    },
    "executionTime": "2019-09-12T03:04:16.687Z"
   },
   {
    "cell": {
     "executionCount": 4,
     "executionEventId": "744986dd-4f4e-4d76-9b84-6b5304d5ba20",
     "hasError": false,
     "id": "bab208ac-d686-4606-806e-5545222b2fca",
     "outputs": [],
     "persistentId": "ea0e37d6-44e2-411f-9da8-5b9c4dba6afe",
     "text": "first = 1"
    },
    "executionTime": "2019-09-12T03:04:17.738Z"
   },
   {
    "cell": {
     "executionCount": 5,
     "executionEventId": "a8c5189d-e8bc-4a4a-93db-c6727d6763bf",
     "hasError": false,
     "id": "4fa83b58-3232-421e-978a-c301368fe61d",
     "outputs": [],
     "persistentId": "ea0e37d6-44e2-411f-9da8-5b9c4dba6afe",
     "text": "second = 2"
    },
    "executionTime": "2019-09-12T03:04:18.096Z"
   },
   {
    "cell": {
     "executionCount": 6,
     "executionEventId": "b3e63adb-cb70-46ea-a7e0-f6fbf8e0e974",
     "hasError": false,
     "id": "caeab22e-eec0-4e14-92bb-719687570fc1",
     "outputs": [],
     "persistentId": "ea0e37d6-44e2-411f-9da8-5b9c4dba6afe",
     "text": "third = 3"
    },
    "executionTime": "2019-09-12T03:04:18.452Z"
   },
   {
    "cell": {
     "executionCount": 7,
     "executionEventId": "279f925d-c6a9-439d-b7a6-3bf072d1c6d9",
     "hasError": false,
     "id": "ccab43a3-92d3-4026-b16f-8223aacfc60e",
     "outputs": [],
     "persistentId": "646cd755-8c22-4efe-9f37-4629e03fc41d",
     "text": "# df = pd.read_csv(\"../data/mps.csv\", encoding=\"ISO-8859-1\")\n# canadian_politics = pd.read_csv(\"../data/montreal_2014.csv\",)\ncanadian_politics = pd.read_csv(\"../data/mps2.csv\")"
    },
    "executionTime": "2019-09-12T03:04:22.210Z"
   },
   {
    "cell": {
     "executionCount": 8,
     "executionEventId": "da6126d7-9adf-45f5-acf3-5f9182c383b3",
     "hasError": false,
     "id": "e94c4cec-724f-4189-8d55-5ee757610ddf",
     "outputs": [
      {
       "data": {
        "text/html": "<div>\n<style scoped>\n    .dataframe tbody tr th:only-of-type {\n        vertical-align: middle;\n    }\n\n    .dataframe tbody tr th {\n        vertical-align: top;\n    }\n\n    .dataframe thead th {\n        text-align: right;\n    }\n</style>\n<table border=\"1\" class=\"dataframe\">\n  <thead>\n    <tr style=\"text-align: right;\">\n      <th></th>\n      <th>Name</th>\n      <th>Party</th>\n      <th>Province</th>\n      <th>Age</th>\n      <th>Gender</th>\n    </tr>\n  </thead>\n  <tbody>\n    <tr>\n      <td>0</td>\n      <td>Liu, Laurin</td>\n      <td>NDP</td>\n      <td>Quebec</td>\n      <td>22.0</td>\n      <td>Female</td>\n    </tr>\n    <tr>\n      <td>1</td>\n      <td>Mourani, Maria</td>\n      <td>Bloc Quebecois</td>\n      <td>Quebec</td>\n      <td>43.0</td>\n      <td>Female</td>\n    </tr>\n    <tr>\n      <td>2</td>\n      <td>Sellah, Djaouida</td>\n      <td>NDP</td>\n      <td>Quebec</td>\n      <td>NaN</td>\n      <td>Female</td>\n    </tr>\n    <tr>\n      <td>3</td>\n      <td>St-Denis, Lise</td>\n      <td>NDP</td>\n      <td>Quebec</td>\n      <td>72.0</td>\n      <td>Female</td>\n    </tr>\n    <tr>\n      <td>4</td>\n      <td>Fry, Hedy</td>\n      <td>Liberal</td>\n      <td>British Columbia</td>\n      <td>71.0</td>\n      <td>Female</td>\n    </tr>\n    <tr>\n      <td>5</td>\n      <td>Turmel, Nycole</td>\n      <td>NDP</td>\n      <td>Quebec</td>\n      <td>70.0</td>\n      <td>Female</td>\n    </tr>\n    <tr>\n      <td>6</td>\n      <td>Sgro, Judy</td>\n      <td>Liberal</td>\n      <td>Ontario</td>\n      <td>68.0</td>\n      <td>Female</td>\n    </tr>\n    <tr>\n      <td>7</td>\n      <td>Raynault, Francine</td>\n      <td>NDP</td>\n      <td>Quebec</td>\n      <td>67.0</td>\n      <td>Female</td>\n    </tr>\n    <tr>\n      <td>8</td>\n      <td>Davidson, Patricia</td>\n      <td>Conservative</td>\n      <td>Ontario</td>\n      <td>66.0</td>\n      <td>Female</td>\n    </tr>\n    <tr>\n      <td>9</td>\n      <td>Smith, Joy</td>\n      <td>Conservative</td>\n      <td>Manitoba</td>\n      <td>65.0</td>\n      <td>Female</td>\n    </tr>\n  </tbody>\n</table>\n</div>",
        "text/plain": "                 Name           Party          Province   Age  Gender\n0         Liu, Laurin             NDP            Quebec  22.0  Female\n1      Mourani, Maria  Bloc Quebecois            Quebec  43.0  Female\n2    Sellah, Djaouida             NDP            Quebec   NaN  Female\n3      St-Denis, Lise             NDP            Quebec  72.0  Female\n4           Fry, Hedy         Liberal  British Columbia  71.0  Female\n5      Turmel, Nycole             NDP            Quebec  70.0  Female\n6          Sgro, Judy         Liberal           Ontario  68.0  Female\n7  Raynault, Francine             NDP            Quebec  67.0  Female\n8  Davidson, Patricia    Conservative           Ontario  66.0  Female\n9          Smith, Joy    Conservative          Manitoba  65.0  Female"
       },
       "execution_count": 8,
       "metadata": {},
       "output_type": "execute_result"
      }
     ],
     "persistentId": "eb2f750c-1142-4f82-bb4a-b24e13bf5652",
     "text": "# recommend using .head()\ncanadian_politics.head(10)"
    },
    "executionTime": "2019-09-12T03:04:23.107Z"
   },
   {
    "cell": {
     "executionCount": 9,
     "executionEventId": "441c25dd-7044-43a1-b388-1e2bc8672dc4",
     "hasError": false,
     "id": "a90e632c-3d23-4e1c-8176-3dcb36d6d9d2",
     "outputs": [
      {
       "data": {
        "image/png": "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\n",
        "text/plain": "<Figure size 432x288 with 1 Axes>"
       },
       "metadata": {
        "needs_background": "light"
       },
       "output_type": "display_data"
      }
     ],
     "persistentId": "e69366c4-06ab-480c-9517-27a92536a7f3",
     "text": "sns.distplot(canadian_politics[\"Age\"].dropna());"
    },
    "executionTime": "2019-09-12T03:04:28.470Z"
   },
   {
    "cell": {
     "executionCount": 10,
     "executionEventId": "1d30b86b-ad9e-4095-9af0-65e2914f46a9",
     "hasError": false,
     "id": "f95f02e7-68ea-4cf7-948e-d376db2c7752",
     "outputs": [],
     "persistentId": "07d985ae-a47f-4486-8877-71e9529824de",
     "text": "sns.set_context(\"poster\", font_scale=1.3)"
    },
    "executionTime": "2019-09-12T03:04:30.422Z"
   },
   {
    "cell": {
     "executionCount": 11,
     "executionEventId": "0ac3b2da-1dbe-475c-9678-43c564b8b5c6",
     "hasError": false,
     "id": "8e6f5dbc-dd77-4cb0-8180-c325ef16b8dc",
     "outputs": [
      {
       "data": {
        "image/png": "iVBORw0KGgoAAAANSUhEUgAAAysAAAILCAYAAADojAPeAAAABHNCSVQICAgIfAhkiAAAAAlwSFlzAAALEgAACxIB0t1+/AAAADh0RVh0U29mdHdhcmUAbWF0cGxvdGxpYiB2ZXJzaW9uMy4xLjEsIGh0dHA6Ly9tYXRwbG90bGliLm9yZy8QZhcZAAAgAElEQVR4nOzdd3hc5Z3+//ujXi3ZluUi994tA6YaMJjQQgskkEBYCOwmS0KyKfsN2c1mUzZ9yZJfkk2y2ZDABkxJaAnBQCg2HWNs496LZFluklWsLs3z+2NGo7GtMqN2zkjv13XNpfNIz5nz8ZUg6dbTzDknAAAAAPCbBK8LAAAAAID2EFYAAAAA+BJhBQAAAIAvEVYAAAAA+BJhBQAAAIAvJXldwEBlZmslTZJ0XNJOj8sBAAAA/GiqpCxJe5xzC0/+orF1cd8wswpJOV7XAQAAAMSBSudc7smfZGSl7xyXlJOTk6PCwkKvawEAAAB8Z926daqsrJSCvzufgrDSd3ZKKigsLNSKFSu8rgUAAADwnSVLlmjlypVSB8smWGAPAAAAwJcIKwAAAAB8ibACAAAAwJcIKwAAAAB8ibACAAAAwJcIKwAAAAB8ibACAAAAwJcIKwAAAAB8ibACAAAAwJcIKwAAAAB8ibACAAAAwJcIKwAAAAB8ibACAAAAwJcIKwAAAAB8ibACAAAAwJcIKwAAAAB8ibACAAAAwJcIKwAAAAB8KcnrAgAAgD8te7fI6xI6dPNZ470uAUA/YGQFAAAAgC8RVgAAAAD4EmEFAAAAgC8RVgAAAAD4EmEFAAAAgC8RVgAAAAD4EmEFAAAAgC8RVgAAAAD4EmEFAAAAgC8RVgAAAAD4EmEFAAAAgC91K6yY2Qgz+7aZrTOzCjOrNrPNZnavmU3sreIs6GYze97MDphZvZkVm9kTZnZlD9/7p2bmIl5LeqlsAAAAAL0gKdYbzOwCSX+UlH/Sl2aFXp82s085557oSWFmliXpKUmXnPSlsaHX9Wb2B0l3OOeaY3zvcyR9vif1AQAAAOhbMY2smNkMSc8oGFRaJN0naYmkxZK+KalOUrakZWa2uLtFmZlJelxtQeUNSTdIWiTpVkkbQp+/VdLPYnzvVEm/U/Dffqi7NQIAAADoW7FOA/uppNzQ9W3OuS8751Y65950zn1H0hUKhpgUSb80s+6uibkx9F6StFzSRc65J51zq51zD0k6V9IHoa/fZWZnxvDe35Y0U8HAc3836wMAAADQx6IOE2Y2X9LloebLzrmHT+7jnFsp6cFQc56kD3ezrntCH1sk3XXyNC/n3HGdOI3rHkXBzE6T9BVJAUl/L6mpm/UBAAAA6GOxjHzcEHHd2YjE7zq4JypmNknSwlDzZefcvvb6Oedel7Qj1LzczDK6eN9kSb9XcJ3Oz51zq2KtDQAAAED/iSWsXBhxvbKTfqsk1bZzT28/R5JWhD5mKLiepTP/Kmm+pCJJ/9aNugAAAAD0o1jCyuzQx0rn3IGOOjnnmiTtCjUndDXi0clzJGlzF323RlzP6qiTmc1VMKxI0j+GppEBAAAA8LGowkpoB60Roeb+KG4pbr1VwW2GYzEu4rqrZxVHXI9vr4OZJSo4NS1F0iPOueUx1gMAAADAA9Ges5IdcR3NqERkn+wOe/X8WdE85ysKThErl/RPMdZyAjO7XdLtUXYv7MmzAAAAgMEu2rCSHnHdGEX/hg7u7e1ndfocM5uu4FbFkvRl59yRGGs52UR1bx0OAAAAgBhFG1bqIq5Touif2sG9vf2sDp8TOljyfklpkl5yzj2onturrhf9tyqUlNMLzwQAAAAGpWjDSnXEdVYU/SP7VHfYq+fP6uw5d0tarGCI+UyMNbTLOfeApAei6WtmK8QoDAAAANBtUYUV51yDmR1RcJF9NAvmWxfJO0W3ID9S5KL5sZJWR/Gck++T2rYnXinpzA5OuZ8bcX2xmY0KXb/inDscTbEAAAAA+ka0IytScBvhCyXlmNmYjrYvDh2+OCXU3Oecq22vXxfPaTVb0tOd9J3ZwX1S2xSxy0Ovrnwj4voiSYQVAAAAwEOxnLPyWsR1Z9ObFil4SOPJ9/T2cyRpSehjnTofgQEAAAAQZ2IJK09EXN/ZSb87OrgnKs653ZLWhZpLzWxCe/3MbLGkaaHm8865mpPeJ9c5Z5291LZTmCRdFPG1FbHWDQAAAKB3RR1WnHMfSHox1FxqZjef3MfMLlDbOSSbJD3bTp8VZuZCryUdPO7HoY+Jkn5lZidMVzOzTEk/b6c/AAAAgAEilpEVSfqipKrQ9f+Z2U/M7AIzO9fM/l3ScgUDRpOkzznnAt2s61FJL4Sur5D0ipl9xMzOMLNbJL2ttkMXf+Oce6ebzwEAAADgU7EssJdzbouZXSvpcQV3Bvty6BWpRtIdzrlozyNp7znOzG6U9JSkiyWdH3qdbJmkz3X3OQAAAAD8K9aRFYXWc8yV9F1JGxQ836RG0lZJ90ma55x7vKeFOeeqJF0i6VZJf5N0SMET7Q8ouEPY1c65W5xzzT19FgAAAAD/iWlkpVXoDJJv6MTtfqO9d0kMfZ2kh0KvXuec+5akb/XFewMAAADomZhHVgAAAACgPxBWAAAAAPgSYQUAAACALxFWAAAAAPgSYQUAAACALxFWAAAAAPgSYQUAAACALxFWAAAAAPgSYQUAAACALxFWAAAAAPgSYQUAAACALxFWAAAAAPgSYQUAAACALxFWAAAAAPgSYQUAAACALxFWAAAAAPgSYQUAAACALxFWAAAAAPgSYQUAAACALxFWAAAAAPgSYQUAAACALxFWAAAAAPgSYQUAAACALxFWAAAAAPgSYQUAAACALxFWAAAAAPgSYQUAAACALxFWAAAAAPgSYQUAAACALyV5XQAAAP1l2btFXpfQrpvPGu91CQDgS4ysAAAAAPAlwgoAAAAAXyKsAAAAAPAlwgoAAAAAXyKsAAAAAPAlwgoAAAAAXyKsAAAAAPAlwgoAAAAAXyKsAAAAAPAlwgoAAAAAXyKsAAAAAPAlwgoAAAAAXyKsAAAAAPAlwgoAAAAAXyKsAAAAAPAlwgoAAAAAXyKsAAAAAPAlwgoAAAAAXyKsAAAAAPAlwgoAAAAAXyKsAAAAAPAlwgoAAAAAXyKsAAAAAPAlwgoAAAAAXyKsAAAAAPAlwgoAAAAAXyKsAAAAAPAlwgoAAAAAXyKsAAAAAPAlwgoAAAAAXyKsAAAAAPClJK8LAAAA/uScU2NzQMcbmlXb2KK05EQNzUhWUiJ/6wTQPwgrAABAVfVNWrW7XG/tKtP7Rcd0pKpeh6sb1BxwJ/QzSUPSkzU0I0XDM1NUMDRd8wtylJHKrxQAeh/fWQAAGIScc9p0oErPbSjVm7vKtGF/hU7KJe3fJ6myrkmVdU3aW1aj94uO6a8bSjV79BCdMXGopozIUoJZn9cPYHAgrAAAMIgcq2nU0+tK9Pjq/dpSWtVl/+REU2ZqkjJSElXb2KLK2iadnGlaAk4bSiq1oaRSuRnJWjRxmM6bkqeUJKaLAegZwgoAAAOcc05v7y7Tw+8U6W+bD6mxJXBKHzNp7pgcnTtluM6eMlxTR2Tp5S2HTwkczYGAKmubVF7TqMPVDfpgf4X2H6sLf72itkl/23xIa/Yd0w2njdXEvMw+//cBGLgIKwAADFCBgNOLmw/pVyt36YPiilO+npacoCvmjtZlc0bpnMnDlZORfMLX2xsZSUpI0PCsVA3PStW0kdk6b2qeSivrtHrfMa0rqlBdU4skqaymUf/7+m6dM2W4Lp09ilEWAN1CWAEAYIBpbA7omXUl+vXKXdp1pOaUry8Yl6ubzhinqxaM1pC05HbeITajc9J19fx0XTFnlNYUVWj5xlI1NAfkJL21q0xbD1brhtPGahKjLABiRFgBAGCAqG1s1qOrivXb13frQGX9CV9LSUzQR88Yq9vOmagZo7L75PlJiQk6c9IwzRiVrafW7tf2Q8clSeWhUZYr5o7S+dNG9MmzAQxMhBUAAOJcRW2jHnxrnx54a4+O1Tad8LWs1CTdcvZ43XneJOUPSeuXenLSk3XbORO1pqhCf91wQPVNwTUyyzceVGNzQBfPzJexYxiAKBBWAACIUwcr6/Xb13dr2aoi1Ta2nPC14ZkpumPxJH3y7AnKSe/5VK9YmZlOnzBUU/Oz9Nh7RdpbVitJennrYTU2B3T53FEEFgBdIqwAABBndh85rv9ZuVtPrt2vppYTNxIuyE3XZy6crBvPGKe05ESPKmyTk56s28+dpGWr9oWnhb2+86gaWwK6esEYzmQB0CnCCgAAcWL9/gr9euUuLd94UO6kw06mj8zSXUum6Kr5Y5Sc6K+dt1KSEvTJsybo0feKtTl0tsu7e8rV2BzQ9aeNVWICgQVA+wgrAAD4WFNLQMs3HtSDb+3V+/uOnfL10ycM1WeXTNFFM/KV4ONf+pMSE/SJM8friTX7tS60jfLa4golmOn60wqYEgagXYQVAAB86HB1vR55t1gPv7tPh6sbTvn6khkj9NklU7Vo4tC4+UU/McH00dPHKjnR9N7eYPB6v+iYRuem6dwpeR5XB8CPuhVWzGyEpLslXStpoqREScWSnpP0C+fc3t4ozoLffT8h6e8kzZc0TNIRSask3e+ce66L+6dIukTSGZIWSMqXlKfgv7tc0kZJf5H0oHOuqjdqBgCgu+qbWvTK1sN6am2JVmw7fMp6lKQE05XzRuszF07WnDE5HlXZMwlmuq6wQC0BpzVFwRGW5zaUatSQNE0ekeVxdQD8JuawYmYXSPqjgr/4R5oVen3azD7lnHuiJ4WZWZakpxQMG5HGhl7Xm9kfJN3hnGvu4G0+L+mfOvja6NDrQ5L+xcxuds6t6EnNAADEKuCcVu0p11Nr9+uv60tVVX/qj7QR2am65azxuvnM8f22/XBfMjNdW1igw9UN2n+sTgEnLVtVpLsvmqrcjBSvywPgIzGFFTObIekZSbmSWiT9LNRulrRU0tckZUtaZmZLnXNvdKeo0IjK42oLKm9Iuk9SkaSZkr4qaZ6kWyUdl/TZDt4qIGmdpLckfSCpVNJBSekKBp4bJV2tYGhZbmZnOOc2dadmAACi1dDcop2Hj2trabW2HqpWTUP7f3M7Y8JQ/d25E3X5nFFKSfLXovmeSk5M0C1nTdAvXt2pmoZm1Ta26KF39+kzF0zx3QYBALwT68jKTxUMKpJ0m3Pu4YivvWlmKyW9LClF0i/NrNA5F+hGXTdKuiJ0vVzSNRGjJ6vN7GkFA8wCSXeZ2QPOuVXtvM9XOxl1kYKh6qMKjhSlSfqWpI91o14AADrUHAjoQEW99pXVaNeR49p9pEbNAddu33HD0vWRhWP1kYUFmpSX2c+V9q+c9GTdcuZ4/faN3Qo46UBFvZ5aW6KPnT42btbhAOhbUYcVM5sv6fJQ8+WTgookyTm30swelHSHgiMfH1ZwTUis7gl9bJF018mBwzl33Mw+L+m1iP43tFNPZ0Gltc+fzGybpBmSlnSjVgAATtDQ1KKiY7Xae7RWe8tqtP9Y7SnrTyLlZaXo0jmjdP3CAp0+IX4WzPeGiXmZumr+GP35gwOSpHXFFSrITdd5U1lwDyC2kZXIMHB/J/1+p2BYab0nprBiZpMkLQw1X3bO7Wuvn3PudTPbIWmapMvNLMM5VxvLsyIcD32M/4nAAIB+V13fpH1lwWCyr6xWpZXBdRidGTUkTTNHZWvm6CH66mUzfL3tcF87a9IwHaio0+rQ1szPbzqoqflZGjkA1ucA6JlYwsqFEdcrO+m3SlKtpIyT7unt50jSCgXDSoakRVH0P4WZzZFUGGpujvV+AMDg4pxTeU2j9pbVaG9ZrfYerVFZTWOX9w3NSNbE4ZmaMDxT0/KzNDSzbSH5YA4qUnDB/TULxqi0sl4lFXVqCTg9uWa/PnPhFE64Bwa5WMLK7NDHSufcgY46OeeazGyXgtPAJnRjxGN2xHVX4WFrxPUsRRlWzCxbUoGk6yR9WcGtlyXpv6KsEQAwiNQ2Nmvn4ePacfi4dhyqbnfHrkgmaeSQNE3MywgHlJz05P4pNk4lJSbohtPH6r9f2akW51R8rE5v7SrTYqaDAYNaVGHFzFIljQg190dxS7GCYcUU3HVreww1jYu47upZxRHX4zvraGa/kPS5Dr7sJP2Hc+6xrssDAAwGZccb9MH+Sm07WKX9x+rU2ayuxATT2KHpmjg8UxOHZ2j8sEylpyR2cgfaM2pImpbMHKGXtxyWJP1t80HNGpWt4VmpHlcGwCvRjqxkR1wf77BX+32yO+zV82f15DmtXpP0BefcB111NLPbJd0e5fsWdt0FAOAntQ3NWl9SqXXFFSoq73hSQGpSQmjEJDhyUjA0ne12e8mF00doU0mVDlbVq6nF6cm1Jbpz8SSmgwGDVLRhJT3iuuuJuVJDB/f29rNiec73JP06dJ0pabqkTyi4RfKjZvZ559xLXbzHRHVvHQ4AwMf2ldXo9R1Hte1gtVrcqWMoJmns0HRNG5mtaflZGjs0Q4mDfJ1JX0lKSNANp43Vr1buVMBJe47W6L295Tpr0nCvSwPggWjDSl3EdTRHy0aO19Z12Kvnz4r6Oc65UgUPhWz1rqQ/mNmdkn4r6Xkz+5Rz7g+dvM1eRb+Iv1BSTpR9AQD9zDmnHYePa8W2I9pbVnPK1xNMmj4yW/PH5mp6fpYyUmM9mgzdVTA0XYunjtBrO45Ikp7feFAzRmZzuj0wCEX7nbc64joriv6Rfao77NXzZ/XkOZIk59z9Zna5pI9K+m8ze9Y5d6yDvg9IeiCa9zWzFWIUBgB8xzmnTQeqtHL7EZVUnPp3rnFD01U4fqjmFeQoi4DimaWz8rW5tEpHjzeooTmgp9eV6LZzJg6qM2gARBlWnHMNZnZEwUX2Y6O4pXWRvFN0C/IjRS6aHytpdRTPOfm+WD2lYFjJVvDgy0d68F4AAJ86VFWvZ9aVaG/ZietREkxaOG6ozp+Wp3zO9vCF5MQE3XBagX7z2m45SdsPHde2Q9WaOWqI16UB6Eex/Mlos4IjBTlmNqaj7YvNLFnSlFBzXzcOaozcrni2pKc76Tuzg/tidTTiemIP3gcA4EP1TS36xSs79asVu05Yk5KUYDpj4jBdMC2PKUY+NGF4phZNHKZVe8slScs3HtS0/GzWCwGDSCxbl7wWcd3Z9KZFCh7SePI9vf0cSVoS+linzkdgulIQcR3NbmcAgDjx+o4juuynr+kXr+4MB5UEkxZPzdP/u2yGrlkwhqDiY5fMHqnUpOCvK0eqG7R6X7nHFQHoT7GElSciru/spN8dHdwTFefcbknrQs2lZjahvX5mtljB0+sl6Xnn3KmrI6N3U8T1+h68DwDAJ+qbWvQvT27Qrfev0r6IaV/jh2Xo7oum6cp5o5WdxkGNfpeVmqQLp48It1/afEj1TS0eVgSgP0UdVkLnkLwYai41s5tP7mNmF6jtHJJNkp5tp88KM3Oh15IOHvfj0MdESb8ysxOmq5lZpqSft9M/ss84M7um439RuN/XJF0Wau6S9EZX9wAA/O1ARZ1u+p+39ciqovDnhqQl6brCAn36gskalcO6lHhy3tQ85aQHg2VNY4tWbj/icUUA+kus25x8UdI7koZI+j8zO13SM5KaJV0i6R4FA0aTpM855wLdrOtRSbcpGCKukPSKmd2n4CL6GaHnzAv1/Y1z7p123mO4pGfMbKeCIzzvSSpRcMrYUEnzJX1SwWlrklQv6U7nHH+uAYA49tbOo7r7kbUqr2k7quvKeaP0rWvm6KXNhz2sDN2VnJigS2eP1B/fD+7Z8+bOoyqpqFNBbqxHuQGINzGFFefcFjO7VtLjCu4M9uXQK1KNpDucc9GeR9Lec5yZ3ajgLl0XSzo/9DrZMkmf6+LtpioYbjqzW9KnnHPdWWMDAPAB55x+89pu/ej5rQqE1tAnJZj+9cpZ+tR5bHkb7xaMy9Vbu8pUUlGn5oDTvS9s0303FXpdFoA+FsuaFUmSc26FpLmSvitpg4Lnm9RI2irpPknznHOP97Qw51yVgqM1t0r6m6RDCp5of0DBHcKuds7d4pxr7uAtNkg6V9K/Sloeqq9cUoukylD7EUkflzSboAIA8aupJaAvPbZOP1jeFlTyslK17B/O1h2LJxFUBoAEM10xb1S4/dTaEq3fX+FhRQD6Q7dOu3LOHZb0jdAr1nuXxNDXSXoo9Ir1OS2S3g69fhDr/QCA+FDf1KK7l63VS1sOhT932vhc/eqTp2skZ6YMKJPzsjRr9BBtKa2SJH33r1v02KfPJowCA1jMIysAAPhFXWOL/uH/Vp8QVD5x5ng9+ulzCCoD1BVzRqn1mJVVe8pZbA8McIQVAEBcOt7QrNt+v0qv72g71/cfL5yi739krlKS+PE2UOVlp2rRxGHh9s9e3iEXcdAngIGF7+YAgLhTWdukW377rlbtaTsg8Msfmq57Lp/BlKBB4MLpI5ScGPzfeU1Rhd7aVeZxRQD6CmEFABBXquubdPNv39EHxW2Lq79+5Sx9Yek0gsogkZuRoo+dMS7c/v9e3uFhNQD6EmEFABA3GpsD+seH3temA1Xhz/3HdXP1DxdM9rAqeOGuC6coKbR4ZdWecr2zm9EVYCAirAAA4oJzTvc8sV5v7mz7pfSH18/TrWdP8LAqeGXcsAzdcNrYcPvnrzC6AgxEhBUAQFz48Qvb9NTaknD7Kx+aro+fOd7DiuC1z140RYmh0ZU3d5Zp9d7yLu4AEG8IKwAA3/vD23v1qxW7wu1PnDlOd1881buC4AsThmfqusKCcPtnr+z0sBoAfYGwAgDwtRc2HdS//3lTuL10Zr7+49q5LKaHJOlzF00Jn7vy2vYjWlt0zNuCAPQqwgoAwLc2llTqC4+sVesxGgvG5ernNy9UUiI/vhA0eUSWrl4wJtz+OaMrwIDCd3sAgC9V1jbproffV0NzQJI0YXiG7r/tDGWkJHlcGfzm7oumqnWg7ZWth7WxpNLbggD0GsIKAMB3AgGnLz2+TsXldZKkrNQk/e72RcrLSvW4MvjRtJHZunLe6HD7t6/v9rAaAL2JsAIA8J3/fnWnXtl6ONz+z4/O15QRWR5WBL/7TMRZO8+uL1VpZZ2H1QDoLYQVAICvvLb9iP7rpe3h9qcvmKwrIv5qDrRn/thcnTlxmCSpOeD04Fv7PK4IQG8grAAAfKOkok7/9GjbgvqzJg3TVy+b4W1RiBt3nj8pfL3s3X2qaWj2sBoAvYGwAgDwhYbmFn32ofd1rLZJkpSfncrOX4jJJbNGasLwDElSVX2znliz3+OKAPQUPwEAAL7wkxe364P9wV2ckhJMv7zlNOVnp3lcFeJJYoLpjvPaRld+98YetQSchxUB6CnCCgDAc2/vKtP/Ruzg9LUrZuqM0PoDIBYfPX2shqQFt7feW1arl7cc8rgiAD1BWAEAeKqyrklfeXxdeJ3KBdNH6M7Fkzq/CehAZmqSbj5rQrj92zf2eFgNgJ4irAAAPPWtP2/Sgcp6SVJuRrL+86PzZa0n/AHdcNu5E5SUEPz/0Ko95Vq/v8LjigB0F2EFAOCZZ9cf0FNrS8Lt739knkYOYZ0KemZ0Trqumt+23fX9jK4AcYuwAgDwxMHKen39qY3h9vWnFZxwCjnQE3cubjsk8q/rS3WggkMigXhEWAEA9LtAwOmf//iBKuuC2xQX5KbrW9fM8bgqDCTzxuborElth0Q+9A6HRALxiLACAOh3D727T2/sPCpJMpPuu6lQQ9KSPa4KA80dERs1PL66WA3NLR5WA6A7CCsAgH5VUlGnHy3fGm5/5oIpOnMS2xSj9y2dma/ROcE1UEePN+r5jQc9rghArAgrAIB+45zT15/aoJrG4F+4p+Zn6UsfmuZxVRiokhIT9Ikzx4fbD79T5GE1ALqDsAIA6DfPrDugFduOSApO//rRDfOUmpTocVUYyD6+aFzbNsZ7y7X1YJXHFQGIBWEFANAvyo436Nt/2RRu/93ZE3T6BKZ/oW/lD0nTZXNGhduMrgDxhbACAOgX33l2s47VBnf/GpOTpv93+UyPK8Jg8cmz2060f3LNfh1vaPawGgCxIKwAAPrcq1sP65l1B8Lt710/T1mpSR5WhMHk7MnDNDU/S5JU09hywkGkAPyNsAIA6FPHG5r19ac2hNvXFo7RRTPyPawIg42Z6ZNnRS603yfnnIcVAYgWYQUA0KfufWGbDlTWS5KGZiTr36+a7XFFGIyuP32s0pODmzlsPVit1fuOeVwRgGgQVgAAfWbTgUr939t7w+1vXj1Hw7NSPasHg9eQtGRdt3BMuM2J9kB8IKwAAPpEIOD0b09vVCA022bx1DxdWzim85uAPhS50P65DaU6erzBw2oARIOwAgDoE398v1hriyokScmJpm9fO0dm5nFVGMzmjMnRwvG5kqSmFqfHVxd7XBGArhBWAAC97lhNo364fGu4/Q/nT9aUEVkeVgQEffKsttGVx94rViDAQnvAzwgrAIBe9+MXtoXPVCnITdfnL57mcUVA0Ifnj1Z2WnDb7H1ltXp3T7nHFQHoDGEFANCr1hVX6NH32k4J/+bVs5WekuhhRUCbtOREXVdYEG4/9h4n2gN+xolcAIBe0xJw+renN6j1CIsZI7N1pLpBy97lF0L0rp78fyonPTl8/ez6Us0ryO21QH1zxHkuAHqOkRUAQK9Z9u4+bSypkiQlJZiuXjCGRfXwnTG56RqTkyZJag44rdtf4XFFADpCWAEA9IpjNY2698Xt4faFM0ZoWGaKhxUBHTtj4rDw9eq95ZxoD/gUYQUA0Cvue2m7KuuCi+qHZabogmkjPK4I6NiCsblKSgiO+pVW1utARb3HFQFoD2EFANBjWw9WnXAi+JVzRys5kR8x8K/0lETNLcgJt1fvY1cwwI/4SQIA6BHnnL7zl80nnFQ/a3S2t0UBUThj4tDw9briCjU2BzysBkB7CCsAgB55YdMhvbWrTJKUmGD6xlWzWVSPuDBpeKaGh9ZVNTQHtOlApccVATgZYQUA0G31TS363nObw+1PnjVeM0YxqoL4YGY6Y0Lb6Mp7e495WA2A9hBWAADddv8be1RcXidJys1I1h+l3l0AACAASURBVJc+NN3jioDYLJwwVKF19tpbVqOj1Q3eFgTgBIQVAEC3HKys13+/ujPc/sqHpis3g62KEV+GpCVrxsi20UAW2gP+QlgBAHTLj5/fqtrGFknBk+o/cSYndyM+RZ65sra4Qi0BzlwB/IKwAgCI2caSSj25tiTc/ubVs5XEVsWIU9NHZisrNUmSVF3frJ2Hj3tcEYBW/GQBAMTsh8u3hq8vmTVS507N87AaoGcSE0yF43LD7TVFLLQH/IKwAgCIyWvbj+iNnUclSQkmfe2KGR5XBPTcaePbdgXbUlqlutAURwDeSvK6AABA/AgE3AmjKjctGqep+WxV3FPL3i3yuoRBb1ROmsbkpulARb2aA07rSyp01qThXpcFDHqMrAAAovbMByXaXFolSUpLTtAXL2GrYgwckaMra/YxFQzwA8IKACAq9U0tuveF7eH23y+erJFD0jysCOhdC8bmKtGCh64UH6vTEc5cATxHWAEAROUPb+9TSUXwAMhhmSn6zIWTPa4I6F2ZqUmaMaptWiML7QHvEVYAAF2qrG3SLyIOgPzCxVOVnZbsYUVA3zh9QttUsLVFxxRwnLkCeImwAgDo0i9X7lRlXZMkacLwDN181gSPKwL6xvSR2cpMSZQkVdU3a9cRzlwBvERYAQB0qqSiTr9/c2+4/c+XzlBKEj8+MDCdcuYKC+0BT/HTBgDQqf96cbsamwOSpPljc/TheaM9rgjoW6dFTAXbXFql+ibOXAG8QlgBAHRoS2mVnly7P9z+2hUzlZBgHlYE9L3ROekanRPc6a6pxWlDSaXHFQGDF2EFANChHz2/Va3riy+aMULnTsnztiCgn3DmCuAPhBUAQLve2nVUK7YdkSSZSfdcMdPjioD+s2BcrloHEfeV16q8ptHbgoBBirACADhFIOD0w+Vbw+0bThurmaOGeFgR0L+yUpM0Lb/tzJV1xYyuAF4grAAATvHshlKt3x+cp5+alKAvf2i6xxUB/W/h+LZdwdYWVchx5grQ7wgrAIATNDYHdO8L28LtT503SWNy0z2sCPDGrNFDlBraprusplH7j9V5XBEw+BBWAAAnePjdfSoqr5Uk5WYk664lUzyuCPBGcmKC5o7JCbfXFld4WA0wOBFWAABh1fVN+vkrO8Ptuy+aqpz0ZA8rArxVGDEVbP3+CrUEmAoG9CfCCgAg7H9W7g7velSQm65bz5ngcUWAtyblZYYDe21ji3Ycqva4ImBwIawAACRJByvr9ds3dofb/3zZdKUmJXpYEeC9BDMtGBux0J6pYEC/IqwAACRJP31pu+qbApKk2aOH6NoFBR5XBPhD5K5gW0qrVN/U4mE1wOBCWAEAaMehaj2+ujjc/pcrZyqh9UQ8YJAbOSRNY3LSJEnNAaeNJZUeVwQMHoQVAIB+9Pw2ta4bPn9ans6fNsLbggCfKRzHVDDAC0leFwAA6L5l7xb1+D32Hq3RS1sOhdsLxub2yvsCA8n8cblavvGgnKQ9R2tUUduo3IwUr8sCBrxujayY2Qgz+7aZrTOzCjOrNrPNZnavmU3sreIs6GYze97MDphZvZkVm9kTZnZlFPcnmdnFZvZ9M3vVzErNrDFU7zYze8DMLuytegEg3jjntHxjabhdOC6XAyCBdgxJS9bU/Kxw+wNGV4B+EfPIipldIOmPkvJP+tKs0OvTZvYp59wTPSnMzLIkPSXpkpO+NDb0ut7M/iDpDudcczv3j5C0WVJeO2+fLGl66HWbmT0h6TbnXE1PagaAeLPpQJWKQ6dyJyaYPjRrpMcVAf5VOC5XOw4flxScCnbB9BEyY20X0JdiGlkxsxmSnlEwqLRIuk/SEkmLJX1TUp2kbEnLzGxxd4uy4H/5j6stqLwh6QZJiyTdKmlD6PO3SvpZB2+TqragslXSDyVdE3qPxZK+Jql13sMNkp42vuMAGERaAk4vbDoYbp8zebiGZjKtBejInDE5SkkM/up0uLpBpZX1HlcEDHyxjqz8VFLrCrPbnHMPR3ztTTNbKellSSmSfmlmhc65QDfqulHSFaHr5ZKuiRg9WW1mTysYYBZIusvMHnDOrTrpPVyolm87515v5xlvmtmDkl6XNFXBYPRxSY90o14AiDvv7S1XWegAyLTkBC2ZzqJ6oDMpSQmaPWaI1oWmgK0tOsa0SaCPRT2yYmbzJV0ear58UlCRJDnnVkp6MNScJ+nD3azrntDHFkl3nTzNyzl3XNLn2+kf2afEOXdJB0Gltc9BSV+J+NRN3awXAOJKQ3OLXtl6ONy+cHq+MlLZcwXoysKIXcE+2F+pltZt9AD0iVimgd0QcX1/J/1+18E9UTGzSZIWhpovO+f2tdcvFEJ2hJqXm1lGrM8KeSXielo33wMA4sobO47qeEPw70A56ck6d8pwjysC4sOU/Cxlh4L98YZm7Tpy3OOKgIEtlrASuWvWyk76rZJU2849vf0cSVoR+pih4FqU7oicoH3KQn0AGGiq65v0+o6j4fYls0YqOZFjt4BoJJhpQcToyjp2BQP6VCw/nWaHPlY65w501Mk51yRpV6g5oRsjHrMjrjd30XdrxPWsGJ/T6uKI6y3dfA8AiBuvbD2sxpbgcsJRQ9K0cHxuF3cAiBR5QOSmA5VqaG7xsBpgYIsqrJhZqqTWlZf7o7iluPVWBbcZjsW4iOuunlUccT0+xufIzBIl/WvEp1hcD2BAO1rdoPf2lofbl80ZqQQ2QgRiMjonTfnZqZKkphanzQeqPK4IGLiiXU2ZHXEdzeTMyD7ZHfbq+bN68hwpGFRa18e85Zx7prPOZna7pNujfO/CbtQDAH3qhc0H1boeeFJepqaP7M63TmBwMzMtHD80vPX32uIKLRw/1OOqgIEp2rASuS9fYxT9Gzq4t7ef1e3nmNlVkr4ValYpeGZLVyaqe+twAMBzReW12hTxF+Ar5o7iQDugmxaMzdGLmw7KSdp1+Liq6po0JD3Z67KAASfasFIXcR3NiWGpHdzb28/q1nPM7BxJjyo4Da5J0k3Oud1R3LpXXS/6b1UoKSfamgCgLznntHxjabg9ryBHY4d2dxNFALkZKZqUl6ndR2vkJH2wv0LnT+OsIqC3RRtWqiOus6LoH9mnusNePX9WzM8xs0JJz0nKVPAcl084556P5l7n3AOSHojyOSvEKAwAn9h6sFr7yoIbNSaa6dLZIz2uCIh/C8fnavfRGknBXcEIK0Dvi2qBvXOuQdKRUDOaBfOti+SdoluQHyly0XxXz4pcjF/cYa8QM5sj6W+SciUFJP2dc+6JGOsDgLjSEnB6PjS3XpLOnDRMw7NSO7kDQDTmjMlRUkJwKmVpZb0OVtZ7XBEw8MSydXHrNsI5Zjamo05mlixpSqi5zzlX21HfLp4jnbiNcXtmdnBfe3XNkPSSpDwFQ9TfO+eWxVgbAMSdNUXHdKQ6uMQvNSlBF83M97giYGBIS07UrNFDwu11xcc8rAYYmGIJK69FXHc2vWmRgoc0nnxPbz9HkpaEPtZJWt1RJzObouBJ9aMUDCr/6Jz7fTdqA4C40tgc0MtbDoXb508boazUaGcAA+hK5DlF64or1NK63R6AXhFLWImcLnVnJ/3u6OCeqIQWuq8LNZea2YT2+pnZYknTQs3nnXM1HfSboGBQaR0N+rxz7jex1gUA8ejNXUdVVd8sScpOS9LiqXkeVwQMLNPys5WZkihJqqpv1ju7yzyuCBhYog4rzrkPJL0Yai41s5tP7mNmF6jtHJJNkp5tp88KM3Oh15IOHvfj0MdESb8ysxP+DGhmmZJ+3k7/k59VoGBQaT0w8ovOuf/u4JkAMKAcb2jWa9uPhNuXzByplKRY/kYFoCuJCab5Y9tGV55aW+JhNcDAE+tPrS8qeCaJJP2fmf3EzC4ws3PN7N8lLVcwYDRJ+pxzLtDNuh6V9ELo+gpJr5jZR8zsDDO7RdLbajt08TfOuXdOfgMzGy7pZUmTQ5+6X9LLZja3s1c36wUA33l122E1NAe/DY/IStVpEzi0DugLkVPBlm8oVV1ji4fVAANLTBOXnXNbzOxaSY9LGiHpy6FXpBpJdzjnoj2PpL3nODO7UdJTki6WdH7odbJlkj7XwdvMkzQjon2nOp++1ooT0gDEvfKaRq3aXR5uXzZnlBIT+PYG9IWC3HTlZaXq6PEG1TS26MXNB3VtYYHXZQEDQszzAZxzKyTNlfRdSRsUPN+kRtJWSfdJmuece7ynhTnnqiRdouDJ8n+TdEjBE+0PSHpa0tXOuVucc809fRYADDQvbj6oFhdc6DthWIZmjc72uCJg4DIzFY5rG115mqlgQK/p1pYwzrnDkr4ResV675IY+jpJD4VesT5nhRglATAI7T9Wq/X7K8Pty+eOkhnfDoG+tHBcrl4K7bz32o6jOlLdoBHZnGcE9BQrLQFgAHHO6fmNbQdAzhkzRBOGZ3pYETA4DM1M0cThwZMbWgJOf/nggMcVAQMDYQUABpDth45r99HgTu4JJl06e5THFQGDR+G4tk0s2BUM6B2EFQAYIALO6YVNbaMqZ0wcxjQUoB/NK8hRSmLwV6sNJZXaebja44qA+EdYAYABYl1RhQ5W1UuSUhITtHRmvscVAYNLekqils5q+++O0RWg5wgrADAANLUE9LfQ4l5JWjwtT9lpyR5WBAxO1y1s27L46bUHFAg4D6sB4h9hBQAGgLd3lamyrkmSlJmapPOn5nlcETA4XTQjX7kZwT8UlFTU6b295V3cAaAzhBUAiHO1jc1asf1wuL10Zr5SkxM9rAgYvFKSEnTV/NHhNlPBgJ4hrABAnFux7YjqmwKSpOGZKVo0cZjHFQGD20cipoL9dUOp6ptaPKwGiG+EFQCIY8dqG/X27rJw+9I5o5SYwAGQgJdOGz9UE0JnrlTXN+vlLYe7uANARwgrABDHXtp8SC2hBbzjhqZr7pghHlcEwMx0XWHb6ApTwYDuI6wAQJzadKBS64orwu3L546WGaMqgB9E7gq2Ytthldc0elgNEL8IKwAQp364fKtaN0WdOSpbk/IyPa0HQJtJeZlaOD5XktQccHp2/QGPKwLiE2EFAOLQGzuO6vUdRyVJJumyOaO8LQjAKa5fyFQwoKcIKwAQZwIBpx8s3xJunz5hqEYOSfOwIgDtuWr+GCWFNrxYW1ShPUdrPK4IiD+EFQCIM39Zf0CbDlRJkpITTUtnjfS4IgDtGZqZoiUz8sNtRleA2BFWACCONDS36D9f2BZunzclTznpyR5WBKAz15/WNhXs6bUlcs510hvAyQgrABBH/vD2Pu0/VidJGpqRrAumj/C4IgCduXhmvrLTkiRJReW1WlN0zOOKgPhCWAGAOFFZ16RfvLoz3P78xdOUlpzoYUUAupKWnKgPzxsdbj+5hqlgQCwIKwAQJ369cpcqapskSeOGpeuWs8d7XBGAaHwkYlewZ9eXqqG5xcNqgPhCWAGAOFBSUaffvbEn3P7nS2coNYlRFSAeLJo4TAW56ZKCI6Qrth3xuCIgfhBWACAO3PvCNjU0ByRJ8wpydPX8MR5XBCBaCQmm6xa2/Tf7FFPBgKgRVgDA5zbsrzxhy9Ovf3iWEkJnNwCIDx9ZODZ8/crWw6oMTekE0DnCCgD4mHNO33tuc7j9odkjdfbk4R5WBKA7puZnaf7YHElSY0tAz2444HFFQHwgrACAj7285bDe2V0uSUpKMH3tipkeVwSguyIX2j/x/n4PKwHiB2EFAHyqqSWg7y/fEm7fctZ4TRmR5WFFAHri2sICJScGp3CuKarQriPHPa4I8D/CCgD41KOrirT7SI0kKTs1SV9YOs3jigD0xLDMFF00Iz/cfnINoytAVwgrAOBDVfVNuu+lHeH2Zy+aquFZqR5WBKA3fPT0toX2T64pUUvAeVgN4H+EFQDwoV+t2KXymkZJUkFuuj513kRvCwLQK5bMyNewzBRJUmllvd7eVeZxRYC/EVYAwGdKKup0f8QBkF+9fIbSkjkAEhgIUpISdG1h25krf3q/2MNqAP8jrACAz9z7wjY1hg6AnD+WAyCBgeaG09qmgj2/6aCq6zlzBegIYQUAfGT9/ooTD4C8kgMggYFmzpghmjkqW5JU3xTQcxtKPa4I8C/CCgD4hHNO3/tr21bFl84eqbM4ABIYcMzshIX2f+LMFaBDhBUA8ImXthzWu3s4ABIYDK4tLFBiaNT0vb3HtPdojccVAf5EWAEAH2hqCegHz514AORkDoAEBqwR2am6aMaIcJszV4D2EVYAwAceWVWk3Uc5ABIYTCIX2j+xpkQBzlwBTkFYAQCPVdU36acRB0B+7mIOgAQGg4tn5Ss3I1lScMvyd/Zw5gpwMsIKAHjs5AMgbz93orcFAegXqUmJumZBxJkrq5kKBpyMsAIAHiour+UASGAQ+9jp48LXz20sVRVnrgAnIKwAgIe+/9yW8AGQCzgAEhh05hYM0azRQyQFz1z5ywcHPK4I8BfCCgB45K1dR7V848Fw+9+vns0BkMAgY2a68Yy2hfaPv1fsYTWA/xBWAMADzS0BffvPm8Pt6wrH6PQJwzysCIBXrissUEpi8FeyD/ZXauvBKo8rAvyDsAIAHli2qkjbDlVLkjJSEvW1K2Z5XBEArwzNTNGlc0aG248xugKEEVYAoJ8dq2nUT17cHm5/7qKpGpWT5mFFALx206K2hfZPry1RQ3OLh9UA/kFYAYB+dt9L21VZF9zxZ/ywDN25eJLHFQHw2nlT8lSQmy5JOlbbpJc2H/a4IsAfCCsA0I+2HqzSQ+/sC7e//uFZbFUMQAkJpo+e3rbQ/rHVTAUDJMIKAPQb55y+/efNCrhg+7ypw3Xp7JGd3wRg0PjYGWNloQ0BX99xRCUVdd4WBPgAYQUA+slzGw7q7d1lkqTEBNM3r54jM7YqBhA0dmiGFk/NkyQ5Jz3xPifaA4QVAOgHxxua9Z1nN4Xbt549QdNHZntYEQA/uvGMtoX2j68uVqB1KBYYpAgrANAPfvq37TpU1SBJystK1Zcvne5xRQD86NI5I5WbkSxJ2n+sLjwaCwxWhBUA6GNbSqv0+7f2htv/9uFZGpKW7F1BAHwrNSlR1xUWhNuPcuYKBjnCCgD0oUDA6d+e3qiW0FSOsycP07WFYzyuCoCfRZ658vzGUpUdb/CwGsBbhBUA6EN/WrNf7+87JklKSjB997q5LKoH0KlZo4do4fhcSVJTi9OfWGiPQYywAgB9pKK2UT9cvjXc/ocLJmtqPovqAXTt5jPHh68fWVXEQnsMWoQVAOgjP35hm8prGiVJBbnp+vzFUz2uCEC8uGr+GGWnJUmS9pbVstAegxZhBQD6wJqiY3pkVVG4/c2rZysjJcnDigDEk/SURN1wWtuJ9sveLeqkNzBw8ZMTAHpZQ3OL7vnTernQrI2lM/P1IU6qBwaF3gwVOeltuwYu31iq/1m5S9nd3Enw5rPGd90J8CFGVgCgl/3y1V3acfi4JCkjJVHfuoaT6gHEbuSQNE0YliFJCjiFN+sABhPCCgD0om0Hq/XLFTvD7f932QyNC/2yAQCxOnPSsPD1e3vLFXAstMfgQlgBgF7SEnC654n1amoJ/jJx2vhc/d05E70tCkBcm1uQo/TkREnSsdom7QyN2gKDBWEFAHrJA2/t1briCklSSmKCfnTDfCUmMP0LQPclJybotNCZK5K0ak+5h9UA/Y+wAgC9oLi8Vve+sC3cvvviqZo2kjNVAPTcooltU8G2HqxSVV2Th9UA/YuwAgA95JzTvzy5QXVNLZKkGSOz9Y8XTvG4KgADRf6QNE0cnikpuNB+NQvtMYgQVgCghx5fXaw3dh6VJCWY9KOPzldKEt9eAfSekxfat3CiPQYJfpoCQA8UldXqO3/ZHG7fcd4kFY7L7eQOAIjd3DFDlJkSXGhfWdekLaVVHlcE9A/CCgB0U0vA6UuPr1NNY3D61+QRmfrKpTM8rgrAQJSUmKBFEaMrb+8u87AaoP8QVgCgm369clf4kLakBNNPbypUeugvnwDQ286aNFytGwzuOVqjg5X13hYE9APCCgB0w8aSSt33t+3h9heWTtP8sUz/AtB3ctKTNXv0kHD7HUZXMAgQVgAgRvVNLfriY+vUHFrgunB8rj67hN2/APS9c6bkha/XFh9TXWgaKjBQEVYAIEY/en5r+BTpjJRE3XdjoZIS+XYKoO9NHJ6hUUPSJElNLU7vF7GNMQY2froCQAxe33FEv39zb7j9jatma2JepncFARhUzEznTB4ebr+zu0wBxzbGGLgIKwAQpUNV9frSY+vC7aUz8/XxReM8rAjAYLRgXK7SkoO/wpXXNGr7oWqPKwL6DmEFAKLQ1BLQ3cvW6OjxRklSXlaqfnjDfJmZx5UBGGxSkhJ0xoS2bYxZaI+BjLACAFG494Vtem9vcG54gkk//8RCjchO9bgqAIPV2ZOHq/VPJdsPHdfR6gZP6wH6CmEFALrw4qaD+p/XdofbX7l0hs6ZMryTOwCgbw3LTNGMUdnh9jt7GF3BwERYAYBOFJXV6it//CDcvmjGCN11IdsUA/Be5EL79/cdU30T2xhj4OlWWDGzEWb2bTNbZ2YVZlZtZpvN7F4zm9hbxVnQzWb2vJkdMLN6Mys2syfM7Moo32OKmd1kZv9pZivMrMrMXOj1rd6qFcDAU9/Uos8ue1/V9c2SpILcdN13U6ESElinAsB7U/KzNCIrOB21oTmg9/aWe1wR0PuSYr3BzC6Q9EdJ+Sd9aVbo9Wkz+5Rz7omeFGZmWZKeknTJSV8aG3pdb2Z/kHSHc665g/e4UNKKntQBYHByzumbz2zSxpIqSVKima5ZMEbPbTjocWUAEJRgpsVT8/TUuhJJ0lu7ynTulDwl8gcVDCAxjayY2QxJzygYVFok3SdpiaTFkr4pqU5StqRlZra4u0VZcHudx9UWVN6QdIOkRZJulbQh9PlbJf2ss7eKuHaSdkh6rbt1ARg8/vf13XpsdXG4feX80Ro3LMPDigDgVIXjc5WZkihJqqxr0saSSo8rAnpXrNPAfiopN3R9m3Puy865lc65N51z35F0hYIhJkXSL82su2tibgy9lyQtl3SRc+5J59xq59xDks6V1DqJ/C4zO7OD9ymRdI+kpZJynXPTFQxVANChFzYd1A+Wbw23r19YoLMnDevkDgDwRnJigs6OWLvyxs6jchwSiQEk6jBhZvMlXR5qvuyce/jkPs65lZIeDDXnSfpwN+u6J/SxRdJdJ0/zcs4dl/T5dvqfXM8O59yPnXOvOOequlkLgEFkw/5KffHRdWr9WX/mxGH6wQ3zOE8FgG+dNXm4kkJTv0oq6rSnrMbjioDeE8vIxw0R1/d30u93HdwTFTObJGlhqPmyc25fe/2cc68rOK1Lki43M+ZnAOiR0so63fnge6oL7agzYXiGfn3r6UpNSvS4MgDoWFZqkhaOHxpuv7HjqIfVAL0rlrByYcT1yk76rZJU2849vf0cqW3xfIaC61kAoFtqGpp15wOrdTh0sNqQtCTdf9siDctM8bgyAOjaeVPbpoJtPVitIxwSiQEilrAyO/Sx0jl3oKNOzrkmSbtCzQndGPGYHXG9uYu+WyOuZ8X4HACQJDU2B3T3sjXaXBqcLZqUYPr1J0/X1PwsjysDgOjkZ6dpZsQhkW/uZHQFA0NUYcXMUiWNCDX3R3FL6xY6puA2w7EYF3Hd1bOKI67Hx/gcAFBzS0BfemydXt12JPy57143V+dOzfOwKgCI3eKI71trio7peEO7JzsAcSXac1ayI66PR9E/sk92h716/qyePCdmZna7pNuj7F7Yd5UA6A2BgNNXn1ivv24oDX/ucxdN0cfP5G8fAOLPpLxMjclN04GKejUHnN7dU6alM0d6XRbQI9GGlfSI68Yo+kdOlEzvsFfPn9WT53THRHVvHQ4An3HO6RvPbNSTa0rCn7v93In650tneFgVAHSfmWnx1BF6PHRG1Du7y3XBtBFKTuzuSRKA96INK3UR19GsNk3t4N7eflZPntMde9X1ov9WhZJy+q4UAN3lnNP3/rpFD79bFP7cxxeN0zevns0WxQDi2ryCHL2w6aAq65pU09Cs1fuO6ZyIc1iAeBNtWKmOuI5mxWlkn+oOe/X8WT15Tsyccw9IeiCavma2QozCAL7jnNNPXtyu376xJ/y5awvH6Hsf4SwVAPEvMcF0/rQ8Pbs+OL319e1HdOZEDrVF/IpqXNA51yCpdfVpNAvmWxfJO0W3ID9S5KL5rp4VuRi/uMNeAKDgGpVv/XmTfvHqzvDnLpszUj/52AIlJhBUAAwMZ0wYpsyU4PlQFXVNWld8zOOKgO6LZRJj6zbCOWY2pqNOZpYsaUqouc85V9tR3y6eI524jXF7ZnZwHwCcoLE5oC8+tk4Pvt12zuySGSP0s08sVBLzuQEMIClJCSfsDLZy+xG1BJyHFQHdF+00MEl6TW3Tmi6U9EgH/RYpeEhj6z2xirznQknf76TvktDHOkmru/EsAD6zLGIdSW9pbA7o4Xf3acfhtg0E5xbk6OIZ+Xri/ZJO7gSA+HTW5OFaueOI6psC/3979x0eV3Xue/z7qrtI7l3u3QaMbYzBgAumQyB0QgmGAIEQOEAKOckl9+bkJCc5CTWFhHaAAKGXQ2g2xdimGAwuGPdu2XIvkov6e//YW9JIjJotaUbS7/M888wua6+95Gd5Zt69Gjv2FfDW4mzOOarKZ80icasujxNfitj+XjXprq3imlpx9zXAgnB3qpn1jZbOzE4EBoe7b7v7/rreS0SavwMFRTw6Z02FQOXY/h25bFxvtaiISLOVlpxYYWD9Xz5YjbtaV6TpqfU3tbsvBKaHu1PN7PLKacxsIuXrkHwN/CtKmplm5uFrchW3++/wPRF40MwqtACZWRvgT1HSi4iU2bkvn7/PWsPG3eWTBZ48rCvnjepJggbTi0gzN2FgZ5ITg8+62zJReAAAIABJREFUpdk5vL9sW4xLJFJ3dekGBnAb8CmQATxpZmOB14Ai4BTgToIAoxC42d1LDrFczwJXA6cDZwLvm9m9BIPoh4b3OTJM+5C7f1pVRmZ2ERVnDYsc53J0uNBjpBfdvTYLX4pIHFuxNZdnP99AXmH5x9A5R/VgwkCtTC8iLUOb1CSO7deRj1bvBODPH6zi5GFdNfOhNCl1ClbcfamZnQc8D3QB7ghfkfYD17p7bdcjiXYfN7NLgFeAk4GTwldlzwA315DdH4GoXcmA88JXpJmAghWRJsrdmbViO9OXbKW0w0NSgnHhmExG9W4f07KJiDS2Ewd34dO1uyguceZv2MMna3bqoY00KXXusO3uM4EjgP8EviJY32Q/sAy4FzjS3Z8/3IK5ew5Ba81VwAxgK8GK9puBV4FvufsV7l50uPcSkeahoKiEZz/fyDsRgUq7VsncMHGAAhURaZHatUpmTJ8OZft/iZi6XaQpqGs3MADcfRtwV/iq67WT65DWgafC1yFx936Heq2INB1bc/J47vONbMnJKzvWt1NrLj+2D+lpyTEsmYhIbE0a0oUvN+ymuMT5aNVOvli/i7F9tVCkNA2aCkdEmjR355PVO/jLB6sqBCrj+3fkeyf2V6AiIi1exzYpnDeqfNriu6eviGFpROpGwYqINFm5eYU88ck6Xl+UTVG44FlSgnH+6F6cd3QvkhL0ESciAnDr1MEkJgQD6z9evZOPV++IcYlEakff5CLSJC3NzuGB91ayYmv5fBjdM9L4weRBjOun7g0iIpH6dW7DRWMyy/bvmb5C665Ik6BgRUSalH35RTz3+Qb+8el69hcUlx0/cVBnbpo8kO7t0mJYOhGR+HXL1EFl667MW7+bD1dsj3GJRGqmYEVEmgR3Z966Xdw7YwULs/aWHc9IS+LaE/pz1pE9SNaK9CIiVcrs0JrvHNunbP+eGWpdkfinb3YRiXvbc/N5ZM5aXp6/iYOF5a0pozLbcevJgxnUtW01V4uISKmbpwwiNSn4+bcoay8zlmyNcYlEqqdgRUTiVn5hMe98vYUH3l/J2h37y453aJ3MtAn9uHRcH1qnHtIM7CIiLVK3jDSuOq58rex7ZqygpEStKxK/9C0vInGnxJ0FG/bwzpIt5OaVr/uaYMHYlJOHdSMlSc9aREQOxY2TB/LMZxs4UFDMsi25vLk4m3OO6lnzhSIxoG97EYkrG3bu528frubFL7MqBCq9O7TiB5MHccYRPRSoiIgchs5tU5k2oV/Z/j0zVlBUXBK7AolUQ9/4IhIX1u/czw+f+ZK/zVpD1u6DZcfT05K4aGwm3580kJ7tW8WwhCIizccNEweQHnajXbN9Py9/uSnGJRKJTt3ARCSmduzL50/vreTpuRvKFnaEYHHHEwd1ZtLQLqQmJcawhCIizU/71ilcP3EA98wIVrO/e8ZyzhnVg9Yp+mko8UU1UkRiYn9+EY/MXstDs1ZXWC8FYGTPDM48ogcd26TEqHQiIs3fdSf156lP17MtN5+tOfk8Mnstt04dHOtiiVSgYEVEGlVhcQnPfr6R+99dyY59+RXOjevXgbF9OtCnU5sYlU5EpOVonZLEj04bwp0vfQXA3z5czWXH9qZruhbXlfihMSsi0ijcnbe+yub0e2dx16uLKwQqg7u25ZHvHsPz3z9egYqISCO6aGxvhnZLB+BAQTH3zlgZ4xKJVKSWFRFpcJ+t3cVv31zKgo17KhzvnpHGHacO4cKxmSQmWIxKJyLSciUmGD8/ezhXP/YZAM99voFpE/oxtHt6jEsmElCwItICPTN3Q6PcZ3tuPu98vYUl2TkVjqclJzBpSFcmDOxEUYnz3OcbG6U8IiLyTZOGdOGkwZ2ZvXIHJQ7/9dZSHr/m2FgXSwRQsCIiDWBffhHvLd3K5+t2EbkwcmKCcfyATkwe2kUzzoiIxJGfnzWcsx6YjTvMXL6d2Su3c9LgLrEuloiCFRGpPwVFJXy8egcfrthOflHFBcaO7t2eU0d0o0NrzfAlIhJvhvfI4OKxmTw/LwuA37yxlDdu7awuuhJzClZE5LCVuLNgwx5mLN3K3oOFFc4N6NyGM4/oQa8OWtBRRCSe3XHqUF5fmM3BwmKWbcnlxS82cum4PrEulrRwClZE5LCs2raPtxZnk703r8LxLumpnHlEd4Z2S8dMT+ZEROJd93ZpXD9xAA+8F8wI9vu3l3PGyB60a50c45JJS6api0XkkOzIzeeJj9fx2EdrKwQqbVOTOO/ontx68mCGdc9QoCIi0oTcOGkAPdsF66zs2l/AH6cvj3GJpKVTsCIidZJfWMzbi7O5/72VLN+aW3Y8OdGYMrQrPzp1COP7d1I/ZxGRJqh1ShK//NaIsv2n5q7nq6y9MSyRtHTqBiYiteLuLMzaw1uLt5CbV1R23ICxfTtwyvBuZLRSVwERkabu9JHdmTikC7NWbMcd7nptMS/fNIEEPYSSGFDLiojUaEtOHg/NXsPz87IqBCp9O7bm5imDuGBMpgIVEZFmwsz41bkjSUkMfiYu2LiHF7/IinGppKVSsCIiVSooKuHtxVv48/srWb/zQNnx9LQkLh6byQ0TB9CzvWb5EhFpbvp3bsMNEweU7f/u7WXsOVAQwxJJS6VgRUSiWrYlh/vfW8GsldvLFnZMMDhpcGfuOGUIo/t00OB5EZFm7OYpg+gVPpDSYHuJFQUrIlJBTl4hT89dz5OfrGf3gfI1U/p1asMtJw/mzCN6kJqcGMMSiohIY2iVkshd55QPtn967gYNtpdGp2BFRIBgAP28dbu4790VfL05p+x465RELhzTi+tP6k+3jLQYllBERBrb6SO7MWlIFwDc4c6XFlFYXBLjUklLomBFRNi1v4DHPlrLy/M3kVdY/iU0tk8Hbj9lCGP7dlSXLxGRFqh0sH1qUvCTcUl2Dg/NWhPjUklLomBFpAUrceejVTu4/70VrN6+v+x4xzYpXHdify4cm0mbVM1wLiLSkvXr3IY7Th1Stn//uytZGbHOlkhDUrAi0kLt3l/AI7PX8MZX2RQWByPoDThpUGduPXkwA7q0jW0BRUQkbnzvxP6MymwHQEFxCT99aRHFpbOviDQgBSsiLYy7M3/Dbh54fyXrIqYj7paRyo2TBnLmkT1ISdJHg4iIlEtKTOC/LxpFcmLQJXj+hj38z0drY1wqaQn0i0SkBdlzoIAfPjOfF77IIr8oGJuSYDBlaFdunjKI3h1bx7iEIiISr4Z2T+eHUwaX7f9x+nLW79xfzRUih0/BikgLMXvldk6/bxZvfJVddqxjmxRumDiQU0d0IylBHwciIlK9myYPZFj3dADyCku486VFlKg7mDQg/ToRaebyCov51etfc9Wjn7E1J7/s+Lh+Hbjl5EH0UWuKiIjUUkpSAn+4aBSJCUF3sE/X7OLpzzbEuFTSnClYEWnGvt68l2/9aQ7/89G6smOd2qRw1XF9OX90JqlJWtxRRETq5sjMdtwwcUDZ/m/eWMKqbftiWCJpzjQnqUgzVFziPDx7DXdPX1420xfAycO68vsLj2LGkq0xLJ2IiDS2Z+bWb+tH94w0uqansi03n7zCEq56dC43TRpIUmLdnoNfPr5PvZZLmh+1rIg0M1m7D/Cdhz/ld28tKwtUWiUn8pvzj+DRq4+hS3pqjEsoIiJNXXJiApeN60NS2B0se28e0/UgTBqAghWRZsLdeWV+FmfeN5vP1u4qOz4qsx1v3HoiV4zvq1XoRUSk3nRvl8YZR3Qv25+zaocWi5R6p2BFpBnYc6CAH/5zPrc/t5Dc/CIgmJL41qmDefGmCVrgUUREGsTxAzoxtFt62f4LX2SxL/weEqkPClZEmrg5K3dwxn2zeWNR+ZTEfTu15oUbJ3DHqUNIrmP/YRERkdoyMy4cm0nb1GAY9L78Il76Igt3TWcs9UO/YkSaqLzCYn79ryVc+ehctuTklR2/bFxv3rz1JMb27RDD0omISEvRNjWJi8Zmlu0v35rLJ2t2xrBE0pxoNjCRJmjJ5hxuf24ByyP6Bndsk8LvLjiS00Z2r+ZKERGR+jekWzonDOzER6uDIOWtr7aQ2b4VfTq1iXHJpKlTsCLSgOp7qsgSdz5atYPpS7ZSHLFi8NBu6Vwwphc79hXU+z1FRERq4/SR3Vm7cz+b9+RR7M7Tn23g5imDyEhLjnXRpAlTNzCRJmLPgQIenbOWtxZvKQtUkhON847uyXeP70u6vgxERCSGkhITuOLYvrROCRYczs0r4p9zN1BUUhLjkklTpmBFpAlYsHEPD7y/krU79pcd69W+FT+cMpjx/TtpSmIREYkLHdqkcNm4PpR+K63fdYA3v8qu9hqR6qgbmEgcO1hQzGsLN7Eoa2/ZMQMmD+3CycO6kZigIEVEROLLoK5tOX1kd97+egsAn67ZRWb71ozRxC9yCBSsiMSp1dv38eIXWew9WFh2rGObFC4em0lfDVgUEZE4dtLgzmTtOcjiTcHDtlcXbKJbuzR6tW8V45JJU6NuYCJxprC4hDe/yubROWsrBCpj+3bglimDFKiIiEjcMzMuHNOLrumpABSVOE99ur7C95pIbShYEYkj2XsP8uDM1cxZtaPsWOuURK4c34cLx2SSmpwYw9KJiIjUXmpSIlce15fUpODn5t6DhTzx8TryCotjXDJpShSsiMSBEndmr9zOX2eurrDA45Bubbl16mBG9GwXw9KJiIgcms5tU7n82D6UDrHckpPHM5ohTOpAwYpIjO05UMBjUaYkPndUT64+vp/mpxcRkSZtcLd0LhhdvsL9qu37eOXLTbh7NVeJBDTAXiRG3J0v1u/mja+yyS8qf8LUq30rLj4mk67paTEsnYiISP0Z07cDew4W8u7SrQDM37iHdq2TueK4vjEumcQ7BSsiMZBzsJBX5m9i+dbcsmMGTBrahamaklhERJqhKUO7sPdgAZ+v2w3AzOXbeerT9VypgEWqoWBFpBG5Owuz9vL6ws0cjBhg2CmckriPZvoSEZFmysw4d1Qvcg4WlT2su+u1xbROSeSCMZk1XC0tlYIVkUayL7+I1xZs4uvNORWOTxjYidNGdCclSUPIRESkeUtMMC47tjePzF7Lpj0HcYcfvbAQMzh/tAIW+SYFKyKNYPGmvby2YBP7C8pbUzq0TubCMZkM6NI2hiUTERFpXKlJiUyb0I9H56xlS05eELA8v5AEM847ulesiydxRsGKSAM6WFDM64s2s2DjngrHx/XryFlHdNe6KSIi0iK1SU3i2hP78/KXWSzbkkuJw+3PLQi7ivWMdfEkjqjfiUgDeXfJVu5/b0WFQCUjLYlpE/px/uheClRERKRFa5uaxNPXjWdot3QAShxue3Y+ry/cHOOSSTxRsCJSz7bn5nPzM19y3ZPzyMkrKjs+und7/m3qEIaEH8oiIiItXae2qTx9/XgGdw26RJc4/Nuz83l67voYl0zihYIVkXri7rwwbyOn3PMhbyzKLjveJjWJK8f34eJjetMqRa0pIiIikTq3TeWZ649jUETA8otXFvPHd5Zr4UhRsCJSH9bv3M+Vj87lJy8uYu/BwrLjY/q05/apgxnRs10MSyciIhLfuqSn8s/rj+PIXuXfl3/+YBU/fmERhcUl1VwpzZ2CFZHDkFdYzL0zVnDqvbP4aNXOsuOZHVrxj+8dy0Vje9M6VfNYiIiI1KRLeirP3nAck4d2KTv20pdZXPv45+TmFVZzpTRnClZEDtEHy7Zx2r2zuP+9lRQUBU99EgyuP6k/02+fyEmDu9SQg4iIiERqk5rEw989hkuOKV9zZfbKHVz690/J2n0ghiWTWNEjX5E62rTnIP/x+te88/XWCsePymzHf377CI7KbB+jkomIiDR9yYkJ/P7Co+jZvhX3vbsSgCXZOZzzpznce+nRTBnaNcYllMakYEWklvbnF/HgzNU8PHsN+UXl/WfbtUrmJ6cP5TvH9iExwWJYQhERkebBzLjtlCH0bNeKn7/yFUUlzp4DhVz7+OfcMmUQ/3bKEH3nthAKVkRqUFLivPhlFn94Zznbc/MrnLt4bCY/O3MYndqmxqh0IiIizdcl43ozsGsbbn56ftlq9w+8v4r5G/dw36VH6/u3BdCYFZFqfLx6B9/68xx++uKiCoHKkb3a8eKNx/OHi0fpg1JERKQBje3bkX/deiInDOpUdmz2yh2c/cAc5qzcEcOSSWNQy4pIFAs27uGP7yxnzqqKH4LdMlL5yenDuGB0LxLU/CwiItIoOrdN5clrx3Pfuyv40/urANiSk8eVj87lsnG9+fnZw8lIS45xKaUhKFgRibBsSw53T1/BjCUVB8+nJSdww8SB3DhpAK1T9N9GRESksSUmGD86bShj+nbgjucWsPtAMJ3xs59vZOby7fz2giM4eVi3GJdS6pt+dYkAS7Nz+OvM1fxr0WYiF8tNMLhobGYwyK99q9gVUERERACYMrQr02+fxC9fW8xbi7cAQSvLtY/P44LRvfj52cPprC7azYaCFWnR5q3bxV9nrub9Zdu+ce6co3pw+6lDGNilbQxKJiIiIlXpkp7Kg1eO5c2vsrnr1cXs3F8AwMvzNzF9yVZumjyQ753Yn7TkxBiXVA6XghVpcUpKnJkrtvHgzNV8vm73N85PHdaVO04bwsie7WJQOhEREamts47swXEDOvEfr3/Nqws2A7Avv4g/vLOcpz5dz09OH8q3j9Y406ZMwYq0GHsOFPDCvCyemrue9TsrroJrBqeP6M5NkwcyqrcWdRQREWkqOrZJ4b7LRnPe6F785o2lrNq2D4DsvXnc8fxCHp2zlttPGcLJw7oqaGmCFKxIs+bufL05h398sp7XFm4ir7CkwvmkBOP80b34/qSBDOqq7l4iIiJN1ZShXTlpUGeem7eRe2esYMe+oGvY15tzuO7JeQzq2pYbJg7gvKN7kpqk7mFNxSEFK2bWBfghcB7QD0gENgJvAn9293X1UTgzM+A7wHeBo4COwHbgM+BRd3+zDnmdANwInAj0APYCy4BngUfcvbA+yizxYcvePF5dsIlXvtzE8q253zifkZbEJcf05toT+2vgvIiISDORlJjAFeP7ct7Rvfj7h6t5ePaasgeVq7bt46cvLuLu6cu55oT+fGdcH9q11nTH8a7OwYqZTQReALpWOjU8fN1gZte4+0uHUzAzawu8ApxS6VRm+LrAzP4BXOvuRTXk9XvgJ0Bk21/X8DURuM7MznH37MMps8TW3gOFzFi6lVfmZ/Hx6p0VZvUqNaJHBt89PvgQa5WipyoiIiLNUdvUJH502lCuGN+Xxz5ayzNzN7AvP/i5uDUnn9+9tYx7pq/g1JHduGhsJicN6kxSotZKj0d1ClbMbCjwGtAeKAYeCPeLgKnAz4B04Bkzm+rucw6lUGGLyvOUBypzgHuBDcAw4KfAkcBVwD7gB9XkdWeYHmA98FtgPkGg8n3gW8AY4A0zm+DueYdSZomNjbsOMGPJVmYs2cpn63ZRXPLNCCUtOYEzRnbnquP7MqZPB4LqJSIiIs1d93Zp/Pys4dw8ZRDPzN3AYx+tZXtuPgAFxSW8sSibNxZl0y0jlfNHZ/KtUT0Y0SNDvxXiiHm0x89VJTZ7Czgj3L3S3Z+udH4S8B5Bt7CvgKPdveIggdrd51KC7lkAbwHnRraehK0uc4BR4aHx7v5ZlHz6ACuAVGATMNbdt1ZK8zBwXbj7U3f/Q13LW8XfMBOYNGnSJGbOnFkfWQqwP7+Iz9bt4pPVO5m1YjvLtnyzixcEA+aPH9CJ80f34swje9A2NTbDs56ZuyEm9xUREWkKLh/fp1Hvl19UzKvzN/H03A0sytobNU3PdmmcPLwrU4d34/gBnTT9cQObPHkyH374IcCH7j658vla/4Izs6MoD1TeqxyoALj7h2b2BHAtQcvH2cDrh1DuO8P3YuCmyt283H2fmd0CzIpIf2GUfG4jCFQAflY5UAndDlwMtAN+Ymb3uHvxIZRZGsDOffksytrLlxt28/HqnSzcuIeiKK0npUb1bs8ZI7vz7dE96dFOY1FERESkXGpSIpeO68Ol4/qwbEsOL32RxSvzN5UNxgfYvDePpz7dwFOfbqB1SiLj+3dkXP+OHNuvI0dmttPg/EZWl8fNkcHAo9Wke4wgWCm9pk7Bipn1B0aHu++5+/po6dx9tpmtBAYDZ5hZa3c/UCnZBeF7LsE4m2j57DOzFwhaV7oAJwEz61JmOXzuzrbcfFZu3cfS7BwWZO1hUdYeNu46WO11KYkJHD+wE6eO6MapI7rRLSOtkUosIiIiTdmw7hn84uwR/PSMYcxasZ3XFmxm5vJt5OSVPyM/UFDMB8u388Hy7QCkJiUwqnd7Rvdpz4geGQzvkcGAzm003qUB1SVYmRSx/WE16T4DDgCtK11T3/eBIKgYHN5rXGR6M+sH9A13P3X3/Gry+YDyrmCTULDSINydvQcL2bjrIBt3H2DjrgOs3bGfldv2sXJrboUPh+oM657OhIGdmTCwE+MHdCQ9TTN5iIiIyKFJTkxg6vBuTB3ejcLiEuat2817S7fy3rJtrN2xv0La/KISPlu7i8/W7io7lpKUwJBubRnSLZ1+ndrQt1Prsvf2rVMa+89pduoSrIwI3/e6++aqErl7oZmtJugG1reKFo/a3AdgSQ1pl0VsD6dicHM4+UgtuDsHCorJySsk52ARuXmFZds79uWzfV8+23Py2Zabz7bcPLL35JGbX7uApFRKUgIjemQwKrMd4wd0Ynz/jnRqm1rzhSIiIiJ1lBz22Dh+YCf+zzkjWLdjP5+t28Xna3fx+bpdrNv5zZ+0BUUlLN6Uw+JNOd84l56WRPeMNLplpNE1I5XuGWl0SU+lfetkMtKSadcqmYxW4XtaMmnJCRrcX0mtghUzSyXoIgWQVYtLNhIEK0YwzfCKOpSpd8R2TffaGLFdeYRWfeXT5GzZm8eCjXsocae4xMvey7eh2J2SkvLjBcUl5BcWk19cQn5hSbhfQn5RMQVFJeQXBdv78ovIOVhETl4huXlFUWffOlTpqUkM6taWIV3TOSKzHUdntmdo93RSktS0KiIiIo2vX+c29OvchkuOCX5WbsvJY9763SzZnMOS7ByWZueQvbfqiWRz84rIzdvHym37anW/lMQEMlolkREGL62SE0lJSiA1KYHU5MTgPSmB1KREUpPLt5MSDDNITDASzEgwSIjctmA7MUxXup1gYGZ0SU9lTJ8O9fJvVt9q27KSHrFdm3/tyDTpVaY6/HtVd5/6yqeMmU0DptWQV6njARYsWMDkyZNreUn92Lm/gJVRFkKMBwlmpCVH/idLpHVKYtl/xt3A3PDVHGzLqa73oYiISMv2UEbT7i2RCmSWOAfyizhYWEx+UQl5hcXkFQbvJXWYdTeW2rdOYVj3uv5krx8LFiwo3RwU7Xxtg5XIaZUKqkxVLvIXWl2nZKrLvaq7T33lE6kfdRyHs3fv3tLp2CRU/ZB5ERERaSmWxroAAsBWYOvyWJeCttEO1jZYifx9WZuRQpFhcl1/m9blXtXdp77yibSOmgf9lxpLsN7MLmBVLa+RpuVogimv9wILakgrEguqo9IUqJ5KvFMdbViDCAKVtdFO1jZYiexTFDXqqSQyTV37I9XlXtXdp77yKePujwOP15CXtBClC38CC6ItYiQSa6qj0hSonkq8Ux2NrVqNXA6n/d0e7mbW4pLSwe1O7QbkR4oc7F7TvSIH0W+sdK6+8hERERERkRioyzRLpdP/tjOznlUlMrNkYGC4u76O0xZH3gcqTj8czbAqrqvPfEREREREJAbqEqzMitiubpD5OIJFGitfU9/3AZgcvh8E5kWecPd1wIZw9zgzq27cyuSI7UMps4iIiIiI1LO6BCsvRWx/r5p011ZxTa24+xrKBy9NNbO+0dKZ2YkEq9cDvO3u+6Mkezl8TwcuqSKfthHntqNgRUREREQkLtQ6WHH3hcD0cHeqmV1eOY2ZTaR8HZKvgX9FSTPTzDx8Ta7idv8dvicCD5pZhYkAzKwN8Kco6Su7j/Jpif/LzLpGSXMPwQwPAHe7e3EVeYmIiIiISCOq69LgtwE54faTZna3mU00swlm9kvgLYIAoxC42d1LDrFczwLvhNtnAu+b2flmdoyZXQF8QjCNHMBD7v5ptEzcfT3wH+FuJjDXzK43s3FmdpaZvQZcH55fCDxwiOUVEREREZF6VtupiwFw96Vmdh7wPNAFuCN8RdoPXOvuh7wSoru7mV0CvAKcDJwUvip7Bri5hrx+a2Ydw3L2Ax6KkmwBcI67a71CEREREZE4UdeWFdx9JnAE8J/AVwTrkuwHlgH3Ake6+/OHWzB3zwFOAa4CZhAsrlkAbAZeBb7l7le4e1Et8voxMJEguNlA0DVsBzCbINg51t03HW6ZRURERESk/tSpZaWUu28D7gpfdb12ch3SOvBU+Dos7j4HmHO4+YiIiIiISOM4pGBFRAB4HJgJrItpKUSq9jiqoxL/Hkf1VOLb46iOxowFjRciIiIiIiLxpc5jVkRERERERBqDghUREREREYlLClZERERERCQuKViRFs/MBpvZrWb2opmtMLP9ZpZvZtlm9paZ3WhmbWqZV7KZ3WRmH5rZVjPLM7O1ZvYPMzuhof8WaXnMbKyZFZmZh6/Ha3GN6qk0ODPLCD9b3zOzrPBzdbuZfWVmj5rZlTVcr3oqDcLMzjazZ81sjZkdiPjOf9vMbjCztFrmozraCDTAXlq08Ifd1bVIug64zN3nVpNXT+B1YEwVSRz4b3f/WR2LKRKVmSUD84CjIg4/4e7TqrlG9VQaXLiA9N+A7tWlc3er4nrVU6l3ZtaWYGHzM2tIupJgPb/l1eSlOtpI1LIiLV1m+J4DPAlMA04CxgLfAT4Mz/cDppvZiGiZhE9h/kX5h9brwDnAscD3gfWAAXea2U/r+4+QFusXBIHK1tokVj2n3rfFAAAOX0lEQVSVxhC2mLxEEKjkAH8Ezib4XD0V+B7B+ml7q7he9VQaylOUByqbgTuAqcAEgu//L8Nzg4EZZpYeLRPV0callhVp0cKWlc+Ax939QJTzBtwP3BIemu7up0dJdyfwu3D3YXe/odL5bgQfgj2BPGCIu2+sr79DWh4zOxL4AkgErgSeCU9V2bKieioNzcxGEtShFGA+cJa7b6kibYq7F0Q5rnoq9c7MRlMejCwDxrt7TqU0BvwTuDQ8dLu73xclL9XRRqSWFWnR3H2au/81WqASnnfgx0Dpl+0pZtYpMo2ZJQI/Cnf3EDypqZzPVqC0KTgNuK0eii8tVFjnHgOSgb8Cn9TyGtVTaWh/IwhUcoBzqwpUAKoIVFRPpaGcGLF9T+VABcq+839ZxTWA6mgsKFgRqUH4hfpRuJsADKiUZCLQJdx+3t33VZHV80DpuQvrtZDS0vwYOAbIAn5ey2tUT6VBhU+uS3/c/c3dsw4hG9VTaSiRXbrWVZMu8lxqlPOqo41MwYpI7aREbBdVOjcpYvtDquDu+ZQ/Ae9rZn3rqWzSgpjZUOD/hbs/cPfcWl6qeioN7TsR2/8s3TCz9HDWxe5hN5vqqJ5KQ1kRsd2vmnSR51ZEOa862sgUrIjUwMxSCQbfARQCqyoliRx0v6SG7JZFbA8/zKJJC2NmCcCjBN0Knnf31+twueqpNLTjw/f9wCIz+7aZfUrQJWwFkA1sN7PHzKxyC3Up1VNpKG8QDKoHuD3a4PkwmP6/4W4R8HCUfFRHG5mCFZGa/QAoHafyRpQn2b0jtmvq9hA5wK7P4RZMWpwfAicAu4Fb63it6qk0tJHh+3qCwcevAOMrpekEXAMsNLOzo+SheioNwt0PAt8mmD1xOLDEzP7NzKaY2fFm9l1gLnA5QaBys7svi5KV6mgjU7AiUg0zGw78R7hbCPyfKMkin85U1Xc12vmoUyKKRGNm/YHfhrs/Dgdw1oXqqTSY8Il0u3B3IPAT4ADBQOReBH3/hwN/CdO0BZ6PMh286qk0GHf/HBgN/BroANwHvA98DDwBjAOeA45394eqyEZ1tJElxboAIvHKzNoDrxJ8qQL8u7t/HSVpq4jtb8xuU0l+FdeJ1ORhoA3wgbs/dgjXq55KQ2pD+QPQVIIF8b7t7jMi0iwDfmhmOwi62rQmCMC/HZFG9VQa2vkEUxO3qeL8GcBuM1vt7rujnFcdbWRqWRGJwsxaEyzyNCQ89CRwTxXJD0Zsp1SRplTkzCIHq0wlEsHMbiBYuCyPYMGxQ6F6Kg2pcj35V6VAJdJvKF/I9Bwzy6giH9VTqTdmlmBmTxG07g0B3gSmABkEdWko8CuCMYE3Ap9XMbZKdbSRKVgRqSQcUP8K5VNwvghc61WvoBo5hqVtFWmina/tLE7SgplZL+AP4e6v3H3lIWaleioNxt2LCYLpUm9Uk7YQeDfcTSRY2b6U6qk0lBuBK8Ltp939bHef6e657l7g7ivc/f8RtLxA0J3xH1HyUR1tZOoGJhLBzJIJ5kY/LTz0OnB5+EVclY3AceF2JrCjmrSRA/O0mq3Uxq0ET/5ygCwzuyxKmi4R2/0j0qx197nhtuqpNLT1BE+noeZ6E3m+a6XjqqfSEK6L2P73qhK5+1tm9j5wMjDBzI50968ikqiONjIFKyKhcFXaZ4Bzw0PvABeHTwGrEzl14QhgQTVph1VxnUhVSrsRZBD9KV9lE8MXBANGS4MV1VNpaIspD1YSa0gbeT5y7SrVU2kopZM5bHX3mgKHeQTBSul1kcGK6mgjUzcwEcrWr/gHcFF46D2CwaH5VV9VZlbE9qSqEoXdy0rXIVjv7usPpawih0j1VBraBxHbg2pIG3l+U8S26qk0lNKgOLkWaSPTVH5gqTrayBSsSIsXTrn5GOWrL38InOvueVVfVcEsypuBLzGzqvqwXkx5/9WXD6Ws0vK4+23ubtW9gP4RlzwRcW5axHHVU2loLwGlXWYvqiqRmbUDTg139wFfRJxWPZWGsiZ872hmI6tNCZOjXFdKdbSRKVgRgQeBq8PtOcDZ7n6gthe7exHlM4W1B+6unMbMuhEskgbBVIb3HXJpRQ6B6qk0NHffQvDgB4K+/jdWThM+HPoz5T/iHorsaqt6Kg3o1YjtP5lZWrREZnYLwVosEIzDWhh5XnW08VnVExyJNH9m9keCRcsA1hG0rtS0yFOWu++plE8r4BNgVHjof4G/A9uBo4FfAH3Dcz939/867MKLhMysH7A23H2iUotKZDrVU2lQZtYF+AzoR7DWyuPAswR1bCBwM+VPrVcC49x9b6U8VE+l3oVrpy0mWKQUgnV//gR8SRBQ9CdYvf7CiMsudvcXo+SlOtqIFKxIi2Zm6yj/QKmta9z98Sh59SKYrnPUN64IOHC3u/+kjvcTqVZtg5UwreqpNCgzGwy8RrBifVUWEIwLjNqPX/VUGoKZDSPorjiihqQHgduqWcVedbQRaTYwkXri7pvMbBxwPXAZwRd1OsHiZ3OAB919TgyLKKJ6Kg3O3Vea2WiCqWIvIZgRqQOwG5gPPAf8I+xOU1UeqqdS79x9mZmNIaiXFxB09+pK8Ht4L7CcYIKdR2qaMUx1tPGoZUVEREREROKSBtiLiIiIiEhcUrAiIiIiIiJxScGKiIiIiIjEJQUrIiIiIiISlxSsiIiIiIhIXFKwIiIiIiIicUnBioiIiIiIxCUFKyIiIiIiEpcUrIiIiIiISFxSsCIiIiIiInFJwYqIiMQdMzvVzDzi9WCsyyQiIo1PwYqIiMSjaZX2LzOztFgUREREYkfBioiIxBUzywDOD3fzw/f2EcdERKSFULAiIiLx5jKgVbh9F1AUbk+LSWlERCRmzN1jXQYREZEyZvYJcBxwEOgGPAucBZQAfd09K4bFExGRRqSWFRERiRtmNpQgUAH4X3fPBZ4K9xOA79Yhr1Qzu93MPjGzXWa2z8yWmdn9ZjY4TDMtYhD/tFrkOczMfm9mX5rZDjPLN7NsM5thZj8ws9S6/cUiIlIdtayIiEjcMLPfAXeGu+e6++tm1grYCqQDK919SC3y6Q+8CQyrIsl+gm5lbYH/CY9d4+6PV5FfIvAH4BYgqZpbrwPOc/dFNZVRRERqVt0HroiISKMJA4Krwt2dwNsA7n7QzF4haFUZbGYnuPtH1eTTAXgP6B8eygP+F/gaSAUmAScATwN/q0W5EoCXgPPCQ0XAu8B8IBfoCZwd3q8fMMvMjnH3VbX6w0VEpEoKVkREJF6cRvDDH+B5dy+MOPcU5V3ArgGqDFaA31MeqKwCzqwcOJjZxQTByi21KNe/Ux6ofAJc4e5rK+V3O/Br4GdAO+BJYEIt8hYRkWqoG5iIiMQFM3sOuCTcPcHdP444lwBsJAhmcoHu7n4gSh5dgSwgGSgERrn70iru92OCrl2lvtENzMw6hvdtDawGjnb3fdX8DS8CF4a7k939wyr/YBERqZEG2IuISMyFXbdKWy/WRgYqAO5eQjArGARjVy4kuosJAhWAF6sKVEIPALtrKNo0gkAF4DfVBSqhuyO2v1VDWhERqYGCFRERiQffIRhPAkH3rGieitieVkWa4yO2X6/uhu5eQDguphpTIran15AWYGHE9thapBcRkWooWBERkXhwTcT2U9ESuPt8gkHyAFPMrG+UZIMithfX4r41pTkqYjsrYprjqC+CWcZKdanF/UVEpBoKVkREJKbMbCRwTLg7z92XV5O8tNXFgKujnG8fsb2zFrffVcP5zrXIoyptDuNaERFBs4GJiEjsRbaqtDKzx6tJG9lacbWZ/doPb6aYmq4t/Z4sAH5Rx7z31r04IiISScGKiIjEjJklAVdEHBoZvmpjADARiJxxKzJA6AhsriGPTjWc3wn0AFKAh9w9p5ZlExGReqBuYCIiEktnAt0P4/prKu1HrqdyRC2urynNsohtrZsiItLIFKyIiEgsTYvYvs7draYXkEGwKj3ARWbWNiKPTyK2q5062MxSgNNrKN97EduVAyMREWlgClZERCQmzKwTcE64WwC8XJvr3D0XeDPcbUOwtkqpF4GicPtiMxteTVa3EnQVq85jVAyMagpuypiZ1TatiIhEp2BFRERi5QqCsSAAb7t7TQs0Rno2Ynta6Ya7bwGeCHeTgdfMLHI6YwDM7CLgt9QwwN7ds4HfhbsJwEtmdo2ZRf3+NLMUMzvXzN4HxtTybxERkSrY4U2iIiIicmjMbD5wdLh7ubv/sw7XtgK2AaVdwAa5++rwXEfgS6B0HZY84DWCNVpSgUnAiQStOX8HbgnTTXP30kAn8l4JwHPARRGH1wMzgA1ACUELzUjgOKBdmGacu8+r7d8kIiLfpGBFREQanZmNAhaEuweAru6+v5pLouXxNHB5uPtrd/9lxLmBBF3FhlRx+UGCFpl04JHw2KXu/nwV90oA7gJ+BqTVonibgYmlAZSIiBwadQMTEZFYiBys/npdA5VQZEvM1ZFds8IgYRTwI+AzgimNDwArgb8Ao8PAJCMijyqnJXb3Enf/FdCfYL2V9wkCkvzwlQ3MAv4InAL0UaAiInL41LIiIiItlpk9BFwf7o5w96WxLI+IiFSkYEVERFqksCVmDcHYlv1AhruXxLZUIiISSd3ARESkpfoe5YPw/6VARUQk/ihYERGRZsfM/tPMTqrinJnZ1cADEYf/0jglExGRulA3MBERaXbMbA5wAkE3r1nAWqAY6EkwAD5ylrAH3f0HjV5IERGpUVKsCyAiItKABoSvaJygReW2xiuOiIjUhVpWRESk2TGzvsBZwOnAIKAr0AHIBTYCHwKPuvvCmBVSRERqpGBFRERERETikgbYi4iIiIhIXFKwIiIiIiIicUnBioiIiIiIxCUFKyIiIiIiEpcUrIiIiIiISFxSsCIiIiIiInHp/wOeDB0jIFvwDQAAAABJRU5ErkJggg==\n",
        "text/plain": "<Figure size 864x576 with 1 Axes>"
       },
       "metadata": {
        "needs_background": "light"
       },
       "output_type": "display_data"
      }
     ],
     "persistentId": "dea1274f-c2fa-4fce-b2ff-864248c03b86",
     "text": "fig, ax = plt.subplots(figsize=(12, 8))\nsns.distplot(canadian_politics[\"Age\"].dropna())\nfig.tight_layout()"
    },
    "executionTime": "2019-09-12T03:04:31.165Z"
   },
   {
    "cell": {
     "executionCount": 12,
     "executionEventId": "50577d9b-14d8-4270-a8ad-ead2c262d503",
     "hasError": false,
     "id": "96621645-9c76-436d-b980-bdadd27ecf5b",
     "outputs": [],
     "persistentId": "d51338c0-4a0d-4f36-8c01-c304b6e0c6c1",
     "text": "# Province, Party, Average, Age, Heatmap"
    },
    "executionTime": "2019-09-12T03:04:40.490Z"
   },
   {
    "cell": {
     "executionCount": 13,
     "executionEventId": "d44a99ac-3535-4507-9728-f870c2ed8f35",
     "hasError": false,
     "id": "cd784c5e-7f27-48b7-b8d9-e37805712a0b",
     "outputs": [
      {
       "data": {
        "text/html": "\n        <iframe\n            width=\"100%\"\n            height=\"500\"\n            src=\"pivottablejs.html\"\n            frameborder=\"0\"\n            allowfullscreen\n        ></iframe>\n        ",
        "text/plain": "<IPython.lib.display.IFrame at 0x121bd7ba8>"
       },
       "execution_count": 13,
       "metadata": {},
       "output_type": "execute_result"
      }
     ],
     "persistentId": "b39539b8-5424-4347-85b6-f7573dc8ae03",
     "text": "pivot_ui(canadian_politics)"
    },
    "executionTime": "2019-09-12T03:04:41.896Z"
   },
   {
    "cell": {
     "executionCount": 14,
     "executionEventId": "fb8f156a-666b-4c94-ad7d-fd972c3452d3",
     "hasError": false,
     "id": "2597d478-d0da-4a52-af23-ae1ebf4d292b",
     "outputs": [],
     "persistentId": "ffc60d8b-1163-467f-a3d6-3c8bd704e21f",
     "text": "import numpy as np"
    },
    "executionTime": "2019-09-12T03:05:16.829Z"
   },
   {
    "cell": {
     "executionCount": 15,
     "executionEventId": "83810e42-723c-4726-93e2-42f74f253db2",
     "hasError": false,
     "id": "6cfe86ab-f069-42c4-abf0-8fae3db9a8b2",
     "outputs": [
      {
       "data": {
        "text/plain": "\u001b[0;31mSignature:\u001b[0m\n\u001b[0mnp\u001b[0m\u001b[0;34m.\u001b[0m\u001b[0mlinspace\u001b[0m\u001b[0;34m(\u001b[0m\u001b[0;34m\u001b[0m\n\u001b[0;34m\u001b[0m    \u001b[0mstart\u001b[0m\u001b[0;34m,\u001b[0m\u001b[0;34m\u001b[0m\n\u001b[0;34m\u001b[0m    \u001b[0mstop\u001b[0m\u001b[0;34m,\u001b[0m\u001b[0;34m\u001b[0m\n\u001b[0;34m\u001b[0m    \u001b[0mnum\u001b[0m\u001b[0;34m=\u001b[0m\u001b[0;36m50\u001b[0m\u001b[0;34m,\u001b[0m\u001b[0;34m\u001b[0m\n\u001b[0;34m\u001b[0m    \u001b[0mendpoint\u001b[0m\u001b[0;34m=\u001b[0m\u001b[0;32mTrue\u001b[0m\u001b[0;34m,\u001b[0m\u001b[0;34m\u001b[0m\n\u001b[0;34m\u001b[0m    \u001b[0mretstep\u001b[0m\u001b[0;34m=\u001b[0m\u001b[0;32mFalse\u001b[0m\u001b[0;34m,\u001b[0m\u001b[0;34m\u001b[0m\n\u001b[0;34m\u001b[0m    \u001b[0mdtype\u001b[0m\u001b[0;34m=\u001b[0m\u001b[0;32mNone\u001b[0m\u001b[0;34m,\u001b[0m\u001b[0;34m\u001b[0m\n\u001b[0;34m\u001b[0m    \u001b[0maxis\u001b[0m\u001b[0;34m=\u001b[0m\u001b[0;36m0\u001b[0m\u001b[0;34m,\u001b[0m\u001b[0;34m\u001b[0m\n\u001b[0;34m\u001b[0m\u001b[0;34m)\u001b[0m\u001b[0;34m\u001b[0m\u001b[0;34m\u001b[0m\u001b[0m\n\u001b[0;31mDocstring:\u001b[0m\nReturn evenly spaced numbers over a specified interval.\n\nReturns `num` evenly spaced samples, calculated over the\ninterval [`start`, `stop`].\n\nThe endpoint of the interval can optionally be excluded.\n\n.. versionchanged:: 1.16.0\n    Non-scalar `start` and `stop` are now supported.\n\nParameters\n----------\nstart : array_like\n    The starting value of the sequence.\nstop : array_like\n    The end value of the sequence, unless `endpoint` is set to False.\n    In that case, the sequence consists of all but the last of ``num + 1``\n    evenly spaced samples, so that `stop` is excluded.  Note that the step\n    size changes when `endpoint` is False.\nnum : int, optional\n    Number of samples to generate. Default is 50. Must be non-negative.\nendpoint : bool, optional\n    If True, `stop` is the last sample. Otherwise, it is not included.\n    Default is True.\nretstep : bool, optional\n    If True, return (`samples`, `step`), where `step` is the spacing\n    between samples.\ndtype : dtype, optional\n    The type of the output array.  If `dtype` is not given, infer the data\n    type from the other input arguments.\n\n    .. versionadded:: 1.9.0\n\naxis : int, optional\n    The axis in the result to store the samples.  Relevant only if start\n    or stop are array-like.  By default (0), the samples will be along a\n    new axis inserted at the beginning. Use -1 to get an axis at the end.\n\n    .. versionadded:: 1.16.0\n\nReturns\n-------\nsamples : ndarray\n    There are `num` equally spaced samples in the closed interval\n    ``[start, stop]`` or the half-open interval ``[start, stop)``\n    (depending on whether `endpoint` is True or False).\nstep : float, optional\n    Only returned if `retstep` is True\n\n    Size of spacing between samples.\n\n\nSee Also\n--------\narange : Similar to `linspace`, but uses a step size (instead of the\n         number of samples).\ngeomspace : Similar to `linspace`, but with numbers spaced evenly on a log\n            scale (a geometric progression).\nlogspace : Similar to `geomspace`, but with the end points specified as\n           logarithms.\n\nExamples\n--------\n>>> np.linspace(2.0, 3.0, num=5)\narray([2.  , 2.25, 2.5 , 2.75, 3.  ])\n>>> np.linspace(2.0, 3.0, num=5, endpoint=False)\narray([2. ,  2.2,  2.4,  2.6,  2.8])\n>>> np.linspace(2.0, 3.0, num=5, retstep=True)\n(array([2.  ,  2.25,  2.5 ,  2.75,  3.  ]), 0.25)\n\nGraphical illustration:\n\n>>> import matplotlib.pyplot as plt\n>>> N = 8\n>>> y = np.zeros(N)\n>>> x1 = np.linspace(0, 10, N, endpoint=True)\n>>> x2 = np.linspace(0, 10, N, endpoint=False)\n>>> plt.plot(x1, y, 'o')\n[<matplotlib.lines.Line2D object at 0x...>]\n>>> plt.plot(x2, y + 0.5, 'o')\n[<matplotlib.lines.Line2D object at 0x...>]\n>>> plt.ylim([-0.5, 1])\n(-0.5, 1)\n>>> plt.show()\n\u001b[0;31mFile:\u001b[0m      ~/miniconda3/envs/dspy3/lib/python3.6/site-packages/numpy/core/function_base.py\n\u001b[0;31mType:\u001b[0m      function\n"
       },
       "metadata": {},
       "output_type": "display_data"
      }
     ],
     "persistentId": "f1b235f2-cbfb-47c2-a110-e618c2160cdc",
     "text": "np.linspace?"
    },
    "executionTime": "2019-09-12T03:06:02.480Z"
   },
   {
    "cell": {
     "executionCount": 16,
     "executionEventId": "3f2487d8-6bab-4223-b2c3-98f57de01815",
     "hasError": false,
     "id": "376abd1d-86dd-4c30-878a-1aca82a44b2c",
     "outputs": [
      {
       "name": "stdout",
       "output_type": "stream",
       "text": "01-Tips-and-tricks.ipynb:    \"last_executed_text\": \"!grep qgrid *.ipynb\",\n01-Tips-and-tricks.ipynb:      \"03-Git-Integration.ipynb:    \\\"import qgrid\\\\n\\\",\\n\",\n01-Tips-and-tricks.ipynb:      \"03-Git-Integration.ipynb:    \\\"Interactive pandas dataframes: https://github.com/quantopian/qgrid\\\"\\n\",\n01-Tips-and-tricks.ipynb:      \"03-Git-Integration.ipynb:    \\\"qgrid_widget = qgrid.show_grid(\\\\n\\\",\\n\",\n01-Tips-and-tricks.ipynb:      \"03-Git-Integration.ipynb:    \\\"qgrid_widget\\\"\\n\",\n01-Tips-and-tricks.ipynb:      \"03-Git-Integration.ipynb:    \\\"# make a change via qgrid\\\\n\\\",\\n\",\n01-Tips-and-tricks.ipynb:      \"03-Git-Integration.ipynb:    \\\"df3 = qgrid_widget.get_changed_df()\\\"\\n\",\n01-Tips-and-tricks.ipynb:      \"03-Git-Integration.ipynb:    \\\"qgrid_widget = qgrid.show_grid(\\\\n\\\",\\n\",\n01-Tips-and-tricks.ipynb:      \"03-Git-Integration.ipynb:    \\\"qgrid_widget\\\"\\n\",\n01-Tips-and-tricks.ipynb:      \"11-older-stuff.ipynb:    \\\"# import qgrid # Put imports at the top\\\\n\\\",\\n\",\n01-Tips-and-tricks.ipynb:      \"11-older-stuff.ipynb:    \\\"# qgrid.nbinstall(overwrite=True)\\\\n\\\",\\n\",\n01-Tips-and-tricks.ipynb:      \"11-older-stuff.ipynb:    \\\"# qgrid.show_grid(df[['MSHA_ID',\\\\n\\\",\\n\",\n01-Tips-and-tricks.ipynb:      \"11-older-stuff.ipynb:    \\\"# Check out http://nbviewer.ipython.org/github/quantopian/qgrid/blob/master/qgrid_demo.ipynb for more (including demo)\\\"\\n\",\n01-Tips-and-tricks.ipynb:      \"history.ipynb:    \\\"import qgrid\\\\n\\\",\\n\",\n01-Tips-and-tricks.ipynb:      \"history.ipynb:    \\\"qgrid_widget = qgrid.show_grid(df[['CRIM',\\\\n\\\",\\n\",\n01-Tips-and-tricks.ipynb:      \"history.ipynb:    \\\"qgrid_widget\\\"\\n\",\n01-Tips-and-tricks.ipynb:      \"history.ipynb:    \\\"df2 = qgrid_widget.get_changed_df()\\\"\\n\",\n01-Tips-and-tricks.ipynb:      \"new-name.ipynb:    \\\"import qgrid\\\\n\\\",\\n\",\n01-Tips-and-tricks.ipynb:      \"new-name.ipynb:    \\\"qgrid_widget = qgrid.show_grid(df[['CRIM',\\\\n\\\",\\n\",\n01-Tips-and-tricks.ipynb:      \"new-name.ipynb:    \\\"qgrid_widget\\\"\\n\",\n01-Tips-and-tricks.ipynb:      \"new-name.ipynb:    \\\"df2 = qgrid_widget.get_changed_df()\\\"\\n\"\n01-Tips-and-tricks.ipynb:    \"!grep qgrid *.ipynb\"\n01-Tips-and-tricks.ipynb:       \"text\": \"03-Git-Integration.ipynb:    \\\"import qgrid\\\\n\\\",\\n03-Git-Integration.ipynb:    \\\"Interactive pandas dataframes: https://github.com/quantopian/qgrid\\\"\\n03-Git-Integration.ipynb:    \\\"qgrid_widget = qgrid.show_grid(\\\\n\\\",\\n03-Git-Integration.ipynb:    \\\"qgrid_widget\\\"\\n03-Git-Integration.ipynb:    \\\"# make a change via qgrid\\\\n\\\",\\n03-Git-Integration.ipynb:    \\\"df3 = qgrid_widget.get_changed_df()\\\"\\n03-Git-Integration.ipynb:    \\\"qgrid_widget = qgrid.show_grid(\\\\n\\\",\\n03-Git-Integration.ipynb:    \\\"qgrid_widget\\\"\\n11-older-stuff.ipynb:    \\\"# import qgrid # Put imports at the top\\\\n\\\",\\n11-older-stuff.ipynb:    \\\"# qgrid.nbinstall(overwrite=True)\\\\n\\\",\\n11-older-stuff.ipynb:    \\\"# qgrid.show_grid(df[['MSHA_ID',\\\\n\\\",\\n11-older-stuff.ipynb:    \\\"# Check out http://nbviewer.ipython.org/github/quantopian/qgrid/blob/master/qgrid_demo.ipynb for more (including demo)\\\"\\nhistory.ipynb:    \\\"import qgrid\\\\n\\\",\\nhistory.ipynb:    \\\"qgrid_widget = qgrid.show_grid(df[['CRIM',\\\\n\\\",\\nhistory.ipynb:    \\\"qgrid_widget\\\"\\nhistory.ipynb:    \\\"df2 = qgrid_widget.get_changed_df()\\\"\\nnew-name.ipynb:    \\\"import qgrid\\\\n\\\",\\nnew-name.ipynb:    \\\"qgrid_widget = qgrid.show_grid(df[['CRIM',\\\\n\\\",\\nnew-name.ipynb:    \\\"qgrid_widget\\\"\\nnew-name.ipynb:    \\\"df2 = qgrid_widget.get_changed_df()\\\"\\n\"\n01-Tips-and-tricks.ipynb:     \"text\": \"!grep qgrid *.ipynb\"\n03-Git-Integration.ipynb:    \"last_executed_text\": \"import qgrid\\nfrom sklearn.datasets import load_boston\",\n03-Git-Integration.ipynb:    \"import qgrid\\n\",\n03-Git-Integration.ipynb:    \"Interactive pandas dataframes: https://github.com/quantopian/qgrid\"\n03-Git-Integration.ipynb:    \"last_executed_text\": \"qgrid_widget = qgrid.show_grid(\\n    df[[\\\"Year\\\", \\\"Mine_State\\\", \\\"Labor_Hours\\\", \\\"Production_short_tons\\\"]],\\n    show_toolbar=True,\\n)\\nqgrid_widget\",\n03-Git-Integration.ipynb:    \"qgrid_widget = qgrid.show_grid(\\n\",\n03-Git-Integration.ipynb:    \"qgrid_widget\"\n03-Git-Integration.ipynb:    \"# make a change via qgrid\\n\",\n03-Git-Integration.ipynb:    \"df3 = qgrid_widget.get_changed_df()\"\n03-Git-Integration.ipynb:    \"qgrid_widget = qgrid.show_grid(\\n\",\n03-Git-Integration.ipynb:    \"qgrid_widget\"\n03-Git-Integration.ipynb:     \"text\": \"import qgrid\\nfrom sklearn.datasets import load_boston\"\n03-Git-Integration.ipynb:     \"text\": \"qgrid_widget = qgrid.show_grid(\\n    df[[\\\"Year\\\", \\\"Mine_State\\\", \\\"Labor_Hours\\\", \\\"Production_short_tons\\\"]],\\n    show_toolbar=True,\\n)\\nqgrid_widget\"\n11-older-stuff.ipynb:    \"# import qgrid # Put imports at the top\\n\",\n11-older-stuff.ipynb:    \"# qgrid.nbinstall(overwrite=True)\\n\",\n11-older-stuff.ipynb:    \"# qgrid.show_grid(df[['MSHA_ID',\\n\",\n11-older-stuff.ipynb:    \"# Check out http://nbviewer.ipython.org/github/quantopian/qgrid/blob/master/qgrid_demo.ipynb for more (including demo)\"\nhistory.ipynb:    \"import qgrid\\n\",\nhistory.ipynb:    \"qgrid_widget = qgrid.show_grid(df[['CRIM',\\n\",\nhistory.ipynb:    \"qgrid_widget\"\nhistory.ipynb:    \"df2 = qgrid_widget.get_changed_df()\"\nnew-name.ipynb:    \"import qgrid\\n\",\nnew-name.ipynb:    \"qgrid_widget = qgrid.show_grid(df[['CRIM',\\n\",\nnew-name.ipynb:    \"qgrid_widget\"\nnew-name.ipynb:    \"df2 = qgrid_widget.get_changed_df()\"\n"
      }
     ],
     "persistentId": "418b062f-6022-4f33-93fa-9207ed87374a",
     "text": "!grep qgrid *.ipynb"
    },
    "executionTime": "2019-09-12T03:06:03.450Z"
   },
   {
    "cell": {
     "executionCount": 17,
     "executionEventId": "0c7c2bca-a30f-4f53-8e17-8945d47bffb2",
     "hasError": false,
     "id": "1bb7fd41-ad48-4f11-9471-f48da648d14b",
     "outputs": [
      {
       "data": {
        "text/plain": "\u001b[0;31mSignature:\u001b[0m\n\u001b[0mnp\u001b[0m\u001b[0;34m.\u001b[0m\u001b[0mlinspace\u001b[0m\u001b[0;34m(\u001b[0m\u001b[0;34m\u001b[0m\n\u001b[0;34m\u001b[0m    \u001b[0mstart\u001b[0m\u001b[0;34m,\u001b[0m\u001b[0;34m\u001b[0m\n\u001b[0;34m\u001b[0m    \u001b[0mstop\u001b[0m\u001b[0;34m,\u001b[0m\u001b[0;34m\u001b[0m\n\u001b[0;34m\u001b[0m    \u001b[0mnum\u001b[0m\u001b[0;34m=\u001b[0m\u001b[0;36m50\u001b[0m\u001b[0;34m,\u001b[0m\u001b[0;34m\u001b[0m\n\u001b[0;34m\u001b[0m    \u001b[0mendpoint\u001b[0m\u001b[0;34m=\u001b[0m\u001b[0;32mTrue\u001b[0m\u001b[0;34m,\u001b[0m\u001b[0;34m\u001b[0m\n\u001b[0;34m\u001b[0m    \u001b[0mretstep\u001b[0m\u001b[0;34m=\u001b[0m\u001b[0;32mFalse\u001b[0m\u001b[0;34m,\u001b[0m\u001b[0;34m\u001b[0m\n\u001b[0;34m\u001b[0m    \u001b[0mdtype\u001b[0m\u001b[0;34m=\u001b[0m\u001b[0;32mNone\u001b[0m\u001b[0;34m,\u001b[0m\u001b[0;34m\u001b[0m\n\u001b[0;34m\u001b[0m    \u001b[0maxis\u001b[0m\u001b[0;34m=\u001b[0m\u001b[0;36m0\u001b[0m\u001b[0;34m,\u001b[0m\u001b[0;34m\u001b[0m\n\u001b[0;34m\u001b[0m\u001b[0;34m)\u001b[0m\u001b[0;34m\u001b[0m\u001b[0;34m\u001b[0m\u001b[0m\n\u001b[0;31mDocstring:\u001b[0m\nReturn evenly spaced numbers over a specified interval.\n\nReturns `num` evenly spaced samples, calculated over the\ninterval [`start`, `stop`].\n\nThe endpoint of the interval can optionally be excluded.\n\n.. versionchanged:: 1.16.0\n    Non-scalar `start` and `stop` are now supported.\n\nParameters\n----------\nstart : array_like\n    The starting value of the sequence.\nstop : array_like\n    The end value of the sequence, unless `endpoint` is set to False.\n    In that case, the sequence consists of all but the last of ``num + 1``\n    evenly spaced samples, so that `stop` is excluded.  Note that the step\n    size changes when `endpoint` is False.\nnum : int, optional\n    Number of samples to generate. Default is 50. Must be non-negative.\nendpoint : bool, optional\n    If True, `stop` is the last sample. Otherwise, it is not included.\n    Default is True.\nretstep : bool, optional\n    If True, return (`samples`, `step`), where `step` is the spacing\n    between samples.\ndtype : dtype, optional\n    The type of the output array.  If `dtype` is not given, infer the data\n    type from the other input arguments.\n\n    .. versionadded:: 1.9.0\n\naxis : int, optional\n    The axis in the result to store the samples.  Relevant only if start\n    or stop are array-like.  By default (0), the samples will be along a\n    new axis inserted at the beginning. Use -1 to get an axis at the end.\n\n    .. versionadded:: 1.16.0\n\nReturns\n-------\nsamples : ndarray\n    There are `num` equally spaced samples in the closed interval\n    ``[start, stop]`` or the half-open interval ``[start, stop)``\n    (depending on whether `endpoint` is True or False).\nstep : float, optional\n    Only returned if `retstep` is True\n\n    Size of spacing between samples.\n\n\nSee Also\n--------\narange : Similar to `linspace`, but uses a step size (instead of the\n         number of samples).\ngeomspace : Similar to `linspace`, but with numbers spaced evenly on a log\n            scale (a geometric progression).\nlogspace : Similar to `geomspace`, but with the end points specified as\n           logarithms.\n\nExamples\n--------\n>>> np.linspace(2.0, 3.0, num=5)\narray([2.  , 2.25, 2.5 , 2.75, 3.  ])\n>>> np.linspace(2.0, 3.0, num=5, endpoint=False)\narray([2. ,  2.2,  2.4,  2.6,  2.8])\n>>> np.linspace(2.0, 3.0, num=5, retstep=True)\n(array([2.  ,  2.25,  2.5 ,  2.75,  3.  ]), 0.25)\n\nGraphical illustration:\n\n>>> import matplotlib.pyplot as plt\n>>> N = 8\n>>> y = np.zeros(N)\n>>> x1 = np.linspace(0, 10, N, endpoint=True)\n>>> x2 = np.linspace(0, 10, N, endpoint=False)\n>>> plt.plot(x1, y, 'o')\n[<matplotlib.lines.Line2D object at 0x...>]\n>>> plt.plot(x2, y + 0.5, 'o')\n[<matplotlib.lines.Line2D object at 0x...>]\n>>> plt.ylim([-0.5, 1])\n(-0.5, 1)\n>>> plt.show()\n\u001b[0;31mFile:\u001b[0m      ~/miniconda3/envs/dspy3/lib/python3.6/site-packages/numpy/core/function_base.py\n\u001b[0;31mType:\u001b[0m      function\n"
       },
       "metadata": {},
       "output_type": "display_data"
      }
     ],
     "persistentId": "591deb25-5503-4f05-8804-03e909a03e84",
     "text": "?np.linspace"
    },
    "executionTime": "2019-09-12T03:06:13.568Z"
   },
   {
    "cell": {
     "executionCount": 18,
     "executionEventId": "0503ca17-62c2-4b58-9e49-d32ef2fb786a",
     "hasError": false,
     "id": "87d7687f-01f6-4c42-9e1c-0d78c56636ed",
     "outputs": [
      {
       "data": {
        "text/plain": "\u001b[0;31mSignature:\u001b[0m\n\u001b[0mnp\u001b[0m\u001b[0;34m.\u001b[0m\u001b[0mlinspace\u001b[0m\u001b[0;34m(\u001b[0m\u001b[0;34m\u001b[0m\n\u001b[0;34m\u001b[0m    \u001b[0mstart\u001b[0m\u001b[0;34m,\u001b[0m\u001b[0;34m\u001b[0m\n\u001b[0;34m\u001b[0m    \u001b[0mstop\u001b[0m\u001b[0;34m,\u001b[0m\u001b[0;34m\u001b[0m\n\u001b[0;34m\u001b[0m    \u001b[0mnum\u001b[0m\u001b[0;34m=\u001b[0m\u001b[0;36m50\u001b[0m\u001b[0;34m,\u001b[0m\u001b[0;34m\u001b[0m\n\u001b[0;34m\u001b[0m    \u001b[0mendpoint\u001b[0m\u001b[0;34m=\u001b[0m\u001b[0;32mTrue\u001b[0m\u001b[0;34m,\u001b[0m\u001b[0;34m\u001b[0m\n\u001b[0;34m\u001b[0m    \u001b[0mretstep\u001b[0m\u001b[0;34m=\u001b[0m\u001b[0;32mFalse\u001b[0m\u001b[0;34m,\u001b[0m\u001b[0;34m\u001b[0m\n\u001b[0;34m\u001b[0m    \u001b[0mdtype\u001b[0m\u001b[0;34m=\u001b[0m\u001b[0;32mNone\u001b[0m\u001b[0;34m,\u001b[0m\u001b[0;34m\u001b[0m\n\u001b[0;34m\u001b[0m    \u001b[0maxis\u001b[0m\u001b[0;34m=\u001b[0m\u001b[0;36m0\u001b[0m\u001b[0;34m,\u001b[0m\u001b[0;34m\u001b[0m\n\u001b[0;34m\u001b[0m\u001b[0;34m)\u001b[0m\u001b[0;34m\u001b[0m\u001b[0;34m\u001b[0m\u001b[0m\n\u001b[0;31mSource:\u001b[0m   \n\u001b[0;34m@\u001b[0m\u001b[0marray_function_dispatch\u001b[0m\u001b[0;34m(\u001b[0m\u001b[0m_linspace_dispatcher\u001b[0m\u001b[0;34m)\u001b[0m\u001b[0;34m\u001b[0m\n\u001b[0;34m\u001b[0m\u001b[0;32mdef\u001b[0m \u001b[0mlinspace\u001b[0m\u001b[0;34m(\u001b[0m\u001b[0mstart\u001b[0m\u001b[0;34m,\u001b[0m \u001b[0mstop\u001b[0m\u001b[0;34m,\u001b[0m \u001b[0mnum\u001b[0m\u001b[0;34m=\u001b[0m\u001b[0;36m50\u001b[0m\u001b[0;34m,\u001b[0m \u001b[0mendpoint\u001b[0m\u001b[0;34m=\u001b[0m\u001b[0;32mTrue\u001b[0m\u001b[0;34m,\u001b[0m \u001b[0mretstep\u001b[0m\u001b[0;34m=\u001b[0m\u001b[0;32mFalse\u001b[0m\u001b[0;34m,\u001b[0m \u001b[0mdtype\u001b[0m\u001b[0;34m=\u001b[0m\u001b[0;32mNone\u001b[0m\u001b[0;34m,\u001b[0m\u001b[0;34m\u001b[0m\n\u001b[0;34m\u001b[0m             \u001b[0maxis\u001b[0m\u001b[0;34m=\u001b[0m\u001b[0;36m0\u001b[0m\u001b[0;34m)\u001b[0m\u001b[0;34m:\u001b[0m\u001b[0;34m\u001b[0m\n\u001b[0;34m\u001b[0m    \u001b[0;34m\"\"\"\u001b[0m\n\u001b[0;34m    Return evenly spaced numbers over a specified interval.\u001b[0m\n\u001b[0;34m\u001b[0m\n\u001b[0;34m    Returns `num` evenly spaced samples, calculated over the\u001b[0m\n\u001b[0;34m    interval [`start`, `stop`].\u001b[0m\n\u001b[0;34m\u001b[0m\n\u001b[0;34m    The endpoint of the interval can optionally be excluded.\u001b[0m\n\u001b[0;34m\u001b[0m\n\u001b[0;34m    .. versionchanged:: 1.16.0\u001b[0m\n\u001b[0;34m        Non-scalar `start` and `stop` are now supported.\u001b[0m\n\u001b[0;34m\u001b[0m\n\u001b[0;34m    Parameters\u001b[0m\n\u001b[0;34m    ----------\u001b[0m\n\u001b[0;34m    start : array_like\u001b[0m\n\u001b[0;34m        The starting value of the sequence.\u001b[0m\n\u001b[0;34m    stop : array_like\u001b[0m\n\u001b[0;34m        The end value of the sequence, unless `endpoint` is set to False.\u001b[0m\n\u001b[0;34m        In that case, the sequence consists of all but the last of ``num + 1``\u001b[0m\n\u001b[0;34m        evenly spaced samples, so that `stop` is excluded.  Note that the step\u001b[0m\n\u001b[0;34m        size changes when `endpoint` is False.\u001b[0m\n\u001b[0;34m    num : int, optional\u001b[0m\n\u001b[0;34m        Number of samples to generate. Default is 50. Must be non-negative.\u001b[0m\n\u001b[0;34m    endpoint : bool, optional\u001b[0m\n\u001b[0;34m        If True, `stop` is the last sample. Otherwise, it is not included.\u001b[0m\n\u001b[0;34m        Default is True.\u001b[0m\n\u001b[0;34m    retstep : bool, optional\u001b[0m\n\u001b[0;34m        If True, return (`samples`, `step`), where `step` is the spacing\u001b[0m\n\u001b[0;34m        between samples.\u001b[0m\n\u001b[0;34m    dtype : dtype, optional\u001b[0m\n\u001b[0;34m        The type of the output array.  If `dtype` is not given, infer the data\u001b[0m\n\u001b[0;34m        type from the other input arguments.\u001b[0m\n\u001b[0;34m\u001b[0m\n\u001b[0;34m        .. versionadded:: 1.9.0\u001b[0m\n\u001b[0;34m\u001b[0m\n\u001b[0;34m    axis : int, optional\u001b[0m\n\u001b[0;34m        The axis in the result to store the samples.  Relevant only if start\u001b[0m\n\u001b[0;34m        or stop are array-like.  By default (0), the samples will be along a\u001b[0m\n\u001b[0;34m        new axis inserted at the beginning. Use -1 to get an axis at the end.\u001b[0m\n\u001b[0;34m\u001b[0m\n\u001b[0;34m        .. versionadded:: 1.16.0\u001b[0m\n\u001b[0;34m\u001b[0m\n\u001b[0;34m    Returns\u001b[0m\n\u001b[0;34m    -------\u001b[0m\n\u001b[0;34m    samples : ndarray\u001b[0m\n\u001b[0;34m        There are `num` equally spaced samples in the closed interval\u001b[0m\n\u001b[0;34m        ``[start, stop]`` or the half-open interval ``[start, stop)``\u001b[0m\n\u001b[0;34m        (depending on whether `endpoint` is True or False).\u001b[0m\n\u001b[0;34m    step : float, optional\u001b[0m\n\u001b[0;34m        Only returned if `retstep` is True\u001b[0m\n\u001b[0;34m\u001b[0m\n\u001b[0;34m        Size of spacing between samples.\u001b[0m\n\u001b[0;34m\u001b[0m\n\u001b[0;34m\u001b[0m\n\u001b[0;34m    See Also\u001b[0m\n\u001b[0;34m    --------\u001b[0m\n\u001b[0;34m    arange : Similar to `linspace`, but uses a step size (instead of the\u001b[0m\n\u001b[0;34m             number of samples).\u001b[0m\n\u001b[0;34m    geomspace : Similar to `linspace`, but with numbers spaced evenly on a log\u001b[0m\n\u001b[0;34m                scale (a geometric progression).\u001b[0m\n\u001b[0;34m    logspace : Similar to `geomspace`, but with the end points specified as\u001b[0m\n\u001b[0;34m               logarithms.\u001b[0m\n\u001b[0;34m\u001b[0m\n\u001b[0;34m    Examples\u001b[0m\n\u001b[0;34m    --------\u001b[0m\n\u001b[0;34m    >>> np.linspace(2.0, 3.0, num=5)\u001b[0m\n\u001b[0;34m    array([2.  , 2.25, 2.5 , 2.75, 3.  ])\u001b[0m\n\u001b[0;34m    >>> np.linspace(2.0, 3.0, num=5, endpoint=False)\u001b[0m\n\u001b[0;34m    array([2. ,  2.2,  2.4,  2.6,  2.8])\u001b[0m\n\u001b[0;34m    >>> np.linspace(2.0, 3.0, num=5, retstep=True)\u001b[0m\n\u001b[0;34m    (array([2.  ,  2.25,  2.5 ,  2.75,  3.  ]), 0.25)\u001b[0m\n\u001b[0;34m\u001b[0m\n\u001b[0;34m    Graphical illustration:\u001b[0m\n\u001b[0;34m\u001b[0m\n\u001b[0;34m    >>> import matplotlib.pyplot as plt\u001b[0m\n\u001b[0;34m    >>> N = 8\u001b[0m\n\u001b[0;34m    >>> y = np.zeros(N)\u001b[0m\n\u001b[0;34m    >>> x1 = np.linspace(0, 10, N, endpoint=True)\u001b[0m\n\u001b[0;34m    >>> x2 = np.linspace(0, 10, N, endpoint=False)\u001b[0m\n\u001b[0;34m    >>> plt.plot(x1, y, 'o')\u001b[0m\n\u001b[0;34m    [<matplotlib.lines.Line2D object at 0x...>]\u001b[0m\n\u001b[0;34m    >>> plt.plot(x2, y + 0.5, 'o')\u001b[0m\n\u001b[0;34m    [<matplotlib.lines.Line2D object at 0x...>]\u001b[0m\n\u001b[0;34m    >>> plt.ylim([-0.5, 1])\u001b[0m\n\u001b[0;34m    (-0.5, 1)\u001b[0m\n\u001b[0;34m    >>> plt.show()\u001b[0m\n\u001b[0;34m\u001b[0m\n\u001b[0;34m    \"\"\"\u001b[0m\u001b[0;34m\u001b[0m\n\u001b[0;34m\u001b[0m    \u001b[0;31m# 2016-02-25, 1.12\u001b[0m\u001b[0;34m\u001b[0m\n\u001b[0;34m\u001b[0m    \u001b[0mnum\u001b[0m \u001b[0;34m=\u001b[0m \u001b[0m_index_deprecate\u001b[0m\u001b[0;34m(\u001b[0m\u001b[0mnum\u001b[0m\u001b[0;34m)\u001b[0m\u001b[0;34m\u001b[0m\n\u001b[0;34m\u001b[0m    \u001b[0;32mif\u001b[0m \u001b[0mnum\u001b[0m \u001b[0;34m<\u001b[0m \u001b[0;36m0\u001b[0m\u001b[0;34m:\u001b[0m\u001b[0;34m\u001b[0m\n\u001b[0;34m\u001b[0m        \u001b[0;32mraise\u001b[0m \u001b[0mValueError\u001b[0m\u001b[0;34m(\u001b[0m\u001b[0;34m\"Number of samples, %s, must be non-negative.\"\u001b[0m \u001b[0;34m%\u001b[0m \u001b[0mnum\u001b[0m\u001b[0;34m)\u001b[0m\u001b[0;34m\u001b[0m\n\u001b[0;34m\u001b[0m    \u001b[0mdiv\u001b[0m \u001b[0;34m=\u001b[0m \u001b[0;34m(\u001b[0m\u001b[0mnum\u001b[0m \u001b[0;34m-\u001b[0m \u001b[0;36m1\u001b[0m\u001b[0;34m)\u001b[0m \u001b[0;32mif\u001b[0m \u001b[0mendpoint\u001b[0m \u001b[0;32melse\u001b[0m \u001b[0mnum\u001b[0m\u001b[0;34m\u001b[0m\n\u001b[0;34m\u001b[0m\u001b[0;34m\u001b[0m\n\u001b[0;34m\u001b[0m    \u001b[0;31m# Convert float/complex array scalars to float, gh-3504\u001b[0m\u001b[0;34m\u001b[0m\n\u001b[0;34m\u001b[0m    \u001b[0;31m# and make sure one can use variables that have an __array_interface__, gh-6634\u001b[0m\u001b[0;34m\u001b[0m\n\u001b[0;34m\u001b[0m    \u001b[0mstart\u001b[0m \u001b[0;34m=\u001b[0m \u001b[0masanyarray\u001b[0m\u001b[0;34m(\u001b[0m\u001b[0mstart\u001b[0m\u001b[0;34m)\u001b[0m \u001b[0;34m*\u001b[0m \u001b[0;36m1.0\u001b[0m\u001b[0;34m\u001b[0m\n\u001b[0;34m\u001b[0m    \u001b[0mstop\u001b[0m  \u001b[0;34m=\u001b[0m \u001b[0masanyarray\u001b[0m\u001b[0;34m(\u001b[0m\u001b[0mstop\u001b[0m\u001b[0;34m)\u001b[0m  \u001b[0;34m*\u001b[0m \u001b[0;36m1.0\u001b[0m\u001b[0;34m\u001b[0m\n\u001b[0;34m\u001b[0m\u001b[0;34m\u001b[0m\n\u001b[0;34m\u001b[0m    \u001b[0mdt\u001b[0m \u001b[0;34m=\u001b[0m \u001b[0mresult_type\u001b[0m\u001b[0;34m(\u001b[0m\u001b[0mstart\u001b[0m\u001b[0;34m,\u001b[0m \u001b[0mstop\u001b[0m\u001b[0;34m,\u001b[0m \u001b[0mfloat\u001b[0m\u001b[0;34m(\u001b[0m\u001b[0mnum\u001b[0m\u001b[0;34m)\u001b[0m\u001b[0;34m)\u001b[0m\u001b[0;34m\u001b[0m\n\u001b[0;34m\u001b[0m    \u001b[0;32mif\u001b[0m \u001b[0mdtype\u001b[0m \u001b[0;32mis\u001b[0m \u001b[0;32mNone\u001b[0m\u001b[0;34m:\u001b[0m\u001b[0;34m\u001b[0m\n\u001b[0;34m\u001b[0m        \u001b[0mdtype\u001b[0m \u001b[0;34m=\u001b[0m \u001b[0mdt\u001b[0m\u001b[0;34m\u001b[0m\n\u001b[0;34m\u001b[0m\u001b[0;34m\u001b[0m\n\u001b[0;34m\u001b[0m    \u001b[0mdelta\u001b[0m \u001b[0;34m=\u001b[0m \u001b[0mstop\u001b[0m \u001b[0;34m-\u001b[0m \u001b[0mstart\u001b[0m\u001b[0;34m\u001b[0m\n\u001b[0;34m\u001b[0m    \u001b[0my\u001b[0m \u001b[0;34m=\u001b[0m \u001b[0m_nx\u001b[0m\u001b[0;34m.\u001b[0m\u001b[0marange\u001b[0m\u001b[0;34m(\u001b[0m\u001b[0;36m0\u001b[0m\u001b[0;34m,\u001b[0m \u001b[0mnum\u001b[0m\u001b[0;34m,\u001b[0m \u001b[0mdtype\u001b[0m\u001b[0;34m=\u001b[0m\u001b[0mdt\u001b[0m\u001b[0;34m)\u001b[0m\u001b[0;34m.\u001b[0m\u001b[0mreshape\u001b[0m\u001b[0;34m(\u001b[0m\u001b[0;34m(\u001b[0m\u001b[0;34m-\u001b[0m\u001b[0;36m1\u001b[0m\u001b[0;34m,\u001b[0m\u001b[0;34m)\u001b[0m \u001b[0;34m+\u001b[0m \u001b[0;34m(\u001b[0m\u001b[0;36m1\u001b[0m\u001b[0;34m,\u001b[0m\u001b[0;34m)\u001b[0m \u001b[0;34m*\u001b[0m \u001b[0mndim\u001b[0m\u001b[0;34m(\u001b[0m\u001b[0mdelta\u001b[0m\u001b[0;34m)\u001b[0m\u001b[0;34m)\u001b[0m\u001b[0;34m\u001b[0m\n\u001b[0;34m\u001b[0m    \u001b[0;31m# In-place multiplication y *= delta/div is faster, but prevents the multiplicant\u001b[0m\u001b[0;34m\u001b[0m\n\u001b[0;34m\u001b[0m    \u001b[0;31m# from overriding what class is produced, and thus prevents, e.g. use of Quantities,\u001b[0m\u001b[0;34m\u001b[0m\n\u001b[0;34m\u001b[0m    \u001b[0;31m# see gh-7142. Hence, we multiply in place only for standard scalar types.\u001b[0m\u001b[0;34m\u001b[0m\n\u001b[0;34m\u001b[0m    \u001b[0m_mult_inplace\u001b[0m \u001b[0;34m=\u001b[0m \u001b[0m_nx\u001b[0m\u001b[0;34m.\u001b[0m\u001b[0misscalar\u001b[0m\u001b[0;34m(\u001b[0m\u001b[0mdelta\u001b[0m\u001b[0;34m)\u001b[0m\u001b[0;34m\u001b[0m\n\u001b[0;34m\u001b[0m    \u001b[0;32mif\u001b[0m \u001b[0mnum\u001b[0m \u001b[0;34m>\u001b[0m \u001b[0;36m1\u001b[0m\u001b[0;34m:\u001b[0m\u001b[0;34m\u001b[0m\n\u001b[0;34m\u001b[0m        \u001b[0mstep\u001b[0m \u001b[0;34m=\u001b[0m \u001b[0mdelta\u001b[0m \u001b[0;34m/\u001b[0m \u001b[0mdiv\u001b[0m\u001b[0;34m\u001b[0m\n\u001b[0;34m\u001b[0m        \u001b[0;32mif\u001b[0m \u001b[0m_nx\u001b[0m\u001b[0;34m.\u001b[0m\u001b[0many\u001b[0m\u001b[0;34m(\u001b[0m\u001b[0mstep\u001b[0m \u001b[0;34m==\u001b[0m \u001b[0;36m0\u001b[0m\u001b[0;34m)\u001b[0m\u001b[0;34m:\u001b[0m\u001b[0;34m\u001b[0m\n\u001b[0;34m\u001b[0m            \u001b[0;31m# Special handling for denormal numbers, gh-5437\u001b[0m\u001b[0;34m\u001b[0m\n\u001b[0;34m\u001b[0m            \u001b[0my\u001b[0m \u001b[0;34m/=\u001b[0m \u001b[0mdiv\u001b[0m\u001b[0;34m\u001b[0m\n\u001b[0;34m\u001b[0m            \u001b[0;32mif\u001b[0m \u001b[0m_mult_inplace\u001b[0m\u001b[0;34m:\u001b[0m\u001b[0;34m\u001b[0m\n\u001b[0;34m\u001b[0m                \u001b[0my\u001b[0m \u001b[0;34m*=\u001b[0m \u001b[0mdelta\u001b[0m\u001b[0;34m\u001b[0m\n\u001b[0;34m\u001b[0m            \u001b[0;32melse\u001b[0m\u001b[0;34m:\u001b[0m\u001b[0;34m\u001b[0m\n\u001b[0;34m\u001b[0m                \u001b[0my\u001b[0m \u001b[0;34m=\u001b[0m \u001b[0my\u001b[0m \u001b[0;34m*\u001b[0m \u001b[0mdelta\u001b[0m\u001b[0;34m\u001b[0m\n\u001b[0;34m\u001b[0m        \u001b[0;32melse\u001b[0m\u001b[0;34m:\u001b[0m\u001b[0;34m\u001b[0m\n\u001b[0;34m\u001b[0m            \u001b[0;32mif\u001b[0m \u001b[0m_mult_inplace\u001b[0m\u001b[0;34m:\u001b[0m\u001b[0;34m\u001b[0m\n\u001b[0;34m\u001b[0m                \u001b[0my\u001b[0m \u001b[0;34m*=\u001b[0m \u001b[0mstep\u001b[0m\u001b[0;34m\u001b[0m\n\u001b[0;34m\u001b[0m            \u001b[0;32melse\u001b[0m\u001b[0;34m:\u001b[0m\u001b[0;34m\u001b[0m\n\u001b[0;34m\u001b[0m                \u001b[0my\u001b[0m \u001b[0;34m=\u001b[0m \u001b[0my\u001b[0m \u001b[0;34m*\u001b[0m \u001b[0mstep\u001b[0m\u001b[0;34m\u001b[0m\n\u001b[0;34m\u001b[0m    \u001b[0;32melse\u001b[0m\u001b[0;34m:\u001b[0m\u001b[0;34m\u001b[0m\n\u001b[0;34m\u001b[0m        \u001b[0;31m# 0 and 1 item long sequences have an undefined step\u001b[0m\u001b[0;34m\u001b[0m\n\u001b[0;34m\u001b[0m        \u001b[0mstep\u001b[0m \u001b[0;34m=\u001b[0m \u001b[0mNaN\u001b[0m\u001b[0;34m\u001b[0m\n\u001b[0;34m\u001b[0m        \u001b[0;31m# Multiply with delta to allow possible override of output class.\u001b[0m\u001b[0;34m\u001b[0m\n\u001b[0;34m\u001b[0m        \u001b[0my\u001b[0m \u001b[0;34m=\u001b[0m \u001b[0my\u001b[0m \u001b[0;34m*\u001b[0m \u001b[0mdelta\u001b[0m\u001b[0;34m\u001b[0m\n\u001b[0;34m\u001b[0m\u001b[0;34m\u001b[0m\n\u001b[0;34m\u001b[0m    \u001b[0my\u001b[0m \u001b[0;34m+=\u001b[0m \u001b[0mstart\u001b[0m\u001b[0;34m\u001b[0m\n\u001b[0;34m\u001b[0m\u001b[0;34m\u001b[0m\n\u001b[0;34m\u001b[0m    \u001b[0;32mif\u001b[0m \u001b[0mendpoint\u001b[0m \u001b[0;32mand\u001b[0m \u001b[0mnum\u001b[0m \u001b[0;34m>\u001b[0m \u001b[0;36m1\u001b[0m\u001b[0;34m:\u001b[0m\u001b[0;34m\u001b[0m\n\u001b[0;34m\u001b[0m        \u001b[0my\u001b[0m\u001b[0;34m[\u001b[0m\u001b[0;34m-\u001b[0m\u001b[0;36m1\u001b[0m\u001b[0;34m]\u001b[0m \u001b[0;34m=\u001b[0m \u001b[0mstop\u001b[0m\u001b[0;34m\u001b[0m\n\u001b[0;34m\u001b[0m\u001b[0;34m\u001b[0m\n\u001b[0;34m\u001b[0m    \u001b[0;32mif\u001b[0m \u001b[0maxis\u001b[0m \u001b[0;34m!=\u001b[0m \u001b[0;36m0\u001b[0m\u001b[0;34m:\u001b[0m\u001b[0;34m\u001b[0m\n\u001b[0;34m\u001b[0m        \u001b[0my\u001b[0m \u001b[0;34m=\u001b[0m \u001b[0m_nx\u001b[0m\u001b[0;34m.\u001b[0m\u001b[0mmoveaxis\u001b[0m\u001b[0;34m(\u001b[0m\u001b[0my\u001b[0m\u001b[0;34m,\u001b[0m \u001b[0;36m0\u001b[0m\u001b[0;34m,\u001b[0m \u001b[0maxis\u001b[0m\u001b[0;34m)\u001b[0m\u001b[0;34m\u001b[0m\n\u001b[0;34m\u001b[0m\u001b[0;34m\u001b[0m\n\u001b[0;34m\u001b[0m    \u001b[0;32mif\u001b[0m \u001b[0mretstep\u001b[0m\u001b[0;34m:\u001b[0m\u001b[0;34m\u001b[0m\n\u001b[0;34m\u001b[0m        \u001b[0;32mreturn\u001b[0m \u001b[0my\u001b[0m\u001b[0;34m.\u001b[0m\u001b[0mastype\u001b[0m\u001b[0;34m(\u001b[0m\u001b[0mdtype\u001b[0m\u001b[0;34m,\u001b[0m \u001b[0mcopy\u001b[0m\u001b[0;34m=\u001b[0m\u001b[0;32mFalse\u001b[0m\u001b[0;34m)\u001b[0m\u001b[0;34m,\u001b[0m \u001b[0mstep\u001b[0m\u001b[0;34m\u001b[0m\n\u001b[0;34m\u001b[0m    \u001b[0;32melse\u001b[0m\u001b[0;34m:\u001b[0m\u001b[0;34m\u001b[0m\n\u001b[0;34m\u001b[0m        \u001b[0;32mreturn\u001b[0m \u001b[0my\u001b[0m\u001b[0;34m.\u001b[0m\u001b[0mastype\u001b[0m\u001b[0;34m(\u001b[0m\u001b[0mdtype\u001b[0m\u001b[0;34m,\u001b[0m \u001b[0mcopy\u001b[0m\u001b[0;34m=\u001b[0m\u001b[0;32mFalse\u001b[0m\u001b[0;34m)\u001b[0m\u001b[0;34m\u001b[0m\u001b[0;34m\u001b[0m\u001b[0m\n\u001b[0;31mFile:\u001b[0m      ~/miniconda3/envs/dspy3/lib/python3.6/site-packages/numpy/core/function_base.py\n\u001b[0;31mType:\u001b[0m      function\n"
       },
       "metadata": {},
       "output_type": "display_data"
      }
     ],
     "persistentId": "b709800a-b4d9-40e0-b810-b53d5be31737",
     "text": "np.linspace??"
    },
    "executionTime": "2019-09-12T03:06:15.578Z"
   },
   {
    "cell": {
     "executionCount": 19,
     "executionEventId": "2ad0dfca-8911-4fe9-9e8f-446214c0e5d7",
     "hasError": false,
     "id": "0125bc7b-cc33-494b-8408-31dc67189b90",
     "outputs": [
      {
       "name": "stdout",
       "output_type": "stream",
       "text": "\nThis is a multi-lined string\nthat I want to write inside of a function.\nNotice what happens when I print this.\n    And when something is indented more.\n"
      }
     ],
     "persistentId": "2dd939f9-4894-4c97-99ee-842a9cf63707",
     "text": "import textwrap\ndef example_function():\n    \"\"\"Docstring for example function\"\"\"\n    \n    print(textwrap.dedent(\"\"\"\n    This is a multi-lined string\n    that I want to write inside of a function.\n    Notice what happens when I print this.\n        And when something is indented more.\"\"\"))\n\n\nexample_function()"
    },
    "executionTime": "2019-09-12T03:06:22.645Z"
   },
   {
    "cell": {
     "executionCount": 20,
     "executionEventId": "43c59478-bf18-499c-9923-6642a04f74b9",
     "hasError": false,
     "id": "92cf85c9-3244-462b-80f3-6ec2b70e6d6d",
     "outputs": [],
     "persistentId": "ea55279f-0c0e-4a87-8099-35951a5c64d2",
     "text": "# But first find and replace\ndef silly_function(xval):\n    \"\"\"Takes a value and returns the value.\"\"\"\n    xval_sq = xval ** 2.0\n    1 + 12\n    xval_abs = np.sqrt(xval_sq)\n    return xval_abs"
    },
    "executionTime": "2019-09-12T03:06:28.757Z"
   },
   {
    "cell": {
     "executionCount": 21,
     "executionEventId": "e17af4c5-1986-41ac-98a6-041086dda59a",
     "hasError": false,
     "id": "5cbdfdb3-89e0-4a1e-a795-a33d5e227fc3",
     "outputs": [
      {
       "data": {
        "text/plain": "2.0"
       },
       "execution_count": 21,
       "metadata": {},
       "output_type": "execute_result"
      }
     ],
     "persistentId": "fb0fa1f1-51d4-48b0-8656-a2372ac6bba8",
     "text": "silly_function(-2,)"
    },
    "executionTime": "2019-09-12T03:06:29.078Z"
   },
   {
    "cell": {
     "executionCount": 22,
     "executionEventId": "7b09e834-f580-40cd-bba5-6a7bb3d9b277",
     "hasError": false,
     "id": "e15bc5dd-f912-4653-bd70-a26a376d777f",
     "outputs": [
      {
       "data": {
        "text/plain": "\u001b[0;31mSignature:\u001b[0m \u001b[0msilly_function\u001b[0m\u001b[0;34m(\u001b[0m\u001b[0mxval\u001b[0m\u001b[0;34m)\u001b[0m\u001b[0;34m\u001b[0m\u001b[0;34m\u001b[0m\u001b[0m\n\u001b[0;31mDocstring:\u001b[0m Takes a value and returns the value.\n\u001b[0;31mFile:\u001b[0m      ~/github/jupyter-tips-and-tricks/notebooks/<ipython-input-20-81d11fb09452>\n\u001b[0;31mType:\u001b[0m      function\n"
       },
       "metadata": {},
       "output_type": "display_data"
      }
     ],
     "persistentId": "684f8136-a102-4fca-9a38-f2bd1d7f0659",
     "text": "silly_function?"
    },
    "executionTime": "2019-09-12T03:06:29.588Z"
   },
   {
    "cell": {
     "executionCount": 23,
     "executionEventId": "e4205668-f142-477e-9d98-cd8c8c3c2fa7",
     "hasError": false,
     "id": "20d514ef-50bf-4898-b818-2dcaa83edf61",
     "outputs": [
      {
       "data": {
        "text/plain": "\u001b[0;31mSignature:\u001b[0m \u001b[0msilly_function\u001b[0m\u001b[0;34m(\u001b[0m\u001b[0mxval\u001b[0m\u001b[0;34m)\u001b[0m\u001b[0;34m\u001b[0m\u001b[0;34m\u001b[0m\u001b[0m\n\u001b[0;31mSource:\u001b[0m   \n\u001b[0;32mdef\u001b[0m \u001b[0msilly_function\u001b[0m\u001b[0;34m(\u001b[0m\u001b[0mxval\u001b[0m\u001b[0;34m)\u001b[0m\u001b[0;34m:\u001b[0m\u001b[0;34m\u001b[0m\n\u001b[0;34m\u001b[0m    \u001b[0;34m\"\"\"Takes a value and returns the value.\"\"\"\u001b[0m\u001b[0;34m\u001b[0m\n\u001b[0;34m\u001b[0m    \u001b[0mxval_sq\u001b[0m \u001b[0;34m=\u001b[0m \u001b[0mxval\u001b[0m \u001b[0;34m**\u001b[0m \u001b[0;36m2.0\u001b[0m\u001b[0;34m\u001b[0m\n\u001b[0;34m\u001b[0m    \u001b[0;36m1\u001b[0m \u001b[0;34m+\u001b[0m \u001b[0;36m12\u001b[0m\u001b[0;34m\u001b[0m\n\u001b[0;34m\u001b[0m    \u001b[0mxval_abs\u001b[0m \u001b[0;34m=\u001b[0m \u001b[0mnp\u001b[0m\u001b[0;34m.\u001b[0m\u001b[0msqrt\u001b[0m\u001b[0;34m(\u001b[0m\u001b[0mxval_sq\u001b[0m\u001b[0;34m)\u001b[0m\u001b[0;34m\u001b[0m\n\u001b[0;34m\u001b[0m    \u001b[0;32mreturn\u001b[0m \u001b[0mxval_abs\u001b[0m\u001b[0;34m\u001b[0m\u001b[0;34m\u001b[0m\u001b[0m\n\u001b[0;31mFile:\u001b[0m      ~/github/jupyter-tips-and-tricks/notebooks/<ipython-input-20-81d11fb09452>\n\u001b[0;31mType:\u001b[0m      function\n"
       },
       "metadata": {},
       "output_type": "display_data"
      }
     ],
     "persistentId": "4671b66f-3676-475d-968c-07701c20c24e",
     "text": "silly_function??"
    },
    "executionTime": "2019-09-12T03:06:30.760Z"
   },
   {
    "cell": {
     "executionCount": 24,
     "executionEventId": "0b812da3-692d-406a-a1d4-5b1bcd1b5ae9",
     "hasError": false,
     "id": "63a77188-29fa-4916-86ff-171656743160",
     "outputs": [
      {
       "name": "stdout",
       "output_type": "stream",
       "text": "coal_prod_2008.csv           collincountyforeclosures.csv\ncoal_prod_2009.csv           example.csv\ncoal_prod_2010.csv           montreal_2014.csv\ncoal_prod_2011.csv           mps.csv\ncoal_prod_2012.csv           mps2.csv\ncoal_prod_cleaned.csv        nbextensions.png\ncoal_prod_cleaned.csv.zip    raw_players.csv.gz\ncoalpublic2012.xls\n"
      }
     ],
     "persistentId": "9ab43ff0-98a4-44da-94d1-89d86ee0a180",
     "text": "!ls ../data/"
    },
    "executionTime": "2019-09-12T03:06:32.901Z"
   },
   {
    "cell": {
     "executionCount": 25,
     "executionEventId": "039a4e83-59ae-4533-b496-3cdd0f09f365",
     "hasError": false,
     "id": "c1df9b19-0a82-4be4-bfb6-d9a7822edd53",
     "outputs": [],
     "persistentId": "efeed389-27ed-4c67-ac6b-ef863892abc1",
     "text": "coal_years = !ls ../data/coal_prod_20*.csv"
    },
    "executionTime": "2019-09-12T03:06:33.588Z"
   },
   {
    "cell": {
     "executionCount": 26,
     "executionEventId": "faadaf37-72da-4341-b252-9ab792df1bab",
     "hasError": false,
     "id": "046e7f6b-d616-46f7-a811-ec709812dced",
     "outputs": [
      {
       "data": {
        "text/plain": "['../data/coal_prod_2008.csv',\n '../data/coal_prod_2009.csv',\n '../data/coal_prod_2010.csv',\n '../data/coal_prod_2011.csv',\n '../data/coal_prod_2012.csv']"
       },
       "execution_count": 26,
       "metadata": {},
       "output_type": "execute_result"
      }
     ],
     "persistentId": "acd2b234-7821-4ff7-ae3a-817f57e65f5b",
     "text": "coal_years"
    },
    "executionTime": "2019-09-12T03:06:33.997Z"
   },
   {
    "cell": {
     "executionCount": 27,
     "executionEventId": "96bd912b-54d6-4bf4-bc4d-fecfa1011ed4",
     "hasError": false,
     "id": "b62be2df-6880-4ed0-9a8d-351407136110",
     "outputs": [],
     "persistentId": "dc226ce8-66ec-4547-8399-86df1ee7474d",
     "text": "example = {}\n\n# Indent/dedent/comment\nfor index in range(5):\n    example[\"float_one\"] = 1.0\n    example[\"float_two\"] = 2.0\n    example[\"float_three\"] = 3.0\n    example[\"float_four\"] = 4.0"
    },
    "executionTime": "2019-09-12T03:06:40.298Z"
   },
   {
    "cell": {
     "executionCount": 28,
     "executionEventId": "741f141f-a59f-4e70-864f-396573c14beb",
     "hasError": false,
     "id": "b62be2df-6880-4ed0-9a8d-351407136110",
     "outputs": [],
     "persistentId": "dc226ce8-66ec-4547-8399-86df1ee7474d",
     "text": "example = {}\n\n# Indent/dedent/comment\nfor index in range(5):\n    example[\"float_one\"] = 1\n    example[\"float_two\"] = 2\n    example[\"float_three\"] = 3\n    example[\"float_four\"] = 4"
    },
    "executionTime": "2019-09-12T03:06:54.179Z"
   },
   {
    "cell": {
     "executionCount": 1,
     "executionEventId": "da40e88c-c381-4385-af30-c84632041c38",
     "hasError": false,
     "id": "9ad32d68-7380-492f-8abd-4a6794bcb1a4",
     "outputs": [],
     "persistentId": "5e98591e-08d0-4812-ba61-d0ecc428c08d",
     "text": "# code cell\nname = \"Jonathan\""
    },
    "executionTime": "2019-09-12T18:20:49.002Z"
   },
   {
    "cell": {
     "executionCount": 2,
     "executionEventId": "2dfb835f-8c09-426a-a16a-3a064bca29df",
     "hasError": false,
     "id": "61fc8ab8-8a60-432a-a6ff-e72bbc5b3767",
     "outputs": [],
     "persistentId": "8fa080b3-f270-4d06-9fdc-ddd37ad35295",
     "text": "# Add this to python2 code to make life easier -- safe to use in python3 as well.\nfrom __future__ import absolute_import, division, print_function"
    },
    "executionTime": "2019-09-12T18:20:49.862Z"
   },
   {
    "cell": {
     "executionCount": 3,
     "executionEventId": "731c6f17-e1da-446a-8625-48f6d8e08fd3",
     "hasError": false,
     "id": "f88b2e6d-9e26-4481-8692-3b5ad686e5d4",
     "outputs": [],
     "persistentId": "03635f66-daaa-47cf-bb74-883e8ce82c00",
     "text": "import numpy as np\n\n# don't do:\n# from numpy import *"
    },
    "executionTime": "2019-09-12T18:20:50.543Z"
   },
   {
    "cell": {
     "executionCount": 4,
     "executionEventId": "ac247735-10c8-4d46-9d01-2192e3851721",
     "hasError": false,
     "id": "79b44ade-2506-41ab-a916-f6e608306f56",
     "outputs": [
      {
       "data": {
        "text/plain": "'a'"
       },
       "execution_count": 4,
       "metadata": {},
       "output_type": "execute_result"
      }
     ],
     "persistentId": "e41e09ce-28e8-437f-9e9e-676775bc5fce",
     "text": "max(\"a\")"
    },
    "executionTime": "2019-09-12T18:20:50.782Z"
   },
   {
    "cell": {
     "executionCount": 5,
     "executionEventId": "fb4ba64a-95b2-4c40-a428-3b7f96627732",
     "hasError": true,
     "id": "3996fe4b-8e79-4737-af13-694dd0f99535",
     "outputs": [
      {
       "ename": "TypeError",
       "evalue": "cannot perform reduce with flexible type",
       "output_type": "error",
       "traceback": [
        "\u001b[0;31m---------------------------------------------------------------------------\u001b[0m",
        "\u001b[0;31mTypeError\u001b[0m                                 Traceback (most recent call last)",
        "\u001b[0;32m<ipython-input-5-4005723e4b17>\u001b[0m in \u001b[0;36m<module>\u001b[0;34m\u001b[0m\n\u001b[0;32m----> 1\u001b[0;31m \u001b[0mnp\u001b[0m\u001b[0;34m.\u001b[0m\u001b[0mmax\u001b[0m\u001b[0;34m(\u001b[0m\u001b[0;34m\"a\"\u001b[0m\u001b[0;34m)\u001b[0m\u001b[0;34m\u001b[0m\u001b[0;34m\u001b[0m\u001b[0m\n\u001b[0m",
        "\u001b[0;32m<__array_function__ internals>\u001b[0m in \u001b[0;36mamax\u001b[0;34m(*args, **kwargs)\u001b[0m\n",
        "\u001b[0;32m~/miniconda3/envs/dspy3/lib/python3.6/site-packages/numpy/core/fromnumeric.py\u001b[0m in \u001b[0;36mamax\u001b[0;34m(a, axis, out, keepdims, initial, where)\u001b[0m\n\u001b[1;32m   2619\u001b[0m     \"\"\"\n\u001b[1;32m   2620\u001b[0m     return _wrapreduction(a, np.maximum, 'max', axis, None, out,\n\u001b[0;32m-> 2621\u001b[0;31m                           keepdims=keepdims, initial=initial, where=where)\n\u001b[0m\u001b[1;32m   2622\u001b[0m \u001b[0;34m\u001b[0m\u001b[0m\n\u001b[1;32m   2623\u001b[0m \u001b[0;34m\u001b[0m\u001b[0m\n",
        "\u001b[0;32m~/miniconda3/envs/dspy3/lib/python3.6/site-packages/numpy/core/fromnumeric.py\u001b[0m in \u001b[0;36m_wrapreduction\u001b[0;34m(obj, ufunc, method, axis, dtype, out, **kwargs)\u001b[0m\n\u001b[1;32m     88\u001b[0m                 \u001b[0;32mreturn\u001b[0m \u001b[0mreduction\u001b[0m\u001b[0;34m(\u001b[0m\u001b[0maxis\u001b[0m\u001b[0;34m=\u001b[0m\u001b[0maxis\u001b[0m\u001b[0;34m,\u001b[0m \u001b[0mout\u001b[0m\u001b[0;34m=\u001b[0m\u001b[0mout\u001b[0m\u001b[0;34m,\u001b[0m \u001b[0;34m**\u001b[0m\u001b[0mpasskwargs\u001b[0m\u001b[0;34m)\u001b[0m\u001b[0;34m\u001b[0m\u001b[0;34m\u001b[0m\u001b[0m\n\u001b[1;32m     89\u001b[0m \u001b[0;34m\u001b[0m\u001b[0m\n\u001b[0;32m---> 90\u001b[0;31m     \u001b[0;32mreturn\u001b[0m \u001b[0mufunc\u001b[0m\u001b[0;34m.\u001b[0m\u001b[0mreduce\u001b[0m\u001b[0;34m(\u001b[0m\u001b[0mobj\u001b[0m\u001b[0;34m,\u001b[0m \u001b[0maxis\u001b[0m\u001b[0;34m,\u001b[0m \u001b[0mdtype\u001b[0m\u001b[0;34m,\u001b[0m \u001b[0mout\u001b[0m\u001b[0;34m,\u001b[0m \u001b[0;34m**\u001b[0m\u001b[0mpasskwargs\u001b[0m\u001b[0;34m)\u001b[0m\u001b[0;34m\u001b[0m\u001b[0;34m\u001b[0m\u001b[0m\n\u001b[0m\u001b[1;32m     91\u001b[0m \u001b[0;34m\u001b[0m\u001b[0m\n\u001b[1;32m     92\u001b[0m \u001b[0;34m\u001b[0m\u001b[0m\n",
        "\u001b[0;31mTypeError\u001b[0m: cannot perform reduce with flexible type"
       ]
      }
     ],
     "persistentId": "9939f76b-a6b5-413b-80e7-8595aab7f804",
     "text": "np.max(\"a\")"
    },
    "executionTime": "2019-09-12T18:20:51.332Z"
   },
   {
    "cell": {
     "executionCount": 6,
     "executionEventId": "c4df82b2-6518-4be6-b2ce-ae88d84cafd4",
     "hasError": false,
     "id": "67ec0185-8de1-42c1-bfaa-ee63b74d1fc2",
     "outputs": [],
     "persistentId": "23f17423-b7db-427a-9453-8e1a5b0215ea",
     "text": "%matplotlib inline\n%config InlineBackend.figure_format='retina'"
    },
    "executionTime": "2019-09-12T18:20:52.035Z"
   },
   {
    "cell": {
     "executionCount": 7,
     "executionEventId": "69afd7e0-f584-471f-b42f-1955579db6e4",
     "hasError": false,
     "id": "fcd91f32-3a35-476b-ba18-077c4cf284fd",
     "outputs": [],
     "persistentId": "d595746b-e2e3-4f7c-baa3-417fb0512be5",
     "text": "import pandas as pd\nimport matplotlib.pyplot as plt\nimport seaborn as sns\nimport os\nfrom pivottablejs import pivot_ui\nimport sys\nimport warnings\n\nwarnings.filterwarnings(\"ignore\")"
    },
    "executionTime": "2019-09-12T18:20:53.913Z"
   },
   {
    "cell": {
     "executionCount": 8,
     "executionEventId": "7e570bd2-7e37-41aa-8329-1a8d2b22327a",
     "hasError": false,
     "id": "c7d2ba74-0d08-4629-898e-b1bbaf5e85fd",
     "outputs": [],
     "persistentId": "ea0e37d6-44e2-411f-9da8-5b9c4dba6afe",
     "text": "first = 1"
    },
    "executionTime": "2019-09-12T18:20:54.638Z"
   },
   {
    "cell": {
     "executionCount": 9,
     "executionEventId": "836f8c9a-d56d-430b-b172-b20ffe1b34c5",
     "hasError": false,
     "id": "e55eb548-8193-4bb1-9795-ea33c9c8cce2",
     "outputs": [],
     "persistentId": "ea0e37d6-44e2-411f-9da8-5b9c4dba6afe",
     "text": "second = 2"
    },
    "executionTime": "2019-09-12T18:20:55.298Z"
   },
   {
    "cell": {
     "executionCount": 10,
     "executionEventId": "d39473b5-902e-44c6-8369-2a203b78a87c",
     "hasError": false,
     "id": "68240569-73d2-4139-bfc9-a6b2f1e70a66",
     "outputs": [],
     "persistentId": "ea0e37d6-44e2-411f-9da8-5b9c4dba6afe",
     "text": "third = 3"
    },
    "executionTime": "2019-09-12T18:20:55.340Z"
   }
  ],
  "kernelspec": {
   "display_name": "dspy3",
   "language": "python",
   "name": "dspy3"
  },
  "language_info": {
   "codemirror_mode": {
    "name": "ipython",
    "version": 3
   },
   "file_extension": ".py",
   "mimetype": "text/x-python",
   "name": "python",
   "nbconvert_exporter": "python",
   "pygments_lexer": "ipython3",
   "version": "3.6.7"
  },
  "toc": {
   "base_numbering": 1,
   "nav_menu": {
    "height": "208px",
    "width": "252px"
   },
   "number_sections": true,
   "sideBar": true,
   "skip_h1_title": false,
   "title_cell": "Table of Contents",
   "title_sidebar": "Contents",
   "toc_cell": false,
   "toc_position": {},
   "toc_section_display": "block",
   "toc_window_display": false
  },
  "uuid": "1b548c03-be1a-47d4-bdd0-6e3a864845d1",
  "varInspector": {
   "cols": {
    "lenName": 16,
    "lenType": 16,
    "lenVar": 40
   },
   "kernels_config": {
    "python": {
     "delete_cmd_postfix": "",
     "delete_cmd_prefix": "del ",
     "library": "var_list.py",
     "varRefreshCmd": "print(var_dic_list())"
    },
    "r": {
     "delete_cmd_postfix": ") ",
     "delete_cmd_prefix": "rm(",
     "library": "var_list.r",
     "varRefreshCmd": "cat(var_dic_list()) "
    }
   },
   "types_to_exclude": [
    "module",
    "function",
    "builtin_function_or_method",
    "instance",
    "_Feature"
   ],
   "window_display": false
  },
  "widgets": {
   "state": {
    "1f2b33bdbf62410e92177b1ae2e22d0e": {
     "views": [
      {
       "cell_index": 9
      }
     ]
    }
   },
   "version": "1.2.0"
  }
 },
 "nbformat": 4,
 "nbformat_minor": 4
}
